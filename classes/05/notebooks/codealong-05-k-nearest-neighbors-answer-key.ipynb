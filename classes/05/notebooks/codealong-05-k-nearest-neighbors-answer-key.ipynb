{
 "cells": [
  {
   "cell_type": "markdown",
   "metadata": {},
   "source": [
    "# DS-SF-34 | 05 | _k_-Nearest Neighbors | Codealong | Answer Key"
   ]
  },
  {
   "cell_type": "code",
   "execution_count": 1,
   "metadata": {
    "collapsed": false
   },
   "outputs": [],
   "source": [
    "import os\n",
    "\n",
    "import numpy as np\n",
    "import pandas as pd\n",
    "pd.set_option('display.max_rows', 10)\n",
    "pd.set_option('display.notebook_repr_html', True)\n",
    "pd.set_option('display.max_columns', 10)\n",
    "\n",
    "from sklearn import preprocessing, neighbors, model_selection\n",
    "\n",
    "import matplotlib.pyplot as plt\n",
    "%matplotlib inline\n",
    "plt.style.use('ggplot')"
   ]
  },
  {
   "cell_type": "code",
   "execution_count": 2,
   "metadata": {
    "collapsed": false
   },
   "outputs": [],
   "source": [
    "df = pd.read_csv(os.path.join('..', 'datasets', 'dataset-05-iris.csv'))"
   ]
  },
  {
   "cell_type": "code",
   "execution_count": 3,
   "metadata": {
    "collapsed": false,
    "scrolled": true
   },
   "outputs": [
    {
     "data": {
      "text/html": [
       "<div>\n",
       "<table border=\"1\" class=\"dataframe\">\n",
       "  <thead>\n",
       "    <tr style=\"text-align: right;\">\n",
       "      <th></th>\n",
       "      <th>SepalLength</th>\n",
       "      <th>SepalWidth</th>\n",
       "      <th>PetalLength</th>\n",
       "      <th>PetalWidth</th>\n",
       "      <th>Species</th>\n",
       "    </tr>\n",
       "  </thead>\n",
       "  <tbody>\n",
       "    <tr>\n",
       "      <th>0</th>\n",
       "      <td>5.1</td>\n",
       "      <td>3.5</td>\n",
       "      <td>1.4</td>\n",
       "      <td>0.2</td>\n",
       "      <td>Setosa</td>\n",
       "    </tr>\n",
       "    <tr>\n",
       "      <th>1</th>\n",
       "      <td>4.9</td>\n",
       "      <td>3.0</td>\n",
       "      <td>1.4</td>\n",
       "      <td>0.2</td>\n",
       "      <td>Setosa</td>\n",
       "    </tr>\n",
       "    <tr>\n",
       "      <th>2</th>\n",
       "      <td>4.7</td>\n",
       "      <td>3.2</td>\n",
       "      <td>1.3</td>\n",
       "      <td>0.2</td>\n",
       "      <td>Setosa</td>\n",
       "    </tr>\n",
       "    <tr>\n",
       "      <th>3</th>\n",
       "      <td>4.6</td>\n",
       "      <td>3.1</td>\n",
       "      <td>1.5</td>\n",
       "      <td>0.2</td>\n",
       "      <td>Setosa</td>\n",
       "    </tr>\n",
       "    <tr>\n",
       "      <th>4</th>\n",
       "      <td>5.0</td>\n",
       "      <td>3.6</td>\n",
       "      <td>1.4</td>\n",
       "      <td>0.2</td>\n",
       "      <td>Setosa</td>\n",
       "    </tr>\n",
       "    <tr>\n",
       "      <th>...</th>\n",
       "      <td>...</td>\n",
       "      <td>...</td>\n",
       "      <td>...</td>\n",
       "      <td>...</td>\n",
       "      <td>...</td>\n",
       "    </tr>\n",
       "    <tr>\n",
       "      <th>145</th>\n",
       "      <td>6.7</td>\n",
       "      <td>3.0</td>\n",
       "      <td>5.2</td>\n",
       "      <td>2.3</td>\n",
       "      <td>Virginica</td>\n",
       "    </tr>\n",
       "    <tr>\n",
       "      <th>146</th>\n",
       "      <td>6.3</td>\n",
       "      <td>2.5</td>\n",
       "      <td>5.0</td>\n",
       "      <td>1.9</td>\n",
       "      <td>Virginica</td>\n",
       "    </tr>\n",
       "    <tr>\n",
       "      <th>147</th>\n",
       "      <td>6.5</td>\n",
       "      <td>3.0</td>\n",
       "      <td>5.2</td>\n",
       "      <td>2.0</td>\n",
       "      <td>Virginica</td>\n",
       "    </tr>\n",
       "    <tr>\n",
       "      <th>148</th>\n",
       "      <td>6.2</td>\n",
       "      <td>3.4</td>\n",
       "      <td>5.4</td>\n",
       "      <td>2.3</td>\n",
       "      <td>Virginica</td>\n",
       "    </tr>\n",
       "    <tr>\n",
       "      <th>149</th>\n",
       "      <td>5.9</td>\n",
       "      <td>3.0</td>\n",
       "      <td>5.1</td>\n",
       "      <td>1.8</td>\n",
       "      <td>Virginica</td>\n",
       "    </tr>\n",
       "  </tbody>\n",
       "</table>\n",
       "<p>150 rows × 5 columns</p>\n",
       "</div>"
      ],
      "text/plain": [
       "     SepalLength  SepalWidth  PetalLength  PetalWidth    Species\n",
       "0            5.1         3.5          1.4         0.2     Setosa\n",
       "1            4.9         3.0          1.4         0.2     Setosa\n",
       "2            4.7         3.2          1.3         0.2     Setosa\n",
       "3            4.6         3.1          1.5         0.2     Setosa\n",
       "4            5.0         3.6          1.4         0.2     Setosa\n",
       "..           ...         ...          ...         ...        ...\n",
       "145          6.7         3.0          5.2         2.3  Virginica\n",
       "146          6.3         2.5          5.0         1.9  Virginica\n",
       "147          6.5         3.0          5.2         2.0  Virginica\n",
       "148          6.2         3.4          5.4         2.3  Virginica\n",
       "149          5.9         3.0          5.1         1.8  Virginica\n",
       "\n",
       "[150 rows x 5 columns]"
      ]
     },
     "execution_count": 3,
     "metadata": {},
     "output_type": "execute_result"
    }
   ],
   "source": [
    "df"
   ]
  },
  {
   "cell_type": "markdown",
   "metadata": {},
   "source": [
    "## Part A | Activity | Iris Dataset | Exploratory Data Analysis"
   ]
  },
  {
   "cell_type": "code",
   "execution_count": 4,
   "metadata": {
    "collapsed": true
   },
   "outputs": [],
   "source": [
    "color = df.Species.map({'Setosa': 'red', 'Versicolor': 'green', 'Virginica': 'blue'})"
   ]
  },
  {
   "cell_type": "code",
   "execution_count": 5,
   "metadata": {
    "collapsed": false
   },
   "outputs": [
    {
     "data": {
      "image/png": "[encoded data removed]"
     },
     "metadata": {},
     "output_type": "display_data"
    }
   ],
   "source": [
    "pd.tools.plotting.scatter_matrix(\n",
    "    df[ ['SepalLength', 'SepalWidth', 'PetalLength', 'PetalWidth'] ],\n",
    "    diagonal = 'kde', s = 75, c = color, figsize = (12, 12)\n",
    ")"
   ]
  },
  {
   "cell_type": "markdown",
   "metadata": {},
   "source": [
    "## Part B | Activity | Hand-Coded Classifier"
   ]
  },
  {
   "cell_type": "code",
   "execution_count": 6,
   "metadata": {
    "collapsed": true
   },
   "outputs": [],
   "source": [
    "c = df.Species"
   ]
  },
  {
   "cell_type": "code",
   "execution_count": 7,
   "metadata": {
    "collapsed": true
   },
   "outputs": [],
   "source": [
    "def my_first_classifier(row):\n",
    "    if row.PetalLength < 2.:\n",
    "        return 'Setosa'\n",
    "    elif row.PetalLength < 5.:\n",
    "        return 'Versicolor'\n",
    "    else:\n",
    "        return 'Virginica'"
   ]
  },
  {
   "cell_type": "code",
   "execution_count": 8,
   "metadata": {
    "collapsed": false
   },
   "outputs": [
    {
     "data": {
      "text/plain": [
       "0         Setosa\n",
       "1         Setosa\n",
       "2         Setosa\n",
       "3         Setosa\n",
       "4         Setosa\n",
       "         ...    \n",
       "145    Virginica\n",
       "146    Virginica\n",
       "147    Virginica\n",
       "148    Virginica\n",
       "149    Virginica\n",
       "dtype: object"
      ]
     },
     "execution_count": 8,
     "metadata": {},
     "output_type": "execute_result"
    }
   ],
   "source": [
    "c_hat = df.apply(my_first_classifier, axis = 1)\n",
    "\n",
    "c_hat"
   ]
  },
  {
   "cell_type": "code",
   "execution_count": 9,
   "metadata": {
    "collapsed": false
   },
   "outputs": [
    {
     "data": {
      "text/plain": [
       "8"
      ]
     },
     "execution_count": 9,
     "metadata": {},
     "output_type": "execute_result"
    }
   ],
   "source": [
    "(c_hat != c).sum()"
   ]
  },
  {
   "cell_type": "markdown",
   "metadata": {},
   "source": [
    "8 instances have been incorrectly classified.  But which ones?"
   ]
  },
  {
   "cell_type": "code",
   "execution_count": 10,
   "metadata": {
    "collapsed": false
   },
   "outputs": [
    {
     "data": {
      "text/html": [
       "<div>\n",
       "<table border=\"1\" class=\"dataframe\">\n",
       "  <thead>\n",
       "    <tr style=\"text-align: right;\">\n",
       "      <th>True Class</th>\n",
       "      <th>Setosa</th>\n",
       "      <th>Versicolor</th>\n",
       "      <th>Virginica</th>\n",
       "    </tr>\n",
       "    <tr>\n",
       "      <th>Hypothesized Class</th>\n",
       "      <th></th>\n",
       "      <th></th>\n",
       "      <th></th>\n",
       "    </tr>\n",
       "  </thead>\n",
       "  <tbody>\n",
       "    <tr>\n",
       "      <th>Setosa</th>\n",
       "      <td>50</td>\n",
       "      <td>0</td>\n",
       "      <td>0</td>\n",
       "    </tr>\n",
       "    <tr>\n",
       "      <th>Versicolor</th>\n",
       "      <td>0</td>\n",
       "      <td>48</td>\n",
       "      <td>6</td>\n",
       "    </tr>\n",
       "    <tr>\n",
       "      <th>Virginica</th>\n",
       "      <td>0</td>\n",
       "      <td>2</td>\n",
       "      <td>44</td>\n",
       "    </tr>\n",
       "  </tbody>\n",
       "</table>\n",
       "</div>"
      ],
      "text/plain": [
       "True Class          Setosa  Versicolor  Virginica\n",
       "Hypothesized Class                               \n",
       "Setosa                  50           0          0\n",
       "Versicolor               0          48          6\n",
       "Virginica                0           2         44"
      ]
     },
     "execution_count": 10,
     "metadata": {},
     "output_type": "execute_result"
    }
   ],
   "source": [
    "pd.crosstab(c_hat, c, rownames = ['Hypothesized Class'], colnames = ['True Class'])"
   ]
  },
  {
   "cell_type": "markdown",
   "metadata": {},
   "source": [
    "6 instances predicted as `Versicolor` were in fact `Virginica`; 2 instances predicted as `Virginica` were in fact `Versicolor`."
   ]
  },
  {
   "cell_type": "markdown",
   "metadata": {},
   "source": [
    "## Part C | Classification Metrics"
   ]
  },
  {
   "cell_type": "markdown",
   "metadata": {},
   "source": [
    "### Accuracy"
   ]
  },
  {
   "cell_type": "code",
   "execution_count": 11,
   "metadata": {
    "collapsed": false
   },
   "outputs": [
    {
     "data": {
      "text/plain": [
       "0.94666666666666666"
      ]
     },
     "execution_count": 11,
     "metadata": {},
     "output_type": "execute_result"
    }
   ],
   "source": [
    "(c_hat == c).mean()"
   ]
  },
  {
   "cell_type": "markdown",
   "metadata": {},
   "source": [
    "### Misclassification rate"
   ]
  },
  {
   "cell_type": "code",
   "execution_count": 12,
   "metadata": {
    "collapsed": false
   },
   "outputs": [
    {
     "data": {
      "text/plain": [
       "0.053333333333333337"
      ]
     },
     "execution_count": 12,
     "metadata": {},
     "output_type": "execute_result"
    }
   ],
   "source": [
    "(c_hat != c).mean()"
   ]
  },
  {
   "cell_type": "markdown",
   "metadata": {},
   "source": [
    "## Part D | _k_-Nearest Neighbors (_k_-NN)"
   ]
  },
  {
   "cell_type": "markdown",
   "metadata": {},
   "source": [
    "### Feature matrix and response vector"
   ]
  },
  {
   "cell_type": "markdown",
   "metadata": {},
   "source": [
    "- (http://scikit-learn.org/stable/modules/generated/sklearn.preprocessing.MinMaxScaler.html)"
   ]
  },
  {
   "cell_type": "code",
   "execution_count": 13,
   "metadata": {
    "collapsed": false
   },
   "outputs": [],
   "source": [
    "columns_X = ['SepalLength', 'SepalWidth', 'PetalLength', 'PetalWidth']\n",
    "X = df[columns_X]\n",
    "\n",
    "scaler = preprocessing.MinMaxScaler().fit(X)\n",
    "\n",
    "X = scaler.transform(X)"
   ]
  },
  {
   "cell_type": "code",
   "execution_count": 14,
   "metadata": {
    "collapsed": false
   },
   "outputs": [
    {
     "data": {
      "text/plain": [
       "array([[ 0.22222222,  0.625     ,  0.06779661,  0.04166667],\n",
       "       [ 0.16666667,  0.41666667,  0.06779661,  0.04166667],\n",
       "       [ 0.11111111,  0.5       ,  0.05084746,  0.04166667],\n",
       "       [ 0.08333333,  0.45833333,  0.08474576,  0.04166667],\n",
       "       [ 0.19444444,  0.66666667,  0.06779661,  0.04166667],\n",
       "       [ 0.30555556,  0.79166667,  0.11864407,  0.125     ],\n",
       "       [ 0.08333333,  0.58333333,  0.06779661,  0.08333333],\n",
       "       [ 0.19444444,  0.58333333,  0.08474576,  0.04166667],\n",
       "       [ 0.02777778,  0.375     ,  0.06779661,  0.04166667],\n",
       "       [ 0.16666667,  0.45833333,  0.08474576,  0.        ],\n",
       "       [ 0.30555556,  0.70833333,  0.08474576,  0.04166667],\n",
       "       [ 0.13888889,  0.58333333,  0.10169492,  0.04166667],\n",
       "       [ 0.13888889,  0.41666667,  0.06779661,  0.        ],\n",
       "       [ 0.        ,  0.41666667,  0.01694915,  0.        ],\n",
       "       [ 0.41666667,  0.83333333,  0.03389831,  0.04166667],\n",
       "       [ 0.38888889,  1.        ,  0.08474576,  0.125     ],\n",
       "       [ 0.30555556,  0.79166667,  0.05084746,  0.125     ],\n",
       "       [ 0.22222222,  0.625     ,  0.06779661,  0.08333333],\n",
       "       [ 0.38888889,  0.75      ,  0.11864407,  0.08333333],\n",
       "       [ 0.22222222,  0.75      ,  0.08474576,  0.08333333],\n",
       "       [ 0.30555556,  0.58333333,  0.11864407,  0.04166667],\n",
       "       [ 0.22222222,  0.70833333,  0.08474576,  0.125     ],\n",
       "       [ 0.08333333,  0.66666667,  0.        ,  0.04166667],\n",
       "       [ 0.22222222,  0.54166667,  0.11864407,  0.16666667],\n",
       "       [ 0.13888889,  0.58333333,  0.15254237,  0.04166667],\n",
       "       [ 0.19444444,  0.41666667,  0.10169492,  0.04166667],\n",
       "       [ 0.19444444,  0.58333333,  0.10169492,  0.125     ],\n",
       "       [ 0.25      ,  0.625     ,  0.08474576,  0.04166667],\n",
       "       [ 0.25      ,  0.58333333,  0.06779661,  0.04166667],\n",
       "       [ 0.11111111,  0.5       ,  0.10169492,  0.04166667],\n",
       "       [ 0.13888889,  0.45833333,  0.10169492,  0.04166667],\n",
       "       [ 0.30555556,  0.58333333,  0.08474576,  0.125     ],\n",
       "       [ 0.25      ,  0.875     ,  0.08474576,  0.        ],\n",
       "       [ 0.33333333,  0.91666667,  0.06779661,  0.04166667],\n",
       "       [ 0.16666667,  0.45833333,  0.08474576,  0.        ],\n",
       "       [ 0.19444444,  0.5       ,  0.03389831,  0.04166667],\n",
       "       [ 0.33333333,  0.625     ,  0.05084746,  0.04166667],\n",
       "       [ 0.16666667,  0.45833333,  0.08474576,  0.        ],\n",
       "       [ 0.02777778,  0.41666667,  0.05084746,  0.04166667],\n",
       "       [ 0.22222222,  0.58333333,  0.08474576,  0.04166667],\n",
       "       [ 0.19444444,  0.625     ,  0.05084746,  0.08333333],\n",
       "       [ 0.05555556,  0.125     ,  0.05084746,  0.08333333],\n",
       "       [ 0.02777778,  0.5       ,  0.05084746,  0.04166667],\n",
       "       [ 0.19444444,  0.625     ,  0.10169492,  0.20833333],\n",
       "       [ 0.22222222,  0.75      ,  0.15254237,  0.125     ],\n",
       "       [ 0.13888889,  0.41666667,  0.06779661,  0.08333333],\n",
       "       [ 0.22222222,  0.75      ,  0.10169492,  0.04166667],\n",
       "       [ 0.08333333,  0.5       ,  0.06779661,  0.04166667],\n",
       "       [ 0.27777778,  0.70833333,  0.08474576,  0.04166667],\n",
       "       [ 0.19444444,  0.54166667,  0.06779661,  0.04166667],\n",
       "       [ 0.75      ,  0.5       ,  0.62711864,  0.54166667],\n",
       "       [ 0.58333333,  0.5       ,  0.59322034,  0.58333333],\n",
       "       [ 0.72222222,  0.45833333,  0.66101695,  0.58333333],\n",
       "       [ 0.33333333,  0.125     ,  0.50847458,  0.5       ],\n",
       "       [ 0.61111111,  0.33333333,  0.61016949,  0.58333333],\n",
       "       [ 0.38888889,  0.33333333,  0.59322034,  0.5       ],\n",
       "       [ 0.55555556,  0.54166667,  0.62711864,  0.625     ],\n",
       "       [ 0.16666667,  0.16666667,  0.38983051,  0.375     ],\n",
       "       [ 0.63888889,  0.375     ,  0.61016949,  0.5       ],\n",
       "       [ 0.25      ,  0.29166667,  0.49152542,  0.54166667],\n",
       "       [ 0.19444444,  0.        ,  0.42372881,  0.375     ],\n",
       "       [ 0.44444444,  0.41666667,  0.54237288,  0.58333333],\n",
       "       [ 0.47222222,  0.08333333,  0.50847458,  0.375     ],\n",
       "       [ 0.5       ,  0.375     ,  0.62711864,  0.54166667],\n",
       "       [ 0.36111111,  0.375     ,  0.44067797,  0.5       ],\n",
       "       [ 0.66666667,  0.45833333,  0.57627119,  0.54166667],\n",
       "       [ 0.36111111,  0.41666667,  0.59322034,  0.58333333],\n",
       "       [ 0.41666667,  0.29166667,  0.52542373,  0.375     ],\n",
       "       [ 0.52777778,  0.08333333,  0.59322034,  0.58333333],\n",
       "       [ 0.36111111,  0.20833333,  0.49152542,  0.41666667],\n",
       "       [ 0.44444444,  0.5       ,  0.6440678 ,  0.70833333],\n",
       "       [ 0.5       ,  0.33333333,  0.50847458,  0.5       ],\n",
       "       [ 0.55555556,  0.20833333,  0.66101695,  0.58333333],\n",
       "       [ 0.5       ,  0.33333333,  0.62711864,  0.45833333],\n",
       "       [ 0.58333333,  0.375     ,  0.55932203,  0.5       ],\n",
       "       [ 0.63888889,  0.41666667,  0.57627119,  0.54166667],\n",
       "       [ 0.69444444,  0.33333333,  0.6440678 ,  0.54166667],\n",
       "       [ 0.66666667,  0.41666667,  0.6779661 ,  0.66666667],\n",
       "       [ 0.47222222,  0.375     ,  0.59322034,  0.58333333],\n",
       "       [ 0.38888889,  0.25      ,  0.42372881,  0.375     ],\n",
       "       [ 0.33333333,  0.16666667,  0.47457627,  0.41666667],\n",
       "       [ 0.33333333,  0.16666667,  0.45762712,  0.375     ],\n",
       "       [ 0.41666667,  0.29166667,  0.49152542,  0.45833333],\n",
       "       [ 0.47222222,  0.29166667,  0.69491525,  0.625     ],\n",
       "       [ 0.30555556,  0.41666667,  0.59322034,  0.58333333],\n",
       "       [ 0.47222222,  0.58333333,  0.59322034,  0.625     ],\n",
       "       [ 0.66666667,  0.45833333,  0.62711864,  0.58333333],\n",
       "       [ 0.55555556,  0.125     ,  0.57627119,  0.5       ],\n",
       "       [ 0.36111111,  0.41666667,  0.52542373,  0.5       ],\n",
       "       [ 0.33333333,  0.20833333,  0.50847458,  0.5       ],\n",
       "       [ 0.33333333,  0.25      ,  0.57627119,  0.45833333],\n",
       "       [ 0.5       ,  0.41666667,  0.61016949,  0.54166667],\n",
       "       [ 0.41666667,  0.25      ,  0.50847458,  0.45833333],\n",
       "       [ 0.19444444,  0.125     ,  0.38983051,  0.375     ],\n",
       "       [ 0.36111111,  0.29166667,  0.54237288,  0.5       ],\n",
       "       [ 0.38888889,  0.41666667,  0.54237288,  0.45833333],\n",
       "       [ 0.38888889,  0.375     ,  0.54237288,  0.5       ],\n",
       "       [ 0.52777778,  0.375     ,  0.55932203,  0.5       ],\n",
       "       [ 0.22222222,  0.20833333,  0.33898305,  0.41666667],\n",
       "       [ 0.38888889,  0.33333333,  0.52542373,  0.5       ],\n",
       "       [ 0.55555556,  0.54166667,  0.84745763,  1.        ],\n",
       "       [ 0.41666667,  0.29166667,  0.69491525,  0.75      ],\n",
       "       [ 0.77777778,  0.41666667,  0.83050847,  0.83333333],\n",
       "       [ 0.55555556,  0.375     ,  0.77966102,  0.70833333],\n",
       "       [ 0.61111111,  0.41666667,  0.81355932,  0.875     ],\n",
       "       [ 0.91666667,  0.41666667,  0.94915254,  0.83333333],\n",
       "       [ 0.16666667,  0.20833333,  0.59322034,  0.66666667],\n",
       "       [ 0.83333333,  0.375     ,  0.89830508,  0.70833333],\n",
       "       [ 0.66666667,  0.20833333,  0.81355932,  0.70833333],\n",
       "       [ 0.80555556,  0.66666667,  0.86440678,  1.        ],\n",
       "       [ 0.61111111,  0.5       ,  0.69491525,  0.79166667],\n",
       "       [ 0.58333333,  0.29166667,  0.72881356,  0.75      ],\n",
       "       [ 0.69444444,  0.41666667,  0.76271186,  0.83333333],\n",
       "       [ 0.38888889,  0.20833333,  0.6779661 ,  0.79166667],\n",
       "       [ 0.41666667,  0.33333333,  0.69491525,  0.95833333],\n",
       "       [ 0.58333333,  0.5       ,  0.72881356,  0.91666667],\n",
       "       [ 0.61111111,  0.41666667,  0.76271186,  0.70833333],\n",
       "       [ 0.94444444,  0.75      ,  0.96610169,  0.875     ],\n",
       "       [ 0.94444444,  0.25      ,  1.        ,  0.91666667],\n",
       "       [ 0.47222222,  0.08333333,  0.6779661 ,  0.58333333],\n",
       "       [ 0.72222222,  0.5       ,  0.79661017,  0.91666667],\n",
       "       [ 0.36111111,  0.33333333,  0.66101695,  0.79166667],\n",
       "       [ 0.94444444,  0.33333333,  0.96610169,  0.79166667],\n",
       "       [ 0.55555556,  0.29166667,  0.66101695,  0.70833333],\n",
       "       [ 0.66666667,  0.54166667,  0.79661017,  0.83333333],\n",
       "       [ 0.80555556,  0.5       ,  0.84745763,  0.70833333],\n",
       "       [ 0.52777778,  0.33333333,  0.6440678 ,  0.70833333],\n",
       "       [ 0.5       ,  0.41666667,  0.66101695,  0.70833333],\n",
       "       [ 0.58333333,  0.33333333,  0.77966102,  0.83333333],\n",
       "       [ 0.80555556,  0.41666667,  0.81355932,  0.625     ],\n",
       "       [ 0.86111111,  0.33333333,  0.86440678,  0.75      ],\n",
       "       [ 1.        ,  0.75      ,  0.91525424,  0.79166667],\n",
       "       [ 0.58333333,  0.33333333,  0.77966102,  0.875     ],\n",
       "       [ 0.55555556,  0.33333333,  0.69491525,  0.58333333],\n",
       "       [ 0.5       ,  0.25      ,  0.77966102,  0.54166667],\n",
       "       [ 0.94444444,  0.41666667,  0.86440678,  0.91666667],\n",
       "       [ 0.55555556,  0.58333333,  0.77966102,  0.95833333],\n",
       "       [ 0.58333333,  0.45833333,  0.76271186,  0.70833333],\n",
       "       [ 0.47222222,  0.41666667,  0.6440678 ,  0.70833333],\n",
       "       [ 0.72222222,  0.45833333,  0.74576271,  0.83333333],\n",
       "       [ 0.66666667,  0.45833333,  0.77966102,  0.95833333],\n",
       "       [ 0.72222222,  0.45833333,  0.69491525,  0.91666667],\n",
       "       [ 0.41666667,  0.29166667,  0.69491525,  0.75      ],\n",
       "       [ 0.69444444,  0.5       ,  0.83050847,  0.91666667],\n",
       "       [ 0.66666667,  0.54166667,  0.79661017,  1.        ],\n",
       "       [ 0.66666667,  0.41666667,  0.71186441,  0.91666667],\n",
       "       [ 0.55555556,  0.20833333,  0.6779661 ,  0.75      ],\n",
       "       [ 0.61111111,  0.41666667,  0.71186441,  0.79166667],\n",
       "       [ 0.52777778,  0.58333333,  0.74576271,  0.91666667],\n",
       "       [ 0.44444444,  0.41666667,  0.69491525,  0.70833333]])"
      ]
     },
     "execution_count": 14,
     "metadata": {},
     "output_type": "execute_result"
    }
   ],
   "source": [
    "X"
   ]
  },
  {
   "cell_type": "code",
   "execution_count": 15,
   "metadata": {
    "collapsed": false
   },
   "outputs": [
    {
     "data": {
      "text/plain": [
       "numpy.ndarray"
      ]
     },
     "execution_count": 15,
     "metadata": {},
     "output_type": "execute_result"
    }
   ],
   "source": [
    "type(X)"
   ]
  },
  {
   "cell_type": "code",
   "execution_count": 16,
   "metadata": {
    "collapsed": false
   },
   "outputs": [
    {
     "data": {
      "text/plain": [
       "(150L, 4L)"
      ]
     },
     "execution_count": 16,
     "metadata": {},
     "output_type": "execute_result"
    }
   ],
   "source": [
    "X.shape"
   ]
  },
  {
   "cell_type": "markdown",
   "metadata": {},
   "source": [
    "> ### `X` is no longer a `DataFrame` but stays as a tabular format in the form of a _numpy_ 2D array"
   ]
  },
  {
   "cell_type": "code",
   "execution_count": 17,
   "metadata": {
    "collapsed": false
   },
   "outputs": [
    {
     "data": {
      "text/html": [
       "<div>\n",
       "<table border=\"1\" class=\"dataframe\">\n",
       "  <thead>\n",
       "    <tr style=\"text-align: right;\">\n",
       "      <th></th>\n",
       "      <th>SepalLength</th>\n",
       "      <th>SepalWidth</th>\n",
       "      <th>PetalLength</th>\n",
       "      <th>PetalWidth</th>\n",
       "    </tr>\n",
       "  </thead>\n",
       "  <tbody>\n",
       "    <tr>\n",
       "      <th>count</th>\n",
       "      <td>150.000000</td>\n",
       "      <td>150.000000</td>\n",
       "      <td>150.000000</td>\n",
       "      <td>150.000000</td>\n",
       "    </tr>\n",
       "    <tr>\n",
       "      <th>mean</th>\n",
       "      <td>0.428704</td>\n",
       "      <td>0.439167</td>\n",
       "      <td>0.467571</td>\n",
       "      <td>0.457778</td>\n",
       "    </tr>\n",
       "    <tr>\n",
       "      <th>std</th>\n",
       "      <td>0.230018</td>\n",
       "      <td>0.180664</td>\n",
       "      <td>0.299054</td>\n",
       "      <td>0.317984</td>\n",
       "    </tr>\n",
       "    <tr>\n",
       "      <th>min</th>\n",
       "      <td>0.000000</td>\n",
       "      <td>0.000000</td>\n",
       "      <td>0.000000</td>\n",
       "      <td>0.000000</td>\n",
       "    </tr>\n",
       "    <tr>\n",
       "      <th>25%</th>\n",
       "      <td>0.222222</td>\n",
       "      <td>0.333333</td>\n",
       "      <td>0.101695</td>\n",
       "      <td>0.083333</td>\n",
       "    </tr>\n",
       "    <tr>\n",
       "      <th>50%</th>\n",
       "      <td>0.416667</td>\n",
       "      <td>0.416667</td>\n",
       "      <td>0.567797</td>\n",
       "      <td>0.500000</td>\n",
       "    </tr>\n",
       "    <tr>\n",
       "      <th>75%</th>\n",
       "      <td>0.583333</td>\n",
       "      <td>0.541667</td>\n",
       "      <td>0.694915</td>\n",
       "      <td>0.708333</td>\n",
       "    </tr>\n",
       "    <tr>\n",
       "      <th>max</th>\n",
       "      <td>1.000000</td>\n",
       "      <td>1.000000</td>\n",
       "      <td>1.000000</td>\n",
       "      <td>1.000000</td>\n",
       "    </tr>\n",
       "  </tbody>\n",
       "</table>\n",
       "</div>"
      ],
      "text/plain": [
       "       SepalLength  SepalWidth  PetalLength  PetalWidth\n",
       "count   150.000000  150.000000   150.000000  150.000000\n",
       "mean      0.428704    0.439167     0.467571    0.457778\n",
       "std       0.230018    0.180664     0.299054    0.317984\n",
       "min       0.000000    0.000000     0.000000    0.000000\n",
       "25%       0.222222    0.333333     0.101695    0.083333\n",
       "50%       0.416667    0.416667     0.567797    0.500000\n",
       "75%       0.583333    0.541667     0.694915    0.708333\n",
       "max       1.000000    1.000000     1.000000    1.000000"
      ]
     },
     "execution_count": 17,
     "metadata": {},
     "output_type": "execute_result"
    }
   ],
   "source": [
    "pd.DataFrame(X, columns = columns_X).describe()"
   ]
  },
  {
   "cell_type": "markdown",
   "metadata": {},
   "source": [
    "> ### The normalization is done per column"
   ]
  },
  {
   "cell_type": "code",
   "execution_count": 18,
   "metadata": {
    "collapsed": true
   },
   "outputs": [],
   "source": [
    "c = df.Species"
   ]
  },
  {
   "cell_type": "code",
   "execution_count": 19,
   "metadata": {
    "collapsed": false
   },
   "outputs": [
    {
     "data": {
      "text/plain": [
       "0         Setosa\n",
       "1         Setosa\n",
       "2         Setosa\n",
       "3         Setosa\n",
       "4         Setosa\n",
       "         ...    \n",
       "145    Virginica\n",
       "146    Virginica\n",
       "147    Virginica\n",
       "148    Virginica\n",
       "149    Virginica\n",
       "Name: Species, dtype: object"
      ]
     },
     "execution_count": 19,
     "metadata": {},
     "output_type": "execute_result"
    }
   ],
   "source": [
    "c"
   ]
  },
  {
   "cell_type": "markdown",
   "metadata": {},
   "source": [
    "### _k_-Nearest Neighbors"
   ]
  },
  {
   "cell_type": "markdown",
   "metadata": {},
   "source": [
    "- (http://scikit-learn.org/stable/modules/generated/sklearn.neighbors.KNeighborsClassifier.html)"
   ]
  },
  {
   "cell_type": "code",
   "execution_count": 20,
   "metadata": {
    "collapsed": false
   },
   "outputs": [],
   "source": [
    "model = neighbors.KNeighborsClassifier(n_neighbors = 1).\\\n",
    "    fit(X, c)"
   ]
  },
  {
   "cell_type": "markdown",
   "metadata": {},
   "source": [
    "You can measure the precision of your prediction with `.score()`"
   ]
  },
  {
   "cell_type": "code",
   "execution_count": 21,
   "metadata": {
    "collapsed": false
   },
   "outputs": [
    {
     "data": {
      "text/plain": [
       "1.0"
      ]
     },
     "execution_count": 21,
     "metadata": {},
     "output_type": "execute_result"
    }
   ],
   "source": [
    "model.score(X, c)"
   ]
  },
  {
   "cell_type": "code",
   "execution_count": 22,
   "metadata": {
    "collapsed": false
   },
   "outputs": [],
   "source": [
    "c_hat = model.predict(X)"
   ]
  },
  {
   "cell_type": "code",
   "execution_count": 23,
   "metadata": {
    "collapsed": false
   },
   "outputs": [
    {
     "data": {
      "text/plain": [
       "1.0"
      ]
     },
     "execution_count": 23,
     "metadata": {},
     "output_type": "execute_result"
    }
   ],
   "source": [
    "(c_hat == c).mean()"
   ]
  },
  {
   "cell_type": "code",
   "execution_count": 24,
   "metadata": {
    "collapsed": false
   },
   "outputs": [
    {
     "data": {
      "text/html": [
       "<div>\n",
       "<table border=\"1\" class=\"dataframe\">\n",
       "  <thead>\n",
       "    <tr style=\"text-align: right;\">\n",
       "      <th>True Class</th>\n",
       "      <th>Setosa</th>\n",
       "      <th>Versicolor</th>\n",
       "      <th>Virginica</th>\n",
       "    </tr>\n",
       "    <tr>\n",
       "      <th>Hypothesized Class</th>\n",
       "      <th></th>\n",
       "      <th></th>\n",
       "      <th></th>\n",
       "    </tr>\n",
       "  </thead>\n",
       "  <tbody>\n",
       "    <tr>\n",
       "      <th>Setosa</th>\n",
       "      <td>50</td>\n",
       "      <td>0</td>\n",
       "      <td>0</td>\n",
       "    </tr>\n",
       "    <tr>\n",
       "      <th>Versicolor</th>\n",
       "      <td>0</td>\n",
       "      <td>50</td>\n",
       "      <td>0</td>\n",
       "    </tr>\n",
       "    <tr>\n",
       "      <th>Virginica</th>\n",
       "      <td>0</td>\n",
       "      <td>0</td>\n",
       "      <td>50</td>\n",
       "    </tr>\n",
       "  </tbody>\n",
       "</table>\n",
       "</div>"
      ],
      "text/plain": [
       "True Class          Setosa  Versicolor  Virginica\n",
       "Hypothesized Class                               \n",
       "Setosa                  50           0          0\n",
       "Versicolor               0          50          0\n",
       "Virginica                0           0         50"
      ]
     },
     "execution_count": 24,
     "metadata": {},
     "output_type": "execute_result"
    }
   ],
   "source": [
    "pd.crosstab(c_hat, c, rownames = ['Hypothesized Class'], colnames = ['True Class'])"
   ]
  },
  {
   "cell_type": "markdown",
   "metadata": {},
   "source": [
    "### Train/test sets"
   ]
  },
  {
   "cell_type": "markdown",
   "metadata": {},
   "source": [
    "- (http://pandas.pydata.org/pandas-docs/stable/generated/pandas.DataFrame.sample.html)"
   ]
  },
  {
   "cell_type": "markdown",
   "metadata": {},
   "source": [
    "50% of the dataset to train the model; the rest to test the model"
   ]
  },
  {
   "cell_type": "code",
   "execution_count": 25,
   "metadata": {
    "collapsed": false
   },
   "outputs": [],
   "source": [
    "train_df = df.sample(frac = .5, random_state = 0).sort_index()"
   ]
  },
  {
   "cell_type": "code",
   "execution_count": 26,
   "metadata": {
    "collapsed": false
   },
   "outputs": [
    {
     "data": {
      "text/html": [
       "<div>\n",
       "<table border=\"1\" class=\"dataframe\">\n",
       "  <thead>\n",
       "    <tr style=\"text-align: right;\">\n",
       "      <th></th>\n",
       "      <th>SepalLength</th>\n",
       "      <th>SepalWidth</th>\n",
       "      <th>PetalLength</th>\n",
       "      <th>PetalWidth</th>\n",
       "      <th>Species</th>\n",
       "    </tr>\n",
       "  </thead>\n",
       "  <tbody>\n",
       "    <tr>\n",
       "      <th>2</th>\n",
       "      <td>4.7</td>\n",
       "      <td>3.2</td>\n",
       "      <td>1.3</td>\n",
       "      <td>0.2</td>\n",
       "      <td>Setosa</td>\n",
       "    </tr>\n",
       "    <tr>\n",
       "      <th>7</th>\n",
       "      <td>5.0</td>\n",
       "      <td>3.4</td>\n",
       "      <td>1.5</td>\n",
       "      <td>0.2</td>\n",
       "      <td>Setosa</td>\n",
       "    </tr>\n",
       "    <tr>\n",
       "      <th>8</th>\n",
       "      <td>4.4</td>\n",
       "      <td>2.9</td>\n",
       "      <td>1.4</td>\n",
       "      <td>0.2</td>\n",
       "      <td>Setosa</td>\n",
       "    </tr>\n",
       "    <tr>\n",
       "      <th>10</th>\n",
       "      <td>5.4</td>\n",
       "      <td>3.7</td>\n",
       "      <td>1.5</td>\n",
       "      <td>0.2</td>\n",
       "      <td>Setosa</td>\n",
       "    </tr>\n",
       "    <tr>\n",
       "      <th>13</th>\n",
       "      <td>4.3</td>\n",
       "      <td>3.0</td>\n",
       "      <td>1.1</td>\n",
       "      <td>0.1</td>\n",
       "      <td>Setosa</td>\n",
       "    </tr>\n",
       "    <tr>\n",
       "      <th>...</th>\n",
       "      <td>...</td>\n",
       "      <td>...</td>\n",
       "      <td>...</td>\n",
       "      <td>...</td>\n",
       "      <td>...</td>\n",
       "    </tr>\n",
       "    <tr>\n",
       "      <th>137</th>\n",
       "      <td>6.4</td>\n",
       "      <td>3.1</td>\n",
       "      <td>5.5</td>\n",
       "      <td>1.8</td>\n",
       "      <td>Virginica</td>\n",
       "    </tr>\n",
       "    <tr>\n",
       "      <th>141</th>\n",
       "      <td>6.9</td>\n",
       "      <td>3.1</td>\n",
       "      <td>5.1</td>\n",
       "      <td>2.3</td>\n",
       "      <td>Virginica</td>\n",
       "    </tr>\n",
       "    <tr>\n",
       "      <th>144</th>\n",
       "      <td>6.7</td>\n",
       "      <td>3.3</td>\n",
       "      <td>5.7</td>\n",
       "      <td>2.5</td>\n",
       "      <td>Virginica</td>\n",
       "    </tr>\n",
       "    <tr>\n",
       "      <th>146</th>\n",
       "      <td>6.3</td>\n",
       "      <td>2.5</td>\n",
       "      <td>5.0</td>\n",
       "      <td>1.9</td>\n",
       "      <td>Virginica</td>\n",
       "    </tr>\n",
       "    <tr>\n",
       "      <th>147</th>\n",
       "      <td>6.5</td>\n",
       "      <td>3.0</td>\n",
       "      <td>5.2</td>\n",
       "      <td>2.0</td>\n",
       "      <td>Virginica</td>\n",
       "    </tr>\n",
       "  </tbody>\n",
       "</table>\n",
       "<p>75 rows × 5 columns</p>\n",
       "</div>"
      ],
      "text/plain": [
       "     SepalLength  SepalWidth  PetalLength  PetalWidth    Species\n",
       "2            4.7         3.2          1.3         0.2     Setosa\n",
       "7            5.0         3.4          1.5         0.2     Setosa\n",
       "8            4.4         2.9          1.4         0.2     Setosa\n",
       "10           5.4         3.7          1.5         0.2     Setosa\n",
       "13           4.3         3.0          1.1         0.1     Setosa\n",
       "..           ...         ...          ...         ...        ...\n",
       "137          6.4         3.1          5.5         1.8  Virginica\n",
       "141          6.9         3.1          5.1         2.3  Virginica\n",
       "144          6.7         3.3          5.7         2.5  Virginica\n",
       "146          6.3         2.5          5.0         1.9  Virginica\n",
       "147          6.5         3.0          5.2         2.0  Virginica\n",
       "\n",
       "[75 rows x 5 columns]"
      ]
     },
     "execution_count": 26,
     "metadata": {},
     "output_type": "execute_result"
    }
   ],
   "source": [
    "train_df"
   ]
  },
  {
   "cell_type": "code",
   "execution_count": 27,
   "metadata": {
    "collapsed": false
   },
   "outputs": [],
   "source": [
    "test_df = df.drop(train_df.index)"
   ]
  },
  {
   "cell_type": "markdown",
   "metadata": {},
   "source": [
    "### Feature matrix `train_X` and response vector `train_c`"
   ]
  },
  {
   "cell_type": "code",
   "execution_count": 28,
   "metadata": {
    "collapsed": false
   },
   "outputs": [],
   "source": [
    "train_X = train_df[columns_X]\n",
    "\n",
    "scaler = preprocessing.MinMaxScaler().fit(train_X)\n",
    "train_X = scaler.transform(train_X)\n",
    "\n",
    "train_c = train_df.Species"
   ]
  },
  {
   "cell_type": "markdown",
   "metadata": {},
   "source": [
    "### Feature matrix `test_X` and response vector `test_c`"
   ]
  },
  {
   "cell_type": "markdown",
   "metadata": {},
   "source": [
    "- (http://scikit-learn.org/stable/modules/generated/sklearn.model_selection.GridSearchCV.html)\n",
    "- (http://scikit-learn.org/stable/modules/generated/sklearn.model_selection.KFold.html)"
   ]
  },
  {
   "cell_type": "code",
   "execution_count": 29,
   "metadata": {
    "collapsed": false
   },
   "outputs": [],
   "source": [
    "test_X = test_df[columns_X]\n",
    "\n",
    "# Here, you reuse the scaler that was created for scaling the train set\n",
    "# (You don't fit on a test set!)\n",
    "test_X = scaler.transform(test_X)\n",
    "\n",
    "test_c = test_df.Species"
   ]
  },
  {
   "cell_type": "code",
   "execution_count": 30,
   "metadata": {
    "collapsed": false
   },
   "outputs": [
    {
     "data": {
      "text/plain": [
       "GridSearchCV(cv=KFold(n_splits=5, random_state=0, shuffle=True),\n",
       "       error_score='raise',\n",
       "       estimator=KNeighborsClassifier(algorithm='auto', leaf_size=30, metric='minkowski',\n",
       "           metric_params=None, n_jobs=1, n_neighbors=5, p=2,\n",
       "           weights='uniform'),\n",
       "       fit_params={}, iid=True, n_jobs=1,\n",
       "       param_grid={'n_neighbors': [1, 2, 3, 4, 5, 6, 7, 8, 9, 10, 11, 12, 13, 14, 15, 16, 17, 18, 19, 20, 21, 22, 23, 24, 25, 26, 27, 28, 29, 30, 31, 32, 33, 34, 35, 36, 37, 38, 39, 40, 41, 42, 43, 44, 45, 46, 47, 48, 49, 50, 51, 52, 53, 54, 55, 56, 57, 58, 59], 'weights': ['uniform', 'distance']},\n",
       "       pre_dispatch='2*n_jobs', refit=True, return_train_score=True,\n",
       "       scoring=None, verbose=0)"
      ]
     },
     "execution_count": 30,
     "metadata": {},
     "output_type": "execute_result"
    }
   ],
   "source": [
    "k_cv = 5 # 5-fold CV\n",
    "k_nn = range(1, train_df.shape[0] * (k_cv - 1) / k_cv) # k-NN\n",
    "\n",
    "gs = model_selection.GridSearchCV(\n",
    "    estimator = neighbors.KNeighborsClassifier(),\n",
    "    param_grid = {'n_neighbors': k_nn, 'weights': ['uniform', 'distance']},\n",
    "    cv = model_selection.KFold(n_splits = k_cv, shuffle = True, random_state = 0)\n",
    ")\n",
    "\n",
    "gs.fit(train_X, train_c)"
   ]
  },
  {
   "cell_type": "code",
   "execution_count": 31,
   "metadata": {
    "collapsed": false
   },
   "outputs": [
    {
     "data": {
      "text/plain": [
       "{'mean_fit_time': array([ 0.00999999,  0.00339994,  0.00380006,  0.00480003,  0.00259995,\n",
       "         0.00360003,  0.00360003,  0.00300002,  0.00240006,  0.00240006,\n",
       "         0.00240002,  0.00280004,  0.00259995,  0.0026    ,  0.00259995,\n",
       "         0.00239997,  0.00279999,  0.00300002,  0.00300002,  0.00300002,\n",
       "         0.00199995,  0.00280004,  0.00280004,  0.00300002,  0.0026    ,\n",
       "         0.00259995,  0.00300002,  0.00279999,  0.00179987,  0.00179992,\n",
       "         0.00239997,  0.00240006,  0.00239992,  0.00220008,  0.00160003,\n",
       "         0.00179992,  0.00240002,  0.00219998,  0.00180001,  0.00240002,\n",
       "         0.00159998,  0.00159993,  0.00179996,  0.002     ,  0.00180006,\n",
       "         0.00140004,  0.00159998,  0.00140004,  0.00159993,  0.00200005,\n",
       "         0.00119996,  0.00200005,  0.00139999,  0.00139995,  0.00100002,\n",
       "         0.00099998,  0.00099998,  0.00119996,  0.00139999,  0.00139995,\n",
       "         0.00140004,  0.00180001,  0.00159998,  0.002     ,  0.00160003,\n",
       "         0.00180001,  0.002     ,  0.00159998,  0.00139995,  0.00100002,\n",
       "         0.00099993,  0.00119996,  0.00159993,  0.00140004,  0.00119996,\n",
       "         0.00120001,  0.00180006,  0.00179996,  0.00099993,  0.00140009,\n",
       "         0.00099993,  0.00140004,  0.00140014,  0.00180001,  0.00120001,\n",
       "         0.00139999,  0.00160007,  0.00160003,  0.00140009,  0.00099998,\n",
       "         0.00079994,  0.00119996,  0.00159998,  0.00140004,  0.002     ,\n",
       "         0.00140004,  0.00180001,  0.00159998,  0.00180006,  0.00139999,\n",
       "         0.00160003,  0.00179992,  0.00179996,  0.00120006,  0.00119991,\n",
       "         0.00160003,  0.00100007,  0.00119991,  0.00100007,  0.00100002,\n",
       "         0.0012001 ,  0.00139999,  0.00100002,  0.00100007,  0.00099998,\n",
       "         0.00100007,  0.00119991,  0.00099993]),\n",
       " 'mean_score_time': array([ 0.00619998,  0.00480013,  0.00479999,  0.00559993,  0.00440006,\n",
       "         0.00540004,  0.00579996,  0.00479999,  0.00339999,  0.00399995,\n",
       "         0.00359998,  0.0046    ,  0.00339999,  0.00499997,  0.00380006,\n",
       "         0.00440001,  0.00420008,  0.004     ,  0.004     ,  0.00439997,\n",
       "         0.00279999,  0.00439992,  0.00339999,  0.00379996,  0.00339999,\n",
       "         0.00400004,  0.00419998,  0.00400004,  0.00280004,  0.00300002,\n",
       "         0.00339999,  0.00359998,  0.00360003,  0.00399995,  0.0026    ,\n",
       "         0.00300002,  0.00499997,  0.00299997,  0.00320001,  0.00340004,\n",
       "         0.00280004,  0.00240002,  0.00220003,  0.0026    ,  0.00259995,\n",
       "         0.002     ,  0.00260005,  0.00259995,  0.00200005,  0.00219998,\n",
       "         0.00200005,  0.00279994,  0.0026    ,  0.002     ,  0.00199995,\n",
       "         0.00200005,  0.00200005,  0.00240006,  0.00099993,  0.00120001,\n",
       "         0.00099993,  0.00120001,  0.00160003,  0.00119996,  0.00100002,\n",
       "         0.00120001,  0.00099993,  0.00140004,  0.00099998,  0.00119996,\n",
       "         0.00080004,  0.00140009,  0.00140009,  0.00139999,  0.00100002,\n",
       "         0.00059996,  0.00119991,  0.00120006,  0.00080004,  0.00079994,\n",
       "         0.00139995,  0.00099998,  0.0013999 ,  0.00120001,  0.00099998,\n",
       "         0.00139999,  0.00099993,  0.00079999,  0.00099993,  0.00079999,\n",
       "         0.00080004,  0.00140009,  0.00139999,  0.00139999,  0.00099998,\n",
       "         0.00159998,  0.00120001,  0.00140004,  0.00099993,  0.00120006,\n",
       "         0.00099993,  0.0012001 ,  0.00120001,  0.00099998,  0.00140004,\n",
       "         0.00099998,  0.0006    ,  0.00100002,  0.00100002,  0.00099998,\n",
       "         0.00079994,  0.00099998,  0.00099993,  0.00099993,  0.00100007,\n",
       "         0.00079994,  0.00080004,  0.00080004]),\n",
       " 'mean_test_score': array([ 0.93333333,  0.93333333,  0.90666667,  0.93333333,  0.96      ,\n",
       "         0.96      ,  0.93333333,  0.94666667,  0.94666667,  0.94666667,\n",
       "         0.93333333,  0.94666667,  0.93333333,  0.93333333,  0.93333333,\n",
       "         0.93333333,  0.94666667,  0.94666667,  0.93333333,  0.93333333,\n",
       "         0.94666667,  0.94666667,  0.90666667,  0.93333333,  0.89333333,\n",
       "         0.93333333,  0.90666667,  0.92      ,  0.90666667,  0.92      ,\n",
       "         0.92      ,  0.92      ,  0.92      ,  0.92      ,  0.90666667,\n",
       "         0.92      ,  0.92      ,  0.92      ,  0.92      ,  0.92      ,\n",
       "         0.89333333,  0.92      ,  0.88      ,  0.92      ,  0.88      ,\n",
       "         0.92      ,  0.88      ,  0.92      ,  0.89333333,  0.92      ,\n",
       "         0.88      ,  0.92      ,  0.76      ,  0.92      ,  0.77333333,\n",
       "         0.92      ,  0.76      ,  0.93333333,  0.76      ,  0.93333333,\n",
       "         0.76      ,  0.93333333,  0.73333333,  0.92      ,  0.68      ,\n",
       "         0.93333333,  0.57333333,  0.93333333,  0.56      ,  0.93333333,\n",
       "         0.52      ,  0.92      ,  0.49333333,  0.93333333,  0.48      ,\n",
       "         0.93333333,  0.48      ,  0.93333333,  0.41333333,  0.93333333,\n",
       "         0.4       ,  0.93333333,  0.4       ,  0.93333333,  0.4       ,\n",
       "         0.93333333,  0.4       ,  0.93333333,  0.4       ,  0.93333333,\n",
       "         0.4       ,  0.93333333,  0.4       ,  0.93333333,  0.4       ,\n",
       "         0.93333333,  0.4       ,  0.93333333,  0.4       ,  0.93333333,\n",
       "         0.4       ,  0.93333333,  0.4       ,  0.93333333,  0.4       ,\n",
       "         0.93333333,  0.4       ,  0.93333333,  0.4       ,  0.93333333,\n",
       "         0.4       ,  0.93333333,  0.4       ,  0.93333333,  0.4       ,\n",
       "         0.93333333,  0.4       ,  0.93333333]),\n",
       " 'mean_train_score': array([ 1.        ,  1.        ,  0.95333333,  1.        ,  0.96333333,\n",
       "         1.        ,  0.95      ,  1.        ,  0.96333333,  1.        ,\n",
       "         0.96333333,  1.        ,  0.97      ,  1.        ,  0.96333333,\n",
       "         1.        ,  0.96333333,  1.        ,  0.95333333,  1.        ,\n",
       "         0.96666667,  1.        ,  0.95333333,  1.        ,  0.97      ,\n",
       "         1.        ,  0.94666667,  1.        ,  0.95666667,  1.        ,\n",
       "         0.93333333,  1.        ,  0.94333333,  1.        ,  0.93666667,\n",
       "         1.        ,  0.93333333,  1.        ,  0.92666667,  1.        ,\n",
       "         0.93333333,  1.        ,  0.92      ,  1.        ,  0.92333333,\n",
       "         1.        ,  0.91      ,  1.        ,  0.91333333,  1.        ,\n",
       "         0.9       ,  1.        ,  0.85666667,  1.        ,  0.84333333,\n",
       "         1.        ,  0.84666667,  1.        ,  0.84      ,  1.        ,\n",
       "         0.83333333,  1.        ,  0.81333333,  1.        ,  0.79      ,\n",
       "         1.        ,  0.71      ,  1.        ,  0.67      ,  1.        ,\n",
       "         0.63333333,  1.        ,  0.59      ,  1.        ,  0.53333333,\n",
       "         1.        ,  0.54      ,  1.        ,  0.46666667,  1.        ,\n",
       "         0.46      ,  1.        ,  0.45666667,  1.        ,  0.44333333,\n",
       "         1.        ,  0.42666667,  1.        ,  0.41666667,  1.        ,\n",
       "         0.41333333,  1.        ,  0.41      ,  1.        ,  0.40666667,\n",
       "         1.        ,  0.4       ,  1.        ,  0.4       ,  1.        ,\n",
       "         0.4       ,  1.        ,  0.4       ,  1.        ,  0.4       ,\n",
       "         1.        ,  0.4       ,  1.        ,  0.4       ,  1.        ,\n",
       "         0.4       ,  1.        ,  0.4       ,  1.        ,  0.4       ,\n",
       "         1.        ,  0.4       ,  1.        ]),\n",
       " 'param_n_neighbors': masked_array(data = [1 1 2 2 3 3 4 4 5 5 6 6 7 7 8 8 9 9 10 10 11 11 12 12 13 13 14 14 15 15 16\n",
       "  16 17 17 18 18 19 19 20 20 21 21 22 22 23 23 24 24 25 25 26 26 27 27 28 28\n",
       "  29 29 30 30 31 31 32 32 33 33 34 34 35 35 36 36 37 37 38 38 39 39 40 40 41\n",
       "  41 42 42 43 43 44 44 45 45 46 46 47 47 48 48 49 49 50 50 51 51 52 52 53 53\n",
       "  54 54 55 55 56 56 57 57 58 58 59 59],\n",
       "              mask = [False False False False False False False False False False False False\n",
       "  False False False False False False False False False False False False\n",
       "  False False False False False False False False False False False False\n",
       "  False False False False False False False False False False False False\n",
       "  False False False False False False False False False False False False\n",
       "  False False False False False False False False False False False False\n",
       "  False False False False False False False False False False False False\n",
       "  False False False False False False False False False False False False\n",
       "  False False False False False False False False False False False False\n",
       "  False False False False False False False False False False],\n",
       "        fill_value = ?),\n",
       " 'param_weights': masked_array(data = ['uniform' 'distance' 'uniform' 'distance' 'uniform' 'distance' 'uniform'\n",
       "  'distance' 'uniform' 'distance' 'uniform' 'distance' 'uniform' 'distance'\n",
       "  'uniform' 'distance' 'uniform' 'distance' 'uniform' 'distance' 'uniform'\n",
       "  'distance' 'uniform' 'distance' 'uniform' 'distance' 'uniform' 'distance'\n",
       "  'uniform' 'distance' 'uniform' 'distance' 'uniform' 'distance' 'uniform'\n",
       "  'distance' 'uniform' 'distance' 'uniform' 'distance' 'uniform' 'distance'\n",
       "  'uniform' 'distance' 'uniform' 'distance' 'uniform' 'distance' 'uniform'\n",
       "  'distance' 'uniform' 'distance' 'uniform' 'distance' 'uniform' 'distance'\n",
       "  'uniform' 'distance' 'uniform' 'distance' 'uniform' 'distance' 'uniform'\n",
       "  'distance' 'uniform' 'distance' 'uniform' 'distance' 'uniform' 'distance'\n",
       "  'uniform' 'distance' 'uniform' 'distance' 'uniform' 'distance' 'uniform'\n",
       "  'distance' 'uniform' 'distance' 'uniform' 'distance' 'uniform' 'distance'\n",
       "  'uniform' 'distance' 'uniform' 'distance' 'uniform' 'distance' 'uniform'\n",
       "  'distance' 'uniform' 'distance' 'uniform' 'distance' 'uniform' 'distance'\n",
       "  'uniform' 'distance' 'uniform' 'distance' 'uniform' 'distance' 'uniform'\n",
       "  'distance' 'uniform' 'distance' 'uniform' 'distance' 'uniform' 'distance'\n",
       "  'uniform' 'distance' 'uniform' 'distance' 'uniform' 'distance'],\n",
       "              mask = [False False False False False False False False False False False False\n",
       "  False False False False False False False False False False False False\n",
       "  False False False False False False False False False False False False\n",
       "  False False False False False False False False False False False False\n",
       "  False False False False False False False False False False False False\n",
       "  False False False False False False False False False False False False\n",
       "  False False False False False False False False False False False False\n",
       "  False False False False False False False False False False False False\n",
       "  False False False False False False False False False False False False\n",
       "  False False False False False False False False False False],\n",
       "        fill_value = ?),\n",
       " 'params': ({'n_neighbors': 1, 'weights': 'uniform'},\n",
       "  {'n_neighbors': 1, 'weights': 'distance'},\n",
       "  {'n_neighbors': 2, 'weights': 'uniform'},\n",
       "  {'n_neighbors': 2, 'weights': 'distance'},\n",
       "  {'n_neighbors': 3, 'weights': 'uniform'},\n",
       "  {'n_neighbors': 3, 'weights': 'distance'},\n",
       "  {'n_neighbors': 4, 'weights': 'uniform'},\n",
       "  {'n_neighbors': 4, 'weights': 'distance'},\n",
       "  {'n_neighbors': 5, 'weights': 'uniform'},\n",
       "  {'n_neighbors': 5, 'weights': 'distance'},\n",
       "  {'n_neighbors': 6, 'weights': 'uniform'},\n",
       "  {'n_neighbors': 6, 'weights': 'distance'},\n",
       "  {'n_neighbors': 7, 'weights': 'uniform'},\n",
       "  {'n_neighbors': 7, 'weights': 'distance'},\n",
       "  {'n_neighbors': 8, 'weights': 'uniform'},\n",
       "  {'n_neighbors': 8, 'weights': 'distance'},\n",
       "  {'n_neighbors': 9, 'weights': 'uniform'},\n",
       "  {'n_neighbors': 9, 'weights': 'distance'},\n",
       "  {'n_neighbors': 10, 'weights': 'uniform'},\n",
       "  {'n_neighbors': 10, 'weights': 'distance'},\n",
       "  {'n_neighbors': 11, 'weights': 'uniform'},\n",
       "  {'n_neighbors': 11, 'weights': 'distance'},\n",
       "  {'n_neighbors': 12, 'weights': 'uniform'},\n",
       "  {'n_neighbors': 12, 'weights': 'distance'},\n",
       "  {'n_neighbors': 13, 'weights': 'uniform'},\n",
       "  {'n_neighbors': 13, 'weights': 'distance'},\n",
       "  {'n_neighbors': 14, 'weights': 'uniform'},\n",
       "  {'n_neighbors': 14, 'weights': 'distance'},\n",
       "  {'n_neighbors': 15, 'weights': 'uniform'},\n",
       "  {'n_neighbors': 15, 'weights': 'distance'},\n",
       "  {'n_neighbors': 16, 'weights': 'uniform'},\n",
       "  {'n_neighbors': 16, 'weights': 'distance'},\n",
       "  {'n_neighbors': 17, 'weights': 'uniform'},\n",
       "  {'n_neighbors': 17, 'weights': 'distance'},\n",
       "  {'n_neighbors': 18, 'weights': 'uniform'},\n",
       "  {'n_neighbors': 18, 'weights': 'distance'},\n",
       "  {'n_neighbors': 19, 'weights': 'uniform'},\n",
       "  {'n_neighbors': 19, 'weights': 'distance'},\n",
       "  {'n_neighbors': 20, 'weights': 'uniform'},\n",
       "  {'n_neighbors': 20, 'weights': 'distance'},\n",
       "  {'n_neighbors': 21, 'weights': 'uniform'},\n",
       "  {'n_neighbors': 21, 'weights': 'distance'},\n",
       "  {'n_neighbors': 22, 'weights': 'uniform'},\n",
       "  {'n_neighbors': 22, 'weights': 'distance'},\n",
       "  {'n_neighbors': 23, 'weights': 'uniform'},\n",
       "  {'n_neighbors': 23, 'weights': 'distance'},\n",
       "  {'n_neighbors': 24, 'weights': 'uniform'},\n",
       "  {'n_neighbors': 24, 'weights': 'distance'},\n",
       "  {'n_neighbors': 25, 'weights': 'uniform'},\n",
       "  {'n_neighbors': 25, 'weights': 'distance'},\n",
       "  {'n_neighbors': 26, 'weights': 'uniform'},\n",
       "  {'n_neighbors': 26, 'weights': 'distance'},\n",
       "  {'n_neighbors': 27, 'weights': 'uniform'},\n",
       "  {'n_neighbors': 27, 'weights': 'distance'},\n",
       "  {'n_neighbors': 28, 'weights': 'uniform'},\n",
       "  {'n_neighbors': 28, 'weights': 'distance'},\n",
       "  {'n_neighbors': 29, 'weights': 'uniform'},\n",
       "  {'n_neighbors': 29, 'weights': 'distance'},\n",
       "  {'n_neighbors': 30, 'weights': 'uniform'},\n",
       "  {'n_neighbors': 30, 'weights': 'distance'},\n",
       "  {'n_neighbors': 31, 'weights': 'uniform'},\n",
       "  {'n_neighbors': 31, 'weights': 'distance'},\n",
       "  {'n_neighbors': 32, 'weights': 'uniform'},\n",
       "  {'n_neighbors': 32, 'weights': 'distance'},\n",
       "  {'n_neighbors': 33, 'weights': 'uniform'},\n",
       "  {'n_neighbors': 33, 'weights': 'distance'},\n",
       "  {'n_neighbors': 34, 'weights': 'uniform'},\n",
       "  {'n_neighbors': 34, 'weights': 'distance'},\n",
       "  {'n_neighbors': 35, 'weights': 'uniform'},\n",
       "  {'n_neighbors': 35, 'weights': 'distance'},\n",
       "  {'n_neighbors': 36, 'weights': 'uniform'},\n",
       "  {'n_neighbors': 36, 'weights': 'distance'},\n",
       "  {'n_neighbors': 37, 'weights': 'uniform'},\n",
       "  {'n_neighbors': 37, 'weights': 'distance'},\n",
       "  {'n_neighbors': 38, 'weights': 'uniform'},\n",
       "  {'n_neighbors': 38, 'weights': 'distance'},\n",
       "  {'n_neighbors': 39, 'weights': 'uniform'},\n",
       "  {'n_neighbors': 39, 'weights': 'distance'},\n",
       "  {'n_neighbors': 40, 'weights': 'uniform'},\n",
       "  {'n_neighbors': 40, 'weights': 'distance'},\n",
       "  {'n_neighbors': 41, 'weights': 'uniform'},\n",
       "  {'n_neighbors': 41, 'weights': 'distance'},\n",
       "  {'n_neighbors': 42, 'weights': 'uniform'},\n",
       "  {'n_neighbors': 42, 'weights': 'distance'},\n",
       "  {'n_neighbors': 43, 'weights': 'uniform'},\n",
       "  {'n_neighbors': 43, 'weights': 'distance'},\n",
       "  {'n_neighbors': 44, 'weights': 'uniform'},\n",
       "  {'n_neighbors': 44, 'weights': 'distance'},\n",
       "  {'n_neighbors': 45, 'weights': 'uniform'},\n",
       "  {'n_neighbors': 45, 'weights': 'distance'},\n",
       "  {'n_neighbors': 46, 'weights': 'uniform'},\n",
       "  {'n_neighbors': 46, 'weights': 'distance'},\n",
       "  {'n_neighbors': 47, 'weights': 'uniform'},\n",
       "  {'n_neighbors': 47, 'weights': 'distance'},\n",
       "  {'n_neighbors': 48, 'weights': 'uniform'},\n",
       "  {'n_neighbors': 48, 'weights': 'distance'},\n",
       "  {'n_neighbors': 49, 'weights': 'uniform'},\n",
       "  {'n_neighbors': 49, 'weights': 'distance'},\n",
       "  {'n_neighbors': 50, 'weights': 'uniform'},\n",
       "  {'n_neighbors': 50, 'weights': 'distance'},\n",
       "  {'n_neighbors': 51, 'weights': 'uniform'},\n",
       "  {'n_neighbors': 51, 'weights': 'distance'},\n",
       "  {'n_neighbors': 52, 'weights': 'uniform'},\n",
       "  {'n_neighbors': 52, 'weights': 'distance'},\n",
       "  {'n_neighbors': 53, 'weights': 'uniform'},\n",
       "  {'n_neighbors': 53, 'weights': 'distance'},\n",
       "  {'n_neighbors': 54, 'weights': 'uniform'},\n",
       "  {'n_neighbors': 54, 'weights': 'distance'},\n",
       "  {'n_neighbors': 55, 'weights': 'uniform'},\n",
       "  {'n_neighbors': 55, 'weights': 'distance'},\n",
       "  {'n_neighbors': 56, 'weights': 'uniform'},\n",
       "  {'n_neighbors': 56, 'weights': 'distance'},\n",
       "  {'n_neighbors': 57, 'weights': 'uniform'},\n",
       "  {'n_neighbors': 57, 'weights': 'distance'},\n",
       "  {'n_neighbors': 58, 'weights': 'uniform'},\n",
       "  {'n_neighbors': 58, 'weights': 'distance'},\n",
       "  {'n_neighbors': 59, 'weights': 'uniform'},\n",
       "  {'n_neighbors': 59, 'weights': 'distance'}),\n",
       " 'rank_test_score': array([ 11,  11,  74,  11,   1,   1,  11,   3,   3,   3,  11,   3,  11,\n",
       "         11,  11,  11,   3,   3,  11,  11,   3,   3,  74,  11,  79,  11,\n",
       "         74,  53,  74,  53,  53,  53,  53,  53,  74,  53,  53,  53,  53,\n",
       "         53,  79,  53,  82,  53,  82,  53,  82,  53,  79,  53,  82,  53,\n",
       "         87,  53,  86,  53,  87,  11,  87,  11,  87,  11,  91,  53,  92,\n",
       "         11,  93,  11,  94,  11,  95,  53,  96,  11,  97,  11,  97,  11,\n",
       "         99,  11, 100,  11, 100,  11, 100,  11, 100,  11, 100,  11, 100,\n",
       "         11, 100,  11, 100,  11, 100,  11, 100,  11, 100,  11, 100,  11,\n",
       "        100,  11, 100,  11, 100,  11, 100,  11, 100,  11, 100,  11, 100,  11]),\n",
       " 'split0_test_score': array([ 1.        ,  1.        ,  0.93333333,  1.        ,  1.        ,\n",
       "         1.        ,  1.        ,  1.        ,  1.        ,  1.        ,\n",
       "         1.        ,  1.        ,  1.        ,  1.        ,  1.        ,\n",
       "         1.        ,  1.        ,  1.        ,  1.        ,  1.        ,\n",
       "         1.        ,  1.        ,  1.        ,  1.        ,  1.        ,\n",
       "         1.        ,  1.        ,  1.        ,  1.        ,  1.        ,\n",
       "         1.        ,  1.        ,  1.        ,  1.        ,  1.        ,\n",
       "         1.        ,  1.        ,  1.        ,  1.        ,  1.        ,\n",
       "         1.        ,  1.        ,  1.        ,  1.        ,  1.        ,\n",
       "         1.        ,  1.        ,  1.        ,  1.        ,  1.        ,\n",
       "         0.93333333,  1.        ,  0.93333333,  1.        ,  0.93333333,\n",
       "         1.        ,  0.93333333,  1.        ,  0.93333333,  1.        ,\n",
       "         0.93333333,  1.        ,  0.93333333,  1.        ,  0.93333333,\n",
       "         1.        ,  0.66666667,  1.        ,  0.66666667,  1.        ,\n",
       "         0.6       ,  1.        ,  0.6       ,  1.        ,  0.6       ,\n",
       "         1.        ,  0.6       ,  1.        ,  0.6       ,  1.        ,\n",
       "         0.53333333,  1.        ,  0.53333333,  1.        ,  0.53333333,\n",
       "         1.        ,  0.53333333,  1.        ,  0.53333333,  1.        ,\n",
       "         0.53333333,  1.        ,  0.53333333,  1.        ,  0.53333333,\n",
       "         1.        ,  0.53333333,  1.        ,  0.53333333,  1.        ,\n",
       "         0.53333333,  1.        ,  0.53333333,  1.        ,  0.53333333,\n",
       "         1.        ,  0.53333333,  1.        ,  0.53333333,  1.        ,\n",
       "         0.53333333,  1.        ,  0.53333333,  1.        ,  0.53333333,\n",
       "         1.        ,  0.53333333,  1.        ]),\n",
       " 'split0_train_score': array([ 1.        ,  1.        ,  0.95      ,  1.        ,  0.96666667,\n",
       "         1.        ,  0.93333333,  1.        ,  0.95      ,  1.        ,\n",
       "         0.93333333,  1.        ,  0.96666667,  1.        ,  0.95      ,\n",
       "         1.        ,  0.95      ,  1.        ,  0.93333333,  1.        ,\n",
       "         0.95      ,  1.        ,  0.91666667,  1.        ,  0.95      ,\n",
       "         1.        ,  0.91666667,  1.        ,  0.93333333,  1.        ,\n",
       "         0.88333333,  1.        ,  0.9       ,  1.        ,  0.9       ,\n",
       "         1.        ,  0.9       ,  1.        ,  0.9       ,  1.        ,\n",
       "         0.9       ,  1.        ,  0.88333333,  1.        ,  0.88333333,\n",
       "         1.        ,  0.86666667,  1.        ,  0.86666667,  1.        ,\n",
       "         0.85      ,  1.        ,  0.85      ,  1.        ,  0.85      ,\n",
       "         1.        ,  0.85      ,  1.        ,  0.85      ,  1.        ,\n",
       "         0.85      ,  1.        ,  0.83333333,  1.        ,  0.83333333,\n",
       "         1.        ,  0.71666667,  1.        ,  0.73333333,  1.        ,\n",
       "         0.7       ,  1.        ,  0.7       ,  1.        ,  0.7       ,\n",
       "         1.        ,  0.7       ,  1.        ,  0.7       ,  1.        ,\n",
       "         0.66666667,  1.        ,  0.65      ,  1.        ,  0.58333333,\n",
       "         1.        ,  0.5       ,  1.        ,  0.45      ,  1.        ,\n",
       "         0.43333333,  1.        ,  0.41666667,  1.        ,  0.4       ,\n",
       "         1.        ,  0.36666667,  1.        ,  0.36666667,  1.        ,\n",
       "         0.36666667,  1.        ,  0.36666667,  1.        ,  0.36666667,\n",
       "         1.        ,  0.36666667,  1.        ,  0.36666667,  1.        ,\n",
       "         0.36666667,  1.        ,  0.36666667,  1.        ,  0.36666667,\n",
       "         1.        ,  0.36666667,  1.        ]),\n",
       " 'split1_test_score': array([ 0.86666667,  0.86666667,  0.8       ,  0.86666667,  0.93333333,\n",
       "         0.93333333,  0.86666667,  0.93333333,  0.93333333,  0.93333333,\n",
       "         0.86666667,  0.93333333,  0.86666667,  0.86666667,  0.86666667,\n",
       "         0.86666667,  0.86666667,  0.86666667,  0.86666667,  0.86666667,\n",
       "         0.93333333,  0.93333333,  0.73333333,  0.86666667,  0.73333333,\n",
       "         0.86666667,  0.73333333,  0.8       ,  0.8       ,  0.8       ,\n",
       "         0.8       ,  0.8       ,  0.8       ,  0.8       ,  0.73333333,\n",
       "         0.8       ,  0.8       ,  0.8       ,  0.73333333,  0.8       ,\n",
       "         0.73333333,  0.8       ,  0.66666667,  0.8       ,  0.73333333,\n",
       "         0.8       ,  0.66666667,  0.8       ,  0.73333333,  0.8       ,\n",
       "         0.73333333,  0.8       ,  0.73333333,  0.8       ,  0.66666667,\n",
       "         0.8       ,  0.66666667,  0.8       ,  0.66666667,  0.8       ,\n",
       "         0.73333333,  0.8       ,  0.6       ,  0.73333333,  0.66666667,\n",
       "         0.8       ,  0.6       ,  0.8       ,  0.46666667,  0.8       ,\n",
       "         0.33333333,  0.73333333,  0.33333333,  0.8       ,  0.33333333,\n",
       "         0.8       ,  0.33333333,  0.8       ,  0.33333333,  0.8       ,\n",
       "         0.33333333,  0.8       ,  0.33333333,  0.8       ,  0.33333333,\n",
       "         0.8       ,  0.33333333,  0.8       ,  0.33333333,  0.8       ,\n",
       "         0.33333333,  0.8       ,  0.33333333,  0.8       ,  0.33333333,\n",
       "         0.8       ,  0.33333333,  0.8       ,  0.33333333,  0.8       ,\n",
       "         0.33333333,  0.8       ,  0.33333333,  0.8       ,  0.33333333,\n",
       "         0.8       ,  0.33333333,  0.8       ,  0.33333333,  0.8       ,\n",
       "         0.33333333,  0.8       ,  0.33333333,  0.8       ,  0.33333333,\n",
       "         0.8       ,  0.33333333,  0.8       ]),\n",
       " 'split1_train_score': array([ 1.        ,  1.        ,  0.95      ,  1.        ,  0.95      ,\n",
       "         1.        ,  0.95      ,  1.        ,  0.95      ,  1.        ,\n",
       "         0.96666667,  1.        ,  0.95      ,  1.        ,  0.96666667,\n",
       "         1.        ,  0.96666667,  1.        ,  0.95      ,  1.        ,\n",
       "         0.96666667,  1.        ,  0.96666667,  1.        ,  0.96666667,\n",
       "         1.        ,  0.95      ,  1.        ,  0.95      ,  1.        ,\n",
       "         0.95      ,  1.        ,  0.95      ,  1.        ,  0.95      ,\n",
       "         1.        ,  0.95      ,  1.        ,  0.93333333,  1.        ,\n",
       "         0.93333333,  1.        ,  0.93333333,  1.        ,  0.93333333,\n",
       "         1.        ,  0.9       ,  1.        ,  0.9       ,  1.        ,\n",
       "         0.9       ,  1.        ,  0.9       ,  1.        ,  0.9       ,\n",
       "         1.        ,  0.9       ,  1.        ,  0.88333333,  1.        ,\n",
       "         0.88333333,  1.        ,  0.85      ,  1.        ,  0.88333333,\n",
       "         1.        ,  0.73333333,  1.        ,  0.51666667,  1.        ,\n",
       "         0.41666667,  1.        ,  0.41666667,  1.        ,  0.41666667,\n",
       "         1.        ,  0.41666667,  1.        ,  0.41666667,  1.        ,\n",
       "         0.41666667,  1.        ,  0.41666667,  1.        ,  0.41666667,\n",
       "         1.        ,  0.41666667,  1.        ,  0.41666667,  1.        ,\n",
       "         0.41666667,  1.        ,  0.41666667,  1.        ,  0.41666667,\n",
       "         1.        ,  0.41666667,  1.        ,  0.41666667,  1.        ,\n",
       "         0.41666667,  1.        ,  0.41666667,  1.        ,  0.41666667,\n",
       "         1.        ,  0.41666667,  1.        ,  0.41666667,  1.        ,\n",
       "         0.41666667,  1.        ,  0.41666667,  1.        ,  0.41666667,\n",
       "         1.        ,  0.41666667,  1.        ]),\n",
       " 'split2_test_score': array([ 1.        ,  1.        ,  1.        ,  1.        ,  1.        ,\n",
       "         1.        ,  1.        ,  1.        ,  1.        ,  1.        ,\n",
       "         1.        ,  1.        ,  1.        ,  1.        ,  1.        ,\n",
       "         1.        ,  1.        ,  1.        ,  1.        ,  1.        ,\n",
       "         1.        ,  1.        ,  1.        ,  1.        ,  1.        ,\n",
       "         1.        ,  1.        ,  1.        ,  1.        ,  1.        ,\n",
       "         1.        ,  1.        ,  1.        ,  1.        ,  1.        ,\n",
       "         1.        ,  1.        ,  1.        ,  1.        ,  1.        ,\n",
       "         1.        ,  1.        ,  1.        ,  1.        ,  1.        ,\n",
       "         1.        ,  1.        ,  1.        ,  1.        ,  1.        ,\n",
       "         1.        ,  1.        ,  1.        ,  1.        ,  1.        ,\n",
       "         1.        ,  1.        ,  1.        ,  0.93333333,  1.        ,\n",
       "         0.93333333,  1.        ,  0.93333333,  1.        ,  0.66666667,\n",
       "         1.        ,  0.6       ,  1.        ,  0.6       ,  1.        ,\n",
       "         0.6       ,  1.        ,  0.6       ,  1.        ,  0.46666667,\n",
       "         1.        ,  0.46666667,  1.        ,  0.4       ,  1.        ,\n",
       "         0.4       ,  1.        ,  0.4       ,  1.        ,  0.4       ,\n",
       "         1.        ,  0.4       ,  1.        ,  0.4       ,  1.        ,\n",
       "         0.4       ,  1.        ,  0.4       ,  1.        ,  0.4       ,\n",
       "         1.        ,  0.4       ,  1.        ,  0.4       ,  1.        ,\n",
       "         0.4       ,  1.        ,  0.4       ,  1.        ,  0.4       ,\n",
       "         1.        ,  0.4       ,  1.        ,  0.4       ,  1.        ,\n",
       "         0.4       ,  1.        ,  0.4       ,  1.        ,  0.4       ,\n",
       "         1.        ,  0.4       ,  1.        ]),\n",
       " 'split2_train_score': array([ 1.        ,  1.        ,  0.93333333,  1.        ,  0.95      ,\n",
       "         1.        ,  0.93333333,  1.        ,  0.96666667,  1.        ,\n",
       "         0.96666667,  1.        ,  0.96666667,  1.        ,  0.95      ,\n",
       "         1.        ,  0.95      ,  1.        ,  0.95      ,  1.        ,\n",
       "         0.95      ,  1.        ,  0.95      ,  1.        ,  0.96666667,\n",
       "         1.        ,  0.95      ,  1.        ,  0.96666667,  1.        ,\n",
       "         0.93333333,  1.        ,  0.95      ,  1.        ,  0.93333333,\n",
       "         1.        ,  0.93333333,  1.        ,  0.93333333,  1.        ,\n",
       "         0.93333333,  1.        ,  0.91666667,  1.        ,  0.91666667,\n",
       "         1.        ,  0.91666667,  1.        ,  0.93333333,  1.        ,\n",
       "         0.9       ,  1.        ,  0.93333333,  1.        ,  0.9       ,\n",
       "         1.        ,  0.91666667,  1.        ,  0.9       ,  1.        ,\n",
       "         0.9       ,  1.        ,  0.85      ,  1.        ,  0.66666667,\n",
       "         1.        ,  0.58333333,  1.        ,  0.58333333,  1.        ,\n",
       "         0.55      ,  1.        ,  0.55      ,  1.        ,  0.43333333,\n",
       "         1.        ,  0.43333333,  1.        ,  0.4       ,  1.        ,\n",
       "         0.4       ,  1.        ,  0.4       ,  1.        ,  0.4       ,\n",
       "         1.        ,  0.4       ,  1.        ,  0.4       ,  1.        ,\n",
       "         0.4       ,  1.        ,  0.4       ,  1.        ,  0.4       ,\n",
       "         1.        ,  0.4       ,  1.        ,  0.4       ,  1.        ,\n",
       "         0.4       ,  1.        ,  0.4       ,  1.        ,  0.4       ,\n",
       "         1.        ,  0.4       ,  1.        ,  0.4       ,  1.        ,\n",
       "         0.4       ,  1.        ,  0.4       ,  1.        ,  0.4       ,\n",
       "         1.        ,  0.4       ,  1.        ]),\n",
       " 'split3_test_score': array([ 0.93333333,  0.93333333,  0.93333333,  0.93333333,  0.93333333,\n",
       "         0.93333333,  0.93333333,  0.93333333,  0.93333333,  0.93333333,\n",
       "         0.93333333,  0.93333333,  0.93333333,  0.93333333,  0.93333333,\n",
       "         0.93333333,  0.93333333,  0.93333333,  0.93333333,  0.93333333,\n",
       "         0.93333333,  0.93333333,  0.93333333,  0.93333333,  0.93333333,\n",
       "         0.93333333,  0.93333333,  0.93333333,  0.93333333,  0.93333333,\n",
       "         0.93333333,  0.93333333,  0.93333333,  0.93333333,  0.93333333,\n",
       "         0.93333333,  0.93333333,  0.93333333,  0.93333333,  0.93333333,\n",
       "         0.93333333,  0.93333333,  0.93333333,  0.93333333,  0.93333333,\n",
       "         0.93333333,  0.93333333,  0.93333333,  0.93333333,  0.93333333,\n",
       "         0.93333333,  0.93333333,  0.4       ,  0.93333333,  0.4       ,\n",
       "         0.93333333,  0.4       ,  0.93333333,  0.4       ,  0.93333333,\n",
       "         0.4       ,  0.93333333,  0.4       ,  0.93333333,  0.4       ,\n",
       "         0.93333333,  0.33333333,  0.93333333,  0.33333333,  0.93333333,\n",
       "         0.33333333,  0.93333333,  0.33333333,  0.93333333,  0.33333333,\n",
       "         0.93333333,  0.33333333,  0.93333333,  0.2       ,  0.93333333,\n",
       "         0.2       ,  0.93333333,  0.2       ,  0.93333333,  0.2       ,\n",
       "         0.93333333,  0.2       ,  0.93333333,  0.2       ,  0.93333333,\n",
       "         0.2       ,  0.93333333,  0.2       ,  0.93333333,  0.2       ,\n",
       "         0.93333333,  0.2       ,  0.93333333,  0.2       ,  0.93333333,\n",
       "         0.2       ,  0.93333333,  0.2       ,  0.93333333,  0.2       ,\n",
       "         0.93333333,  0.2       ,  0.93333333,  0.2       ,  0.93333333,\n",
       "         0.2       ,  0.93333333,  0.2       ,  0.93333333,  0.2       ,\n",
       "         0.93333333,  0.2       ,  0.93333333]),\n",
       " 'split3_train_score': array([ 1.        ,  1.        ,  0.96666667,  1.        ,  0.96666667,\n",
       "         1.        ,  0.96666667,  1.        ,  0.96666667,  1.        ,\n",
       "         0.96666667,  1.        ,  0.98333333,  1.        ,  0.96666667,\n",
       "         1.        ,  0.96666667,  1.        ,  0.95      ,  1.        ,\n",
       "         0.98333333,  1.        ,  0.96666667,  1.        ,  0.98333333,\n",
       "         1.        ,  0.95      ,  1.        ,  0.96666667,  1.        ,\n",
       "         0.95      ,  1.        ,  0.95      ,  1.        ,  0.95      ,\n",
       "         1.        ,  0.93333333,  1.        ,  0.93333333,  1.        ,\n",
       "         0.95      ,  1.        ,  0.91666667,  1.        ,  0.93333333,\n",
       "         1.        ,  0.93333333,  1.        ,  0.93333333,  1.        ,\n",
       "         0.93333333,  1.        ,  0.7       ,  1.        ,  0.68333333,\n",
       "         1.        ,  0.68333333,  1.        ,  0.7       ,  1.        ,\n",
       "         0.66666667,  1.        ,  0.66666667,  1.        ,  0.68333333,\n",
       "         1.        ,  0.65      ,  1.        ,  0.65      ,  1.        ,\n",
       "         0.63333333,  1.        ,  0.61666667,  1.        ,  0.63333333,\n",
       "         1.        ,  0.63333333,  1.        ,  0.45      ,  1.        ,\n",
       "         0.45      ,  1.        ,  0.45      ,  1.        ,  0.45      ,\n",
       "         1.        ,  0.45      ,  1.        ,  0.45      ,  1.        ,\n",
       "         0.45      ,  1.        ,  0.45      ,  1.        ,  0.45      ,\n",
       "         1.        ,  0.45      ,  1.        ,  0.45      ,  1.        ,\n",
       "         0.45      ,  1.        ,  0.45      ,  1.        ,  0.45      ,\n",
       "         1.        ,  0.45      ,  1.        ,  0.45      ,  1.        ,\n",
       "         0.45      ,  1.        ,  0.45      ,  1.        ,  0.45      ,\n",
       "         1.        ,  0.45      ,  1.        ]),\n",
       " 'split4_test_score': array([ 0.86666667,  0.86666667,  0.86666667,  0.86666667,  0.93333333,\n",
       "         0.93333333,  0.86666667,  0.86666667,  0.86666667,  0.86666667,\n",
       "         0.86666667,  0.86666667,  0.86666667,  0.86666667,  0.86666667,\n",
       "         0.86666667,  0.93333333,  0.93333333,  0.86666667,  0.86666667,\n",
       "         0.86666667,  0.86666667,  0.86666667,  0.86666667,  0.8       ,\n",
       "         0.86666667,  0.86666667,  0.86666667,  0.8       ,  0.86666667,\n",
       "         0.86666667,  0.86666667,  0.86666667,  0.86666667,  0.86666667,\n",
       "         0.86666667,  0.86666667,  0.86666667,  0.93333333,  0.86666667,\n",
       "         0.8       ,  0.86666667,  0.8       ,  0.86666667,  0.73333333,\n",
       "         0.86666667,  0.8       ,  0.86666667,  0.8       ,  0.86666667,\n",
       "         0.8       ,  0.86666667,  0.73333333,  0.86666667,  0.86666667,\n",
       "         0.86666667,  0.8       ,  0.93333333,  0.86666667,  0.93333333,\n",
       "         0.8       ,  0.93333333,  0.8       ,  0.93333333,  0.73333333,\n",
       "         0.93333333,  0.66666667,  0.93333333,  0.73333333,  0.93333333,\n",
       "         0.73333333,  0.93333333,  0.6       ,  0.93333333,  0.66666667,\n",
       "         0.93333333,  0.66666667,  0.93333333,  0.53333333,  0.93333333,\n",
       "         0.53333333,  0.93333333,  0.53333333,  0.93333333,  0.53333333,\n",
       "         0.93333333,  0.53333333,  0.93333333,  0.53333333,  0.93333333,\n",
       "         0.53333333,  0.93333333,  0.53333333,  0.93333333,  0.53333333,\n",
       "         0.93333333,  0.53333333,  0.93333333,  0.53333333,  0.93333333,\n",
       "         0.53333333,  0.93333333,  0.53333333,  0.93333333,  0.53333333,\n",
       "         0.93333333,  0.53333333,  0.93333333,  0.53333333,  0.93333333,\n",
       "         0.53333333,  0.93333333,  0.53333333,  0.93333333,  0.53333333,\n",
       "         0.93333333,  0.53333333,  0.93333333]),\n",
       " 'split4_train_score': array([ 1.        ,  1.        ,  0.96666667,  1.        ,  0.98333333,\n",
       "         1.        ,  0.96666667,  1.        ,  0.98333333,  1.        ,\n",
       "         0.98333333,  1.        ,  0.98333333,  1.        ,  0.98333333,\n",
       "         1.        ,  0.98333333,  1.        ,  0.98333333,  1.        ,\n",
       "         0.98333333,  1.        ,  0.96666667,  1.        ,  0.98333333,\n",
       "         1.        ,  0.96666667,  1.        ,  0.96666667,  1.        ,\n",
       "         0.95      ,  1.        ,  0.96666667,  1.        ,  0.95      ,\n",
       "         1.        ,  0.95      ,  1.        ,  0.93333333,  1.        ,\n",
       "         0.95      ,  1.        ,  0.95      ,  1.        ,  0.95      ,\n",
       "         1.        ,  0.93333333,  1.        ,  0.93333333,  1.        ,\n",
       "         0.91666667,  1.        ,  0.9       ,  1.        ,  0.88333333,\n",
       "         1.        ,  0.88333333,  1.        ,  0.86666667,  1.        ,\n",
       "         0.86666667,  1.        ,  0.86666667,  1.        ,  0.88333333,\n",
       "         1.        ,  0.86666667,  1.        ,  0.86666667,  1.        ,\n",
       "         0.86666667,  1.        ,  0.66666667,  1.        ,  0.48333333,\n",
       "         1.        ,  0.51666667,  1.        ,  0.36666667,  1.        ,\n",
       "         0.36666667,  1.        ,  0.36666667,  1.        ,  0.36666667,\n",
       "         1.        ,  0.36666667,  1.        ,  0.36666667,  1.        ,\n",
       "         0.36666667,  1.        ,  0.36666667,  1.        ,  0.36666667,\n",
       "         1.        ,  0.36666667,  1.        ,  0.36666667,  1.        ,\n",
       "         0.36666667,  1.        ,  0.36666667,  1.        ,  0.36666667,\n",
       "         1.        ,  0.36666667,  1.        ,  0.36666667,  1.        ,\n",
       "         0.36666667,  1.        ,  0.36666667,  1.        ,  0.36666667,\n",
       "         1.        ,  0.36666667,  1.        ]),\n",
       " 'std_fit_time': array([  1.15412244e-02,   8.00025464e-04,   4.00018706e-04,\n",
       "          1.16613039e-03,   4.89881921e-04,   4.89901382e-04,\n",
       "          4.89998722e-04,   6.32485100e-04,   4.89862441e-04,\n",
       "          4.89862441e-04,   4.89901382e-04,   7.48277239e-04,\n",
       "          8.00013548e-04,   4.89823515e-04,   4.89979242e-04,\n",
       "          4.89940316e-04,   3.99947177e-04,   0.00000000e+00,\n",
       "          0.00000000e+00,   0.00000000e+00,   6.32409703e-04,\n",
       "          3.99971008e-04,   3.99971008e-04,   6.32560481e-04,\n",
       "          4.89823515e-04,   4.89881921e-04,   0.00000000e+00,\n",
       "          3.99947177e-04,   3.99971008e-04,   7.48353705e-04,\n",
       "          4.89940316e-04,   4.89862441e-04,   4.89979242e-04,\n",
       "          3.99971008e-04,   4.89979242e-04,   7.48353705e-04,\n",
       "          1.35638175e-03,   7.48366451e-04,   3.99923339e-04,\n",
       "          4.89901382e-04,   7.99989707e-04,   4.89901382e-04,\n",
       "          4.00018706e-04,   6.32485093e-04,   3.99947177e-04,\n",
       "          4.89842988e-04,   8.00049306e-04,   4.89842988e-04,\n",
       "          4.89901382e-04,   9.53674316e-08,   4.00066376e-04,\n",
       "          6.32409699e-04,   4.89979242e-04,   4.89920847e-04,\n",
       "          1.16800773e-07,   9.53674316e-08,   9.53674316e-08,\n",
       "          4.00066376e-04,   4.89881921e-04,   4.89920847e-04,\n",
       "          4.89940316e-04,   3.99923339e-04,   4.89940316e-04,\n",
       "          1.16800773e-07,   4.89784582e-04,   3.99923339e-04,\n",
       "          1.16800773e-07,   4.89940316e-04,   4.89920847e-04,\n",
       "          1.16800773e-07,   0.00000000e+00,   3.99947177e-04,\n",
       "          4.89901382e-04,   4.89940316e-04,   3.99947177e-04,\n",
       "          4.00042545e-04,   3.99947177e-04,   4.00018706e-04,\n",
       "          0.00000000e+00,   4.89901382e-04,   0.00000000e+00,\n",
       "          4.89940316e-04,   4.89862441e-04,   4.00042545e-04,\n",
       "          4.00042545e-04,   4.89881921e-04,   4.89920847e-04,\n",
       "          4.89881921e-04,   4.89901382e-04,   9.53674316e-08,\n",
       "          3.99971008e-04,   3.99947177e-04,   4.89842988e-04,\n",
       "          4.89842988e-04,   1.16800773e-07,   4.89940316e-04,\n",
       "          3.99923339e-04,   4.89842988e-04,   4.00066376e-04,\n",
       "          4.89979242e-04,   4.89979242e-04,   3.99994861e-04,\n",
       "          4.00018706e-04,   4.00018706e-04,   3.99971008e-04,\n",
       "          4.89979242e-04,   1.16800773e-07,   3.99971008e-04,\n",
       "          1.16800773e-07,   1.16800773e-07,   3.99994861e-04,\n",
       "          4.89881921e-04,   1.16800773e-07,   1.16800773e-07,\n",
       "          9.53674316e-08,   1.16800773e-07,   3.99971008e-04,\n",
       "          0.00000000e+00]),\n",
       " 'std_score_time': array([  7.48353705e-04,   7.48277239e-04,   7.48302736e-04,\n",
       "          4.89842988e-04,   1.35646611e-03,   4.89901382e-04,\n",
       "          4.00042545e-04,   1.16620399e-03,   4.89862441e-04,\n",
       "          0.00000000e+00,   7.99942017e-04,   1.01981416e-03,\n",
       "          8.00061231e-04,   1.26489478e-03,   7.48366451e-04,\n",
       "          4.89881921e-04,   4.00018706e-04,   9.53674316e-08,\n",
       "          9.53674316e-08,   4.89920847e-04,   7.48328219e-04,\n",
       "          4.89862441e-04,   7.99942017e-04,   3.99971008e-04,\n",
       "          1.20007198e-03,   1.16800773e-07,   3.99947177e-04,\n",
       "          1.16800773e-07,   3.99971008e-04,   8.94362364e-04,\n",
       "          4.89862441e-04,   4.89862441e-04,   4.89998722e-04,\n",
       "          0.00000000e+00,   7.99977784e-04,   6.32409692e-04,\n",
       "          2.75681750e-03,   8.94415679e-04,   7.48277239e-04,\n",
       "          7.99977784e-04,   3.99971008e-04,   4.89901382e-04,\n",
       "          3.99994861e-04,   4.89920847e-04,   4.89881921e-04,\n",
       "          1.16800773e-07,   4.89862441e-04,   8.00132751e-04,\n",
       "          9.53674316e-08,   4.00018706e-04,   9.53674316e-08,\n",
       "          4.00042545e-04,   4.89823515e-04,   1.16800773e-07,\n",
       "          1.16800773e-07,   9.53674316e-08,   9.53674316e-08,\n",
       "          4.89862441e-04,   6.32409692e-04,   4.00042545e-04,\n",
       "          0.00000000e+00,   3.99923339e-04,   4.89881921e-04,\n",
       "          3.99947177e-04,   1.16800773e-07,   3.99923339e-04,\n",
       "          0.00000000e+00,   4.89940316e-04,   9.53674316e-08,\n",
       "          3.99947177e-04,   4.00018706e-04,   4.89804047e-04,\n",
       "          4.89901382e-04,   4.89881921e-04,   1.16800773e-07,\n",
       "          4.89862441e-04,   3.99971008e-04,   4.00018706e-04,\n",
       "          4.00018706e-04,   3.99971008e-04,   4.89920847e-04,\n",
       "          9.53674316e-08,   4.89862441e-04,   4.00042545e-04,\n",
       "          6.32485089e-04,   4.89979242e-04,   0.00000000e+00,\n",
       "          3.99994861e-04,   6.32409692e-04,   3.99994861e-04,\n",
       "          7.48366451e-04,   4.89804047e-04,   4.89881921e-04,\n",
       "          4.89881921e-04,   9.53674316e-08,   4.89940316e-04,\n",
       "          3.99923339e-04,   4.89842988e-04,   0.00000000e+00,\n",
       "          4.00018706e-04,   0.00000000e+00,   3.99994861e-04,\n",
       "          4.00042545e-04,   9.53674316e-08,   4.89940316e-04,\n",
       "          9.53674316e-08,   4.89901382e-04,   1.16800773e-07,\n",
       "          1.16800773e-07,   9.53674316e-08,   3.99971008e-04,\n",
       "          6.32485089e-04,   0.00000000e+00,   0.00000000e+00,\n",
       "          1.16800773e-07,   3.99971008e-04,   4.00018706e-04,\n",
       "          4.00018706e-04]),\n",
       " 'std_test_score': array([ 0.05962848,  0.05962848,  0.06798693,  0.05962848,  0.03265986,\n",
       "         0.03265986,  0.05962848,  0.04988877,  0.04988877,  0.04988877,\n",
       "         0.05962848,  0.04988877,  0.05962848,  0.05962848,  0.05962848,\n",
       "         0.05962848,  0.04988877,  0.04988877,  0.05962848,  0.05962848,\n",
       "         0.04988877,  0.04988877,  0.09977753,  0.05962848,  0.10832051,\n",
       "         0.05962848,  0.09977753,  0.07774603,  0.09043107,  0.07774603,\n",
       "         0.07774603,  0.07774603,  0.07774603,  0.07774603,  0.09977753,\n",
       "         0.07774603,  0.07774603,  0.07774603,  0.09797959,  0.07774603,\n",
       "         0.10832051,  0.07774603,  0.12927146,  0.07774603,  0.12220202,\n",
       "         0.07774603,  0.12927146,  0.07774603,  0.10832051,  0.07774603,\n",
       "         0.09797959,  0.07774603,  0.20912516,  0.07774603,  0.21746009,\n",
       "         0.07774603,  0.21333333,  0.07302967,  0.20483055,  0.07302967,\n",
       "         0.19595918,  0.07302967,  0.20655911,  0.09797959,  0.17074998,\n",
       "         0.07302967,  0.12364825,  0.07302967,  0.14360439,  0.07302967,\n",
       "         0.16      ,  0.09797959,  0.13063945,  0.07302967,  0.13597385,\n",
       "         0.07302967,  0.13597385,  0.07302967,  0.14236104,  0.07302967,\n",
       "         0.12649111,  0.07302967,  0.12649111,  0.07302967,  0.12649111,\n",
       "         0.07302967,  0.12649111,  0.07302967,  0.12649111,  0.07302967,\n",
       "         0.12649111,  0.07302967,  0.12649111,  0.07302967,  0.12649111,\n",
       "         0.07302967,  0.12649111,  0.07302967,  0.12649111,  0.07302967,\n",
       "         0.12649111,  0.07302967,  0.12649111,  0.07302967,  0.12649111,\n",
       "         0.07302967,  0.12649111,  0.07302967,  0.12649111,  0.07302967,\n",
       "         0.12649111,  0.07302967,  0.12649111,  0.07302967,  0.12649111,\n",
       "         0.07302967,  0.12649111,  0.07302967]),\n",
       " 'std_train_score': array([ 0.        ,  0.        ,  0.01247219,  0.        ,  0.01247219,\n",
       "         0.        ,  0.01490712,  0.        ,  0.01247219,  0.        ,\n",
       "         0.01632993,  0.        ,  0.01247219,  0.        ,  0.01247219,\n",
       "         0.        ,  0.01247219,  0.        ,  0.01632993,  0.        ,\n",
       "         0.01490712,  0.        ,  0.01943651,  0.        ,  0.01247219,\n",
       "         0.        ,  0.01632993,  0.        ,  0.01333333,  0.        ,\n",
       "         0.02581989,  0.        ,  0.02260777,  0.        ,  0.01943651,\n",
       "         0.        ,  0.01825742,  0.        ,  0.01333333,  0.        ,\n",
       "         0.01825742,  0.        ,  0.02211083,  0.        ,  0.02260777,\n",
       "         0.        ,  0.02494438,  0.        ,  0.02666667,  0.        ,\n",
       "         0.02788867,  0.        ,  0.08273116,  0.        ,  0.08205689,\n",
       "         0.        ,  0.08459052,  0.        ,  0.07195678,  0.        ,\n",
       "         0.08498366,  0.        ,  0.07408704,  0.        ,  0.09580072,\n",
       "         0.        ,  0.0946338 ,  0.        ,  0.12174655,  0.        ,\n",
       "         0.15018507,  0.        ,  0.10033278,  0.        ,  0.11303883,\n",
       "         0.        ,  0.11085526,  0.        ,  0.1197219 ,  0.        ,\n",
       "         0.10677078,  0.        ,  0.10033278,  0.        ,  0.07498148,\n",
       "         0.        ,  0.04546061,  0.        ,  0.03162278,  0.        ,\n",
       "         0.02867442,  0.        ,  0.02708013,  0.        ,  0.02708013,\n",
       "         0.        ,  0.03162278,  0.        ,  0.03162278,  0.        ,\n",
       "         0.03162278,  0.        ,  0.03162278,  0.        ,  0.03162278,\n",
       "         0.        ,  0.03162278,  0.        ,  0.03162278,  0.        ,\n",
       "         0.03162278,  0.        ,  0.03162278,  0.        ,  0.03162278,\n",
       "         0.        ,  0.03162278,  0.        ])}"
      ]
     },
     "execution_count": 31,
     "metadata": {},
     "output_type": "execute_result"
    }
   ],
   "source": [
    "gs.cv_results_"
   ]
  },
  {
   "cell_type": "code",
   "execution_count": 32,
   "metadata": {
    "collapsed": false
   },
   "outputs": [
    {
     "data": {
      "text/plain": [
       "['rank_test_score',\n",
       " 'param_n_neighbors',\n",
       " 'std_score_time',\n",
       " 'split2_test_score',\n",
       " 'mean_fit_time',\n",
       " 'split3_train_score',\n",
       " 'std_test_score',\n",
       " 'params',\n",
       " 'std_fit_time',\n",
       " 'param_weights',\n",
       " 'std_train_score',\n",
       " 'split4_test_score',\n",
       " 'split1_train_score',\n",
       " 'split2_train_score',\n",
       " 'split4_train_score',\n",
       " 'mean_score_time',\n",
       " 'split0_train_score',\n",
       " 'mean_train_score',\n",
       " 'split0_test_score',\n",
       " 'mean_test_score',\n",
       " 'split3_test_score',\n",
       " 'split1_test_score']"
      ]
     },
     "execution_count": 32,
     "metadata": {},
     "output_type": "execute_result"
    }
   ],
   "source": [
    "gs.cv_results_.keys()"
   ]
  },
  {
   "cell_type": "code",
   "execution_count": 33,
   "metadata": {
    "collapsed": false
   },
   "outputs": [
    {
     "data": {
      "text/plain": [
       "0.95999999999999996"
      ]
     },
     "execution_count": 33,
     "metadata": {},
     "output_type": "execute_result"
    }
   ],
   "source": [
    "gs.best_score_"
   ]
  },
  {
   "cell_type": "code",
   "execution_count": 34,
   "metadata": {
    "collapsed": false
   },
   "outputs": [
    {
     "data": {
      "text/plain": [
       "{'n_neighbors': 3, 'weights': 'uniform'}"
      ]
     },
     "execution_count": 34,
     "metadata": {},
     "output_type": "execute_result"
    }
   ],
   "source": [
    "gs.best_params_"
   ]
  },
  {
   "cell_type": "code",
   "execution_count": 35,
   "metadata": {
    "collapsed": false
   },
   "outputs": [
    {
     "data": {
      "text/plain": [
       "KNeighborsClassifier(algorithm='auto', leaf_size=30, metric='minkowski',\n",
       "           metric_params=None, n_jobs=1, n_neighbors=3, p=2,\n",
       "           weights='uniform')"
      ]
     },
     "execution_count": 35,
     "metadata": {},
     "output_type": "execute_result"
    }
   ],
   "source": [
    "gs.best_estimator_"
   ]
  },
  {
   "cell_type": "code",
   "execution_count": 36,
   "metadata": {
    "collapsed": false
   },
   "outputs": [
    {
     "data": {
      "text/plain": [
       "0.95999999999999996"
      ]
     },
     "execution_count": 36,
     "metadata": {},
     "output_type": "execute_result"
    }
   ],
   "source": [
    "gs.score(train_X, train_c)"
   ]
  },
  {
   "cell_type": "code",
   "execution_count": 37,
   "metadata": {
    "collapsed": false
   },
   "outputs": [
    {
     "data": {
      "text/plain": [
       "0.98666666666666669"
      ]
     },
     "execution_count": 37,
     "metadata": {},
     "output_type": "execute_result"
    }
   ],
   "source": [
    "gs.score(test_X, test_c)"
   ]
  },
  {
   "cell_type": "markdown",
   "metadata": {},
   "source": [
    "## Final model"
   ]
  },
  {
   "cell_type": "code",
   "execution_count": 38,
   "metadata": {
    "collapsed": false
   },
   "outputs": [
    {
     "data": {
      "text/plain": [
       "0.97999999999999998"
      ]
     },
     "execution_count": 38,
     "metadata": {},
     "output_type": "execute_result"
    }
   ],
   "source": [
    "X = df[columns_X]\n",
    "scaler = preprocessing.MinMaxScaler().fit(X)\n",
    "X = scaler.transform(X)\n",
    "\n",
    "c = df.Species\n",
    "\n",
    "model = neighbors.KNeighborsClassifier(n_neighbors = 4, weights = 'distance').\\\n",
    "    fit(train_X, train_c)\n",
    "\n",
    "model.score(X, c)"
   ]
  }
 ],
 "metadata": {
  "kernelspec": {
   "display_name": "Python 2",
   "language": "python",
   "name": "python2"
  },
  "language_info": {
   "codemirror_mode": {
    "name": "ipython",
    "version": 2
   },
   "file_extension": ".py",
   "mimetype": "text/x-python",
   "name": "python",
   "nbconvert_exporter": "python",
   "pygments_lexer": "ipython2",
   "version": "2.7.13"
  }
 },
 "nbformat": 4,
 "nbformat_minor": 0
}