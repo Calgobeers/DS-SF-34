{
 "cells": [
  {
   "cell_type": "markdown",
   "metadata": {},
   "source": [
    "# DS-SF-34 | 01 | What is Data Science | Assignment | Answer Key"
   ]
  },
  {
   "cell_type": "markdown",
   "metadata": {},
   "source": [
    "## Python Review"
   ]
  },
  {
   "cell_type": "markdown",
   "metadata": {},
   "source": [
    "Programming is a must-have skill for data scientists.  Today, to give you some more practice beyond the course pre-requisites, we are going to implement a few functions in Python.  This assignment covers to some extend the following topics:\n",
    "\n",
    "- Functions (defining and using your own functions but also calling functions from packages)\n",
    "- Loops\n",
    "- Arithmetic operations\n",
    "- Conditional statements\n",
    "\n",
    "**Don't worry if you get stuck.  Ask around, review the answer key, and ask around more.  As this course progresses, your programming proficiency will increase.**"
   ]
  },
  {
   "cell_type": "markdown",
   "metadata": {},
   "source": [
    "> ### Question 1.  Multiples of 3 and 5\n",
    ">\n",
    "> If we list all the natural numbers below 10 that are multiples of 3 or 5, we get 3, 5, 6 and 9.  The sum of these multiples is 23.\n",
    ">\n",
    "> Find the sum of all the multiples of 3 or 5 below 1,000.\n",
    ">\n",
    "> (Source: [Project Euler | Problem 1](https://projecteuler.net/problem=1))"
   ]
  },
  {
   "cell_type": "code",
   "execution_count": 1,
   "metadata": {
    "collapsed": false
   },
   "outputs": [
    {
     "data": {
      "text/plain": [
       "23"
      ]
     },
     "execution_count": 1,
     "metadata": {},
     "output_type": "execute_result"
    }
   ],
   "source": [
    "def multiples_of_3_or_5(n):\n",
    "    accumulator = 0\n",
    "    for i in range(1, n):\n",
    "        if (i % 3 == 0) or (i % 5 == 0):\n",
    "            accumulator += i\n",
    "    return accumulator\n",
    "\n",
    "multiples_of_3_or_5(10)"
   ]
  },
  {
   "cell_type": "code",
   "execution_count": 2,
   "metadata": {
    "collapsed": false
   },
   "outputs": [
    {
     "data": {
      "text/plain": [
       "233168"
      ]
     },
     "execution_count": 2,
     "metadata": {},
     "output_type": "execute_result"
    }
   ],
   "source": [
    "multiples_of_3_or_5(1000)"
   ]
  },
  {
   "cell_type": "markdown",
   "metadata": {},
   "source": [
    "Answer: 233168"
   ]
  },
  {
   "cell_type": "markdown",
   "metadata": {},
   "source": [
    "> ### Question 2.  Estimating square roots\n",
    ">\n",
    "> Given a real number $m$, let's define the series $u$ as follow:\n",
    "> - $u_0 = 1$\n",
    "> - $u_{n+1} = \\frac{u_n ^ 2 + n}{2u_m}$\n",
    ">\n",
    ">\n",
    "> Implement the calculations of the series $u$ above to estimate square roots.  Verify that $\\sqrt{144} = 12$ and use your function to calculate $\\sqrt{1024}$."
   ]
  },
  {
   "cell_type": "code",
   "execution_count": 3,
   "metadata": {
    "collapsed": false
   },
   "outputs": [],
   "source": [
    "def sqrt(m):\n",
    "    u_n = 1.\n",
    "\n",
    "    while True:\n",
    "        u_n_plus_1 = (u_n ** 2 + m) / (2 * u_n)\n",
    "\n",
    "        if abs(u_n_plus_1 / u_n - 1) < 10 ** -6:\n",
    "            break\n",
    "\n",
    "        u_n = u_n_plus_1\n",
    "\n",
    "    return u_n"
   ]
  },
  {
   "cell_type": "markdown",
   "metadata": {},
   "source": [
    "- Let's test it out with 144.  We expect to get 12."
   ]
  },
  {
   "cell_type": "code",
   "execution_count": 4,
   "metadata": {
    "collapsed": false
   },
   "outputs": [
    {
     "data": {
      "text/plain": [
       "12.000000012408687"
      ]
     },
     "execution_count": 4,
     "metadata": {},
     "output_type": "execute_result"
    }
   ],
   "source": [
    "sqrt(144)"
   ]
  },
  {
   "cell_type": "markdown",
   "metadata": {},
   "source": [
    "- Now, let's estimate $\\sqrt{1024}$."
   ]
  },
  {
   "cell_type": "code",
   "execution_count": 5,
   "metadata": {
    "collapsed": false
   },
   "outputs": [
    {
     "data": {
      "text/plain": [
       "32.0000071648159"
      ]
     },
     "execution_count": 5,
     "metadata": {},
     "output_type": "execute_result"
    }
   ],
   "source": [
    "sqrt(1024)"
   ]
  },
  {
   "cell_type": "markdown",
   "metadata": {},
   "source": [
    "- Now, let's double check this result using `math.sqrt`: (https://docs.python.org/2/library/math.html)"
   ]
  },
  {
   "cell_type": "code",
   "execution_count": 6,
   "metadata": {
    "collapsed": false
   },
   "outputs": [
    {
     "data": {
      "text/plain": [
       "32.0"
      ]
     },
     "execution_count": 6,
     "metadata": {},
     "output_type": "execute_result"
    }
   ],
   "source": [
    "import math\n",
    "\n",
    "math.sqrt(1024)"
   ]
  },
  {
   "cell_type": "markdown",
   "metadata": {},
   "source": [
    "Answer: 32"
   ]
  },
  {
   "cell_type": "markdown",
   "metadata": {},
   "source": [
    "> ### Question 3.  Prime Numbers\n",
    ">\n",
    "> A prime (number) is a natural number greater than 1 that has no positive divisors other than 1 and itself.  ([Wikipedia](https://en.wikipedia.org/wiki/Prime_number))\n",
    ">\n",
    "> Calculate all primes below 1,000.  What's their sum?"
   ]
  },
  {
   "cell_type": "code",
   "execution_count": 7,
   "metadata": {
    "collapsed": false
   },
   "outputs": [],
   "source": [
    "def is_prime(n):\n",
    "    for i in range (2, int(sqrt(n)) + 1):\n",
    "        if n % i == 0:\n",
    "            return False\n",
    "    return True\n",
    "\n",
    "def primes(n):\n",
    "    l = []\n",
    "    for i in range(2, n + 1):\n",
    "        if is_prime(i):\n",
    "            l.append(i)\n",
    "    return l\n",
    "\n",
    "l = primes(100)"
   ]
  },
  {
   "cell_type": "code",
   "execution_count": 8,
   "metadata": {
    "collapsed": false
   },
   "outputs": [
    {
     "data": {
      "text/plain": [
       "1060"
      ]
     },
     "execution_count": 8,
     "metadata": {},
     "output_type": "execute_result"
    }
   ],
   "source": [
    "sum(l)"
   ]
  },
  {
   "cell_type": "markdown",
   "metadata": {},
   "source": [
    "Answer: 1060"
   ]
  },
  {
   "cell_type": "markdown",
   "metadata": {},
   "source": [
    "> ### Question 4.  Largest prime factor\n",
    ">\n",
    "> The prime factors of 13195 are 5, 7, 13 and 29.\n",
    ">\n",
    "> What is the largest prime factor of the number 600851475143?\n",
    ">\n",
    "> (Source: [Project Euler | Problem 3](https://projecteuler.net/problem=3))"
   ]
  },
  {
   "cell_type": "code",
   "execution_count": 9,
   "metadata": {
    "collapsed": false
   },
   "outputs": [],
   "source": [
    "def largest_prime_factor(n):\n",
    "    primes = set()\n",
    "\n",
    "    i = 2\n",
    "    while n > 1:\n",
    "        while n % i == 0:\n",
    "            primes.add(i)\n",
    "            n /= i\n",
    "        i += 1\n",
    "\n",
    "    return max(primes)"
   ]
  },
  {
   "cell_type": "markdown",
   "metadata": {},
   "source": [
    "- Let's test it out with 13195.  We expect to get 29."
   ]
  },
  {
   "cell_type": "code",
   "execution_count": 10,
   "metadata": {
    "collapsed": false
   },
   "outputs": [
    {
     "data": {
      "text/plain": [
       "29"
      ]
     },
     "execution_count": 10,
     "metadata": {},
     "output_type": "execute_result"
    }
   ],
   "source": [
    "largest_prime_factor(13195)"
   ]
  },
  {
   "cell_type": "markdown",
   "metadata": {},
   "source": [
    "- Now, let's find the largest prime for 600851475143."
   ]
  },
  {
   "cell_type": "code",
   "execution_count": 11,
   "metadata": {
    "collapsed": false
   },
   "outputs": [
    {
     "data": {
      "text/plain": [
       "6857"
      ]
     },
     "execution_count": 11,
     "metadata": {},
     "output_type": "execute_result"
    }
   ],
   "source": [
    "largest_prime_factor(600851475143)"
   ]
  },
  {
   "cell_type": "markdown",
   "metadata": {},
   "source": [
    "Answer: 6857"
   ]
  },
  {
   "cell_type": "markdown",
   "metadata": {},
   "source": [
    "> ### Question 5.  Mean\n",
    ">\n",
    "> Write a function to calculate the mean (average) of a list.\n",
    ">\n",
    "> What's the mean of 10, 8, 13, 9, 11, 14, 6, 4, 12, 7, and 5?"
   ]
  },
  {
   "cell_type": "code",
   "execution_count": 12,
   "metadata": {
    "collapsed": true
   },
   "outputs": [],
   "source": [
    "def mean(xs):\n",
    "    n = len(xs)\n",
    "    if n == 0:\n",
    "        return None\n",
    "\n",
    "    accumulator = 0.\n",
    "\n",
    "    for x in xs:\n",
    "        accumulator += x\n",
    "\n",
    "    return accumulator / n"
   ]
  },
  {
   "cell_type": "code",
   "execution_count": 13,
   "metadata": {
    "collapsed": false
   },
   "outputs": [
    {
     "data": {
      "text/plain": [
       "9.0"
      ]
     },
     "execution_count": 13,
     "metadata": {},
     "output_type": "execute_result"
    }
   ],
   "source": [
    "l = [10, 8, 13, 9, 11, 14, 6, 4, 12, 7, 5]\n",
    "\n",
    "mean(l)"
   ]
  },
  {
   "cell_type": "markdown",
   "metadata": {},
   "source": [
    "- Let's double check this result using `numpy.mean`: (https://docs.scipy.org/doc/numpy/reference/generated/numpy.mean.html)"
   ]
  },
  {
   "cell_type": "code",
   "execution_count": 14,
   "metadata": {
    "collapsed": false
   },
   "outputs": [
    {
     "data": {
      "text/plain": [
       "9.0"
      ]
     },
     "execution_count": 14,
     "metadata": {},
     "output_type": "execute_result"
    }
   ],
   "source": [
    "import numpy as np\n",
    "\n",
    "np.mean(l)"
   ]
  },
  {
   "cell_type": "markdown",
   "metadata": {},
   "source": [
    "Answer: 9"
   ]
  },
  {
   "cell_type": "markdown",
   "metadata": {},
   "source": [
    "> ### Question 6.  Sample standard deviation\n",
    ">\n",
    "> Write a function to calculate the standard deviation of a sample.\n",
    ">\n",
    "> Given the sample $x_1, x_2, ..., x_N$, its standard deviation is defined as $s = \\sqrt{\\frac{1}{N - 1} \\sum_{i = 1}^{N} (x_i  - \\bar{x})^2}$, with $\\bar{x}$ as the sample mean.\n",
    ">\n",
    "> What's the standard deviation of the following sample: 10, 8, 13, 9, 11, 14, 6, 4, 12, 7, and 5?\n",
    ">\n",
    "> ([Wikipedia](https://en.wikipedia.org/wiki/Standard_deviation#Sample_standard_deviation))"
   ]
  },
  {
   "cell_type": "code",
   "execution_count": 15,
   "metadata": {
    "collapsed": true
   },
   "outputs": [],
   "source": [
    "def std(xs):\n",
    "    n = len(xs)\n",
    "    if n <= 1:\n",
    "        return None\n",
    "\n",
    "    accumulator = 0.\n",
    "\n",
    "    x_bar = mean(xs)\n",
    "\n",
    "    for x in xs:\n",
    "        accumulator += (x - x_bar) ** 2\n",
    "\n",
    "    return sqrt(accumulator / (n - 1))"
   ]
  },
  {
   "cell_type": "code",
   "execution_count": 16,
   "metadata": {
    "collapsed": false
   },
   "outputs": [
    {
     "data": {
      "text/plain": [
       "3.3166248052315686"
      ]
     },
     "execution_count": 16,
     "metadata": {},
     "output_type": "execute_result"
    }
   ],
   "source": [
    "std(l)"
   ]
  },
  {
   "cell_type": "markdown",
   "metadata": {},
   "source": [
    "- Let's double check this result using `numpy.std`: (https://docs.scipy.org/doc/numpy/reference/generated/numpy.std.html)"
   ]
  },
  {
   "cell_type": "code",
   "execution_count": 17,
   "metadata": {
    "collapsed": false
   },
   "outputs": [
    {
     "data": {
      "text/plain": [
       "3.3166247903553998"
      ]
     },
     "execution_count": 17,
     "metadata": {},
     "output_type": "execute_result"
    }
   ],
   "source": [
    "np.std(l, ddof = 1)"
   ]
  },
  {
   "cell_type": "markdown",
   "metadata": {},
   "source": [
    "Answer: ~3.32."
   ]
  },
  {
   "cell_type": "markdown",
   "metadata": {},
   "source": [
    "> ### Question 7.  Median\n",
    ">\n",
    "> Write a function to calculate the median (\"middle value\") of a list.  ([Wikipedia](https://en.wikipedia.org/wiki/Median))\n",
    ">\n",
    "> What's the median of 10, 8, 13, 9, 11, 14, 6, 4, 12, 7, and 5?"
   ]
  },
  {
   "cell_type": "code",
   "execution_count": 18,
   "metadata": {
    "collapsed": true
   },
   "outputs": [],
   "source": [
    "def median(xs):\n",
    "    n = len(xs)\n",
    "    if n == 0:\n",
    "        return None\n",
    "\n",
    "    sorted_xs = sorted(xs)\n",
    "\n",
    "    i = n / 2\n",
    "\n",
    "    if (n % 2 == 1):\n",
    "        return sorted_xs[i]\n",
    "    else:\n",
    "        return mean(sorted_xs[i - 1: i + 1])"
   ]
  },
  {
   "cell_type": "code",
   "execution_count": 19,
   "metadata": {
    "collapsed": false
   },
   "outputs": [
    {
     "data": {
      "text/plain": [
       "9"
      ]
     },
     "execution_count": 19,
     "metadata": {},
     "output_type": "execute_result"
    }
   ],
   "source": [
    "median(l)"
   ]
  },
  {
   "cell_type": "markdown",
   "metadata": {},
   "source": [
    "- Let's double check this result using `numpy.median`: (https://docs.scipy.org/doc/numpy/reference/generated/numpy.median.html)"
   ]
  },
  {
   "cell_type": "code",
   "execution_count": 20,
   "metadata": {
    "collapsed": false
   },
   "outputs": [
    {
     "data": {
      "text/plain": [
       "9.0"
      ]
     },
     "execution_count": 20,
     "metadata": {},
     "output_type": "execute_result"
    }
   ],
   "source": [
    "np.median(l)"
   ]
  },
  {
   "cell_type": "markdown",
   "metadata": {},
   "source": [
    "Answer: 9."
   ]
  },
  {
   "cell_type": "markdown",
   "metadata": {},
   "source": [
    "> ### Question 8.  Mode\n",
    ">\n",
    "> Write a function to calculate the mode (\"most frequent value\") of a list.  ([Wikipedia](https://en.wikipedia.org/wiki/Mode_(statistics)))\n",
    ">\n",
    "> What's the mode of 10, 8, 13, 9, 11, 14, 6, 4, 12, 7 and 5?  How about the mode of 8, 8, 8, 8, 8, 8, 19, 8, 8 and 8?"
   ]
  },
  {
   "cell_type": "code",
   "execution_count": 21,
   "metadata": {
    "collapsed": true
   },
   "outputs": [],
   "source": [
    "def mode(xs):\n",
    "    counts = {}\n",
    "    for x in xs:\n",
    "        if x in counts:\n",
    "            counts[x] += 1\n",
    "        else:\n",
    "            counts[x] = 1\n",
    "\n",
    "    mode_count = 2\n",
    "    mode_xs = []\n",
    "\n",
    "    for x, count in counts.iteritems(): # counts.items() in Python 3\n",
    "        if mode_count < count:\n",
    "            mode_count = count\n",
    "            mode_xs = [x]\n",
    "        elif count == mode_count:\n",
    "            mode_xs.append(x)\n",
    "\n",
    "    return mode_xs"
   ]
  },
  {
   "cell_type": "code",
   "execution_count": 22,
   "metadata": {
    "collapsed": false
   },
   "outputs": [
    {
     "data": {
      "text/plain": [
       "[]"
      ]
     },
     "execution_count": 22,
     "metadata": {},
     "output_type": "execute_result"
    }
   ],
   "source": [
    "mode(l)"
   ]
  },
  {
   "cell_type": "code",
   "execution_count": 23,
   "metadata": {
    "collapsed": false
   },
   "outputs": [
    {
     "data": {
      "text/plain": [
       "[8]"
      ]
     },
     "execution_count": 23,
     "metadata": {},
     "output_type": "execute_result"
    }
   ],
   "source": [
    "l2 = [8, 8, 8, 8, 8, 8, 19, 8, 8, 8]\n",
    "\n",
    "mode(l2)"
   ]
  },
  {
   "cell_type": "markdown",
   "metadata": {},
   "source": [
    "- Let's double check this result using `scipy.stats.mode`: (https://docs.scipy.org/doc/scipy/reference/generated/scipy.stats.mode.html)"
   ]
  },
  {
   "cell_type": "code",
   "execution_count": 24,
   "metadata": {
    "collapsed": false
   },
   "outputs": [
    {
     "data": {
      "text/plain": [
       "ModeResult(mode=array([4]), count=array([1]))"
      ]
     },
     "execution_count": 24,
     "metadata": {},
     "output_type": "execute_result"
    }
   ],
   "source": [
    "from scipy import stats\n",
    "\n",
    "stats.mode(l)"
   ]
  },
  {
   "cell_type": "code",
   "execution_count": 25,
   "metadata": {
    "collapsed": false
   },
   "outputs": [
    {
     "data": {
      "text/plain": [
       "ModeResult(mode=array([8]), count=array([9]))"
      ]
     },
     "execution_count": 25,
     "metadata": {},
     "output_type": "execute_result"
    }
   ],
   "source": [
    "stats.mode(l2)"
   ]
  },
  {
   "cell_type": "markdown",
   "metadata": {},
   "source": [
    "Answer: No mode for the first list, 8 for the second list"
   ]
  }
 ],
 "metadata": {
  "kernelspec": {
   "display_name": "Python 2",
   "language": "python",
   "name": "python2"
  },
  "language_info": {
   "codemirror_mode": {
    "name": "ipython",
    "version": 2
   },
   "file_extension": ".py",
   "mimetype": "text/x-python",
   "name": "python",
   "nbconvert_exporter": "python",
   "pygments_lexer": "ipython2",
   "version": "2.7.13"
  }
 },
 "nbformat": 4,
 "nbformat_minor": 0
}