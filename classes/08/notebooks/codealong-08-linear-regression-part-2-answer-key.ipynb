{
 "cells": [
  {
   "cell_type": "markdown",
   "metadata": {},
   "source": [
    "# DS-SF-34 | 08 | Linear Regression, Part 2 | Codealong | Answer Key"
   ]
  },
  {
   "cell_type": "code",
   "execution_count": 1,
   "metadata": {
    "collapsed": false
   },
   "outputs": [],
   "source": [
    "import os\n",
    "\n",
    "import numpy as np\n",
    "import pandas as pd\n",
    "pd.set_option('display.max_rows', 10)\n",
    "pd.set_option('display.notebook_repr_html', True)\n",
    "pd.set_option('display.max_columns', 10)\n",
    "\n",
    "import statsmodels.api as sm\n",
    "import statsmodels.formula.api as smf\n",
    "\n",
    "from sklearn import feature_selection, linear_model\n",
    "\n",
    "import matplotlib.pyplot as plt\n",
    "%matplotlib inline\n",
    "plt.style.use('ggplot')"
   ]
  },
  {
   "cell_type": "code",
   "execution_count": 2,
   "metadata": {
    "collapsed": false
   },
   "outputs": [],
   "source": [
    "df = pd.read_csv(os.path.join('..', 'datasets', 'dataset-08-zillow.csv'), index_col = 'ID')"
   ]
  },
  {
   "cell_type": "code",
   "execution_count": 3,
   "metadata": {
    "collapsed": false
   },
   "outputs": [
    {
     "data": {
      "text/html": [
       "<div>\n",
       "<table border=\"1\" class=\"dataframe\">\n",
       "  <thead>\n",
       "    <tr style=\"text-align: right;\">\n",
       "      <th></th>\n",
       "      <th>Address</th>\n",
       "      <th>DateOfSale</th>\n",
       "      <th>SalePrice</th>\n",
       "      <th>IsAStudio</th>\n",
       "      <th>Beds</th>\n",
       "      <th>Baths</th>\n",
       "      <th>Size</th>\n",
       "      <th>LotSize</th>\n",
       "      <th>BuiltInYear</th>\n",
       "    </tr>\n",
       "    <tr>\n",
       "      <th>ID</th>\n",
       "      <th></th>\n",
       "      <th></th>\n",
       "      <th></th>\n",
       "      <th></th>\n",
       "      <th></th>\n",
       "      <th></th>\n",
       "      <th></th>\n",
       "      <th></th>\n",
       "      <th></th>\n",
       "    </tr>\n",
       "  </thead>\n",
       "  <tbody>\n",
       "    <tr>\n",
       "      <th>15063471</th>\n",
       "      <td>55 Vandewater St APT 9, San Francisco, CA</td>\n",
       "      <td>12/4/15</td>\n",
       "      <td>0.710</td>\n",
       "      <td>0.0</td>\n",
       "      <td>1.0</td>\n",
       "      <td>NaN</td>\n",
       "      <td>0.550</td>\n",
       "      <td>NaN</td>\n",
       "      <td>1980.0</td>\n",
       "    </tr>\n",
       "    <tr>\n",
       "      <th>15063505</th>\n",
       "      <td>740 Francisco St, San Francisco, CA</td>\n",
       "      <td>11/30/15</td>\n",
       "      <td>2.150</td>\n",
       "      <td>0.0</td>\n",
       "      <td>NaN</td>\n",
       "      <td>2.0</td>\n",
       "      <td>1.430</td>\n",
       "      <td>2.435</td>\n",
       "      <td>1948.0</td>\n",
       "    </tr>\n",
       "    <tr>\n",
       "      <th>15063609</th>\n",
       "      <td>819 Francisco St, San Francisco, CA</td>\n",
       "      <td>11/12/15</td>\n",
       "      <td>5.600</td>\n",
       "      <td>0.0</td>\n",
       "      <td>2.0</td>\n",
       "      <td>3.5</td>\n",
       "      <td>2.040</td>\n",
       "      <td>3.920</td>\n",
       "      <td>1976.0</td>\n",
       "    </tr>\n",
       "    <tr>\n",
       "      <th>15064044</th>\n",
       "      <td>199 Chestnut St APT 5, San Francisco, CA</td>\n",
       "      <td>12/11/15</td>\n",
       "      <td>1.500</td>\n",
       "      <td>0.0</td>\n",
       "      <td>1.0</td>\n",
       "      <td>1.0</td>\n",
       "      <td>1.060</td>\n",
       "      <td>NaN</td>\n",
       "      <td>1930.0</td>\n",
       "    </tr>\n",
       "    <tr>\n",
       "      <th>15064257</th>\n",
       "      <td>111 Chestnut St APT 403, San Francisco, CA</td>\n",
       "      <td>1/15/16</td>\n",
       "      <td>0.970</td>\n",
       "      <td>0.0</td>\n",
       "      <td>2.0</td>\n",
       "      <td>2.0</td>\n",
       "      <td>1.299</td>\n",
       "      <td>NaN</td>\n",
       "      <td>1993.0</td>\n",
       "    </tr>\n",
       "    <tr>\n",
       "      <th>...</th>\n",
       "      <td>...</td>\n",
       "      <td>...</td>\n",
       "      <td>...</td>\n",
       "      <td>...</td>\n",
       "      <td>...</td>\n",
       "      <td>...</td>\n",
       "      <td>...</td>\n",
       "      <td>...</td>\n",
       "      <td>...</td>\n",
       "    </tr>\n",
       "    <tr>\n",
       "      <th>2124214951</th>\n",
       "      <td>412 Green St APT A, San Francisco, CA</td>\n",
       "      <td>1/15/16</td>\n",
       "      <td>0.390</td>\n",
       "      <td>1.0</td>\n",
       "      <td>NaN</td>\n",
       "      <td>1.0</td>\n",
       "      <td>0.264</td>\n",
       "      <td>NaN</td>\n",
       "      <td>2012.0</td>\n",
       "    </tr>\n",
       "    <tr>\n",
       "      <th>2126960082</th>\n",
       "      <td>355 1st St UNIT 1905, San Francisco, CA</td>\n",
       "      <td>11/20/15</td>\n",
       "      <td>0.860</td>\n",
       "      <td>0.0</td>\n",
       "      <td>1.0</td>\n",
       "      <td>1.0</td>\n",
       "      <td>0.691</td>\n",
       "      <td>NaN</td>\n",
       "      <td>2004.0</td>\n",
       "    </tr>\n",
       "    <tr>\n",
       "      <th>2128308939</th>\n",
       "      <td>33 Santa Cruz Ave, San Francisco, CA</td>\n",
       "      <td>12/10/15</td>\n",
       "      <td>0.830</td>\n",
       "      <td>0.0</td>\n",
       "      <td>3.0</td>\n",
       "      <td>3.0</td>\n",
       "      <td>1.738</td>\n",
       "      <td>2.299</td>\n",
       "      <td>1976.0</td>\n",
       "    </tr>\n",
       "    <tr>\n",
       "      <th>2131957929</th>\n",
       "      <td>1821 Grant Ave, San Francisco, CA</td>\n",
       "      <td>12/15/15</td>\n",
       "      <td>0.835</td>\n",
       "      <td>0.0</td>\n",
       "      <td>2.0</td>\n",
       "      <td>2.0</td>\n",
       "      <td>1.048</td>\n",
       "      <td>NaN</td>\n",
       "      <td>1975.0</td>\n",
       "    </tr>\n",
       "    <tr>\n",
       "      <th>2136213970</th>\n",
       "      <td>1200 Gough St, San Francisco, CA</td>\n",
       "      <td>1/10/16</td>\n",
       "      <td>0.825</td>\n",
       "      <td>0.0</td>\n",
       "      <td>1.0</td>\n",
       "      <td>1.0</td>\n",
       "      <td>0.900</td>\n",
       "      <td>NaN</td>\n",
       "      <td>1966.0</td>\n",
       "    </tr>\n",
       "  </tbody>\n",
       "</table>\n",
       "<p>1000 rows × 9 columns</p>\n",
       "</div>"
      ],
      "text/plain": [
       "                                               Address DateOfSale  SalePrice  \\\n",
       "ID                                                                             \n",
       "15063471     55 Vandewater St APT 9, San Francisco, CA    12/4/15      0.710   \n",
       "15063505           740 Francisco St, San Francisco, CA   11/30/15      2.150   \n",
       "15063609           819 Francisco St, San Francisco, CA   11/12/15      5.600   \n",
       "15064044      199 Chestnut St APT 5, San Francisco, CA   12/11/15      1.500   \n",
       "15064257    111 Chestnut St APT 403, San Francisco, CA    1/15/16      0.970   \n",
       "...                                                ...        ...        ...   \n",
       "2124214951       412 Green St APT A, San Francisco, CA    1/15/16      0.390   \n",
       "2126960082     355 1st St UNIT 1905, San Francisco, CA   11/20/15      0.860   \n",
       "2128308939        33 Santa Cruz Ave, San Francisco, CA   12/10/15      0.830   \n",
       "2131957929           1821 Grant Ave, San Francisco, CA   12/15/15      0.835   \n",
       "2136213970            1200 Gough St, San Francisco, CA    1/10/16      0.825   \n",
       "\n",
       "            IsAStudio  Beds  Baths   Size  LotSize  BuiltInYear  \n",
       "ID                                                               \n",
       "15063471          0.0   1.0    NaN  0.550      NaN       1980.0  \n",
       "15063505          0.0   NaN    2.0  1.430    2.435       1948.0  \n",
       "15063609          0.0   2.0    3.5  2.040    3.920       1976.0  \n",
       "15064044          0.0   1.0    1.0  1.060      NaN       1930.0  \n",
       "15064257          0.0   2.0    2.0  1.299      NaN       1993.0  \n",
       "...               ...   ...    ...    ...      ...          ...  \n",
       "2124214951        1.0   NaN    1.0  0.264      NaN       2012.0  \n",
       "2126960082        0.0   1.0    1.0  0.691      NaN       2004.0  \n",
       "2128308939        0.0   3.0    3.0  1.738    2.299       1976.0  \n",
       "2131957929        0.0   2.0    2.0  1.048      NaN       1975.0  \n",
       "2136213970        0.0   1.0    1.0  0.900      NaN       1966.0  \n",
       "\n",
       "[1000 rows x 9 columns]"
      ]
     },
     "execution_count": 3,
     "metadata": {},
     "output_type": "execute_result"
    }
   ],
   "source": [
    "df"
   ]
  },
  {
   "cell_type": "markdown",
   "metadata": {},
   "source": [
    "## Part A | Multiple Linear Regression"
   ]
  },
  {
   "cell_type": "markdown",
   "metadata": {},
   "source": [
    "### `SalePrice` as a function of `Size` and `LotSize`"
   ]
  },
  {
   "cell_type": "code",
   "execution_count": 4,
   "metadata": {
    "collapsed": false
   },
   "outputs": [
    {
     "data": {
      "text/html": [
       "<table class=\"simpletable\">\n",
       "<caption>OLS Regression Results</caption>\n",
       "<tr>\n",
       "  <th>Dep. Variable:</th>        <td>SalePrice</td>    <th>  R-squared:         </th> <td>   0.224</td>\n",
       "</tr>\n",
       "<tr>\n",
       "  <th>Model:</th>                   <td>OLS</td>       <th>  Adj. R-squared:    </th> <td>   0.221</td>\n",
       "</tr>\n",
       "<tr>\n",
       "  <th>Method:</th>             <td>Least Squares</td>  <th>  F-statistic:       </th> <td>   78.29</td>\n",
       "</tr>\n",
       "<tr>\n",
       "  <th>Date:</th>             <td></td> <th>  Prob (F-statistic):</th> <td>1.36e-30</td>\n",
       "</tr>\n",
       "<tr>\n",
       "  <th>Time:</th>                 <td></td>     <th>  Log-Likelihood:    </th> <td> -1090.0</td>\n",
       "</tr>\n",
       "<tr>\n",
       "  <th>No. Observations:</th>      <td>   545</td>      <th>  AIC:               </th> <td>   2186.</td>\n",
       "</tr>\n",
       "<tr>\n",
       "  <th>Df Residuals:</th>          <td>   542</td>      <th>  BIC:               </th> <td>   2199.</td>\n",
       "</tr>\n",
       "<tr>\n",
       "  <th>Df Model:</th>              <td>     2</td>      <th>                     </th>     <td> </td>   \n",
       "</tr>\n",
       "<tr>\n",
       "  <th>Covariance Type:</th>      <td>nonrobust</td>    <th>                     </th>     <td> </td>   \n",
       "</tr>\n",
       "</table>\n",
       "<table class=\"simpletable\">\n",
       "<tr>\n",
       "      <td></td>         <th>coef</th>     <th>std err</th>      <th>t</th>      <th>P>|t|</th> <th>[95.0% Conf. Int.]</th> \n",
       "</tr>\n",
       "<tr>\n",
       "  <th>Intercept</th> <td>   -0.1902</td> <td>    0.173</td> <td>   -1.098</td> <td> 0.273</td> <td>   -0.530     0.150</td>\n",
       "</tr>\n",
       "<tr>\n",
       "  <th>Size</th>      <td>    0.8171</td> <td>    0.069</td> <td>   11.907</td> <td> 0.000</td> <td>    0.682     0.952</td>\n",
       "</tr>\n",
       "<tr>\n",
       "  <th>LotSize</th>   <td>    0.0500</td> <td>    0.037</td> <td>    1.362</td> <td> 0.174</td> <td>   -0.022     0.122</td>\n",
       "</tr>\n",
       "</table>\n",
       "<table class=\"simpletable\">\n",
       "<tr>\n",
       "  <th>Omnibus:</th>       <td>974.589</td> <th>  Durbin-Watson:     </th>  <td>   1.648</td> \n",
       "</tr>\n",
       "<tr>\n",
       "  <th>Prob(Omnibus):</th> <td> 0.000</td>  <th>  Jarque-Bera (JB):  </th> <td>812622.772</td>\n",
       "</tr>\n",
       "<tr>\n",
       "  <th>Skew:</th>          <td>11.225</td>  <th>  Prob(JB):          </th>  <td>    0.00</td> \n",
       "</tr>\n",
       "<tr>\n",
       "  <th>Kurtosis:</th>      <td>190.833</td> <th>  Cond. No.          </th>  <td>    9.81</td> \n",
       "</tr>\n",
       "</table>"
      ],
      "text/plain": [
       "<class 'statsmodels.iolib.summary.Summary'>\n",
       "\"\"\"\n",
       "                            OLS Regression Results                            \n",
       "==============================================================================\n",
       "Dep. Variable:              SalePrice   R-squared:                       0.224\n",
       "Model:                            OLS   Adj. R-squared:                  0.221\n",
       "Method:                 Least Squares   F-statistic:                     78.29\n",
       "Date:                                   Prob (F-statistic):           1.36e-30\n",
       "Time:                                   Log-Likelihood:                -1090.0\n",
       "No. Observations:                 545   AIC:                             2186.\n",
       "Df Residuals:                     542   BIC:                             2199.\n",
       "Df Model:                           2                                         \n",
       "Covariance Type:            nonrobust                                         \n",
       "==============================================================================\n",
       "                 coef    std err          t      P>|t|      [95.0% Conf. Int.]\n",
       "------------------------------------------------------------------------------\n",
       "Intercept     -0.1902      0.173     -1.098      0.273        -0.530     0.150\n",
       "Size           0.8171      0.069     11.907      0.000         0.682     0.952\n",
       "LotSize        0.0500      0.037      1.362      0.174        -0.022     0.122\n",
       "==============================================================================\n",
       "Omnibus:                      974.589   Durbin-Watson:                   1.648\n",
       "Prob(Omnibus):                  0.000   Jarque-Bera (JB):           812622.772\n",
       "Skew:                          11.225   Prob(JB):                         0.00\n",
       "Kurtosis:                     190.833   Cond. No.                         9.81\n",
       "==============================================================================\n",
       "\n",
       "Warnings:\n",
       "[1] Standard Errors assume that the covariance matrix of the errors is correctly specified.\n",
       "\"\"\""
      ]
     },
     "execution_count": 4,
     "metadata": {},
     "output_type": "execute_result"
    }
   ],
   "source": [
    "smf.ols(formula = 'SalePrice ~ Size + LotSize', data = df).fit().summary()"
   ]
  },
  {
   "cell_type": "markdown",
   "metadata": {},
   "source": [
    "> ### Activity | Comment on the significance of each feature"
   ]
  },
  {
   "cell_type": "markdown",
   "metadata": {},
   "source": [
    "Answer:\n",
    "- `Intercept` and `LotSize` aren't significant (at the 5% significance level): $|t| < 2$; equivalently, $p-value > 5%$ or $0$ is in the 95% confidence interval.\n",
    "- `Size` on the other end is significant: $|t| \\ge 2$; equivalently, $p-value \\le 5%$ or $0$ isn't in the 95% confidence interval."
   ]
  },
  {
   "cell_type": "markdown",
   "metadata": {},
   "source": [
    "### `SalePrice` as a function of `Size` and `Beds`"
   ]
  },
  {
   "cell_type": "code",
   "execution_count": 5,
   "metadata": {
    "collapsed": false
   },
   "outputs": [
    {
     "data": {
      "text/html": [
       "<table class=\"simpletable\">\n",
       "<caption>OLS Regression Results</caption>\n",
       "<tr>\n",
       "  <th>Dep. Variable:</th>        <td>SalePrice</td>    <th>  R-squared:         </th> <td>   0.554</td> \n",
       "</tr>\n",
       "<tr>\n",
       "  <th>Model:</th>                   <td>OLS</td>       <th>  Adj. R-squared:    </th> <td>   0.553</td> \n",
       "</tr>\n",
       "<tr>\n",
       "  <th>Method:</th>             <td>Least Squares</td>  <th>  F-statistic:       </th> <td>   506.9</td> \n",
       "</tr>\n",
       "<tr>\n",
       "  <th>Date:</th>             <td></td> <th>  Prob (F-statistic):</th> <td>8.01e-144</td>\n",
       "</tr>\n",
       "<tr>\n",
       "  <th>Time:</th>                 <td></td>     <th>  Log-Likelihood:    </th> <td> -1026.2</td> \n",
       "</tr>\n",
       "<tr>\n",
       "  <th>No. Observations:</th>      <td>   819</td>      <th>  AIC:               </th> <td>   2058.</td> \n",
       "</tr>\n",
       "<tr>\n",
       "  <th>Df Residuals:</th>          <td>   816</td>      <th>  BIC:               </th> <td>   2073.</td> \n",
       "</tr>\n",
       "<tr>\n",
       "  <th>Df Model:</th>              <td>     2</td>      <th>                     </th>     <td> </td>    \n",
       "</tr>\n",
       "<tr>\n",
       "  <th>Covariance Type:</th>      <td>nonrobust</td>    <th>                     </th>     <td> </td>    \n",
       "</tr>\n",
       "</table>\n",
       "<table class=\"simpletable\">\n",
       "<tr>\n",
       "      <td></td>         <th>coef</th>     <th>std err</th>      <th>t</th>      <th>P>|t|</th> <th>[95.0% Conf. Int.]</th> \n",
       "</tr>\n",
       "<tr>\n",
       "  <th>Intercept</th> <td>    0.1968</td> <td>    0.068</td> <td>    2.883</td> <td> 0.004</td> <td>    0.063     0.331</td>\n",
       "</tr>\n",
       "<tr>\n",
       "  <th>Size</th>      <td>    1.2470</td> <td>    0.045</td> <td>   27.531</td> <td> 0.000</td> <td>    1.158     1.336</td>\n",
       "</tr>\n",
       "<tr>\n",
       "  <th>Beds</th>      <td>   -0.3022</td> <td>    0.034</td> <td>   -8.839</td> <td> 0.000</td> <td>   -0.369    -0.235</td>\n",
       "</tr>\n",
       "</table>\n",
       "<table class=\"simpletable\">\n",
       "<tr>\n",
       "  <th>Omnibus:</th>       <td>626.095</td> <th>  Durbin-Watson:     </th> <td>   1.584</td> \n",
       "</tr>\n",
       "<tr>\n",
       "  <th>Prob(Omnibus):</th> <td> 0.000</td>  <th>  Jarque-Bera (JB):  </th> <td>34896.976</td>\n",
       "</tr>\n",
       "<tr>\n",
       "  <th>Skew:</th>          <td> 2.908</td>  <th>  Prob(JB):          </th> <td>    0.00</td> \n",
       "</tr>\n",
       "<tr>\n",
       "  <th>Kurtosis:</th>      <td>34.445</td>  <th>  Cond. No.          </th> <td>    8.35</td> \n",
       "</tr>\n",
       "</table>"
      ],
      "text/plain": [
       "<class 'statsmodels.iolib.summary.Summary'>\n",
       "\"\"\"\n",
       "                            OLS Regression Results                            \n",
       "==============================================================================\n",
       "Dep. Variable:              SalePrice   R-squared:                       0.554\n",
       "Model:                            OLS   Adj. R-squared:                  0.553\n",
       "Method:                 Least Squares   F-statistic:                     506.9\n",
       "Date:                                   Prob (F-statistic):          8.01e-144\n",
       "Time:                                   Log-Likelihood:                -1026.2\n",
       "No. Observations:                 819   AIC:                             2058.\n",
       "Df Residuals:                     816   BIC:                             2073.\n",
       "Df Model:                           2                                         \n",
       "Covariance Type:            nonrobust                                         \n",
       "==============================================================================\n",
       "                 coef    std err          t      P>|t|      [95.0% Conf. Int.]\n",
       "------------------------------------------------------------------------------\n",
       "Intercept      0.1968      0.068      2.883      0.004         0.063     0.331\n",
       "Size           1.2470      0.045     27.531      0.000         1.158     1.336\n",
       "Beds          -0.3022      0.034     -8.839      0.000        -0.369    -0.235\n",
       "==============================================================================\n",
       "Omnibus:                      626.095   Durbin-Watson:                   1.584\n",
       "Prob(Omnibus):                  0.000   Jarque-Bera (JB):            34896.976\n",
       "Skew:                           2.908   Prob(JB):                         0.00\n",
       "Kurtosis:                      34.445   Cond. No.                         8.35\n",
       "==============================================================================\n",
       "\n",
       "Warnings:\n",
       "[1] Standard Errors assume that the covariance matrix of the errors is correctly specified.\n",
       "\"\"\""
      ]
     },
     "execution_count": 5,
     "metadata": {},
     "output_type": "execute_result"
    }
   ],
   "source": [
    "smf.ols(formula = 'SalePrice ~ Size + Beds', data = df).fit().summary()"
   ]
  },
  {
   "cell_type": "markdown",
   "metadata": {},
   "source": [
    "> ### Activity | Comment on each feature significance"
   ]
  },
  {
   "cell_type": "markdown",
   "metadata": {},
   "source": [
    "Answer: All features are now significant."
   ]
  },
  {
   "cell_type": "markdown",
   "metadata": {},
   "source": [
    "> ### Activity | Look at the coefficient for `Beds`.  How do you interpret it?  What happened?"
   ]
  },
  {
   "cell_type": "markdown",
   "metadata": {},
   "source": [
    "Answer:\n",
    "- How do you interpret it? Take a home and add one bedroom while keeping everything else the same.  Its value has just decreased by $302k.\n",
    "- What happened? Look at the high correlation between both features and check the next section."
   ]
  },
  {
   "cell_type": "code",
   "execution_count": 6,
   "metadata": {
    "collapsed": false
   },
   "outputs": [
    {
     "data": {
      "text/html": [
       "<div>\n",
       "<table border=\"1\" class=\"dataframe\">\n",
       "  <thead>\n",
       "    <tr style=\"text-align: right;\">\n",
       "      <th></th>\n",
       "      <th>Size</th>\n",
       "      <th>Beds</th>\n",
       "    </tr>\n",
       "  </thead>\n",
       "  <tbody>\n",
       "    <tr>\n",
       "      <th>Size</th>\n",
       "      <td>1.000000</td>\n",
       "      <td>0.722656</td>\n",
       "    </tr>\n",
       "    <tr>\n",
       "      <th>Beds</th>\n",
       "      <td>0.722656</td>\n",
       "      <td>1.000000</td>\n",
       "    </tr>\n",
       "  </tbody>\n",
       "</table>\n",
       "</div>"
      ],
      "text/plain": [
       "          Size      Beds\n",
       "Size  1.000000  0.722656\n",
       "Beds  0.722656  1.000000"
      ]
     },
     "execution_count": 6,
     "metadata": {},
     "output_type": "execute_result"
    }
   ],
   "source": [
    "df[ ['Size', 'Beds'] ].corr()"
   ]
  },
  {
   "cell_type": "markdown",
   "metadata": {},
   "source": [
    "## Part B | Multicollinearity"
   ]
  },
  {
   "cell_type": "markdown",
   "metadata": {},
   "source": [
    "### `SalePrice ~ Size` (reference)"
   ]
  },
  {
   "cell_type": "code",
   "execution_count": 7,
   "metadata": {
    "collapsed": false
   },
   "outputs": [
    {
     "name": "stdout",
     "output_type": "stream",
     "text": [
      "Size:\n",
      "\t- coefficient = 0.749728092164\n",
      "\t- std error = 0.043473144727\n",
      "\t- t-value = 17.2457754522\n",
      "\t- p-value = 2.66769723576e-58\n",
      "\t- 95% confidence interval = [0.664415291756, 0.835040892573]\n"
     ]
    }
   ],
   "source": [
    "model = smf.ols(formula = 'SalePrice ~ Size', data = df).fit()\n",
    "\n",
    "print 'Size:'\n",
    "print \"\\t- coefficient =\", model.params.Size\n",
    "print \"\\t- std error =\", model.bse.Size\n",
    "print \"\\t- t-value =\", model.tvalues.Size\n",
    "print \"\\t- p-value =\", model.pvalues.Size\n",
    "\n",
    "confidence_interval = model.conf_int().loc['Size']\n",
    "\n",
    "print \"\\t- 95% confidence interval = [{}, {}]\".format(confidence_interval[0], confidence_interval[1])"
   ]
  },
  {
   "cell_type": "markdown",
   "metadata": {},
   "source": [
    "### `SalePrice ~ Size + \"same exact\" Size`"
   ]
  },
  {
   "cell_type": "code",
   "execution_count": 8,
   "metadata": {
    "collapsed": false
   },
   "outputs": [],
   "source": [
    "df['Size_2'] = df.Size"
   ]
  },
  {
   "cell_type": "code",
   "execution_count": 9,
   "metadata": {
    "collapsed": false
   },
   "outputs": [
    {
     "data": {
      "text/html": [
       "<div>\n",
       "<table border=\"1\" class=\"dataframe\">\n",
       "  <thead>\n",
       "    <tr style=\"text-align: right;\">\n",
       "      <th></th>\n",
       "      <th>Size</th>\n",
       "      <th>Size_2</th>\n",
       "    </tr>\n",
       "  </thead>\n",
       "  <tbody>\n",
       "    <tr>\n",
       "      <th>Size</th>\n",
       "      <td>1.0</td>\n",
       "      <td>1.0</td>\n",
       "    </tr>\n",
       "    <tr>\n",
       "      <th>Size_2</th>\n",
       "      <td>1.0</td>\n",
       "      <td>1.0</td>\n",
       "    </tr>\n",
       "  </tbody>\n",
       "</table>\n",
       "</div>"
      ],
      "text/plain": [
       "        Size  Size_2\n",
       "Size     1.0     1.0\n",
       "Size_2   1.0     1.0"
      ]
     },
     "execution_count": 9,
     "metadata": {},
     "output_type": "execute_result"
    }
   ],
   "source": [
    "df[ ['Size', 'Size_2'] ].corr()"
   ]
  },
  {
   "cell_type": "code",
   "execution_count": 10,
   "metadata": {
    "collapsed": false
   },
   "outputs": [
    {
     "data": {
      "text/html": [
       "<table class=\"simpletable\">\n",
       "<caption>OLS Regression Results</caption>\n",
       "<tr>\n",
       "  <th>Dep. Variable:</th>        <td>SalePrice</td>    <th>  R-squared:         </th> <td>   0.236</td>\n",
       "</tr>\n",
       "<tr>\n",
       "  <th>Model:</th>                   <td>OLS</td>       <th>  Adj. R-squared:    </th> <td>   0.235</td>\n",
       "</tr>\n",
       "<tr>\n",
       "  <th>Method:</th>             <td>Least Squares</td>  <th>  F-statistic:       </th> <td>   297.4</td>\n",
       "</tr>\n",
       "<tr>\n",
       "  <th>Date:</th>             <td></td> <th>  Prob (F-statistic):</th> <td>2.67e-58</td>\n",
       "</tr>\n",
       "<tr>\n",
       "  <th>Time:</th>                 <td></td>     <th>  Log-Likelihood:    </th> <td> -1687.9</td>\n",
       "</tr>\n",
       "<tr>\n",
       "  <th>No. Observations:</th>      <td>   967</td>      <th>  AIC:               </th> <td>   3380.</td>\n",
       "</tr>\n",
       "<tr>\n",
       "  <th>Df Residuals:</th>          <td>   965</td>      <th>  BIC:               </th> <td>   3390.</td>\n",
       "</tr>\n",
       "<tr>\n",
       "  <th>Df Model:</th>              <td>     1</td>      <th>                     </th>     <td> </td>   \n",
       "</tr>\n",
       "<tr>\n",
       "  <th>Covariance Type:</th>      <td>nonrobust</td>    <th>                     </th>     <td> </td>   \n",
       "</tr>\n",
       "</table>\n",
       "<table class=\"simpletable\">\n",
       "<tr>\n",
       "      <td></td>         <th>coef</th>     <th>std err</th>      <th>t</th>      <th>P>|t|</th> <th>[95.0% Conf. Int.]</th> \n",
       "</tr>\n",
       "<tr>\n",
       "  <th>Intercept</th> <td>    0.1551</td> <td>    0.084</td> <td>    1.842</td> <td> 0.066</td> <td>   -0.010     0.320</td>\n",
       "</tr>\n",
       "<tr>\n",
       "  <th>Size</th>      <td>    0.3749</td> <td>    0.022</td> <td>   17.246</td> <td> 0.000</td> <td>    0.332     0.418</td>\n",
       "</tr>\n",
       "<tr>\n",
       "  <th>Size_2</th>    <td>    0.3749</td> <td>    0.022</td> <td>   17.246</td> <td> 0.000</td> <td>    0.332     0.418</td>\n",
       "</tr>\n",
       "</table>\n",
       "<table class=\"simpletable\">\n",
       "<tr>\n",
       "  <th>Omnibus:</th>       <td>1842.865</td> <th>  Durbin-Watson:     </th>  <td>   1.704</td>  \n",
       "</tr>\n",
       "<tr>\n",
       "  <th>Prob(Omnibus):</th>  <td> 0.000</td>  <th>  Jarque-Bera (JB):  </th> <td>3398350.943</td>\n",
       "</tr>\n",
       "<tr>\n",
       "  <th>Skew:</th>           <td>13.502</td>  <th>  Prob(JB):          </th>  <td>    0.00</td>  \n",
       "</tr>\n",
       "<tr>\n",
       "  <th>Kurtosis:</th>       <td>292.162</td> <th>  Cond. No.          </th>  <td>7.50e+16</td>  \n",
       "</tr>\n",
       "</table>"
      ],
      "text/plain": [
       "<class 'statsmodels.iolib.summary.Summary'>\n",
       "\"\"\"\n",
       "                            OLS Regression Results                            \n",
       "==============================================================================\n",
       "Dep. Variable:              SalePrice   R-squared:                       0.236\n",
       "Model:                            OLS   Adj. R-squared:                  0.235\n",
       "Method:                 Least Squares   F-statistic:                     297.4\n",
       "Date:                                   Prob (F-statistic):           2.67e-58\n",
       "Time:                                   Log-Likelihood:                -1687.9\n",
       "No. Observations:                 967   AIC:                             3380.\n",
       "Df Residuals:                     965   BIC:                             3390.\n",
       "Df Model:                           1                                         \n",
       "Covariance Type:            nonrobust                                         \n",
       "==============================================================================\n",
       "                 coef    std err          t      P>|t|      [95.0% Conf. Int.]\n",
       "------------------------------------------------------------------------------\n",
       "Intercept      0.1551      0.084      1.842      0.066        -0.010     0.320\n",
       "Size           0.3749      0.022     17.246      0.000         0.332     0.418\n",
       "Size_2         0.3749      0.022     17.246      0.000         0.332     0.418\n",
       "==============================================================================\n",
       "Omnibus:                     1842.865   Durbin-Watson:                   1.704\n",
       "Prob(Omnibus):                  0.000   Jarque-Bera (JB):          3398350.943\n",
       "Skew:                          13.502   Prob(JB):                         0.00\n",
       "Kurtosis:                     292.162   Cond. No.                     7.50e+16\n",
       "==============================================================================\n",
       "\n",
       "Warnings:\n",
       "[1] Standard Errors assume that the covariance matrix of the errors is correctly specified.\n",
       "[2] The smallest eigenvalue is 1.41e-30. This might indicate that there are\n",
       "strong multicollinearity problems or that the design matrix is singular.\n",
       "\"\"\""
      ]
     },
     "execution_count": 10,
     "metadata": {},
     "output_type": "execute_result"
    }
   ],
   "source": [
    "model = smf.ols(formula = 'SalePrice ~ Size + Size_2', data = df).fit()\n",
    "\n",
    "model.summary()"
   ]
  },
  {
   "cell_type": "code",
   "execution_count": 11,
   "metadata": {
    "collapsed": false
   },
   "outputs": [
    {
     "name": "stdout",
     "output_type": "stream",
     "text": [
      "0.749728092164\n",
      "0.043473144727\n"
     ]
    }
   ],
   "source": [
    "print model.params[ ['Size', 'Size_2'] ].sum()\n",
    "print model.bse[ ['Size', 'Size_2'] ].sum()"
   ]
  },
  {
   "cell_type": "markdown",
   "metadata": {},
   "source": [
    "> The coefficient's weight and standard error of the original `Size` feature has now been divided equally between both `Size*` features, but their significance is unchanged (same `t-` and `p-values`)"
   ]
  },
  {
   "cell_type": "code",
   "execution_count": 12,
   "metadata": {
    "collapsed": false
   },
   "outputs": [],
   "source": [
    "# Seed for the pseudo-random number generator so as to reproduce the the results below\n",
    "np.random.seed(1)\n",
    "\n",
    "df['Noise'] = np.random.random(df.shape[0])\n",
    "\n",
    "df.Size_2 = df.Size * (1. + .01 * df.Noise)"
   ]
  },
  {
   "cell_type": "code",
   "execution_count": 13,
   "metadata": {
    "collapsed": false
   },
   "outputs": [
    {
     "data": {
      "text/html": [
       "<div>\n",
       "<table border=\"1\" class=\"dataframe\">\n",
       "  <thead>\n",
       "    <tr style=\"text-align: right;\">\n",
       "      <th></th>\n",
       "      <th>Size</th>\n",
       "      <th>Size_2</th>\n",
       "    </tr>\n",
       "  </thead>\n",
       "  <tbody>\n",
       "    <tr>\n",
       "      <th>Size</th>\n",
       "      <td>1.000000</td>\n",
       "      <td>0.999985</td>\n",
       "    </tr>\n",
       "    <tr>\n",
       "      <th>Size_2</th>\n",
       "      <td>0.999985</td>\n",
       "      <td>1.000000</td>\n",
       "    </tr>\n",
       "  </tbody>\n",
       "</table>\n",
       "</div>"
      ],
      "text/plain": [
       "            Size    Size_2\n",
       "Size    1.000000  0.999985\n",
       "Size_2  0.999985  1.000000"
      ]
     },
     "execution_count": 13,
     "metadata": {},
     "output_type": "execute_result"
    }
   ],
   "source": [
    "df[ ['Size', 'Size_2'] ].corr()"
   ]
  },
  {
   "cell_type": "code",
   "execution_count": 14,
   "metadata": {
    "collapsed": false
   },
   "outputs": [
    {
     "data": {
      "text/html": [
       "<table class=\"simpletable\">\n",
       "<caption>OLS Regression Results</caption>\n",
       "<tr>\n",
       "  <th>Dep. Variable:</th>        <td>SalePrice</td>    <th>  R-squared:         </th> <td>   0.236</td>\n",
       "</tr>\n",
       "<tr>\n",
       "  <th>Model:</th>                   <td>OLS</td>       <th>  Adj. R-squared:    </th> <td>   0.234</td>\n",
       "</tr>\n",
       "<tr>\n",
       "  <th>Method:</th>             <td>Least Squares</td>  <th>  F-statistic:       </th> <td>   148.7</td>\n",
       "</tr>\n",
       "<tr>\n",
       "  <th>Date:</th>             <td></td> <th>  Prob (F-statistic):</th> <td>5.37e-57</td>\n",
       "</tr>\n",
       "<tr>\n",
       "  <th>Time:</th>                 <td></td>     <th>  Log-Likelihood:    </th> <td> -1687.9</td>\n",
       "</tr>\n",
       "<tr>\n",
       "  <th>No. Observations:</th>      <td>   967</td>      <th>  AIC:               </th> <td>   3382.</td>\n",
       "</tr>\n",
       "<tr>\n",
       "  <th>Df Residuals:</th>          <td>   964</td>      <th>  BIC:               </th> <td>   3396.</td>\n",
       "</tr>\n",
       "<tr>\n",
       "  <th>Df Model:</th>              <td>     2</td>      <th>                     </th>     <td> </td>   \n",
       "</tr>\n",
       "<tr>\n",
       "  <th>Covariance Type:</th>      <td>nonrobust</td>    <th>                     </th>     <td> </td>   \n",
       "</tr>\n",
       "</table>\n",
       "<table class=\"simpletable\">\n",
       "<tr>\n",
       "      <td></td>         <th>coef</th>     <th>std err</th>      <th>t</th>      <th>P>|t|</th> <th>[95.0% Conf. Int.]</th> \n",
       "</tr>\n",
       "<tr>\n",
       "  <th>Intercept</th> <td>    0.1603</td> <td>    0.085</td> <td>    1.880</td> <td> 0.060</td> <td>   -0.007     0.328</td>\n",
       "</tr>\n",
       "<tr>\n",
       "  <th>Size</th>      <td>    3.8032</td> <td>    7.852</td> <td>    0.484</td> <td> 0.628</td> <td>  -11.606    19.212</td>\n",
       "</tr>\n",
       "<tr>\n",
       "  <th>Size_2</th>    <td>   -3.0415</td> <td>    7.821</td> <td>   -0.389</td> <td> 0.697</td> <td>  -18.390    12.307</td>\n",
       "</tr>\n",
       "</table>\n",
       "<table class=\"simpletable\">\n",
       "<tr>\n",
       "  <th>Omnibus:</th>       <td>1843.443</td> <th>  Durbin-Watson:     </th>  <td>   1.703</td>  \n",
       "</tr>\n",
       "<tr>\n",
       "  <th>Prob(Omnibus):</th>  <td> 0.000</td>  <th>  Jarque-Bera (JB):  </th> <td>3405805.718</td>\n",
       "</tr>\n",
       "<tr>\n",
       "  <th>Skew:</th>           <td>13.511</td>  <th>  Prob(JB):          </th>  <td>    0.00</td>  \n",
       "</tr>\n",
       "<tr>\n",
       "  <th>Kurtosis:</th>       <td>292.480</td> <th>  Cond. No.          </th>  <td>    714.</td>  \n",
       "</tr>\n",
       "</table>"
      ],
      "text/plain": [
       "<class 'statsmodels.iolib.summary.Summary'>\n",
       "\"\"\"\n",
       "                            OLS Regression Results                            \n",
       "==============================================================================\n",
       "Dep. Variable:              SalePrice   R-squared:                       0.236\n",
       "Model:                            OLS   Adj. R-squared:                  0.234\n",
       "Method:                 Least Squares   F-statistic:                     148.7\n",
       "Date:                                   Prob (F-statistic):           5.37e-57\n",
       "Time:                                   Log-Likelihood:                -1687.9\n",
       "No. Observations:                 967   AIC:                             3382.\n",
       "Df Residuals:                     964   BIC:                             3396.\n",
       "Df Model:                           2                                         \n",
       "Covariance Type:            nonrobust                                         \n",
       "==============================================================================\n",
       "                 coef    std err          t      P>|t|      [95.0% Conf. Int.]\n",
       "------------------------------------------------------------------------------\n",
       "Intercept      0.1603      0.085      1.880      0.060        -0.007     0.328\n",
       "Size           3.8032      7.852      0.484      0.628       -11.606    19.212\n",
       "Size_2        -3.0415      7.821     -0.389      0.697       -18.390    12.307\n",
       "==============================================================================\n",
       "Omnibus:                     1843.443   Durbin-Watson:                   1.703\n",
       "Prob(Omnibus):                  0.000   Jarque-Bera (JB):          3405805.718\n",
       "Skew:                          13.511   Prob(JB):                         0.00\n",
       "Kurtosis:                     292.480   Cond. No.                         714.\n",
       "==============================================================================\n",
       "\n",
       "Warnings:\n",
       "[1] Standard Errors assume that the covariance matrix of the errors is correctly specified.\n",
       "\"\"\""
      ]
     },
     "execution_count": 14,
     "metadata": {},
     "output_type": "execute_result"
    }
   ],
   "source": [
    "smf.ols(formula = 'SalePrice ~ Size + Size_2', data = df).fit().summary()"
   ]
  },
  {
   "cell_type": "markdown",
   "metadata": {},
   "source": [
    "> #### Activity | What happened?"
   ]
  },
  {
   "cell_type": "markdown",
   "metadata": {},
   "source": [
    "Answer:\n",
    "- The `Size*` coefficients no longer add up to the value of original `Size` feature.  Moreover, these coefficients are no longer significant.\n",
    "- `Size`'s signal is now split into multiple variables and now compete against each other for the linear regression modeling.  As the number of correlated variables increase, `statsmodels` recognize less significance in each.  With enough variables, each variable becomes non significant as the signal is piece-mealed in too many parts."
   ]
  },
  {
   "cell_type": "markdown",
   "metadata": {},
   "source": [
    "## Part C | Feature Engineering"
   ]
  },
  {
   "cell_type": "markdown",
   "metadata": {},
   "source": [
    "> #### Activity | Create new variables `SizeLog` and `LotSizeLog` that represent the log of `Size` and `LotSize`.  Repeat using square root, cube root, square, and cube"
   ]
  },
  {
   "cell_type": "code",
   "execution_count": 15,
   "metadata": {
    "collapsed": false
   },
   "outputs": [],
   "source": [
    "df[ ['SizeLog', 'LotSizeLog'] ] = df[ ['Size', 'LotSize'] ].apply(np.log10)\n",
    "df[ ['SizeSqrt', 'LotSizeSqrt'] ] = df[ ['Size', 'LotSize'] ].apply(np.sqrt)\n",
    "df[ ['SizeCbrt', 'LotSizeCbrt'] ] = df[ ['Size', 'LotSize'] ].apply(np.cbrt)\n",
    "df[ ['SizeSquare', 'LotSizeSquare'] ] = df[ ['Size', 'LotSize'] ].apply(np.square)\n",
    "df[ ['SizeCube', 'LotSizeCube'] ] = df[ ['Size', 'LotSize'] ].apply(lambda x: np.power(x, 3))"
   ]
  },
  {
   "cell_type": "code",
   "execution_count": 16,
   "metadata": {
    "collapsed": false
   },
   "outputs": [
    {
     "data": {
      "text/html": [
       "<div>\n",
       "<table border=\"1\" class=\"dataframe\">\n",
       "  <thead>\n",
       "    <tr style=\"text-align: right;\">\n",
       "      <th></th>\n",
       "      <th>Address</th>\n",
       "      <th>DateOfSale</th>\n",
       "      <th>SalePrice</th>\n",
       "      <th>IsAStudio</th>\n",
       "      <th>Beds</th>\n",
       "      <th>...</th>\n",
       "      <th>LotSizeCbrt</th>\n",
       "      <th>SizeSquare</th>\n",
       "      <th>LotSizeSquare</th>\n",
       "      <th>SizeCube</th>\n",
       "      <th>LotSizeCube</th>\n",
       "    </tr>\n",
       "    <tr>\n",
       "      <th>ID</th>\n",
       "      <th></th>\n",
       "      <th></th>\n",
       "      <th></th>\n",
       "      <th></th>\n",
       "      <th></th>\n",
       "      <th></th>\n",
       "      <th></th>\n",
       "      <th></th>\n",
       "      <th></th>\n",
       "      <th></th>\n",
       "      <th></th>\n",
       "    </tr>\n",
       "  </thead>\n",
       "  <tbody>\n",
       "    <tr>\n",
       "      <th>15063471</th>\n",
       "      <td>55 Vandewater St APT 9, San Francisco, CA</td>\n",
       "      <td>12/4/15</td>\n",
       "      <td>0.710</td>\n",
       "      <td>0.0</td>\n",
       "      <td>1.0</td>\n",
       "      <td>...</td>\n",
       "      <td>NaN</td>\n",
       "      <td>0.302500</td>\n",
       "      <td>NaN</td>\n",
       "      <td>0.166375</td>\n",
       "      <td>NaN</td>\n",
       "    </tr>\n",
       "    <tr>\n",
       "      <th>15063505</th>\n",
       "      <td>740 Francisco St, San Francisco, CA</td>\n",
       "      <td>11/30/15</td>\n",
       "      <td>2.150</td>\n",
       "      <td>0.0</td>\n",
       "      <td>NaN</td>\n",
       "      <td>...</td>\n",
       "      <td>1.345343</td>\n",
       "      <td>2.044900</td>\n",
       "      <td>5.929225</td>\n",
       "      <td>2.924207</td>\n",
       "      <td>14.437663</td>\n",
       "    </tr>\n",
       "    <tr>\n",
       "      <th>15063609</th>\n",
       "      <td>819 Francisco St, San Francisco, CA</td>\n",
       "      <td>11/12/15</td>\n",
       "      <td>5.600</td>\n",
       "      <td>0.0</td>\n",
       "      <td>2.0</td>\n",
       "      <td>...</td>\n",
       "      <td>1.576747</td>\n",
       "      <td>4.161600</td>\n",
       "      <td>15.366400</td>\n",
       "      <td>8.489664</td>\n",
       "      <td>60.236288</td>\n",
       "    </tr>\n",
       "    <tr>\n",
       "      <th>15064044</th>\n",
       "      <td>199 Chestnut St APT 5, San Francisco, CA</td>\n",
       "      <td>12/11/15</td>\n",
       "      <td>1.500</td>\n",
       "      <td>0.0</td>\n",
       "      <td>1.0</td>\n",
       "      <td>...</td>\n",
       "      <td>NaN</td>\n",
       "      <td>1.123600</td>\n",
       "      <td>NaN</td>\n",
       "      <td>1.191016</td>\n",
       "      <td>NaN</td>\n",
       "    </tr>\n",
       "    <tr>\n",
       "      <th>15064257</th>\n",
       "      <td>111 Chestnut St APT 403, San Francisco, CA</td>\n",
       "      <td>1/15/16</td>\n",
       "      <td>0.970</td>\n",
       "      <td>0.0</td>\n",
       "      <td>2.0</td>\n",
       "      <td>...</td>\n",
       "      <td>NaN</td>\n",
       "      <td>1.687401</td>\n",
       "      <td>NaN</td>\n",
       "      <td>2.191934</td>\n",
       "      <td>NaN</td>\n",
       "    </tr>\n",
       "    <tr>\n",
       "      <th>...</th>\n",
       "      <td>...</td>\n",
       "      <td>...</td>\n",
       "      <td>...</td>\n",
       "      <td>...</td>\n",
       "      <td>...</td>\n",
       "      <td>...</td>\n",
       "      <td>...</td>\n",
       "      <td>...</td>\n",
       "      <td>...</td>\n",
       "      <td>...</td>\n",
       "      <td>...</td>\n",
       "    </tr>\n",
       "    <tr>\n",
       "      <th>2124214951</th>\n",
       "      <td>412 Green St APT A, San Francisco, CA</td>\n",
       "      <td>1/15/16</td>\n",
       "      <td>0.390</td>\n",
       "      <td>1.0</td>\n",
       "      <td>NaN</td>\n",
       "      <td>...</td>\n",
       "      <td>NaN</td>\n",
       "      <td>0.069696</td>\n",
       "      <td>NaN</td>\n",
       "      <td>0.018400</td>\n",
       "      <td>NaN</td>\n",
       "    </tr>\n",
       "    <tr>\n",
       "      <th>2126960082</th>\n",
       "      <td>355 1st St UNIT 1905, San Francisco, CA</td>\n",
       "      <td>11/20/15</td>\n",
       "      <td>0.860</td>\n",
       "      <td>0.0</td>\n",
       "      <td>1.0</td>\n",
       "      <td>...</td>\n",
       "      <td>NaN</td>\n",
       "      <td>0.477481</td>\n",
       "      <td>NaN</td>\n",
       "      <td>0.329939</td>\n",
       "      <td>NaN</td>\n",
       "    </tr>\n",
       "    <tr>\n",
       "      <th>2128308939</th>\n",
       "      <td>33 Santa Cruz Ave, San Francisco, CA</td>\n",
       "      <td>12/10/15</td>\n",
       "      <td>0.830</td>\n",
       "      <td>0.0</td>\n",
       "      <td>3.0</td>\n",
       "      <td>...</td>\n",
       "      <td>1.319815</td>\n",
       "      <td>3.020644</td>\n",
       "      <td>5.285401</td>\n",
       "      <td>5.249879</td>\n",
       "      <td>12.151137</td>\n",
       "    </tr>\n",
       "    <tr>\n",
       "      <th>2131957929</th>\n",
       "      <td>1821 Grant Ave, San Francisco, CA</td>\n",
       "      <td>12/15/15</td>\n",
       "      <td>0.835</td>\n",
       "      <td>0.0</td>\n",
       "      <td>2.0</td>\n",
       "      <td>...</td>\n",
       "      <td>NaN</td>\n",
       "      <td>1.098304</td>\n",
       "      <td>NaN</td>\n",
       "      <td>1.151023</td>\n",
       "      <td>NaN</td>\n",
       "    </tr>\n",
       "    <tr>\n",
       "      <th>2136213970</th>\n",
       "      <td>1200 Gough St, San Francisco, CA</td>\n",
       "      <td>1/10/16</td>\n",
       "      <td>0.825</td>\n",
       "      <td>0.0</td>\n",
       "      <td>1.0</td>\n",
       "      <td>...</td>\n",
       "      <td>NaN</td>\n",
       "      <td>0.810000</td>\n",
       "      <td>NaN</td>\n",
       "      <td>0.729000</td>\n",
       "      <td>NaN</td>\n",
       "    </tr>\n",
       "  </tbody>\n",
       "</table>\n",
       "<p>1000 rows × 21 columns</p>\n",
       "</div>"
      ],
      "text/plain": [
       "                                               Address DateOfSale  SalePrice  \\\n",
       "ID                                                                             \n",
       "15063471     55 Vandewater St APT 9, San Francisco, CA    12/4/15      0.710   \n",
       "15063505           740 Francisco St, San Francisco, CA   11/30/15      2.150   \n",
       "15063609           819 Francisco St, San Francisco, CA   11/12/15      5.600   \n",
       "15064044      199 Chestnut St APT 5, San Francisco, CA   12/11/15      1.500   \n",
       "15064257    111 Chestnut St APT 403, San Francisco, CA    1/15/16      0.970   \n",
       "...                                                ...        ...        ...   \n",
       "2124214951       412 Green St APT A, San Francisco, CA    1/15/16      0.390   \n",
       "2126960082     355 1st St UNIT 1905, San Francisco, CA   11/20/15      0.860   \n",
       "2128308939        33 Santa Cruz Ave, San Francisco, CA   12/10/15      0.830   \n",
       "2131957929           1821 Grant Ave, San Francisco, CA   12/15/15      0.835   \n",
       "2136213970            1200 Gough St, San Francisco, CA    1/10/16      0.825   \n",
       "\n",
       "            IsAStudio  Beds     ...       LotSizeCbrt  SizeSquare  \\\n",
       "ID                              ...                                 \n",
       "15063471          0.0   1.0     ...               NaN    0.302500   \n",
       "15063505          0.0   NaN     ...          1.345343    2.044900   \n",
       "15063609          0.0   2.0     ...          1.576747    4.161600   \n",
       "15064044          0.0   1.0     ...               NaN    1.123600   \n",
       "15064257          0.0   2.0     ...               NaN    1.687401   \n",
       "...               ...   ...     ...               ...         ...   \n",
       "2124214951        1.0   NaN     ...               NaN    0.069696   \n",
       "2126960082        0.0   1.0     ...               NaN    0.477481   \n",
       "2128308939        0.0   3.0     ...          1.319815    3.020644   \n",
       "2131957929        0.0   2.0     ...               NaN    1.098304   \n",
       "2136213970        0.0   1.0     ...               NaN    0.810000   \n",
       "\n",
       "            LotSizeSquare  SizeCube  LotSizeCube  \n",
       "ID                                                \n",
       "15063471              NaN  0.166375          NaN  \n",
       "15063505         5.929225  2.924207    14.437663  \n",
       "15063609        15.366400  8.489664    60.236288  \n",
       "15064044              NaN  1.191016          NaN  \n",
       "15064257              NaN  2.191934          NaN  \n",
       "...                   ...       ...          ...  \n",
       "2124214951            NaN  0.018400          NaN  \n",
       "2126960082            NaN  0.329939          NaN  \n",
       "2128308939       5.285401  5.249879    12.151137  \n",
       "2131957929            NaN  1.151023          NaN  \n",
       "2136213970            NaN  0.729000          NaN  \n",
       "\n",
       "[1000 rows x 21 columns]"
      ]
     },
     "execution_count": 16,
     "metadata": {},
     "output_type": "execute_result"
    }
   ],
   "source": [
    "df"
   ]
  },
  {
   "cell_type": "markdown",
   "metadata": {},
   "source": [
    "> ### Activity | Show the correlation between the different engineered features of  `Size`"
   ]
  },
  {
   "cell_type": "code",
   "execution_count": 17,
   "metadata": {
    "collapsed": false
   },
   "outputs": [
    {
     "data": {
      "text/html": [
       "<div>\n",
       "<table border=\"1\" class=\"dataframe\">\n",
       "  <thead>\n",
       "    <tr style=\"text-align: right;\">\n",
       "      <th></th>\n",
       "      <th>Size</th>\n",
       "      <th>SizeLog</th>\n",
       "      <th>SizeSqrt</th>\n",
       "      <th>SizeCbrt</th>\n",
       "      <th>SizeSquare</th>\n",
       "      <th>SizeCube</th>\n",
       "    </tr>\n",
       "  </thead>\n",
       "  <tbody>\n",
       "    <tr>\n",
       "      <th>Size</th>\n",
       "      <td>1.000000</td>\n",
       "      <td>0.914413</td>\n",
       "      <td>0.976180</td>\n",
       "      <td>0.959053</td>\n",
       "      <td>0.901129</td>\n",
       "      <td>0.707418</td>\n",
       "    </tr>\n",
       "    <tr>\n",
       "      <th>SizeLog</th>\n",
       "      <td>0.914413</td>\n",
       "      <td>1.000000</td>\n",
       "      <td>0.979376</td>\n",
       "      <td>0.990984</td>\n",
       "      <td>0.676663</td>\n",
       "      <td>0.442267</td>\n",
       "    </tr>\n",
       "    <tr>\n",
       "      <th>SizeSqrt</th>\n",
       "      <td>0.976180</td>\n",
       "      <td>0.979376</td>\n",
       "      <td>1.000000</td>\n",
       "      <td>0.997574</td>\n",
       "      <td>0.794131</td>\n",
       "      <td>0.567658</td>\n",
       "    </tr>\n",
       "    <tr>\n",
       "      <th>SizeCbrt</th>\n",
       "      <td>0.959053</td>\n",
       "      <td>0.990984</td>\n",
       "      <td>0.997574</td>\n",
       "      <td>1.000000</td>\n",
       "      <td>0.755203</td>\n",
       "      <td>0.523572</td>\n",
       "    </tr>\n",
       "    <tr>\n",
       "      <th>SizeSquare</th>\n",
       "      <td>0.901129</td>\n",
       "      <td>0.676663</td>\n",
       "      <td>0.794131</td>\n",
       "      <td>0.755203</td>\n",
       "      <td>1.000000</td>\n",
       "      <td>0.935842</td>\n",
       "    </tr>\n",
       "    <tr>\n",
       "      <th>SizeCube</th>\n",
       "      <td>0.707418</td>\n",
       "      <td>0.442267</td>\n",
       "      <td>0.567658</td>\n",
       "      <td>0.523572</td>\n",
       "      <td>0.935842</td>\n",
       "      <td>1.000000</td>\n",
       "    </tr>\n",
       "  </tbody>\n",
       "</table>\n",
       "</div>"
      ],
      "text/plain": [
       "                Size   SizeLog  SizeSqrt  SizeCbrt  SizeSquare  SizeCube\n",
       "Size        1.000000  0.914413  0.976180  0.959053    0.901129  0.707418\n",
       "SizeLog     0.914413  1.000000  0.979376  0.990984    0.676663  0.442267\n",
       "SizeSqrt    0.976180  0.979376  1.000000  0.997574    0.794131  0.567658\n",
       "SizeCbrt    0.959053  0.990984  0.997574  1.000000    0.755203  0.523572\n",
       "SizeSquare  0.901129  0.676663  0.794131  0.755203    1.000000  0.935842\n",
       "SizeCube    0.707418  0.442267  0.567658  0.523572    0.935842  1.000000"
      ]
     },
     "execution_count": 17,
     "metadata": {},
     "output_type": "execute_result"
    }
   ],
   "source": [
    "df[ ['Size', 'SizeLog', 'SizeSqrt', 'SizeCbrt', 'SizeSquare', 'SizeCube'] ].corr()"
   ]
  },
  {
   "cell_type": "markdown",
   "metadata": {},
   "source": [
    "### `SalePrice` as a function of `Size` and its other engineered features"
   ]
  },
  {
   "cell_type": "code",
   "execution_count": 18,
   "metadata": {
    "collapsed": false
   },
   "outputs": [
    {
     "data": {
      "text/html": [
       "<table class=\"simpletable\">\n",
       "<caption>OLS Regression Results</caption>\n",
       "<tr>\n",
       "  <th>Dep. Variable:</th>        <td>SalePrice</td>    <th>  R-squared:         </th> <td>   0.282</td>\n",
       "</tr>\n",
       "<tr>\n",
       "  <th>Model:</th>                   <td>OLS</td>       <th>  Adj. R-squared:    </th> <td>   0.277</td>\n",
       "</tr>\n",
       "<tr>\n",
       "  <th>Method:</th>             <td>Least Squares</td>  <th>  F-statistic:       </th> <td>   62.76</td>\n",
       "</tr>\n",
       "<tr>\n",
       "  <th>Date:</th>             <td></td> <th>  Prob (F-statistic):</th> <td>9.59e-66</td>\n",
       "</tr>\n",
       "<tr>\n",
       "  <th>Time:</th>                 <td></td>     <th>  Log-Likelihood:    </th> <td> -1657.8</td>\n",
       "</tr>\n",
       "<tr>\n",
       "  <th>No. Observations:</th>      <td>   967</td>      <th>  AIC:               </th> <td>   3330.</td>\n",
       "</tr>\n",
       "<tr>\n",
       "  <th>Df Residuals:</th>          <td>   960</td>      <th>  BIC:               </th> <td>   3364.</td>\n",
       "</tr>\n",
       "<tr>\n",
       "  <th>Df Model:</th>              <td>     6</td>      <th>                     </th>     <td> </td>   \n",
       "</tr>\n",
       "<tr>\n",
       "  <th>Covariance Type:</th>      <td>nonrobust</td>    <th>                     </th>     <td> </td>   \n",
       "</tr>\n",
       "</table>\n",
       "<table class=\"simpletable\">\n",
       "<tr>\n",
       "       <td></td>         <th>coef</th>     <th>std err</th>      <th>t</th>      <th>P>|t|</th> <th>[95.0% Conf. Int.]</th> \n",
       "</tr>\n",
       "<tr>\n",
       "  <th>Intercept</th>  <td>  305.5464</td> <td>  655.703</td> <td>    0.466</td> <td> 0.641</td> <td> -981.229  1592.322</td>\n",
       "</tr>\n",
       "<tr>\n",
       "  <th>Size</th>       <td>  -45.7631</td> <td>   76.246</td> <td>   -0.600</td> <td> 0.549</td> <td> -195.392   103.866</td>\n",
       "</tr>\n",
       "<tr>\n",
       "  <th>SizeLog</th>    <td>  108.6071</td> <td>  243.010</td> <td>    0.447</td> <td> 0.655</td> <td> -368.285   585.499</td>\n",
       "</tr>\n",
       "<tr>\n",
       "  <th>SizeSqrt</th>   <td>  498.7607</td> <td>  963.224</td> <td>    0.518</td> <td> 0.605</td> <td>-1391.506  2389.028</td>\n",
       "</tr>\n",
       "<tr>\n",
       "  <th>SizeCbrt</th>   <td> -759.0259</td> <td> 1544.297</td> <td>   -0.492</td> <td> 0.623</td> <td>-3789.614  2271.562</td>\n",
       "</tr>\n",
       "<tr>\n",
       "  <th>SizeSquare</th> <td>    1.5313</td> <td>    1.966</td> <td>    0.779</td> <td> 0.436</td> <td>   -2.328     5.390</td>\n",
       "</tr>\n",
       "<tr>\n",
       "  <th>SizeCube</th>   <td>   -0.0386</td> <td>    0.051</td> <td>   -0.755</td> <td> 0.450</td> <td>   -0.139     0.062</td>\n",
       "</tr>\n",
       "</table>\n",
       "<table class=\"simpletable\">\n",
       "<tr>\n",
       "  <th>Omnibus:</th>       <td>1898.154</td> <th>  Durbin-Watson:     </th>  <td>   1.792</td>  \n",
       "</tr>\n",
       "<tr>\n",
       "  <th>Prob(Omnibus):</th>  <td> 0.000</td>  <th>  Jarque-Bera (JB):  </th> <td>4192442.588</td>\n",
       "</tr>\n",
       "<tr>\n",
       "  <th>Skew:</th>           <td>14.366</td>  <th>  Prob(JB):          </th>  <td>    0.00</td>  \n",
       "</tr>\n",
       "<tr>\n",
       "  <th>Kurtosis:</th>       <td>324.289</td> <th>  Cond. No.          </th>  <td>2.91e+06</td>  \n",
       "</tr>\n",
       "</table>"
      ],
      "text/plain": [
       "<class 'statsmodels.iolib.summary.Summary'>\n",
       "\"\"\"\n",
       "                            OLS Regression Results                            \n",
       "==============================================================================\n",
       "Dep. Variable:              SalePrice   R-squared:                       0.282\n",
       "Model:                            OLS   Adj. R-squared:                  0.277\n",
       "Method:                 Least Squares   F-statistic:                     62.76\n",
       "Date:                                   Prob (F-statistic):           9.59e-66\n",
       "Time:                                   Log-Likelihood:                -1657.8\n",
       "No. Observations:                 967   AIC:                             3330.\n",
       "Df Residuals:                     960   BIC:                             3364.\n",
       "Df Model:                           6                                         \n",
       "Covariance Type:            nonrobust                                         \n",
       "==============================================================================\n",
       "                 coef    std err          t      P>|t|      [95.0% Conf. Int.]\n",
       "------------------------------------------------------------------------------\n",
       "Intercept    305.5464    655.703      0.466      0.641      -981.229  1592.322\n",
       "Size         -45.7631     76.246     -0.600      0.549      -195.392   103.866\n",
       "SizeLog      108.6071    243.010      0.447      0.655      -368.285   585.499\n",
       "SizeSqrt     498.7607    963.224      0.518      0.605     -1391.506  2389.028\n",
       "SizeCbrt    -759.0259   1544.297     -0.492      0.623     -3789.614  2271.562\n",
       "SizeSquare     1.5313      1.966      0.779      0.436        -2.328     5.390\n",
       "SizeCube      -0.0386      0.051     -0.755      0.450        -0.139     0.062\n",
       "==============================================================================\n",
       "Omnibus:                     1898.154   Durbin-Watson:                   1.792\n",
       "Prob(Omnibus):                  0.000   Jarque-Bera (JB):          4192442.588\n",
       "Skew:                          14.366   Prob(JB):                         0.00\n",
       "Kurtosis:                     324.289   Cond. No.                     2.91e+06\n",
       "==============================================================================\n",
       "\n",
       "Warnings:\n",
       "[1] Standard Errors assume that the covariance matrix of the errors is correctly specified.\n",
       "[2] The condition number is large, 2.91e+06. This might indicate that there are\n",
       "strong multicollinearity or other numerical problems.\n",
       "\"\"\""
      ]
     },
     "execution_count": 18,
     "metadata": {},
     "output_type": "execute_result"
    }
   ],
   "source": [
    "model = smf.ols(formula = 'SalePrice ~ Size + SizeLog + SizeSqrt + SizeCbrt + SizeSquare + SizeCube', data = df).fit()\n",
    "\n",
    "model.summary()"
   ]
  },
  {
   "cell_type": "markdown",
   "metadata": {},
   "source": [
    "> #### Activity | What happened?"
   ]
  },
  {
   "cell_type": "markdown",
   "metadata": {},
   "source": [
    "Answer: Again, `Size`'s signal is now split into multiple features that compete against each other in the linear regression modeling.  As the number of correlated features increase, the signal is piece-mealed and `statsmodels` will recognize less significance in each."
   ]
  },
  {
   "cell_type": "markdown",
   "metadata": {},
   "source": [
    "## Part D | Adjusted $R^2$"
   ]
  },
  {
   "cell_type": "code",
   "execution_count": 19,
   "metadata": {
    "collapsed": false
   },
   "outputs": [
    {
     "name": "stdout",
     "output_type": "stream",
     "text": [
      "R^2 = 0.780097143233 (original model)\n"
     ]
    }
   ],
   "source": [
    "formula = 'SalePrice ~ 0 + IsAStudio + Beds + Baths + Size + LotSize'\n",
    "\n",
    "model = smf.ols(formula = formula, data = df).fit()\n",
    "\n",
    "print 'R^2 =', model.rsquared, '(original model)'"
   ]
  },
  {
   "cell_type": "markdown",
   "metadata": {},
   "source": [
    "> Let's now add some artificial noise:"
   ]
  },
  {
   "cell_type": "code",
   "execution_count": 20,
   "metadata": {
    "collapsed": false
   },
   "outputs": [],
   "source": [
    "x_df = pd.DataFrame(index = df.index)\n",
    "\n",
    "np.random.seed(seed = 0)\n",
    "for i in range(100):\n",
    "    x = 'X{}'.format(i)\n",
    "    x_df[x] = np.random.random(df.shape[0])\n",
    "\n",
    "formula = 'SalePrice ~ 0 + IsAStudio + Beds + Baths + Size + LotSize + BuiltInYear + '\n",
    "formula += ' + '.join(x_df.columns.values)"
   ]
  },
  {
   "cell_type": "code",
   "execution_count": 21,
   "metadata": {
    "collapsed": false
   },
   "outputs": [
    {
     "data": {
      "text/plain": [
       "'SalePrice ~ 0 + IsAStudio + Beds + Baths + Size + LotSize + BuiltInYear + X0 + X1 + X2 + X3 + X4 + X5 + X6 + X7 + X8 + X9 + X10 + X11 + X12 + X13 + X14 + X15 + X16 + X17 + X18 + X19 + X20 + X21 + X22 + X23 + X24 + X25 + X26 + X27 + X28 + X29 + X30 + X31 + X32 + X33 + X34 + X35 + X36 + X37 + X38 + X39 + X40 + X41 + X42 + X43 + X44 + X45 + X46 + X47 + X48 + X49 + X50 + X51 + X52 + X53 + X54 + X55 + X56 + X57 + X58 + X59 + X60 + X61 + X62 + X63 + X64 + X65 + X66 + X67 + X68 + X69 + X70 + X71 + X72 + X73 + X74 + X75 + X76 + X77 + X78 + X79 + X80 + X81 + X82 + X83 + X84 + X85 + X86 + X87 + X88 + X89 + X90 + X91 + X92 + X93 + X94 + X95 + X96 + X97 + X98 + X99'"
      ]
     },
     "execution_count": 21,
     "metadata": {},
     "output_type": "execute_result"
    }
   ],
   "source": [
    "formula"
   ]
  },
  {
   "cell_type": "code",
   "execution_count": 22,
   "metadata": {
    "collapsed": true
   },
   "outputs": [],
   "source": [
    "x_df = x_df.join(df)\n",
    "\n",
    "x_model = smf.ols(formula = formula, data = x_df).fit()"
   ]
  },
  {
   "cell_type": "code",
   "execution_count": 23,
   "metadata": {
    "collapsed": false,
    "scrolled": false
   },
   "outputs": [
    {
     "name": "stdout",
     "output_type": "stream",
     "text": [
      "Model with artificial noise:\n",
      "-          R^2 = 0.838212389712\n",
      "- Adjusted R^2 = 0.785781219711\n"
     ]
    }
   ],
   "source": [
    "print 'Model with artificial noise:'\n",
    "print '-          R^2 =', x_model.rsquared\n",
    "print '- Adjusted R^2 =', x_model.rsquared_adj"
   ]
  },
  {
   "cell_type": "markdown",
   "metadata": {},
   "source": [
    "> #### Activity | What happened?"
   ]
  },
  {
   "cell_type": "markdown",
   "metadata": {},
   "source": [
    "Answer:\n",
    "- As features get added to a linear model, its $R^2$ keeps increasing towards $1$.  This property of $R^2$ makes it difficult to understand by how much adding one or more features to a model contribute to the fit.\n",
    "- By adjusting $R^2$ to the number of features of a model, $\\bar{R}^2$ (adjusted $R^2$) helps comparing models with different number of features in a more fairly manner."
   ]
  },
  {
   "cell_type": "markdown",
   "metadata": {},
   "source": [
    "## Part E | The F-statistic"
   ]
  },
  {
   "cell_type": "markdown",
   "metadata": {},
   "source": [
    "### SalePrice ~ Size"
   ]
  },
  {
   "cell_type": "code",
   "execution_count": 24,
   "metadata": {
    "collapsed": false
   },
   "outputs": [
    {
     "data": {
      "text/html": [
       "<table class=\"simpletable\">\n",
       "<caption>OLS Regression Results</caption>\n",
       "<tr>\n",
       "  <th>Dep. Variable:</th>        <td>SalePrice</td>    <th>  R-squared:         </th> <td>   0.236</td>\n",
       "</tr>\n",
       "<tr>\n",
       "  <th>Model:</th>                   <td>OLS</td>       <th>  Adj. R-squared:    </th> <td>   0.235</td>\n",
       "</tr>\n",
       "<tr>\n",
       "  <th>Method:</th>             <td>Least Squares</td>  <th>  F-statistic:       </th> <td>   297.4</td>\n",
       "</tr>\n",
       "<tr>\n",
       "  <th>Date:</th>             <td></td> <th>  Prob (F-statistic):</th> <td>2.67e-58</td>\n",
       "</tr>\n",
       "<tr>\n",
       "  <th>Time:</th>                 <td></td>     <th>  Log-Likelihood:    </th> <td> -1687.9</td>\n",
       "</tr>\n",
       "<tr>\n",
       "  <th>No. Observations:</th>      <td>   967</td>      <th>  AIC:               </th> <td>   3380.</td>\n",
       "</tr>\n",
       "<tr>\n",
       "  <th>Df Residuals:</th>          <td>   965</td>      <th>  BIC:               </th> <td>   3390.</td>\n",
       "</tr>\n",
       "<tr>\n",
       "  <th>Df Model:</th>              <td>     1</td>      <th>                     </th>     <td> </td>   \n",
       "</tr>\n",
       "<tr>\n",
       "  <th>Covariance Type:</th>      <td>nonrobust</td>    <th>                     </th>     <td> </td>   \n",
       "</tr>\n",
       "</table>\n",
       "<table class=\"simpletable\">\n",
       "<tr>\n",
       "      <td></td>         <th>coef</th>     <th>std err</th>      <th>t</th>      <th>P>|t|</th> <th>[95.0% Conf. Int.]</th> \n",
       "</tr>\n",
       "<tr>\n",
       "  <th>Intercept</th> <td>    0.1551</td> <td>    0.084</td> <td>    1.842</td> <td> 0.066</td> <td>   -0.010     0.320</td>\n",
       "</tr>\n",
       "<tr>\n",
       "  <th>Size</th>      <td>    0.7497</td> <td>    0.043</td> <td>   17.246</td> <td> 0.000</td> <td>    0.664     0.835</td>\n",
       "</tr>\n",
       "</table>\n",
       "<table class=\"simpletable\">\n",
       "<tr>\n",
       "  <th>Omnibus:</th>       <td>1842.865</td> <th>  Durbin-Watson:     </th>  <td>   1.704</td>  \n",
       "</tr>\n",
       "<tr>\n",
       "  <th>Prob(Omnibus):</th>  <td> 0.000</td>  <th>  Jarque-Bera (JB):  </th> <td>3398350.943</td>\n",
       "</tr>\n",
       "<tr>\n",
       "  <th>Skew:</th>           <td>13.502</td>  <th>  Prob(JB):          </th>  <td>    0.00</td>  \n",
       "</tr>\n",
       "<tr>\n",
       "  <th>Kurtosis:</th>       <td>292.162</td> <th>  Cond. No.          </th>  <td>    4.40</td>  \n",
       "</tr>\n",
       "</table>"
      ],
      "text/plain": [
       "<class 'statsmodels.iolib.summary.Summary'>\n",
       "\"\"\"\n",
       "                            OLS Regression Results                            \n",
       "==============================================================================\n",
       "Dep. Variable:              SalePrice   R-squared:                       0.236\n",
       "Model:                            OLS   Adj. R-squared:                  0.235\n",
       "Method:                 Least Squares   F-statistic:                     297.4\n",
       "Date:                                   Prob (F-statistic):           2.67e-58\n",
       "Time:                                   Log-Likelihood:                -1687.9\n",
       "No. Observations:                 967   AIC:                             3380.\n",
       "Df Residuals:                     965   BIC:                             3390.\n",
       "Df Model:                           1                                         \n",
       "Covariance Type:            nonrobust                                         \n",
       "==============================================================================\n",
       "                 coef    std err          t      P>|t|      [95.0% Conf. Int.]\n",
       "------------------------------------------------------------------------------\n",
       "Intercept      0.1551      0.084      1.842      0.066        -0.010     0.320\n",
       "Size           0.7497      0.043     17.246      0.000         0.664     0.835\n",
       "==============================================================================\n",
       "Omnibus:                     1842.865   Durbin-Watson:                   1.704\n",
       "Prob(Omnibus):                  0.000   Jarque-Bera (JB):          3398350.943\n",
       "Skew:                          13.502   Prob(JB):                         0.00\n",
       "Kurtosis:                     292.162   Cond. No.                         4.40\n",
       "==============================================================================\n",
       "\n",
       "Warnings:\n",
       "[1] Standard Errors assume that the covariance matrix of the errors is correctly specified.\n",
       "\"\"\""
      ]
     },
     "execution_count": 24,
     "metadata": {},
     "output_type": "execute_result"
    }
   ],
   "source": [
    "model = smf.ols(formula = 'SalePrice ~ Size', data = df).fit()\n",
    "\n",
    "model.summary()"
   ]
  },
  {
   "cell_type": "code",
   "execution_count": 25,
   "metadata": {
    "collapsed": false
   },
   "outputs": [
    {
     "name": "stdout",
     "output_type": "stream",
     "text": [
      "F-statistic        = 297.416770948\n",
      "Prob (F-statistic) = 2.66769723576e-58\n"
     ]
    }
   ],
   "source": [
    "print 'F-statistic        =', model.fvalue\n",
    "print 'Prob (F-statistic) =', model.f_pvalue # (with a 5% significance level)¶"
   ]
  },
  {
   "cell_type": "code",
   "execution_count": 26,
   "metadata": {
    "collapsed": false
   },
   "outputs": [
    {
     "name": "stdout",
     "output_type": "stream",
     "text": [
      "Size's p-value = 2.66769723576e-58\n"
     ]
    }
   ],
   "source": [
    "print \"Size's p-value =\", model.pvalues.Size"
   ]
  },
  {
   "cell_type": "markdown",
   "metadata": {},
   "source": [
    "> #### The model F-statistic's p-value matches its unique regressor's p-value"
   ]
  },
  {
   "cell_type": "markdown",
   "metadata": {},
   "source": [
    "### SalePrice ~ IsAStudio"
   ]
  },
  {
   "cell_type": "code",
   "execution_count": 27,
   "metadata": {
    "collapsed": false
   },
   "outputs": [
    {
     "data": {
      "text/html": [
       "<table class=\"simpletable\">\n",
       "<caption>OLS Regression Results</caption>\n",
       "<tr>\n",
       "  <th>Dep. Variable:</th>        <td>SalePrice</td>    <th>  R-squared:         </th> <td>   0.000</td>\n",
       "</tr>\n",
       "<tr>\n",
       "  <th>Model:</th>                   <td>OLS</td>       <th>  Adj. R-squared:    </th> <td>  -0.001</td>\n",
       "</tr>\n",
       "<tr>\n",
       "  <th>Method:</th>             <td>Least Squares</td>  <th>  F-statistic:       </th> <td> 0.07775</td>\n",
       "</tr>\n",
       "<tr>\n",
       "  <th>Date:</th>             <td></td> <th>  Prob (F-statistic):</th>  <td> 0.780</td> \n",
       "</tr>\n",
       "<tr>\n",
       "  <th>Time:</th>                 <td></td>     <th>  Log-Likelihood:    </th> <td> -1847.4</td>\n",
       "</tr>\n",
       "<tr>\n",
       "  <th>No. Observations:</th>      <td>   986</td>      <th>  AIC:               </th> <td>   3699.</td>\n",
       "</tr>\n",
       "<tr>\n",
       "  <th>Df Residuals:</th>          <td>   984</td>      <th>  BIC:               </th> <td>   3709.</td>\n",
       "</tr>\n",
       "<tr>\n",
       "  <th>Df Model:</th>              <td>     1</td>      <th>                     </th>     <td> </td>   \n",
       "</tr>\n",
       "<tr>\n",
       "  <th>Covariance Type:</th>      <td>nonrobust</td>    <th>                     </th>     <td> </td>   \n",
       "</tr>\n",
       "</table>\n",
       "<table class=\"simpletable\">\n",
       "<tr>\n",
       "      <td></td>         <th>coef</th>     <th>std err</th>      <th>t</th>      <th>P>|t|</th> <th>[95.0% Conf. Int.]</th> \n",
       "</tr>\n",
       "<tr>\n",
       "  <th>Intercept</th> <td>    1.3811</td> <td>    0.051</td> <td>   27.088</td> <td> 0.000</td> <td>    1.281     1.481</td>\n",
       "</tr>\n",
       "<tr>\n",
       "  <th>IsAStudio</th> <td>    0.0829</td> <td>    0.297</td> <td>    0.279</td> <td> 0.780</td> <td>   -0.501     0.666</td>\n",
       "</tr>\n",
       "</table>\n",
       "<table class=\"simpletable\">\n",
       "<tr>\n",
       "  <th>Omnibus:</th>       <td>1682.807</td> <th>  Durbin-Watson:     </th>  <td>   1.488</td>  \n",
       "</tr>\n",
       "<tr>\n",
       "  <th>Prob(Omnibus):</th>  <td> 0.000</td>  <th>  Jarque-Bera (JB):  </th> <td>1342290.714</td>\n",
       "</tr>\n",
       "<tr>\n",
       "  <th>Skew:</th>           <td>10.942</td>  <th>  Prob(JB):          </th>  <td>    0.00</td>  \n",
       "</tr>\n",
       "<tr>\n",
       "  <th>Kurtosis:</th>       <td>182.425</td> <th>  Cond. No.          </th>  <td>    5.92</td>  \n",
       "</tr>\n",
       "</table>"
      ],
      "text/plain": [
       "<class 'statsmodels.iolib.summary.Summary'>\n",
       "\"\"\"\n",
       "                            OLS Regression Results                            \n",
       "==============================================================================\n",
       "Dep. Variable:              SalePrice   R-squared:                       0.000\n",
       "Model:                            OLS   Adj. R-squared:                 -0.001\n",
       "Method:                 Least Squares   F-statistic:                   0.07775\n",
       "Date:                                   Prob (F-statistic):              0.780\n",
       "Time:                                   Log-Likelihood:                -1847.4\n",
       "No. Observations:                 986   AIC:                             3699.\n",
       "Df Residuals:                     984   BIC:                             3709.\n",
       "Df Model:                           1                                         \n",
       "Covariance Type:            nonrobust                                         \n",
       "==============================================================================\n",
       "                 coef    std err          t      P>|t|      [95.0% Conf. Int.]\n",
       "------------------------------------------------------------------------------\n",
       "Intercept      1.3811      0.051     27.088      0.000         1.281     1.481\n",
       "IsAStudio      0.0829      0.297      0.279      0.780        -0.501     0.666\n",
       "==============================================================================\n",
       "Omnibus:                     1682.807   Durbin-Watson:                   1.488\n",
       "Prob(Omnibus):                  0.000   Jarque-Bera (JB):          1342290.714\n",
       "Skew:                          10.942   Prob(JB):                         0.00\n",
       "Kurtosis:                     182.425   Cond. No.                         5.92\n",
       "==============================================================================\n",
       "\n",
       "Warnings:\n",
       "[1] Standard Errors assume that the covariance matrix of the errors is correctly specified.\n",
       "\"\"\""
      ]
     },
     "execution_count": 27,
     "metadata": {},
     "output_type": "execute_result"
    }
   ],
   "source": [
    "model = smf.ols(formula = 'SalePrice ~ IsAStudio', data = df).fit()\n",
    "\n",
    "model.summary()"
   ]
  },
  {
   "cell_type": "code",
   "execution_count": 28,
   "metadata": {
    "collapsed": false
   },
   "outputs": [
    {
     "name": "stdout",
     "output_type": "stream",
     "text": [
      "F-statistic         = 0.0777512471878\n",
      "Prob (F-statistic)  = 0.780426890604\n",
      "IsAStudio's p-value = 0.780426890604\n"
     ]
    }
   ],
   "source": [
    "print 'F-statistic         =', model.fvalue\n",
    "print 'Prob (F-statistic)  =', model.f_pvalue\n",
    "print \"IsAStudio's p-value =\", model.pvalues.IsAStudio"
   ]
  },
  {
   "cell_type": "markdown",
   "metadata": {},
   "source": [
    "## Part F | Linear Regression Modeling with `sklearn`"
   ]
  },
  {
   "cell_type": "markdown",
   "metadata": {},
   "source": [
    "- (http://scikit-learn.org/stable/modules/generated/sklearn.linear_model.LinearRegression.html)"
   ]
  },
  {
   "cell_type": "code",
   "execution_count": 29,
   "metadata": {
    "collapsed": true
   },
   "outputs": [],
   "source": [
    "def summary(X, y, model):\n",
    "    _, f_pvalues = feature_selection.f_regression(X, y)\n",
    "\n",
    "    print 'R^2 =', model.score(X, y)\n",
    "    print\n",
    "\n",
    "    print 'Coefficients'\n",
    "    print '- beta_0 (Intercept) = {}'.format(model.intercept_)\n",
    "\n",
    "    for i, coef in enumerate(model.coef_):\n",
    "        print '- beta_{} ({}) = {} (p-value = {})'.format(i + 1, X.columns[i], coef, f_pvalues[i])"
   ]
  },
  {
   "cell_type": "markdown",
   "metadata": {},
   "source": [
    "> ### Remove samples with `NaN` in `Size`"
   ]
  },
  {
   "cell_type": "code",
   "execution_count": 30,
   "metadata": {
    "collapsed": true
   },
   "outputs": [],
   "source": [
    "df.dropna(subset = ['Size'], inplace = True)"
   ]
  },
  {
   "cell_type": "markdown",
   "metadata": {},
   "source": [
    "> ### SalePrice ~ Size with `sklearn`"
   ]
  },
  {
   "cell_type": "code",
   "execution_count": 31,
   "metadata": {
    "collapsed": false
   },
   "outputs": [],
   "source": [
    "X = df[ ['Size'] ]\n",
    "y = df.SalePrice\n",
    "\n",
    "model = linear_model.LinearRegression().fit(X, y)"
   ]
  },
  {
   "cell_type": "markdown",
   "metadata": {},
   "source": [
    "> #### The coefficients estimated by _statsmodels_ and _sklearn_ are identical:\n",
    "> (as it should be as the same determinstic fit/optimization, namely OLS for Ordinary Least Squares, is performed by both packages)"
   ]
  },
  {
   "cell_type": "code",
   "execution_count": 32,
   "metadata": {
    "collapsed": false
   },
   "outputs": [
    {
     "name": "stdout",
     "output_type": "stream",
     "text": [
      "R^2 = 0.2355931716\n",
      "\n",
      "Coefficients\n",
      "- beta_0 (Intercept) = 0.15505177276\n",
      "- beta_1 (Size) = 0.749728092164 (p-value = 2.66769723576e-58)\n"
     ]
    }
   ],
   "source": [
    "summary(X, y, model)"
   ]
  },
  {
   "cell_type": "markdown",
   "metadata": {},
   "source": [
    "> #### Score returns the $R^2$ of the prediction:\n",
    "> (the accuracy was reported `.score()` when we used k-NN for classification; same method but different metric)"
   ]
  },
  {
   "cell_type": "code",
   "execution_count": 33,
   "metadata": {
    "collapsed": false
   },
   "outputs": [
    {
     "data": {
      "text/plain": [
       "0.23559317159970786"
      ]
     },
     "execution_count": 33,
     "metadata": {},
     "output_type": "execute_result"
    }
   ],
   "source": [
    "model.score(X, y)"
   ]
  }
 ],
 "metadata": {
  "kernelspec": {
   "display_name": "Python 2",
   "language": "python",
   "name": "python2"
  },
  "language_info": {
   "codemirror_mode": {
    "name": "ipython",
    "version": 2
   },
   "file_extension": ".py",
   "mimetype": "text/x-python",
   "name": "python",
   "nbconvert_exporter": "python",
   "pygments_lexer": "ipython2",
   "version": "2.7.13"
  }
 },
 "nbformat": 4,
 "nbformat_minor": 0
}