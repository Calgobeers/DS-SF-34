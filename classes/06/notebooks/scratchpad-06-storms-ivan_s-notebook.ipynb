{
 "cells": [
  {
   "cell_type": "markdown",
   "metadata": {},
   "source": [
    "# DS-SF-34 | 06 | Data Wrangling and Exploratory Data Analysis on the Storms Dataset | Ivan's Notebook/Scratchpad"
   ]
  },
  {
   "cell_type": "code",
   "execution_count": 1,
   "metadata": {
    "collapsed": true
   },
   "outputs": [],
   "source": [
    "import os\n",
    "\n",
    "import numpy as np\n",
    "import pandas as pd\n",
    "pd.set_option('display.max_rows', 10)\n",
    "pd.set_option('display.notebook_repr_html', True)\n",
    "pd.set_option('display.max_columns', 10)\n",
    "\n",
    "import matplotlib.pyplot as plt\n",
    "%matplotlib inline\n",
    "plt.style.use('ggplot')"
   ]
  },
  {
   "cell_type": "code",
   "execution_count": 2,
   "metadata": {
    "collapsed": false
   },
   "outputs": [],
   "source": [
    "df = pd.read_csv(os.path.join('..', 'datasets', 'dataset-06-storms.csv.gz'))"
   ]
  },
  {
   "cell_type": "code",
   "execution_count": 3,
   "metadata": {
    "collapsed": false
   },
   "outputs": [
    {
     "data": {
      "text/html": [
       "<div>\n",
       "<table border=\"1\" class=\"dataframe\">\n",
       "  <thead>\n",
       "    <tr style=\"text-align: right;\">\n",
       "      <th></th>\n",
       "      <th>STATE__</th>\n",
       "      <th>BGN_DATE</th>\n",
       "      <th>BGN_TIME</th>\n",
       "      <th>TIME_ZONE</th>\n",
       "      <th>COUNTY</th>\n",
       "      <th>...</th>\n",
       "      <th>LONGITUDE</th>\n",
       "      <th>LATITUDE_E</th>\n",
       "      <th>LONGITUDE_</th>\n",
       "      <th>REMARKS</th>\n",
       "      <th>REFNUM</th>\n",
       "    </tr>\n",
       "  </thead>\n",
       "  <tbody>\n",
       "    <tr>\n",
       "      <th>0</th>\n",
       "      <td>1.0</td>\n",
       "      <td>4/18/1950 0:00:00</td>\n",
       "      <td>130</td>\n",
       "      <td>CST</td>\n",
       "      <td>97.0</td>\n",
       "      <td>...</td>\n",
       "      <td>8812.0</td>\n",
       "      <td>3051.0</td>\n",
       "      <td>8806.0</td>\n",
       "      <td>NaN</td>\n",
       "      <td>1.0</td>\n",
       "    </tr>\n",
       "    <tr>\n",
       "      <th>1</th>\n",
       "      <td>1.0</td>\n",
       "      <td>4/18/1950 0:00:00</td>\n",
       "      <td>145</td>\n",
       "      <td>CST</td>\n",
       "      <td>3.0</td>\n",
       "      <td>...</td>\n",
       "      <td>8755.0</td>\n",
       "      <td>0.0</td>\n",
       "      <td>0.0</td>\n",
       "      <td>NaN</td>\n",
       "      <td>2.0</td>\n",
       "    </tr>\n",
       "    <tr>\n",
       "      <th>2</th>\n",
       "      <td>1.0</td>\n",
       "      <td>2/20/1951 0:00:00</td>\n",
       "      <td>1600</td>\n",
       "      <td>CST</td>\n",
       "      <td>57.0</td>\n",
       "      <td>...</td>\n",
       "      <td>8742.0</td>\n",
       "      <td>0.0</td>\n",
       "      <td>0.0</td>\n",
       "      <td>NaN</td>\n",
       "      <td>3.0</td>\n",
       "    </tr>\n",
       "    <tr>\n",
       "      <th>3</th>\n",
       "      <td>1.0</td>\n",
       "      <td>6/8/1951 0:00:00</td>\n",
       "      <td>900</td>\n",
       "      <td>CST</td>\n",
       "      <td>89.0</td>\n",
       "      <td>...</td>\n",
       "      <td>8626.0</td>\n",
       "      <td>0.0</td>\n",
       "      <td>0.0</td>\n",
       "      <td>NaN</td>\n",
       "      <td>4.0</td>\n",
       "    </tr>\n",
       "    <tr>\n",
       "      <th>4</th>\n",
       "      <td>1.0</td>\n",
       "      <td>11/15/1951 0:00:00</td>\n",
       "      <td>1500</td>\n",
       "      <td>CST</td>\n",
       "      <td>43.0</td>\n",
       "      <td>...</td>\n",
       "      <td>8642.0</td>\n",
       "      <td>0.0</td>\n",
       "      <td>0.0</td>\n",
       "      <td>NaN</td>\n",
       "      <td>5.0</td>\n",
       "    </tr>\n",
       "    <tr>\n",
       "      <th>...</th>\n",
       "      <td>...</td>\n",
       "      <td>...</td>\n",
       "      <td>...</td>\n",
       "      <td>...</td>\n",
       "      <td>...</td>\n",
       "      <td>...</td>\n",
       "      <td>...</td>\n",
       "      <td>...</td>\n",
       "      <td>...</td>\n",
       "      <td>...</td>\n",
       "      <td>...</td>\n",
       "    </tr>\n",
       "    <tr>\n",
       "      <th>902292</th>\n",
       "      <td>56.0</td>\n",
       "      <td>11/30/2011 0:00:00</td>\n",
       "      <td>10:30:00 PM</td>\n",
       "      <td>MST</td>\n",
       "      <td>7.0</td>\n",
       "      <td>...</td>\n",
       "      <td>0.0</td>\n",
       "      <td>0.0</td>\n",
       "      <td>0.0</td>\n",
       "      <td>EPISODE NARRATIVE: A strong cold front moved s...</td>\n",
       "      <td>902293.0</td>\n",
       "    </tr>\n",
       "    <tr>\n",
       "      <th>902293</th>\n",
       "      <td>30.0</td>\n",
       "      <td>11/10/2011 0:00:00</td>\n",
       "      <td>02:48:00 PM</td>\n",
       "      <td>MST</td>\n",
       "      <td>9.0</td>\n",
       "      <td>...</td>\n",
       "      <td>0.0</td>\n",
       "      <td>0.0</td>\n",
       "      <td>0.0</td>\n",
       "      <td>EPISODE NARRATIVE: A strong westerly flow alof...</td>\n",
       "      <td>902294.0</td>\n",
       "    </tr>\n",
       "    <tr>\n",
       "      <th>902294</th>\n",
       "      <td>2.0</td>\n",
       "      <td>11/8/2011 0:00:00</td>\n",
       "      <td>02:58:00 PM</td>\n",
       "      <td>AKS</td>\n",
       "      <td>213.0</td>\n",
       "      <td>...</td>\n",
       "      <td>0.0</td>\n",
       "      <td>0.0</td>\n",
       "      <td>0.0</td>\n",
       "      <td>EPISODE NARRATIVE: A 960 mb low over the south...</td>\n",
       "      <td>902295.0</td>\n",
       "    </tr>\n",
       "    <tr>\n",
       "      <th>902295</th>\n",
       "      <td>2.0</td>\n",
       "      <td>11/9/2011 0:00:00</td>\n",
       "      <td>10:21:00 AM</td>\n",
       "      <td>AKS</td>\n",
       "      <td>202.0</td>\n",
       "      <td>...</td>\n",
       "      <td>0.0</td>\n",
       "      <td>0.0</td>\n",
       "      <td>0.0</td>\n",
       "      <td>EPISODE NARRATIVE: A 960 mb low over the south...</td>\n",
       "      <td>902296.0</td>\n",
       "    </tr>\n",
       "    <tr>\n",
       "      <th>902296</th>\n",
       "      <td>1.0</td>\n",
       "      <td>11/28/2011 0:00:00</td>\n",
       "      <td>08:00:00 PM</td>\n",
       "      <td>CST</td>\n",
       "      <td>6.0</td>\n",
       "      <td>...</td>\n",
       "      <td>0.0</td>\n",
       "      <td>0.0</td>\n",
       "      <td>0.0</td>\n",
       "      <td>EPISODE NARRATIVE: An intense upper level low ...</td>\n",
       "      <td>902297.0</td>\n",
       "    </tr>\n",
       "  </tbody>\n",
       "</table>\n",
       "<p>902297 rows × 37 columns</p>\n",
       "</div>"
      ],
      "text/plain": [
       "        STATE__            BGN_DATE     BGN_TIME TIME_ZONE  COUNTY    ...     \\\n",
       "0           1.0   4/18/1950 0:00:00          130       CST    97.0    ...      \n",
       "1           1.0   4/18/1950 0:00:00          145       CST     3.0    ...      \n",
       "2           1.0   2/20/1951 0:00:00         1600       CST    57.0    ...      \n",
       "3           1.0    6/8/1951 0:00:00          900       CST    89.0    ...      \n",
       "4           1.0  11/15/1951 0:00:00         1500       CST    43.0    ...      \n",
       "...         ...                 ...          ...       ...     ...    ...      \n",
       "902292     56.0  11/30/2011 0:00:00  10:30:00 PM       MST     7.0    ...      \n",
       "902293     30.0  11/10/2011 0:00:00  02:48:00 PM       MST     9.0    ...      \n",
       "902294      2.0   11/8/2011 0:00:00  02:58:00 PM       AKS   213.0    ...      \n",
       "902295      2.0   11/9/2011 0:00:00  10:21:00 AM       AKS   202.0    ...      \n",
       "902296      1.0  11/28/2011 0:00:00  08:00:00 PM       CST     6.0    ...      \n",
       "\n",
       "       LONGITUDE LATITUDE_E LONGITUDE_  \\\n",
       "0         8812.0     3051.0     8806.0   \n",
       "1         8755.0        0.0        0.0   \n",
       "2         8742.0        0.0        0.0   \n",
       "3         8626.0        0.0        0.0   \n",
       "4         8642.0        0.0        0.0   \n",
       "...          ...        ...        ...   \n",
       "902292       0.0        0.0        0.0   \n",
       "902293       0.0        0.0        0.0   \n",
       "902294       0.0        0.0        0.0   \n",
       "902295       0.0        0.0        0.0   \n",
       "902296       0.0        0.0        0.0   \n",
       "\n",
       "                                                  REMARKS    REFNUM  \n",
       "0                                                     NaN       1.0  \n",
       "1                                                     NaN       2.0  \n",
       "2                                                     NaN       3.0  \n",
       "3                                                     NaN       4.0  \n",
       "4                                                     NaN       5.0  \n",
       "...                                                   ...       ...  \n",
       "902292  EPISODE NARRATIVE: A strong cold front moved s...  902293.0  \n",
       "902293  EPISODE NARRATIVE: A strong westerly flow alof...  902294.0  \n",
       "902294  EPISODE NARRATIVE: A 960 mb low over the south...  902295.0  \n",
       "902295  EPISODE NARRATIVE: A 960 mb low over the south...  902296.0  \n",
       "902296  EPISODE NARRATIVE: An intense upper level low ...  902297.0  \n",
       "\n",
       "[902297 rows x 37 columns]"
      ]
     },
     "execution_count": 3,
     "metadata": {},
     "output_type": "execute_result"
    }
   ],
   "source": [
    "df"
   ]
  },
  {
   "cell_type": "code",
   "execution_count": 4,
   "metadata": {
    "collapsed": false
   },
   "outputs": [
    {
     "data": {
      "text/plain": [
       "(902297, 37)"
      ]
     },
     "execution_count": 4,
     "metadata": {},
     "output_type": "execute_result"
    }
   ],
   "source": [
    "df.shape"
   ]
  },
  {
   "cell_type": "markdown",
   "metadata": {},
   "source": [
    "# Data Wrangling"
   ]
  },
  {
   "cell_type": "markdown",
   "metadata": {},
   "source": [
    "## Columns"
   ]
  },
  {
   "cell_type": "code",
   "execution_count": 5,
   "metadata": {
    "collapsed": false
   },
   "outputs": [
    {
     "data": {
      "text/plain": [
       "Index([u'STATE__', u'BGN_DATE', u'BGN_TIME', u'TIME_ZONE', u'COUNTY',\n",
       "       u'COUNTYNAME', u'STATE', u'EVTYPE', u'BGN_RANGE', u'BGN_AZI',\n",
       "       u'BGN_LOCATI', u'END_DATE', u'END_TIME', u'COUNTY_END', u'COUNTYENDN',\n",
       "       u'END_RANGE', u'END_AZI', u'END_LOCATI', u'LENGTH', u'WIDTH', u'F',\n",
       "       u'MAG', u'FATALITIES', u'INJURIES', u'PROPDMG', u'PROPDMGEXP',\n",
       "       u'CROPDMG', u'CROPDMGEXP', u'WFO', u'STATEOFFIC', u'ZONENAMES',\n",
       "       u'LATITUDE', u'LONGITUDE', u'LATITUDE_E', u'LONGITUDE_', u'REMARKS',\n",
       "       u'REFNUM'],\n",
       "      dtype='object')"
      ]
     },
     "execution_count": 5,
     "metadata": {},
     "output_type": "execute_result"
    }
   ],
   "source": [
    "df.columns"
   ]
  },
  {
   "cell_type": "markdown",
   "metadata": {},
   "source": [
    "> ### Set the dataframe index to `REFNUM`."
   ]
  },
  {
   "cell_type": "code",
   "execution_count": 6,
   "metadata": {
    "collapsed": false
   },
   "outputs": [],
   "source": [
    "df = df.set_index('REFNUM')"
   ]
  },
  {
   "cell_type": "code",
   "execution_count": 7,
   "metadata": {
    "collapsed": false
   },
   "outputs": [
    {
     "data": {
      "text/html": [
       "<div>\n",
       "<table border=\"1\" class=\"dataframe\">\n",
       "  <thead>\n",
       "    <tr style=\"text-align: right;\">\n",
       "      <th></th>\n",
       "      <th>STATE__</th>\n",
       "      <th>BGN_DATE</th>\n",
       "      <th>BGN_TIME</th>\n",
       "      <th>TIME_ZONE</th>\n",
       "      <th>COUNTY</th>\n",
       "      <th>...</th>\n",
       "      <th>LATITUDE</th>\n",
       "      <th>LONGITUDE</th>\n",
       "      <th>LATITUDE_E</th>\n",
       "      <th>LONGITUDE_</th>\n",
       "      <th>REMARKS</th>\n",
       "    </tr>\n",
       "    <tr>\n",
       "      <th>REFNUM</th>\n",
       "      <th></th>\n",
       "      <th></th>\n",
       "      <th></th>\n",
       "      <th></th>\n",
       "      <th></th>\n",
       "      <th></th>\n",
       "      <th></th>\n",
       "      <th></th>\n",
       "      <th></th>\n",
       "      <th></th>\n",
       "      <th></th>\n",
       "    </tr>\n",
       "  </thead>\n",
       "  <tbody>\n",
       "    <tr>\n",
       "      <th>1.0</th>\n",
       "      <td>1.0</td>\n",
       "      <td>4/18/1950 0:00:00</td>\n",
       "      <td>130</td>\n",
       "      <td>CST</td>\n",
       "      <td>97.0</td>\n",
       "      <td>...</td>\n",
       "      <td>3040.0</td>\n",
       "      <td>8812.0</td>\n",
       "      <td>3051.0</td>\n",
       "      <td>8806.0</td>\n",
       "      <td>NaN</td>\n",
       "    </tr>\n",
       "    <tr>\n",
       "      <th>2.0</th>\n",
       "      <td>1.0</td>\n",
       "      <td>4/18/1950 0:00:00</td>\n",
       "      <td>145</td>\n",
       "      <td>CST</td>\n",
       "      <td>3.0</td>\n",
       "      <td>...</td>\n",
       "      <td>3042.0</td>\n",
       "      <td>8755.0</td>\n",
       "      <td>0.0</td>\n",
       "      <td>0.0</td>\n",
       "      <td>NaN</td>\n",
       "    </tr>\n",
       "    <tr>\n",
       "      <th>3.0</th>\n",
       "      <td>1.0</td>\n",
       "      <td>2/20/1951 0:00:00</td>\n",
       "      <td>1600</td>\n",
       "      <td>CST</td>\n",
       "      <td>57.0</td>\n",
       "      <td>...</td>\n",
       "      <td>3340.0</td>\n",
       "      <td>8742.0</td>\n",
       "      <td>0.0</td>\n",
       "      <td>0.0</td>\n",
       "      <td>NaN</td>\n",
       "    </tr>\n",
       "    <tr>\n",
       "      <th>4.0</th>\n",
       "      <td>1.0</td>\n",
       "      <td>6/8/1951 0:00:00</td>\n",
       "      <td>900</td>\n",
       "      <td>CST</td>\n",
       "      <td>89.0</td>\n",
       "      <td>...</td>\n",
       "      <td>3458.0</td>\n",
       "      <td>8626.0</td>\n",
       "      <td>0.0</td>\n",
       "      <td>0.0</td>\n",
       "      <td>NaN</td>\n",
       "    </tr>\n",
       "    <tr>\n",
       "      <th>5.0</th>\n",
       "      <td>1.0</td>\n",
       "      <td>11/15/1951 0:00:00</td>\n",
       "      <td>1500</td>\n",
       "      <td>CST</td>\n",
       "      <td>43.0</td>\n",
       "      <td>...</td>\n",
       "      <td>3412.0</td>\n",
       "      <td>8642.0</td>\n",
       "      <td>0.0</td>\n",
       "      <td>0.0</td>\n",
       "      <td>NaN</td>\n",
       "    </tr>\n",
       "    <tr>\n",
       "      <th>...</th>\n",
       "      <td>...</td>\n",
       "      <td>...</td>\n",
       "      <td>...</td>\n",
       "      <td>...</td>\n",
       "      <td>...</td>\n",
       "      <td>...</td>\n",
       "      <td>...</td>\n",
       "      <td>...</td>\n",
       "      <td>...</td>\n",
       "      <td>...</td>\n",
       "      <td>...</td>\n",
       "    </tr>\n",
       "    <tr>\n",
       "      <th>902293.0</th>\n",
       "      <td>56.0</td>\n",
       "      <td>11/30/2011 0:00:00</td>\n",
       "      <td>10:30:00 PM</td>\n",
       "      <td>MST</td>\n",
       "      <td>7.0</td>\n",
       "      <td>...</td>\n",
       "      <td>0.0</td>\n",
       "      <td>0.0</td>\n",
       "      <td>0.0</td>\n",
       "      <td>0.0</td>\n",
       "      <td>EPISODE NARRATIVE: A strong cold front moved s...</td>\n",
       "    </tr>\n",
       "    <tr>\n",
       "      <th>902294.0</th>\n",
       "      <td>30.0</td>\n",
       "      <td>11/10/2011 0:00:00</td>\n",
       "      <td>02:48:00 PM</td>\n",
       "      <td>MST</td>\n",
       "      <td>9.0</td>\n",
       "      <td>...</td>\n",
       "      <td>0.0</td>\n",
       "      <td>0.0</td>\n",
       "      <td>0.0</td>\n",
       "      <td>0.0</td>\n",
       "      <td>EPISODE NARRATIVE: A strong westerly flow alof...</td>\n",
       "    </tr>\n",
       "    <tr>\n",
       "      <th>902295.0</th>\n",
       "      <td>2.0</td>\n",
       "      <td>11/8/2011 0:00:00</td>\n",
       "      <td>02:58:00 PM</td>\n",
       "      <td>AKS</td>\n",
       "      <td>213.0</td>\n",
       "      <td>...</td>\n",
       "      <td>0.0</td>\n",
       "      <td>0.0</td>\n",
       "      <td>0.0</td>\n",
       "      <td>0.0</td>\n",
       "      <td>EPISODE NARRATIVE: A 960 mb low over the south...</td>\n",
       "    </tr>\n",
       "    <tr>\n",
       "      <th>902296.0</th>\n",
       "      <td>2.0</td>\n",
       "      <td>11/9/2011 0:00:00</td>\n",
       "      <td>10:21:00 AM</td>\n",
       "      <td>AKS</td>\n",
       "      <td>202.0</td>\n",
       "      <td>...</td>\n",
       "      <td>0.0</td>\n",
       "      <td>0.0</td>\n",
       "      <td>0.0</td>\n",
       "      <td>0.0</td>\n",
       "      <td>EPISODE NARRATIVE: A 960 mb low over the south...</td>\n",
       "    </tr>\n",
       "    <tr>\n",
       "      <th>902297.0</th>\n",
       "      <td>1.0</td>\n",
       "      <td>11/28/2011 0:00:00</td>\n",
       "      <td>08:00:00 PM</td>\n",
       "      <td>CST</td>\n",
       "      <td>6.0</td>\n",
       "      <td>...</td>\n",
       "      <td>0.0</td>\n",
       "      <td>0.0</td>\n",
       "      <td>0.0</td>\n",
       "      <td>0.0</td>\n",
       "      <td>EPISODE NARRATIVE: An intense upper level low ...</td>\n",
       "    </tr>\n",
       "  </tbody>\n",
       "</table>\n",
       "<p>902297 rows × 36 columns</p>\n",
       "</div>"
      ],
      "text/plain": [
       "          STATE__            BGN_DATE     BGN_TIME TIME_ZONE  COUNTY  \\\n",
       "REFNUM                                                                 \n",
       "1.0           1.0   4/18/1950 0:00:00          130       CST    97.0   \n",
       "2.0           1.0   4/18/1950 0:00:00          145       CST     3.0   \n",
       "3.0           1.0   2/20/1951 0:00:00         1600       CST    57.0   \n",
       "4.0           1.0    6/8/1951 0:00:00          900       CST    89.0   \n",
       "5.0           1.0  11/15/1951 0:00:00         1500       CST    43.0   \n",
       "...           ...                 ...          ...       ...     ...   \n",
       "902293.0     56.0  11/30/2011 0:00:00  10:30:00 PM       MST     7.0   \n",
       "902294.0     30.0  11/10/2011 0:00:00  02:48:00 PM       MST     9.0   \n",
       "902295.0      2.0   11/8/2011 0:00:00  02:58:00 PM       AKS   213.0   \n",
       "902296.0      2.0   11/9/2011 0:00:00  10:21:00 AM       AKS   202.0   \n",
       "902297.0      1.0  11/28/2011 0:00:00  08:00:00 PM       CST     6.0   \n",
       "\n",
       "                                ...                         LATITUDE  \\\n",
       "REFNUM                          ...                                    \n",
       "1.0                             ...                           3040.0   \n",
       "2.0                             ...                           3042.0   \n",
       "3.0                             ...                           3340.0   \n",
       "4.0                             ...                           3458.0   \n",
       "5.0                             ...                           3412.0   \n",
       "...                             ...                              ...   \n",
       "902293.0                        ...                              0.0   \n",
       "902294.0                        ...                              0.0   \n",
       "902295.0                        ...                              0.0   \n",
       "902296.0                        ...                              0.0   \n",
       "902297.0                        ...                              0.0   \n",
       "\n",
       "         LONGITUDE LATITUDE_E  LONGITUDE_  \\\n",
       "REFNUM                                      \n",
       "1.0         8812.0     3051.0      8806.0   \n",
       "2.0         8755.0        0.0         0.0   \n",
       "3.0         8742.0        0.0         0.0   \n",
       "4.0         8626.0        0.0         0.0   \n",
       "5.0         8642.0        0.0         0.0   \n",
       "...            ...        ...         ...   \n",
       "902293.0       0.0        0.0         0.0   \n",
       "902294.0       0.0        0.0         0.0   \n",
       "902295.0       0.0        0.0         0.0   \n",
       "902296.0       0.0        0.0         0.0   \n",
       "902297.0       0.0        0.0         0.0   \n",
       "\n",
       "                                                    REMARKS  \n",
       "REFNUM                                                       \n",
       "1.0                                                     NaN  \n",
       "2.0                                                     NaN  \n",
       "3.0                                                     NaN  \n",
       "4.0                                                     NaN  \n",
       "5.0                                                     NaN  \n",
       "...                                                     ...  \n",
       "902293.0  EPISODE NARRATIVE: A strong cold front moved s...  \n",
       "902294.0  EPISODE NARRATIVE: A strong westerly flow alof...  \n",
       "902295.0  EPISODE NARRATIVE: A 960 mb low over the south...  \n",
       "902296.0  EPISODE NARRATIVE: A 960 mb low over the south...  \n",
       "902297.0  EPISODE NARRATIVE: An intense upper level low ...  \n",
       "\n",
       "[902297 rows x 36 columns]"
      ]
     },
     "execution_count": 7,
     "metadata": {},
     "output_type": "execute_result"
    }
   ],
   "source": [
    "df"
   ]
  },
  {
   "cell_type": "markdown",
   "metadata": {},
   "source": [
    "## Check for `NaN`"
   ]
  },
  {
   "cell_type": "code",
   "execution_count": 8,
   "metadata": {
    "collapsed": false
   },
   "outputs": [
    {
     "data": {
      "text/html": [
       "<div>\n",
       "<table border=\"1\" class=\"dataframe\">\n",
       "  <thead>\n",
       "    <tr style=\"text-align: right;\">\n",
       "      <th></th>\n",
       "      <th>STATE__</th>\n",
       "      <th>BGN_DATE</th>\n",
       "      <th>BGN_TIME</th>\n",
       "      <th>TIME_ZONE</th>\n",
       "      <th>COUNTY</th>\n",
       "      <th>...</th>\n",
       "      <th>LATITUDE</th>\n",
       "      <th>LONGITUDE</th>\n",
       "      <th>LATITUDE_E</th>\n",
       "      <th>LONGITUDE_</th>\n",
       "      <th>REMARKS</th>\n",
       "    </tr>\n",
       "    <tr>\n",
       "      <th>REFNUM</th>\n",
       "      <th></th>\n",
       "      <th></th>\n",
       "      <th></th>\n",
       "      <th></th>\n",
       "      <th></th>\n",
       "      <th></th>\n",
       "      <th></th>\n",
       "      <th></th>\n",
       "      <th></th>\n",
       "      <th></th>\n",
       "      <th></th>\n",
       "    </tr>\n",
       "  </thead>\n",
       "  <tbody>\n",
       "    <tr>\n",
       "      <th>1.0</th>\n",
       "      <td>False</td>\n",
       "      <td>False</td>\n",
       "      <td>False</td>\n",
       "      <td>False</td>\n",
       "      <td>False</td>\n",
       "      <td>...</td>\n",
       "      <td>False</td>\n",
       "      <td>False</td>\n",
       "      <td>False</td>\n",
       "      <td>False</td>\n",
       "      <td>True</td>\n",
       "    </tr>\n",
       "    <tr>\n",
       "      <th>2.0</th>\n",
       "      <td>False</td>\n",
       "      <td>False</td>\n",
       "      <td>False</td>\n",
       "      <td>False</td>\n",
       "      <td>False</td>\n",
       "      <td>...</td>\n",
       "      <td>False</td>\n",
       "      <td>False</td>\n",
       "      <td>False</td>\n",
       "      <td>False</td>\n",
       "      <td>True</td>\n",
       "    </tr>\n",
       "    <tr>\n",
       "      <th>3.0</th>\n",
       "      <td>False</td>\n",
       "      <td>False</td>\n",
       "      <td>False</td>\n",
       "      <td>False</td>\n",
       "      <td>False</td>\n",
       "      <td>...</td>\n",
       "      <td>False</td>\n",
       "      <td>False</td>\n",
       "      <td>False</td>\n",
       "      <td>False</td>\n",
       "      <td>True</td>\n",
       "    </tr>\n",
       "    <tr>\n",
       "      <th>4.0</th>\n",
       "      <td>False</td>\n",
       "      <td>False</td>\n",
       "      <td>False</td>\n",
       "      <td>False</td>\n",
       "      <td>False</td>\n",
       "      <td>...</td>\n",
       "      <td>False</td>\n",
       "      <td>False</td>\n",
       "      <td>False</td>\n",
       "      <td>False</td>\n",
       "      <td>True</td>\n",
       "    </tr>\n",
       "    <tr>\n",
       "      <th>5.0</th>\n",
       "      <td>False</td>\n",
       "      <td>False</td>\n",
       "      <td>False</td>\n",
       "      <td>False</td>\n",
       "      <td>False</td>\n",
       "      <td>...</td>\n",
       "      <td>False</td>\n",
       "      <td>False</td>\n",
       "      <td>False</td>\n",
       "      <td>False</td>\n",
       "      <td>True</td>\n",
       "    </tr>\n",
       "    <tr>\n",
       "      <th>...</th>\n",
       "      <td>...</td>\n",
       "      <td>...</td>\n",
       "      <td>...</td>\n",
       "      <td>...</td>\n",
       "      <td>...</td>\n",
       "      <td>...</td>\n",
       "      <td>...</td>\n",
       "      <td>...</td>\n",
       "      <td>...</td>\n",
       "      <td>...</td>\n",
       "      <td>...</td>\n",
       "    </tr>\n",
       "    <tr>\n",
       "      <th>902293.0</th>\n",
       "      <td>False</td>\n",
       "      <td>False</td>\n",
       "      <td>False</td>\n",
       "      <td>False</td>\n",
       "      <td>False</td>\n",
       "      <td>...</td>\n",
       "      <td>False</td>\n",
       "      <td>False</td>\n",
       "      <td>False</td>\n",
       "      <td>False</td>\n",
       "      <td>False</td>\n",
       "    </tr>\n",
       "    <tr>\n",
       "      <th>902294.0</th>\n",
       "      <td>False</td>\n",
       "      <td>False</td>\n",
       "      <td>False</td>\n",
       "      <td>False</td>\n",
       "      <td>False</td>\n",
       "      <td>...</td>\n",
       "      <td>False</td>\n",
       "      <td>False</td>\n",
       "      <td>False</td>\n",
       "      <td>False</td>\n",
       "      <td>False</td>\n",
       "    </tr>\n",
       "    <tr>\n",
       "      <th>902295.0</th>\n",
       "      <td>False</td>\n",
       "      <td>False</td>\n",
       "      <td>False</td>\n",
       "      <td>False</td>\n",
       "      <td>False</td>\n",
       "      <td>...</td>\n",
       "      <td>False</td>\n",
       "      <td>False</td>\n",
       "      <td>False</td>\n",
       "      <td>False</td>\n",
       "      <td>False</td>\n",
       "    </tr>\n",
       "    <tr>\n",
       "      <th>902296.0</th>\n",
       "      <td>False</td>\n",
       "      <td>False</td>\n",
       "      <td>False</td>\n",
       "      <td>False</td>\n",
       "      <td>False</td>\n",
       "      <td>...</td>\n",
       "      <td>False</td>\n",
       "      <td>False</td>\n",
       "      <td>False</td>\n",
       "      <td>False</td>\n",
       "      <td>False</td>\n",
       "    </tr>\n",
       "    <tr>\n",
       "      <th>902297.0</th>\n",
       "      <td>False</td>\n",
       "      <td>False</td>\n",
       "      <td>False</td>\n",
       "      <td>False</td>\n",
       "      <td>False</td>\n",
       "      <td>...</td>\n",
       "      <td>False</td>\n",
       "      <td>False</td>\n",
       "      <td>False</td>\n",
       "      <td>False</td>\n",
       "      <td>False</td>\n",
       "    </tr>\n",
       "  </tbody>\n",
       "</table>\n",
       "<p>902297 rows × 36 columns</p>\n",
       "</div>"
      ],
      "text/plain": [
       "         STATE__ BGN_DATE BGN_TIME TIME_ZONE COUNTY   ...   LATITUDE  \\\n",
       "REFNUM                                                ...              \n",
       "1.0        False    False    False     False  False   ...      False   \n",
       "2.0        False    False    False     False  False   ...      False   \n",
       "3.0        False    False    False     False  False   ...      False   \n",
       "4.0        False    False    False     False  False   ...      False   \n",
       "5.0        False    False    False     False  False   ...      False   \n",
       "...          ...      ...      ...       ...    ...   ...        ...   \n",
       "902293.0   False    False    False     False  False   ...      False   \n",
       "902294.0   False    False    False     False  False   ...      False   \n",
       "902295.0   False    False    False     False  False   ...      False   \n",
       "902296.0   False    False    False     False  False   ...      False   \n",
       "902297.0   False    False    False     False  False   ...      False   \n",
       "\n",
       "         LONGITUDE LATITUDE_E LONGITUDE_ REMARKS  \n",
       "REFNUM                                            \n",
       "1.0          False      False      False    True  \n",
       "2.0          False      False      False    True  \n",
       "3.0          False      False      False    True  \n",
       "4.0          False      False      False    True  \n",
       "5.0          False      False      False    True  \n",
       "...            ...        ...        ...     ...  \n",
       "902293.0     False      False      False   False  \n",
       "902294.0     False      False      False   False  \n",
       "902295.0     False      False      False   False  \n",
       "902296.0     False      False      False   False  \n",
       "902297.0     False      False      False   False  \n",
       "\n",
       "[902297 rows x 36 columns]"
      ]
     },
     "execution_count": 8,
     "metadata": {},
     "output_type": "execute_result"
    }
   ],
   "source": [
    "df.isnull()"
   ]
  },
  {
   "cell_type": "markdown",
   "metadata": {},
   "source": [
    "> ### Number of missing values per column:"
   ]
  },
  {
   "cell_type": "code",
   "execution_count": 9,
   "metadata": {
    "collapsed": false
   },
   "outputs": [
    {
     "data": {
      "text/plain": [
       "STATE__            0\n",
       "BGN_DATE           0\n",
       "BGN_TIME           0\n",
       "TIME_ZONE          0\n",
       "COUNTY             0\n",
       "               ...  \n",
       "LATITUDE          47\n",
       "LONGITUDE          0\n",
       "LATITUDE_E        40\n",
       "LONGITUDE_         0\n",
       "REMARKS       287433\n",
       "dtype: int64"
      ]
     },
     "execution_count": 9,
     "metadata": {},
     "output_type": "execute_result"
    }
   ],
   "source": [
    "df.isnull().sum()"
   ]
  },
  {
   "cell_type": "code",
   "execution_count": 10,
   "metadata": {
    "collapsed": false
   },
   "outputs": [
    {
     "data": {
      "text/plain": [
       "0"
      ]
     },
     "execution_count": 10,
     "metadata": {},
     "output_type": "execute_result"
    }
   ],
   "source": [
    "df.FATALITIES.isnull().sum()"
   ]
  },
  {
   "cell_type": "markdown",
   "metadata": {},
   "source": [
    "No missing values on `FATALITIES`."
   ]
  },
  {
   "cell_type": "code",
   "execution_count": 11,
   "metadata": {
    "collapsed": false
   },
   "outputs": [
    {
     "data": {
      "text/plain": [
       "0"
      ]
     },
     "execution_count": 11,
     "metadata": {},
     "output_type": "execute_result"
    }
   ],
   "source": [
    "df.INJURIES.isnull().sum()"
   ]
  },
  {
   "cell_type": "markdown",
   "metadata": {},
   "source": [
    "No missing values on `INJURIES` either."
   ]
  },
  {
   "cell_type": "markdown",
   "metadata": {},
   "source": [
    "> ### Total number of missing values in the dataset:"
   ]
  },
  {
   "cell_type": "code",
   "execution_count": 12,
   "metadata": {
    "collapsed": false
   },
   "outputs": [
    {
     "data": {
      "text/plain": [
       "6645709"
      ]
     },
     "execution_count": 12,
     "metadata": {},
     "output_type": "execute_result"
    }
   ],
   "source": [
    "df.isnull().sum().sum()"
   ]
  },
  {
   "cell_type": "markdown",
   "metadata": {},
   "source": [
    "> ### Columns with at least one `NaN`:"
   ]
  },
  {
   "cell_type": "code",
   "execution_count": 13,
   "metadata": {
    "collapsed": false
   },
   "outputs": [
    {
     "data": {
      "text/plain": [
       "Index([u'COUNTYNAME', u'BGN_AZI', u'BGN_LOCATI', u'END_DATE', u'END_TIME',\n",
       "       u'COUNTYENDN', u'END_AZI', u'END_LOCATI', u'F', u'PROPDMGEXP',\n",
       "       u'CROPDMGEXP', u'WFO', u'STATEOFFIC', u'ZONENAMES', u'LATITUDE',\n",
       "       u'LATITUDE_E', u'REMARKS'],\n",
       "      dtype='object')"
      ]
     },
     "execution_count": 13,
     "metadata": {},
     "output_type": "execute_result"
    }
   ],
   "source": [
    "df.columns[df.isnull().sum() > 0]"
   ]
  },
  {
   "cell_type": "markdown",
   "metadata": {},
   "source": [
    "> ### Let's do some pretty printing.  In addition to the `NaN` counts, let's add the ratios:"
   ]
  },
  {
   "cell_type": "code",
   "execution_count": 14,
   "metadata": {
    "collapsed": false
   },
   "outputs": [
    {
     "name": "stdout",
     "output_type": "stream",
     "text": [
      "COUNTYNAME   1589   0%\n",
      "BGN_AZI    547332  61%\n",
      "BGN_LOCATI 287743  32%\n",
      "END_DATE   243411  27%\n",
      "END_TIME   238978  26%\n",
      "COUNTYENDN 902297 100%\n",
      "END_AZI    724837  80%\n",
      "END_LOCATI 499225  55%\n",
      "F          843563  93%\n",
      "PROPDMGEXP 465934  52%\n",
      "CROPDMGEXP 618413  69%\n",
      "WFO        142069  16%\n",
      "STATEOFFIC 248769  28%\n",
      "ZONENAMES  594029  66%\n",
      "LATITUDE       47   0%\n",
      "LATITUDE_E     40   0%\n",
      "REMARKS    287433  32%\n"
     ]
    }
   ],
   "source": [
    "n = df.shape[0]\n",
    "\n",
    "for column in df.columns:\n",
    "    count = df[column].isnull().sum()\n",
    "    if count > 0:\n",
    "        print '{:10s} {:6d} {:3.0f}%'.format(column, count, 100. * count / n)"
   ]
  },
  {
   "cell_type": "markdown",
   "metadata": {},
   "source": [
    "> ### Drop rows with at least one `NaN`:"
   ]
  },
  {
   "cell_type": "code",
   "execution_count": 15,
   "metadata": {
    "collapsed": false
   },
   "outputs": [
    {
     "data": {
      "text/html": [
       "<div>\n",
       "<table border=\"1\" class=\"dataframe\">\n",
       "  <thead>\n",
       "    <tr style=\"text-align: right;\">\n",
       "      <th></th>\n",
       "      <th>STATE__</th>\n",
       "      <th>BGN_DATE</th>\n",
       "      <th>BGN_TIME</th>\n",
       "      <th>TIME_ZONE</th>\n",
       "      <th>COUNTY</th>\n",
       "      <th>...</th>\n",
       "      <th>LATITUDE</th>\n",
       "      <th>LONGITUDE</th>\n",
       "      <th>LATITUDE_E</th>\n",
       "      <th>LONGITUDE_</th>\n",
       "      <th>REMARKS</th>\n",
       "    </tr>\n",
       "    <tr>\n",
       "      <th>REFNUM</th>\n",
       "      <th></th>\n",
       "      <th></th>\n",
       "      <th></th>\n",
       "      <th></th>\n",
       "      <th></th>\n",
       "      <th></th>\n",
       "      <th></th>\n",
       "      <th></th>\n",
       "      <th></th>\n",
       "      <th></th>\n",
       "      <th></th>\n",
       "    </tr>\n",
       "  </thead>\n",
       "  <tbody>\n",
       "  </tbody>\n",
       "</table>\n",
       "<p>0 rows × 36 columns</p>\n",
       "</div>"
      ],
      "text/plain": [
       "Empty DataFrame\n",
       "Columns: [STATE__, BGN_DATE, BGN_TIME, TIME_ZONE, COUNTY, COUNTYNAME, STATE, EVTYPE, BGN_RANGE, BGN_AZI, BGN_LOCATI, END_DATE, END_TIME, COUNTY_END, COUNTYENDN, END_RANGE, END_AZI, END_LOCATI, LENGTH, WIDTH, F, MAG, FATALITIES, INJURIES, PROPDMG, PROPDMGEXP, CROPDMG, CROPDMGEXP, WFO, STATEOFFIC, ZONENAMES, LATITUDE, LONGITUDE, LATITUDE_E, LONGITUDE_, REMARKS]\n",
       "Index: []\n",
       "\n",
       "[0 rows x 36 columns]"
      ]
     },
     "execution_count": 15,
     "metadata": {},
     "output_type": "execute_result"
    }
   ],
   "source": [
    "df.dropna()"
   ]
  },
  {
   "cell_type": "markdown",
   "metadata": {},
   "source": [
    "There's nothing left...  At the wrangling phase, it is better to keep as many rows/values as possible as we don't know yet which columns we will want to use when doing data exploratory analysis."
   ]
  },
  {
   "cell_type": "markdown",
   "metadata": {},
   "source": [
    "Also equivalent:\n",
    "\n",
    "```python\n",
    "df.dropna(how = 'any')\n",
    "df.dropna(axis = 0)\n",
    "df.dropna(how = 'any', axis = 0)\n",
    "```"
   ]
  },
  {
   "cell_type": "markdown",
   "metadata": {},
   "source": [
    "> ### Drop columns with at least one `NaN`:"
   ]
  },
  {
   "cell_type": "code",
   "execution_count": 16,
   "metadata": {
    "collapsed": false
   },
   "outputs": [
    {
     "data": {
      "text/html": [
       "<div>\n",
       "<table border=\"1\" class=\"dataframe\">\n",
       "  <thead>\n",
       "    <tr style=\"text-align: right;\">\n",
       "      <th></th>\n",
       "      <th>STATE__</th>\n",
       "      <th>BGN_DATE</th>\n",
       "      <th>BGN_TIME</th>\n",
       "      <th>TIME_ZONE</th>\n",
       "      <th>COUNTY</th>\n",
       "      <th>...</th>\n",
       "      <th>INJURIES</th>\n",
       "      <th>PROPDMG</th>\n",
       "      <th>CROPDMG</th>\n",
       "      <th>LONGITUDE</th>\n",
       "      <th>LONGITUDE_</th>\n",
       "    </tr>\n",
       "    <tr>\n",
       "      <th>REFNUM</th>\n",
       "      <th></th>\n",
       "      <th></th>\n",
       "      <th></th>\n",
       "      <th></th>\n",
       "      <th></th>\n",
       "      <th></th>\n",
       "      <th></th>\n",
       "      <th></th>\n",
       "      <th></th>\n",
       "      <th></th>\n",
       "      <th></th>\n",
       "    </tr>\n",
       "  </thead>\n",
       "  <tbody>\n",
       "    <tr>\n",
       "      <th>1.0</th>\n",
       "      <td>1.0</td>\n",
       "      <td>4/18/1950 0:00:00</td>\n",
       "      <td>130</td>\n",
       "      <td>CST</td>\n",
       "      <td>97.0</td>\n",
       "      <td>...</td>\n",
       "      <td>15.0</td>\n",
       "      <td>25.0</td>\n",
       "      <td>0.0</td>\n",
       "      <td>8812.0</td>\n",
       "      <td>8806.0</td>\n",
       "    </tr>\n",
       "    <tr>\n",
       "      <th>2.0</th>\n",
       "      <td>1.0</td>\n",
       "      <td>4/18/1950 0:00:00</td>\n",
       "      <td>145</td>\n",
       "      <td>CST</td>\n",
       "      <td>3.0</td>\n",
       "      <td>...</td>\n",
       "      <td>0.0</td>\n",
       "      <td>2.5</td>\n",
       "      <td>0.0</td>\n",
       "      <td>8755.0</td>\n",
       "      <td>0.0</td>\n",
       "    </tr>\n",
       "    <tr>\n",
       "      <th>3.0</th>\n",
       "      <td>1.0</td>\n",
       "      <td>2/20/1951 0:00:00</td>\n",
       "      <td>1600</td>\n",
       "      <td>CST</td>\n",
       "      <td>57.0</td>\n",
       "      <td>...</td>\n",
       "      <td>2.0</td>\n",
       "      <td>25.0</td>\n",
       "      <td>0.0</td>\n",
       "      <td>8742.0</td>\n",
       "      <td>0.0</td>\n",
       "    </tr>\n",
       "    <tr>\n",
       "      <th>4.0</th>\n",
       "      <td>1.0</td>\n",
       "      <td>6/8/1951 0:00:00</td>\n",
       "      <td>900</td>\n",
       "      <td>CST</td>\n",
       "      <td>89.0</td>\n",
       "      <td>...</td>\n",
       "      <td>2.0</td>\n",
       "      <td>2.5</td>\n",
       "      <td>0.0</td>\n",
       "      <td>8626.0</td>\n",
       "      <td>0.0</td>\n",
       "    </tr>\n",
       "    <tr>\n",
       "      <th>5.0</th>\n",
       "      <td>1.0</td>\n",
       "      <td>11/15/1951 0:00:00</td>\n",
       "      <td>1500</td>\n",
       "      <td>CST</td>\n",
       "      <td>43.0</td>\n",
       "      <td>...</td>\n",
       "      <td>2.0</td>\n",
       "      <td>2.5</td>\n",
       "      <td>0.0</td>\n",
       "      <td>8642.0</td>\n",
       "      <td>0.0</td>\n",
       "    </tr>\n",
       "    <tr>\n",
       "      <th>...</th>\n",
       "      <td>...</td>\n",
       "      <td>...</td>\n",
       "      <td>...</td>\n",
       "      <td>...</td>\n",
       "      <td>...</td>\n",
       "      <td>...</td>\n",
       "      <td>...</td>\n",
       "      <td>...</td>\n",
       "      <td>...</td>\n",
       "      <td>...</td>\n",
       "      <td>...</td>\n",
       "    </tr>\n",
       "    <tr>\n",
       "      <th>902293.0</th>\n",
       "      <td>56.0</td>\n",
       "      <td>11/30/2011 0:00:00</td>\n",
       "      <td>10:30:00 PM</td>\n",
       "      <td>MST</td>\n",
       "      <td>7.0</td>\n",
       "      <td>...</td>\n",
       "      <td>0.0</td>\n",
       "      <td>0.0</td>\n",
       "      <td>0.0</td>\n",
       "      <td>0.0</td>\n",
       "      <td>0.0</td>\n",
       "    </tr>\n",
       "    <tr>\n",
       "      <th>902294.0</th>\n",
       "      <td>30.0</td>\n",
       "      <td>11/10/2011 0:00:00</td>\n",
       "      <td>02:48:00 PM</td>\n",
       "      <td>MST</td>\n",
       "      <td>9.0</td>\n",
       "      <td>...</td>\n",
       "      <td>0.0</td>\n",
       "      <td>0.0</td>\n",
       "      <td>0.0</td>\n",
       "      <td>0.0</td>\n",
       "      <td>0.0</td>\n",
       "    </tr>\n",
       "    <tr>\n",
       "      <th>902295.0</th>\n",
       "      <td>2.0</td>\n",
       "      <td>11/8/2011 0:00:00</td>\n",
       "      <td>02:58:00 PM</td>\n",
       "      <td>AKS</td>\n",
       "      <td>213.0</td>\n",
       "      <td>...</td>\n",
       "      <td>0.0</td>\n",
       "      <td>0.0</td>\n",
       "      <td>0.0</td>\n",
       "      <td>0.0</td>\n",
       "      <td>0.0</td>\n",
       "    </tr>\n",
       "    <tr>\n",
       "      <th>902296.0</th>\n",
       "      <td>2.0</td>\n",
       "      <td>11/9/2011 0:00:00</td>\n",
       "      <td>10:21:00 AM</td>\n",
       "      <td>AKS</td>\n",
       "      <td>202.0</td>\n",
       "      <td>...</td>\n",
       "      <td>0.0</td>\n",
       "      <td>0.0</td>\n",
       "      <td>0.0</td>\n",
       "      <td>0.0</td>\n",
       "      <td>0.0</td>\n",
       "    </tr>\n",
       "    <tr>\n",
       "      <th>902297.0</th>\n",
       "      <td>1.0</td>\n",
       "      <td>11/28/2011 0:00:00</td>\n",
       "      <td>08:00:00 PM</td>\n",
       "      <td>CST</td>\n",
       "      <td>6.0</td>\n",
       "      <td>...</td>\n",
       "      <td>0.0</td>\n",
       "      <td>0.0</td>\n",
       "      <td>0.0</td>\n",
       "      <td>0.0</td>\n",
       "      <td>0.0</td>\n",
       "    </tr>\n",
       "  </tbody>\n",
       "</table>\n",
       "<p>902297 rows × 19 columns</p>\n",
       "</div>"
      ],
      "text/plain": [
       "          STATE__            BGN_DATE     BGN_TIME TIME_ZONE  COUNTY  \\\n",
       "REFNUM                                                                 \n",
       "1.0           1.0   4/18/1950 0:00:00          130       CST    97.0   \n",
       "2.0           1.0   4/18/1950 0:00:00          145       CST     3.0   \n",
       "3.0           1.0   2/20/1951 0:00:00         1600       CST    57.0   \n",
       "4.0           1.0    6/8/1951 0:00:00          900       CST    89.0   \n",
       "5.0           1.0  11/15/1951 0:00:00         1500       CST    43.0   \n",
       "...           ...                 ...          ...       ...     ...   \n",
       "902293.0     56.0  11/30/2011 0:00:00  10:30:00 PM       MST     7.0   \n",
       "902294.0     30.0  11/10/2011 0:00:00  02:48:00 PM       MST     9.0   \n",
       "902295.0      2.0   11/8/2011 0:00:00  02:58:00 PM       AKS   213.0   \n",
       "902296.0      2.0   11/9/2011 0:00:00  10:21:00 AM       AKS   202.0   \n",
       "902297.0      1.0  11/28/2011 0:00:00  08:00:00 PM       CST     6.0   \n",
       "\n",
       "             ...     INJURIES PROPDMG  CROPDMG  LONGITUDE  LONGITUDE_  \n",
       "REFNUM       ...                                                       \n",
       "1.0          ...         15.0    25.0      0.0     8812.0      8806.0  \n",
       "2.0          ...          0.0     2.5      0.0     8755.0         0.0  \n",
       "3.0          ...          2.0    25.0      0.0     8742.0         0.0  \n",
       "4.0          ...          2.0     2.5      0.0     8626.0         0.0  \n",
       "5.0          ...          2.0     2.5      0.0     8642.0         0.0  \n",
       "...          ...          ...     ...      ...        ...         ...  \n",
       "902293.0     ...          0.0     0.0      0.0        0.0         0.0  \n",
       "902294.0     ...          0.0     0.0      0.0        0.0         0.0  \n",
       "902295.0     ...          0.0     0.0      0.0        0.0         0.0  \n",
       "902296.0     ...          0.0     0.0      0.0        0.0         0.0  \n",
       "902297.0     ...          0.0     0.0      0.0        0.0         0.0  \n",
       "\n",
       "[902297 rows x 19 columns]"
      ]
     },
     "execution_count": 16,
     "metadata": {},
     "output_type": "execute_result"
    }
   ],
   "source": [
    "df.dropna(axis = 1)"
   ]
  },
  {
   "cell_type": "markdown",
   "metadata": {},
   "source": [
    "Also equivalent:\n",
    "\n",
    "```python\n",
    "df.dropna(how = 'any', axis = 1)\n",
    "```"
   ]
  },
  {
   "cell_type": "markdown",
   "metadata": {},
   "source": [
    "> ### Drop rows with all values as `NaN`:"
   ]
  },
  {
   "cell_type": "markdown",
   "metadata": {
    "collapsed": false
   },
   "source": [
    "df.dropna(how = 'all')"
   ]
  },
  {
   "cell_type": "markdown",
   "metadata": {},
   "source": [
    "> ### Drop columns with all values as `NaN`:"
   ]
  },
  {
   "cell_type": "code",
   "execution_count": 17,
   "metadata": {
    "collapsed": false
   },
   "outputs": [
    {
     "data": {
      "text/html": [
       "<div>\n",
       "<table border=\"1\" class=\"dataframe\">\n",
       "  <thead>\n",
       "    <tr style=\"text-align: right;\">\n",
       "      <th></th>\n",
       "      <th>STATE__</th>\n",
       "      <th>BGN_DATE</th>\n",
       "      <th>BGN_TIME</th>\n",
       "      <th>TIME_ZONE</th>\n",
       "      <th>COUNTY</th>\n",
       "      <th>...</th>\n",
       "      <th>LATITUDE</th>\n",
       "      <th>LONGITUDE</th>\n",
       "      <th>LATITUDE_E</th>\n",
       "      <th>LONGITUDE_</th>\n",
       "      <th>REMARKS</th>\n",
       "    </tr>\n",
       "    <tr>\n",
       "      <th>REFNUM</th>\n",
       "      <th></th>\n",
       "      <th></th>\n",
       "      <th></th>\n",
       "      <th></th>\n",
       "      <th></th>\n",
       "      <th></th>\n",
       "      <th></th>\n",
       "      <th></th>\n",
       "      <th></th>\n",
       "      <th></th>\n",
       "      <th></th>\n",
       "    </tr>\n",
       "  </thead>\n",
       "  <tbody>\n",
       "    <tr>\n",
       "      <th>1.0</th>\n",
       "      <td>1.0</td>\n",
       "      <td>4/18/1950 0:00:00</td>\n",
       "      <td>130</td>\n",
       "      <td>CST</td>\n",
       "      <td>97.0</td>\n",
       "      <td>...</td>\n",
       "      <td>3040.0</td>\n",
       "      <td>8812.0</td>\n",
       "      <td>3051.0</td>\n",
       "      <td>8806.0</td>\n",
       "      <td>NaN</td>\n",
       "    </tr>\n",
       "    <tr>\n",
       "      <th>2.0</th>\n",
       "      <td>1.0</td>\n",
       "      <td>4/18/1950 0:00:00</td>\n",
       "      <td>145</td>\n",
       "      <td>CST</td>\n",
       "      <td>3.0</td>\n",
       "      <td>...</td>\n",
       "      <td>3042.0</td>\n",
       "      <td>8755.0</td>\n",
       "      <td>0.0</td>\n",
       "      <td>0.0</td>\n",
       "      <td>NaN</td>\n",
       "    </tr>\n",
       "    <tr>\n",
       "      <th>3.0</th>\n",
       "      <td>1.0</td>\n",
       "      <td>2/20/1951 0:00:00</td>\n",
       "      <td>1600</td>\n",
       "      <td>CST</td>\n",
       "      <td>57.0</td>\n",
       "      <td>...</td>\n",
       "      <td>3340.0</td>\n",
       "      <td>8742.0</td>\n",
       "      <td>0.0</td>\n",
       "      <td>0.0</td>\n",
       "      <td>NaN</td>\n",
       "    </tr>\n",
       "    <tr>\n",
       "      <th>4.0</th>\n",
       "      <td>1.0</td>\n",
       "      <td>6/8/1951 0:00:00</td>\n",
       "      <td>900</td>\n",
       "      <td>CST</td>\n",
       "      <td>89.0</td>\n",
       "      <td>...</td>\n",
       "      <td>3458.0</td>\n",
       "      <td>8626.0</td>\n",
       "      <td>0.0</td>\n",
       "      <td>0.0</td>\n",
       "      <td>NaN</td>\n",
       "    </tr>\n",
       "    <tr>\n",
       "      <th>5.0</th>\n",
       "      <td>1.0</td>\n",
       "      <td>11/15/1951 0:00:00</td>\n",
       "      <td>1500</td>\n",
       "      <td>CST</td>\n",
       "      <td>43.0</td>\n",
       "      <td>...</td>\n",
       "      <td>3412.0</td>\n",
       "      <td>8642.0</td>\n",
       "      <td>0.0</td>\n",
       "      <td>0.0</td>\n",
       "      <td>NaN</td>\n",
       "    </tr>\n",
       "    <tr>\n",
       "      <th>...</th>\n",
       "      <td>...</td>\n",
       "      <td>...</td>\n",
       "      <td>...</td>\n",
       "      <td>...</td>\n",
       "      <td>...</td>\n",
       "      <td>...</td>\n",
       "      <td>...</td>\n",
       "      <td>...</td>\n",
       "      <td>...</td>\n",
       "      <td>...</td>\n",
       "      <td>...</td>\n",
       "    </tr>\n",
       "    <tr>\n",
       "      <th>902293.0</th>\n",
       "      <td>56.0</td>\n",
       "      <td>11/30/2011 0:00:00</td>\n",
       "      <td>10:30:00 PM</td>\n",
       "      <td>MST</td>\n",
       "      <td>7.0</td>\n",
       "      <td>...</td>\n",
       "      <td>0.0</td>\n",
       "      <td>0.0</td>\n",
       "      <td>0.0</td>\n",
       "      <td>0.0</td>\n",
       "      <td>EPISODE NARRATIVE: A strong cold front moved s...</td>\n",
       "    </tr>\n",
       "    <tr>\n",
       "      <th>902294.0</th>\n",
       "      <td>30.0</td>\n",
       "      <td>11/10/2011 0:00:00</td>\n",
       "      <td>02:48:00 PM</td>\n",
       "      <td>MST</td>\n",
       "      <td>9.0</td>\n",
       "      <td>...</td>\n",
       "      <td>0.0</td>\n",
       "      <td>0.0</td>\n",
       "      <td>0.0</td>\n",
       "      <td>0.0</td>\n",
       "      <td>EPISODE NARRATIVE: A strong westerly flow alof...</td>\n",
       "    </tr>\n",
       "    <tr>\n",
       "      <th>902295.0</th>\n",
       "      <td>2.0</td>\n",
       "      <td>11/8/2011 0:00:00</td>\n",
       "      <td>02:58:00 PM</td>\n",
       "      <td>AKS</td>\n",
       "      <td>213.0</td>\n",
       "      <td>...</td>\n",
       "      <td>0.0</td>\n",
       "      <td>0.0</td>\n",
       "      <td>0.0</td>\n",
       "      <td>0.0</td>\n",
       "      <td>EPISODE NARRATIVE: A 960 mb low over the south...</td>\n",
       "    </tr>\n",
       "    <tr>\n",
       "      <th>902296.0</th>\n",
       "      <td>2.0</td>\n",
       "      <td>11/9/2011 0:00:00</td>\n",
       "      <td>10:21:00 AM</td>\n",
       "      <td>AKS</td>\n",
       "      <td>202.0</td>\n",
       "      <td>...</td>\n",
       "      <td>0.0</td>\n",
       "      <td>0.0</td>\n",
       "      <td>0.0</td>\n",
       "      <td>0.0</td>\n",
       "      <td>EPISODE NARRATIVE: A 960 mb low over the south...</td>\n",
       "    </tr>\n",
       "    <tr>\n",
       "      <th>902297.0</th>\n",
       "      <td>1.0</td>\n",
       "      <td>11/28/2011 0:00:00</td>\n",
       "      <td>08:00:00 PM</td>\n",
       "      <td>CST</td>\n",
       "      <td>6.0</td>\n",
       "      <td>...</td>\n",
       "      <td>0.0</td>\n",
       "      <td>0.0</td>\n",
       "      <td>0.0</td>\n",
       "      <td>0.0</td>\n",
       "      <td>EPISODE NARRATIVE: An intense upper level low ...</td>\n",
       "    </tr>\n",
       "  </tbody>\n",
       "</table>\n",
       "<p>902297 rows × 35 columns</p>\n",
       "</div>"
      ],
      "text/plain": [
       "          STATE__            BGN_DATE     BGN_TIME TIME_ZONE  COUNTY  \\\n",
       "REFNUM                                                                 \n",
       "1.0           1.0   4/18/1950 0:00:00          130       CST    97.0   \n",
       "2.0           1.0   4/18/1950 0:00:00          145       CST     3.0   \n",
       "3.0           1.0   2/20/1951 0:00:00         1600       CST    57.0   \n",
       "4.0           1.0    6/8/1951 0:00:00          900       CST    89.0   \n",
       "5.0           1.0  11/15/1951 0:00:00         1500       CST    43.0   \n",
       "...           ...                 ...          ...       ...     ...   \n",
       "902293.0     56.0  11/30/2011 0:00:00  10:30:00 PM       MST     7.0   \n",
       "902294.0     30.0  11/10/2011 0:00:00  02:48:00 PM       MST     9.0   \n",
       "902295.0      2.0   11/8/2011 0:00:00  02:58:00 PM       AKS   213.0   \n",
       "902296.0      2.0   11/9/2011 0:00:00  10:21:00 AM       AKS   202.0   \n",
       "902297.0      1.0  11/28/2011 0:00:00  08:00:00 PM       CST     6.0   \n",
       "\n",
       "                                ...                         LATITUDE  \\\n",
       "REFNUM                          ...                                    \n",
       "1.0                             ...                           3040.0   \n",
       "2.0                             ...                           3042.0   \n",
       "3.0                             ...                           3340.0   \n",
       "4.0                             ...                           3458.0   \n",
       "5.0                             ...                           3412.0   \n",
       "...                             ...                              ...   \n",
       "902293.0                        ...                              0.0   \n",
       "902294.0                        ...                              0.0   \n",
       "902295.0                        ...                              0.0   \n",
       "902296.0                        ...                              0.0   \n",
       "902297.0                        ...                              0.0   \n",
       "\n",
       "         LONGITUDE LATITUDE_E  LONGITUDE_  \\\n",
       "REFNUM                                      \n",
       "1.0         8812.0     3051.0      8806.0   \n",
       "2.0         8755.0        0.0         0.0   \n",
       "3.0         8742.0        0.0         0.0   \n",
       "4.0         8626.0        0.0         0.0   \n",
       "5.0         8642.0        0.0         0.0   \n",
       "...            ...        ...         ...   \n",
       "902293.0       0.0        0.0         0.0   \n",
       "902294.0       0.0        0.0         0.0   \n",
       "902295.0       0.0        0.0         0.0   \n",
       "902296.0       0.0        0.0         0.0   \n",
       "902297.0       0.0        0.0         0.0   \n",
       "\n",
       "                                                    REMARKS  \n",
       "REFNUM                                                       \n",
       "1.0                                                     NaN  \n",
       "2.0                                                     NaN  \n",
       "3.0                                                     NaN  \n",
       "4.0                                                     NaN  \n",
       "5.0                                                     NaN  \n",
       "...                                                     ...  \n",
       "902293.0  EPISODE NARRATIVE: A strong cold front moved s...  \n",
       "902294.0  EPISODE NARRATIVE: A strong westerly flow alof...  \n",
       "902295.0  EPISODE NARRATIVE: A 960 mb low over the south...  \n",
       "902296.0  EPISODE NARRATIVE: A 960 mb low over the south...  \n",
       "902297.0  EPISODE NARRATIVE: An intense upper level low ...  \n",
       "\n",
       "[902297 rows x 35 columns]"
      ]
     },
     "execution_count": 17,
     "metadata": {},
     "output_type": "execute_result"
    }
   ],
   "source": [
    "df.dropna(how = 'all', axis = 1)"
   ]
  },
  {
   "cell_type": "markdown",
   "metadata": {
    "collapsed": true
   },
   "source": [
    "You can also use thresholds\n",
    "\n",
    "```python\n",
    "df.dropna(thresh =)\n",
    "```"
   ]
  },
  {
   "cell_type": "markdown",
   "metadata": {},
   "source": [
    "## Handling duplicate data"
   ]
  },
  {
   "cell_type": "markdown",
   "metadata": {},
   "source": [
    "- (http://pandas.pydata.org/pandas-docs/stable/generated/pandas.DataFrame.duplicated.html)\n",
    "- (http://pandas.pydata.org/pandas-docs/stable/generated/pandas.DataFrame.drop_duplicates.html)"
   ]
  },
  {
   "cell_type": "code",
   "execution_count": 18,
   "metadata": {
    "collapsed": false
   },
   "outputs": [
    {
     "data": {
      "text/plain": [
       "REFNUM\n",
       "1.0         False\n",
       "2.0         False\n",
       "3.0         False\n",
       "4.0         False\n",
       "5.0         False\n",
       "            ...  \n",
       "902293.0    False\n",
       "902294.0    False\n",
       "902295.0    False\n",
       "902296.0    False\n",
       "902297.0    False\n",
       "dtype: bool"
      ]
     },
     "execution_count": 18,
     "metadata": {},
     "output_type": "execute_result"
    }
   ],
   "source": [
    "df.duplicated()"
   ]
  },
  {
   "cell_type": "code",
   "execution_count": 19,
   "metadata": {
    "collapsed": false
   },
   "outputs": [
    {
     "data": {
      "text/plain": [
       "3143"
      ]
     },
     "execution_count": 19,
     "metadata": {},
     "output_type": "execute_result"
    }
   ],
   "source": [
    "df.duplicated().sum()"
   ]
  },
  {
   "cell_type": "code",
   "execution_count": 20,
   "metadata": {
    "collapsed": false
   },
   "outputs": [
    {
     "data": {
      "text/html": [
       "<div>\n",
       "<table border=\"1\" class=\"dataframe\">\n",
       "  <thead>\n",
       "    <tr style=\"text-align: right;\">\n",
       "      <th></th>\n",
       "      <th>STATE__</th>\n",
       "      <th>BGN_DATE</th>\n",
       "      <th>BGN_TIME</th>\n",
       "      <th>TIME_ZONE</th>\n",
       "      <th>COUNTY</th>\n",
       "      <th>...</th>\n",
       "      <th>LATITUDE</th>\n",
       "      <th>LONGITUDE</th>\n",
       "      <th>LATITUDE_E</th>\n",
       "      <th>LONGITUDE_</th>\n",
       "      <th>REMARKS</th>\n",
       "    </tr>\n",
       "    <tr>\n",
       "      <th>REFNUM</th>\n",
       "      <th></th>\n",
       "      <th></th>\n",
       "      <th></th>\n",
       "      <th></th>\n",
       "      <th></th>\n",
       "      <th></th>\n",
       "      <th></th>\n",
       "      <th></th>\n",
       "      <th></th>\n",
       "      <th></th>\n",
       "      <th></th>\n",
       "    </tr>\n",
       "  </thead>\n",
       "  <tbody>\n",
       "    <tr>\n",
       "      <th>19.0</th>\n",
       "      <td>1.0</td>\n",
       "      <td>5/10/1952 0:00:00</td>\n",
       "      <td>900</td>\n",
       "      <td>CST</td>\n",
       "      <td>57.0</td>\n",
       "      <td>...</td>\n",
       "      <td>3344.0</td>\n",
       "      <td>8745.0</td>\n",
       "      <td>0.0</td>\n",
       "      <td>0.0</td>\n",
       "      <td>NaN</td>\n",
       "    </tr>\n",
       "    <tr>\n",
       "      <th>20.0</th>\n",
       "      <td>1.0</td>\n",
       "      <td>5/10/1952 0:00:00</td>\n",
       "      <td>900</td>\n",
       "      <td>CST</td>\n",
       "      <td>57.0</td>\n",
       "      <td>...</td>\n",
       "      <td>3344.0</td>\n",
       "      <td>8745.0</td>\n",
       "      <td>0.0</td>\n",
       "      <td>0.0</td>\n",
       "      <td>NaN</td>\n",
       "    </tr>\n",
       "    <tr>\n",
       "      <th>260.0</th>\n",
       "      <td>1.0</td>\n",
       "      <td>7/4/1960 0:00:00</td>\n",
       "      <td>1750</td>\n",
       "      <td>CST</td>\n",
       "      <td>13.0</td>\n",
       "      <td>...</td>\n",
       "      <td>3139.0</td>\n",
       "      <td>8636.0</td>\n",
       "      <td>0.0</td>\n",
       "      <td>0.0</td>\n",
       "      <td>NaN</td>\n",
       "    </tr>\n",
       "    <tr>\n",
       "      <th>603.0</th>\n",
       "      <td>1.0</td>\n",
       "      <td>5/14/1967 0:00:00</td>\n",
       "      <td>2330</td>\n",
       "      <td>CST</td>\n",
       "      <td>77.0</td>\n",
       "      <td>...</td>\n",
       "      <td>3453.0</td>\n",
       "      <td>8730.0</td>\n",
       "      <td>0.0</td>\n",
       "      <td>0.0</td>\n",
       "      <td>NaN</td>\n",
       "    </tr>\n",
       "    <tr>\n",
       "      <th>604.0</th>\n",
       "      <td>1.0</td>\n",
       "      <td>5/14/1967 0:00:00</td>\n",
       "      <td>2330</td>\n",
       "      <td>CST</td>\n",
       "      <td>77.0</td>\n",
       "      <td>...</td>\n",
       "      <td>3453.0</td>\n",
       "      <td>8730.0</td>\n",
       "      <td>0.0</td>\n",
       "      <td>0.0</td>\n",
       "      <td>NaN</td>\n",
       "    </tr>\n",
       "    <tr>\n",
       "      <th>...</th>\n",
       "      <td>...</td>\n",
       "      <td>...</td>\n",
       "      <td>...</td>\n",
       "      <td>...</td>\n",
       "      <td>...</td>\n",
       "      <td>...</td>\n",
       "      <td>...</td>\n",
       "      <td>...</td>\n",
       "      <td>...</td>\n",
       "      <td>...</td>\n",
       "      <td>...</td>\n",
       "    </tr>\n",
       "    <tr>\n",
       "      <th>900771.0</th>\n",
       "      <td>38.0</td>\n",
       "      <td>10/7/2011 0:00:00</td>\n",
       "      <td>03:00:00 PM</td>\n",
       "      <td>CST</td>\n",
       "      <td>7.0</td>\n",
       "      <td>...</td>\n",
       "      <td>0.0</td>\n",
       "      <td>0.0</td>\n",
       "      <td>0.0</td>\n",
       "      <td>0.0</td>\n",
       "      <td>EPISODE NARRATIVE: A strong early October low ...</td>\n",
       "    </tr>\n",
       "    <tr>\n",
       "      <th>900806.0</th>\n",
       "      <td>27.0</td>\n",
       "      <td>10/7/2011 0:00:00</td>\n",
       "      <td>04:00:00 PM</td>\n",
       "      <td>CST</td>\n",
       "      <td>1.0</td>\n",
       "      <td>...</td>\n",
       "      <td>0.0</td>\n",
       "      <td>0.0</td>\n",
       "      <td>0.0</td>\n",
       "      <td>0.0</td>\n",
       "      <td>EPISODE NARRATIVE: A strong early October low ...</td>\n",
       "    </tr>\n",
       "    <tr>\n",
       "      <th>900807.0</th>\n",
       "      <td>36.0</td>\n",
       "      <td>10/29/2011 0:00:00</td>\n",
       "      <td>01:00:00 PM</td>\n",
       "      <td>EST</td>\n",
       "      <td>57.0</td>\n",
       "      <td>...</td>\n",
       "      <td>0.0</td>\n",
       "      <td>0.0</td>\n",
       "      <td>0.0</td>\n",
       "      <td>0.0</td>\n",
       "      <td>EPISODE NARRATIVE: An early season winter stor...</td>\n",
       "    </tr>\n",
       "    <tr>\n",
       "      <th>900808.0</th>\n",
       "      <td>38.0</td>\n",
       "      <td>10/24/2011 0:00:00</td>\n",
       "      <td>03:03:00 PM</td>\n",
       "      <td>CST</td>\n",
       "      <td>7.0</td>\n",
       "      <td>...</td>\n",
       "      <td>0.0</td>\n",
       "      <td>0.0</td>\n",
       "      <td>0.0</td>\n",
       "      <td>0.0</td>\n",
       "      <td>EPISODE NARRATIVE: Seasonably warm and dry con...</td>\n",
       "    </tr>\n",
       "    <tr>\n",
       "      <th>900809.0</th>\n",
       "      <td>27.0</td>\n",
       "      <td>10/5/2011 0:00:00</td>\n",
       "      <td>03:00:00 PM</td>\n",
       "      <td>CST</td>\n",
       "      <td>5.0</td>\n",
       "      <td>...</td>\n",
       "      <td>0.0</td>\n",
       "      <td>0.0</td>\n",
       "      <td>0.0</td>\n",
       "      <td>0.0</td>\n",
       "      <td>EPISODE NARRATIVE: A wildfire originated in Ju...</td>\n",
       "    </tr>\n",
       "  </tbody>\n",
       "</table>\n",
       "<p>3143 rows × 36 columns</p>\n",
       "</div>"
      ],
      "text/plain": [
       "          STATE__            BGN_DATE     BGN_TIME TIME_ZONE  COUNTY  \\\n",
       "REFNUM                                                                 \n",
       "19.0          1.0   5/10/1952 0:00:00          900       CST    57.0   \n",
       "20.0          1.0   5/10/1952 0:00:00          900       CST    57.0   \n",
       "260.0         1.0    7/4/1960 0:00:00         1750       CST    13.0   \n",
       "603.0         1.0   5/14/1967 0:00:00         2330       CST    77.0   \n",
       "604.0         1.0   5/14/1967 0:00:00         2330       CST    77.0   \n",
       "...           ...                 ...          ...       ...     ...   \n",
       "900771.0     38.0   10/7/2011 0:00:00  03:00:00 PM       CST     7.0   \n",
       "900806.0     27.0   10/7/2011 0:00:00  04:00:00 PM       CST     1.0   \n",
       "900807.0     36.0  10/29/2011 0:00:00  01:00:00 PM       EST    57.0   \n",
       "900808.0     38.0  10/24/2011 0:00:00  03:03:00 PM       CST     7.0   \n",
       "900809.0     27.0   10/5/2011 0:00:00  03:00:00 PM       CST     5.0   \n",
       "\n",
       "                                ...                         LATITUDE  \\\n",
       "REFNUM                          ...                                    \n",
       "19.0                            ...                           3344.0   \n",
       "20.0                            ...                           3344.0   \n",
       "260.0                           ...                           3139.0   \n",
       "603.0                           ...                           3453.0   \n",
       "604.0                           ...                           3453.0   \n",
       "...                             ...                              ...   \n",
       "900771.0                        ...                              0.0   \n",
       "900806.0                        ...                              0.0   \n",
       "900807.0                        ...                              0.0   \n",
       "900808.0                        ...                              0.0   \n",
       "900809.0                        ...                              0.0   \n",
       "\n",
       "         LONGITUDE LATITUDE_E  LONGITUDE_  \\\n",
       "REFNUM                                      \n",
       "19.0        8745.0        0.0         0.0   \n",
       "20.0        8745.0        0.0         0.0   \n",
       "260.0       8636.0        0.0         0.0   \n",
       "603.0       8730.0        0.0         0.0   \n",
       "604.0       8730.0        0.0         0.0   \n",
       "...            ...        ...         ...   \n",
       "900771.0       0.0        0.0         0.0   \n",
       "900806.0       0.0        0.0         0.0   \n",
       "900807.0       0.0        0.0         0.0   \n",
       "900808.0       0.0        0.0         0.0   \n",
       "900809.0       0.0        0.0         0.0   \n",
       "\n",
       "                                                    REMARKS  \n",
       "REFNUM                                                       \n",
       "19.0                                                    NaN  \n",
       "20.0                                                    NaN  \n",
       "260.0                                                   NaN  \n",
       "603.0                                                   NaN  \n",
       "604.0                                                   NaN  \n",
       "...                                                     ...  \n",
       "900771.0  EPISODE NARRATIVE: A strong early October low ...  \n",
       "900806.0  EPISODE NARRATIVE: A strong early October low ...  \n",
       "900807.0  EPISODE NARRATIVE: An early season winter stor...  \n",
       "900808.0  EPISODE NARRATIVE: Seasonably warm and dry con...  \n",
       "900809.0  EPISODE NARRATIVE: A wildfire originated in Ju...  \n",
       "\n",
       "[3143 rows x 36 columns]"
      ]
     },
     "execution_count": 20,
     "metadata": {},
     "output_type": "execute_result"
    }
   ],
   "source": [
    "df[df.duplicated()]"
   ]
  },
  {
   "cell_type": "code",
   "execution_count": 21,
   "metadata": {
    "collapsed": true
   },
   "outputs": [],
   "source": [
    "df.drop_duplicates(inplace = True)"
   ]
  },
  {
   "cell_type": "code",
   "execution_count": 22,
   "metadata": {
    "collapsed": false
   },
   "outputs": [
    {
     "data": {
      "text/plain": [
       "0"
      ]
     },
     "execution_count": 22,
     "metadata": {},
     "output_type": "execute_result"
    }
   ],
   "source": [
    "df.duplicated().sum()"
   ]
  },
  {
   "cell_type": "code",
   "execution_count": 23,
   "metadata": {
    "collapsed": false
   },
   "outputs": [
    {
     "data": {
      "text/html": [
       "<div>\n",
       "<table border=\"1\" class=\"dataframe\">\n",
       "  <thead>\n",
       "    <tr style=\"text-align: right;\">\n",
       "      <th></th>\n",
       "      <th>STATE__</th>\n",
       "      <th>BGN_DATE</th>\n",
       "      <th>BGN_TIME</th>\n",
       "      <th>TIME_ZONE</th>\n",
       "      <th>COUNTY</th>\n",
       "      <th>...</th>\n",
       "      <th>LATITUDE</th>\n",
       "      <th>LONGITUDE</th>\n",
       "      <th>LATITUDE_E</th>\n",
       "      <th>LONGITUDE_</th>\n",
       "      <th>REMARKS</th>\n",
       "    </tr>\n",
       "    <tr>\n",
       "      <th>REFNUM</th>\n",
       "      <th></th>\n",
       "      <th></th>\n",
       "      <th></th>\n",
       "      <th></th>\n",
       "      <th></th>\n",
       "      <th></th>\n",
       "      <th></th>\n",
       "      <th></th>\n",
       "      <th></th>\n",
       "      <th></th>\n",
       "      <th></th>\n",
       "    </tr>\n",
       "  </thead>\n",
       "  <tbody>\n",
       "    <tr>\n",
       "      <th>1.0</th>\n",
       "      <td>1.0</td>\n",
       "      <td>4/18/1950 0:00:00</td>\n",
       "      <td>130</td>\n",
       "      <td>CST</td>\n",
       "      <td>97.0</td>\n",
       "      <td>...</td>\n",
       "      <td>3040.0</td>\n",
       "      <td>8812.0</td>\n",
       "      <td>3051.0</td>\n",
       "      <td>8806.0</td>\n",
       "      <td>NaN</td>\n",
       "    </tr>\n",
       "    <tr>\n",
       "      <th>2.0</th>\n",
       "      <td>1.0</td>\n",
       "      <td>4/18/1950 0:00:00</td>\n",
       "      <td>145</td>\n",
       "      <td>CST</td>\n",
       "      <td>3.0</td>\n",
       "      <td>...</td>\n",
       "      <td>3042.0</td>\n",
       "      <td>8755.0</td>\n",
       "      <td>0.0</td>\n",
       "      <td>0.0</td>\n",
       "      <td>NaN</td>\n",
       "    </tr>\n",
       "    <tr>\n",
       "      <th>3.0</th>\n",
       "      <td>1.0</td>\n",
       "      <td>2/20/1951 0:00:00</td>\n",
       "      <td>1600</td>\n",
       "      <td>CST</td>\n",
       "      <td>57.0</td>\n",
       "      <td>...</td>\n",
       "      <td>3340.0</td>\n",
       "      <td>8742.0</td>\n",
       "      <td>0.0</td>\n",
       "      <td>0.0</td>\n",
       "      <td>NaN</td>\n",
       "    </tr>\n",
       "    <tr>\n",
       "      <th>4.0</th>\n",
       "      <td>1.0</td>\n",
       "      <td>6/8/1951 0:00:00</td>\n",
       "      <td>900</td>\n",
       "      <td>CST</td>\n",
       "      <td>89.0</td>\n",
       "      <td>...</td>\n",
       "      <td>3458.0</td>\n",
       "      <td>8626.0</td>\n",
       "      <td>0.0</td>\n",
       "      <td>0.0</td>\n",
       "      <td>NaN</td>\n",
       "    </tr>\n",
       "    <tr>\n",
       "      <th>5.0</th>\n",
       "      <td>1.0</td>\n",
       "      <td>11/15/1951 0:00:00</td>\n",
       "      <td>1500</td>\n",
       "      <td>CST</td>\n",
       "      <td>43.0</td>\n",
       "      <td>...</td>\n",
       "      <td>3412.0</td>\n",
       "      <td>8642.0</td>\n",
       "      <td>0.0</td>\n",
       "      <td>0.0</td>\n",
       "      <td>NaN</td>\n",
       "    </tr>\n",
       "    <tr>\n",
       "      <th>...</th>\n",
       "      <td>...</td>\n",
       "      <td>...</td>\n",
       "      <td>...</td>\n",
       "      <td>...</td>\n",
       "      <td>...</td>\n",
       "      <td>...</td>\n",
       "      <td>...</td>\n",
       "      <td>...</td>\n",
       "      <td>...</td>\n",
       "      <td>...</td>\n",
       "      <td>...</td>\n",
       "    </tr>\n",
       "    <tr>\n",
       "      <th>902293.0</th>\n",
       "      <td>56.0</td>\n",
       "      <td>11/30/2011 0:00:00</td>\n",
       "      <td>10:30:00 PM</td>\n",
       "      <td>MST</td>\n",
       "      <td>7.0</td>\n",
       "      <td>...</td>\n",
       "      <td>0.0</td>\n",
       "      <td>0.0</td>\n",
       "      <td>0.0</td>\n",
       "      <td>0.0</td>\n",
       "      <td>EPISODE NARRATIVE: A strong cold front moved s...</td>\n",
       "    </tr>\n",
       "    <tr>\n",
       "      <th>902294.0</th>\n",
       "      <td>30.0</td>\n",
       "      <td>11/10/2011 0:00:00</td>\n",
       "      <td>02:48:00 PM</td>\n",
       "      <td>MST</td>\n",
       "      <td>9.0</td>\n",
       "      <td>...</td>\n",
       "      <td>0.0</td>\n",
       "      <td>0.0</td>\n",
       "      <td>0.0</td>\n",
       "      <td>0.0</td>\n",
       "      <td>EPISODE NARRATIVE: A strong westerly flow alof...</td>\n",
       "    </tr>\n",
       "    <tr>\n",
       "      <th>902295.0</th>\n",
       "      <td>2.0</td>\n",
       "      <td>11/8/2011 0:00:00</td>\n",
       "      <td>02:58:00 PM</td>\n",
       "      <td>AKS</td>\n",
       "      <td>213.0</td>\n",
       "      <td>...</td>\n",
       "      <td>0.0</td>\n",
       "      <td>0.0</td>\n",
       "      <td>0.0</td>\n",
       "      <td>0.0</td>\n",
       "      <td>EPISODE NARRATIVE: A 960 mb low over the south...</td>\n",
       "    </tr>\n",
       "    <tr>\n",
       "      <th>902296.0</th>\n",
       "      <td>2.0</td>\n",
       "      <td>11/9/2011 0:00:00</td>\n",
       "      <td>10:21:00 AM</td>\n",
       "      <td>AKS</td>\n",
       "      <td>202.0</td>\n",
       "      <td>...</td>\n",
       "      <td>0.0</td>\n",
       "      <td>0.0</td>\n",
       "      <td>0.0</td>\n",
       "      <td>0.0</td>\n",
       "      <td>EPISODE NARRATIVE: A 960 mb low over the south...</td>\n",
       "    </tr>\n",
       "    <tr>\n",
       "      <th>902297.0</th>\n",
       "      <td>1.0</td>\n",
       "      <td>11/28/2011 0:00:00</td>\n",
       "      <td>08:00:00 PM</td>\n",
       "      <td>CST</td>\n",
       "      <td>6.0</td>\n",
       "      <td>...</td>\n",
       "      <td>0.0</td>\n",
       "      <td>0.0</td>\n",
       "      <td>0.0</td>\n",
       "      <td>0.0</td>\n",
       "      <td>EPISODE NARRATIVE: An intense upper level low ...</td>\n",
       "    </tr>\n",
       "  </tbody>\n",
       "</table>\n",
       "<p>899154 rows × 36 columns</p>\n",
       "</div>"
      ],
      "text/plain": [
       "          STATE__            BGN_DATE     BGN_TIME TIME_ZONE  COUNTY  \\\n",
       "REFNUM                                                                 \n",
       "1.0           1.0   4/18/1950 0:00:00          130       CST    97.0   \n",
       "2.0           1.0   4/18/1950 0:00:00          145       CST     3.0   \n",
       "3.0           1.0   2/20/1951 0:00:00         1600       CST    57.0   \n",
       "4.0           1.0    6/8/1951 0:00:00          900       CST    89.0   \n",
       "5.0           1.0  11/15/1951 0:00:00         1500       CST    43.0   \n",
       "...           ...                 ...          ...       ...     ...   \n",
       "902293.0     56.0  11/30/2011 0:00:00  10:30:00 PM       MST     7.0   \n",
       "902294.0     30.0  11/10/2011 0:00:00  02:48:00 PM       MST     9.0   \n",
       "902295.0      2.0   11/8/2011 0:00:00  02:58:00 PM       AKS   213.0   \n",
       "902296.0      2.0   11/9/2011 0:00:00  10:21:00 AM       AKS   202.0   \n",
       "902297.0      1.0  11/28/2011 0:00:00  08:00:00 PM       CST     6.0   \n",
       "\n",
       "                                ...                         LATITUDE  \\\n",
       "REFNUM                          ...                                    \n",
       "1.0                             ...                           3040.0   \n",
       "2.0                             ...                           3042.0   \n",
       "3.0                             ...                           3340.0   \n",
       "4.0                             ...                           3458.0   \n",
       "5.0                             ...                           3412.0   \n",
       "...                             ...                              ...   \n",
       "902293.0                        ...                              0.0   \n",
       "902294.0                        ...                              0.0   \n",
       "902295.0                        ...                              0.0   \n",
       "902296.0                        ...                              0.0   \n",
       "902297.0                        ...                              0.0   \n",
       "\n",
       "         LONGITUDE LATITUDE_E  LONGITUDE_  \\\n",
       "REFNUM                                      \n",
       "1.0         8812.0     3051.0      8806.0   \n",
       "2.0         8755.0        0.0         0.0   \n",
       "3.0         8742.0        0.0         0.0   \n",
       "4.0         8626.0        0.0         0.0   \n",
       "5.0         8642.0        0.0         0.0   \n",
       "...            ...        ...         ...   \n",
       "902293.0       0.0        0.0         0.0   \n",
       "902294.0       0.0        0.0         0.0   \n",
       "902295.0       0.0        0.0         0.0   \n",
       "902296.0       0.0        0.0         0.0   \n",
       "902297.0       0.0        0.0         0.0   \n",
       "\n",
       "                                                    REMARKS  \n",
       "REFNUM                                                       \n",
       "1.0                                                     NaN  \n",
       "2.0                                                     NaN  \n",
       "3.0                                                     NaN  \n",
       "4.0                                                     NaN  \n",
       "5.0                                                     NaN  \n",
       "...                                                     ...  \n",
       "902293.0  EPISODE NARRATIVE: A strong cold front moved s...  \n",
       "902294.0  EPISODE NARRATIVE: A strong westerly flow alof...  \n",
       "902295.0  EPISODE NARRATIVE: A 960 mb low over the south...  \n",
       "902296.0  EPISODE NARRATIVE: A 960 mb low over the south...  \n",
       "902297.0  EPISODE NARRATIVE: An intense upper level low ...  \n",
       "\n",
       "[899154 rows x 36 columns]"
      ]
     },
     "execution_count": 23,
     "metadata": {},
     "output_type": "execute_result"
    }
   ],
   "source": [
    "df"
   ]
  },
  {
   "cell_type": "markdown",
   "metadata": {},
   "source": [
    "## Fatalities and Injuries"
   ]
  },
  {
   "cell_type": "markdown",
   "metadata": {},
   "source": [
    "- (http://pandas.pydata.org/pandas-docs/stable/generated/pandas.DataFrame.rename.html)"
   ]
  },
  {
   "cell_type": "code",
   "execution_count": 24,
   "metadata": {
    "collapsed": true
   },
   "outputs": [],
   "source": [
    "df.rename(columns = {'FATALITIES': 'Fatalities', 'INJURIES': 'Injuries'}, inplace = True)"
   ]
  },
  {
   "cell_type": "markdown",
   "metadata": {},
   "source": [
    "## Property and Crop Damages"
   ]
  },
  {
   "cell_type": "code",
   "execution_count": 25,
   "metadata": {
    "collapsed": false
   },
   "outputs": [
    {
     "data": {
      "text/plain": [
       "array([nan, '+', '-', '0', '1', '2', '3', '4', '5', '6', '7', '8', '?',\n",
       "       'B', 'H', 'K', 'M', 'h', 'm'], dtype=object)"
      ]
     },
     "execution_count": 25,
     "metadata": {},
     "output_type": "execute_result"
    }
   ],
   "source": [
    "np.sort(df.PROPDMGEXP.unique())"
   ]
  },
  {
   "cell_type": "code",
   "execution_count": 26,
   "metadata": {
    "collapsed": false
   },
   "outputs": [
    {
     "data": {
      "text/plain": [
       "array([nan, '0', '2', '?', 'B', 'K', 'M', 'k', 'm'], dtype=object)"
      ]
     },
     "execution_count": 26,
     "metadata": {},
     "output_type": "execute_result"
    }
   ],
   "source": [
    "np.sort(df.CROPDMGEXP.unique())"
   ]
  },
  {
   "cell_type": "code",
   "execution_count": 27,
   "metadata": {
    "collapsed": false
   },
   "outputs": [],
   "source": [
    "exponent_to_multiplier = {\n",
    "    '+': np.nan, '-': np.nan, '?': np.nan,\n",
    "    '0': 10 ** 0,\n",
    "    '1': 10 ** 1,\n",
    "    '2': 10 ** 2, 'H': 10 ** 2, 'h': 10 ** 2,\n",
    "    '3': 10 ** 3,'K': 10 ** 3,'k': 10 ** 3,\n",
    "    '4': 10 ** 4,\n",
    "    '5': 10 ** 5,\n",
    "    '6': 10 ** 6, 'M': 10 ** 6, 'm': 10 ** 6,\n",
    "    '7': 10 ** 7,\n",
    "    '8': 10 ** 8,\n",
    "    'B': 10 ** 9\n",
    "}"
   ]
  },
  {
   "cell_type": "code",
   "execution_count": 28,
   "metadata": {
    "collapsed": false
   },
   "outputs": [],
   "source": [
    "df['PropertyDamages'] = df.PROPDMG * df.PROPDMGEXP.map(exponent_to_multiplier)"
   ]
  },
  {
   "cell_type": "code",
   "execution_count": 29,
   "metadata": {
    "collapsed": true
   },
   "outputs": [],
   "source": [
    "df['CropDamages'] = df.CROPDMG * df.CROPDMGEXP.map(exponent_to_multiplier)"
   ]
  },
  {
   "cell_type": "code",
   "execution_count": 30,
   "metadata": {
    "collapsed": false
   },
   "outputs": [
    {
     "data": {
      "text/plain": [
       "REFNUM\n",
       "1.0         25000.0\n",
       "2.0          2500.0\n",
       "3.0         25000.0\n",
       "4.0          2500.0\n",
       "5.0          2500.0\n",
       "             ...   \n",
       "902293.0        0.0\n",
       "902294.0        0.0\n",
       "902295.0        0.0\n",
       "902296.0        0.0\n",
       "902297.0        0.0\n",
       "Name: PropertyDamages, dtype: float64"
      ]
     },
     "execution_count": 30,
     "metadata": {},
     "output_type": "execute_result"
    }
   ],
   "source": [
    "df.PropertyDamages"
   ]
  },
  {
   "cell_type": "code",
   "execution_count": 31,
   "metadata": {
    "collapsed": false
   },
   "outputs": [],
   "source": [
    "df.drop(['PROPDMG', 'PROPDMGEXP', 'CROPDMG', 'CROPDMGEXP'], axis = 1, inplace = True)"
   ]
  },
  {
   "cell_type": "code",
   "execution_count": 32,
   "metadata": {
    "collapsed": false
   },
   "outputs": [
    {
     "data": {
      "text/html": [
       "<div>\n",
       "<table border=\"1\" class=\"dataframe\">\n",
       "  <thead>\n",
       "    <tr style=\"text-align: right;\">\n",
       "      <th></th>\n",
       "      <th>STATE__</th>\n",
       "      <th>BGN_DATE</th>\n",
       "      <th>BGN_TIME</th>\n",
       "      <th>TIME_ZONE</th>\n",
       "      <th>COUNTY</th>\n",
       "      <th>...</th>\n",
       "      <th>LATITUDE_E</th>\n",
       "      <th>LONGITUDE_</th>\n",
       "      <th>REMARKS</th>\n",
       "      <th>PropertyDamages</th>\n",
       "      <th>CropDamages</th>\n",
       "    </tr>\n",
       "    <tr>\n",
       "      <th>REFNUM</th>\n",
       "      <th></th>\n",
       "      <th></th>\n",
       "      <th></th>\n",
       "      <th></th>\n",
       "      <th></th>\n",
       "      <th></th>\n",
       "      <th></th>\n",
       "      <th></th>\n",
       "      <th></th>\n",
       "      <th></th>\n",
       "      <th></th>\n",
       "    </tr>\n",
       "  </thead>\n",
       "  <tbody>\n",
       "    <tr>\n",
       "      <th>1.0</th>\n",
       "      <td>1.0</td>\n",
       "      <td>4/18/1950 0:00:00</td>\n",
       "      <td>130</td>\n",
       "      <td>CST</td>\n",
       "      <td>97.0</td>\n",
       "      <td>...</td>\n",
       "      <td>3051.0</td>\n",
       "      <td>8806.0</td>\n",
       "      <td>NaN</td>\n",
       "      <td>25000.0</td>\n",
       "      <td>NaN</td>\n",
       "    </tr>\n",
       "    <tr>\n",
       "      <th>2.0</th>\n",
       "      <td>1.0</td>\n",
       "      <td>4/18/1950 0:00:00</td>\n",
       "      <td>145</td>\n",
       "      <td>CST</td>\n",
       "      <td>3.0</td>\n",
       "      <td>...</td>\n",
       "      <td>0.0</td>\n",
       "      <td>0.0</td>\n",
       "      <td>NaN</td>\n",
       "      <td>2500.0</td>\n",
       "      <td>NaN</td>\n",
       "    </tr>\n",
       "    <tr>\n",
       "      <th>3.0</th>\n",
       "      <td>1.0</td>\n",
       "      <td>2/20/1951 0:00:00</td>\n",
       "      <td>1600</td>\n",
       "      <td>CST</td>\n",
       "      <td>57.0</td>\n",
       "      <td>...</td>\n",
       "      <td>0.0</td>\n",
       "      <td>0.0</td>\n",
       "      <td>NaN</td>\n",
       "      <td>25000.0</td>\n",
       "      <td>NaN</td>\n",
       "    </tr>\n",
       "    <tr>\n",
       "      <th>4.0</th>\n",
       "      <td>1.0</td>\n",
       "      <td>6/8/1951 0:00:00</td>\n",
       "      <td>900</td>\n",
       "      <td>CST</td>\n",
       "      <td>89.0</td>\n",
       "      <td>...</td>\n",
       "      <td>0.0</td>\n",
       "      <td>0.0</td>\n",
       "      <td>NaN</td>\n",
       "      <td>2500.0</td>\n",
       "      <td>NaN</td>\n",
       "    </tr>\n",
       "    <tr>\n",
       "      <th>5.0</th>\n",
       "      <td>1.0</td>\n",
       "      <td>11/15/1951 0:00:00</td>\n",
       "      <td>1500</td>\n",
       "      <td>CST</td>\n",
       "      <td>43.0</td>\n",
       "      <td>...</td>\n",
       "      <td>0.0</td>\n",
       "      <td>0.0</td>\n",
       "      <td>NaN</td>\n",
       "      <td>2500.0</td>\n",
       "      <td>NaN</td>\n",
       "    </tr>\n",
       "    <tr>\n",
       "      <th>...</th>\n",
       "      <td>...</td>\n",
       "      <td>...</td>\n",
       "      <td>...</td>\n",
       "      <td>...</td>\n",
       "      <td>...</td>\n",
       "      <td>...</td>\n",
       "      <td>...</td>\n",
       "      <td>...</td>\n",
       "      <td>...</td>\n",
       "      <td>...</td>\n",
       "      <td>...</td>\n",
       "    </tr>\n",
       "    <tr>\n",
       "      <th>902293.0</th>\n",
       "      <td>56.0</td>\n",
       "      <td>11/30/2011 0:00:00</td>\n",
       "      <td>10:30:00 PM</td>\n",
       "      <td>MST</td>\n",
       "      <td>7.0</td>\n",
       "      <td>...</td>\n",
       "      <td>0.0</td>\n",
       "      <td>0.0</td>\n",
       "      <td>EPISODE NARRATIVE: A strong cold front moved s...</td>\n",
       "      <td>0.0</td>\n",
       "      <td>0.0</td>\n",
       "    </tr>\n",
       "    <tr>\n",
       "      <th>902294.0</th>\n",
       "      <td>30.0</td>\n",
       "      <td>11/10/2011 0:00:00</td>\n",
       "      <td>02:48:00 PM</td>\n",
       "      <td>MST</td>\n",
       "      <td>9.0</td>\n",
       "      <td>...</td>\n",
       "      <td>0.0</td>\n",
       "      <td>0.0</td>\n",
       "      <td>EPISODE NARRATIVE: A strong westerly flow alof...</td>\n",
       "      <td>0.0</td>\n",
       "      <td>0.0</td>\n",
       "    </tr>\n",
       "    <tr>\n",
       "      <th>902295.0</th>\n",
       "      <td>2.0</td>\n",
       "      <td>11/8/2011 0:00:00</td>\n",
       "      <td>02:58:00 PM</td>\n",
       "      <td>AKS</td>\n",
       "      <td>213.0</td>\n",
       "      <td>...</td>\n",
       "      <td>0.0</td>\n",
       "      <td>0.0</td>\n",
       "      <td>EPISODE NARRATIVE: A 960 mb low over the south...</td>\n",
       "      <td>0.0</td>\n",
       "      <td>0.0</td>\n",
       "    </tr>\n",
       "    <tr>\n",
       "      <th>902296.0</th>\n",
       "      <td>2.0</td>\n",
       "      <td>11/9/2011 0:00:00</td>\n",
       "      <td>10:21:00 AM</td>\n",
       "      <td>AKS</td>\n",
       "      <td>202.0</td>\n",
       "      <td>...</td>\n",
       "      <td>0.0</td>\n",
       "      <td>0.0</td>\n",
       "      <td>EPISODE NARRATIVE: A 960 mb low over the south...</td>\n",
       "      <td>0.0</td>\n",
       "      <td>0.0</td>\n",
       "    </tr>\n",
       "    <tr>\n",
       "      <th>902297.0</th>\n",
       "      <td>1.0</td>\n",
       "      <td>11/28/2011 0:00:00</td>\n",
       "      <td>08:00:00 PM</td>\n",
       "      <td>CST</td>\n",
       "      <td>6.0</td>\n",
       "      <td>...</td>\n",
       "      <td>0.0</td>\n",
       "      <td>0.0</td>\n",
       "      <td>EPISODE NARRATIVE: An intense upper level low ...</td>\n",
       "      <td>0.0</td>\n",
       "      <td>0.0</td>\n",
       "    </tr>\n",
       "  </tbody>\n",
       "</table>\n",
       "<p>899154 rows × 34 columns</p>\n",
       "</div>"
      ],
      "text/plain": [
       "          STATE__            BGN_DATE     BGN_TIME TIME_ZONE  COUNTY  \\\n",
       "REFNUM                                                                 \n",
       "1.0           1.0   4/18/1950 0:00:00          130       CST    97.0   \n",
       "2.0           1.0   4/18/1950 0:00:00          145       CST     3.0   \n",
       "3.0           1.0   2/20/1951 0:00:00         1600       CST    57.0   \n",
       "4.0           1.0    6/8/1951 0:00:00          900       CST    89.0   \n",
       "5.0           1.0  11/15/1951 0:00:00         1500       CST    43.0   \n",
       "...           ...                 ...          ...       ...     ...   \n",
       "902293.0     56.0  11/30/2011 0:00:00  10:30:00 PM       MST     7.0   \n",
       "902294.0     30.0  11/10/2011 0:00:00  02:48:00 PM       MST     9.0   \n",
       "902295.0      2.0   11/8/2011 0:00:00  02:58:00 PM       AKS   213.0   \n",
       "902296.0      2.0   11/9/2011 0:00:00  10:21:00 AM       AKS   202.0   \n",
       "902297.0      1.0  11/28/2011 0:00:00  08:00:00 PM       CST     6.0   \n",
       "\n",
       "             ...     LATITUDE_E LONGITUDE_  \\\n",
       "REFNUM       ...                             \n",
       "1.0          ...         3051.0     8806.0   \n",
       "2.0          ...            0.0        0.0   \n",
       "3.0          ...            0.0        0.0   \n",
       "4.0          ...            0.0        0.0   \n",
       "5.0          ...            0.0        0.0   \n",
       "...          ...            ...        ...   \n",
       "902293.0     ...            0.0        0.0   \n",
       "902294.0     ...            0.0        0.0   \n",
       "902295.0     ...            0.0        0.0   \n",
       "902296.0     ...            0.0        0.0   \n",
       "902297.0     ...            0.0        0.0   \n",
       "\n",
       "                                                    REMARKS  PropertyDamages  \\\n",
       "REFNUM                                                                         \n",
       "1.0                                                     NaN          25000.0   \n",
       "2.0                                                     NaN           2500.0   \n",
       "3.0                                                     NaN          25000.0   \n",
       "4.0                                                     NaN           2500.0   \n",
       "5.0                                                     NaN           2500.0   \n",
       "...                                                     ...              ...   \n",
       "902293.0  EPISODE NARRATIVE: A strong cold front moved s...              0.0   \n",
       "902294.0  EPISODE NARRATIVE: A strong westerly flow alof...              0.0   \n",
       "902295.0  EPISODE NARRATIVE: A 960 mb low over the south...              0.0   \n",
       "902296.0  EPISODE NARRATIVE: A 960 mb low over the south...              0.0   \n",
       "902297.0  EPISODE NARRATIVE: An intense upper level low ...              0.0   \n",
       "\n",
       "         CropDamages  \n",
       "REFNUM                \n",
       "1.0              NaN  \n",
       "2.0              NaN  \n",
       "3.0              NaN  \n",
       "4.0              NaN  \n",
       "5.0              NaN  \n",
       "...              ...  \n",
       "902293.0         0.0  \n",
       "902294.0         0.0  \n",
       "902295.0         0.0  \n",
       "902296.0         0.0  \n",
       "902297.0         0.0  \n",
       "\n",
       "[899154 rows x 34 columns]"
      ]
     },
     "execution_count": 32,
     "metadata": {},
     "output_type": "execute_result"
    }
   ],
   "source": [
    "df"
   ]
  },
  {
   "cell_type": "code",
   "execution_count": 33,
   "metadata": {
    "collapsed": false
   },
   "outputs": [],
   "source": [
    "fatalities = df.Fatalities.sum()\n",
    "injuries = df.Injuries.sum()\n",
    "property_damages = df.PropertyDamages.sum()\n",
    "crop_damages = df.CropDamages.sum()"
   ]
  },
  {
   "cell_type": "code",
   "execution_count": 34,
   "metadata": {
    "collapsed": false
   },
   "outputs": [
    {
     "name": "stdout",
     "output_type": "stream",
     "text": [
      "15081.0\n",
      "139710.0\n",
      "426636.961988\n",
      "49028.86267\n"
     ]
    }
   ],
   "source": [
    "print fatalities\n",
    "print injuries\n",
    "\n",
    "# Converting damamges from $ to $B\n",
    "print property_damages / (10 ** 6)\n",
    "print crop_damages / (10 ** 6)"
   ]
  },
  {
   "cell_type": "markdown",
   "metadata": {},
   "source": [
    "## Dropping uneventfull observations"
   ]
  },
  {
   "cell_type": "code",
   "execution_count": 35,
   "metadata": {
    "collapsed": false
   },
   "outputs": [
    {
     "data": {
      "text/plain": [
       "899154"
      ]
     },
     "execution_count": 35,
     "metadata": {},
     "output_type": "execute_result"
    }
   ],
   "source": [
    "df.shape[0]"
   ]
  },
  {
   "cell_type": "code",
   "execution_count": 36,
   "metadata": {
    "collapsed": false
   },
   "outputs": [
    {
     "data": {
      "text/plain": [
       "253819"
      ]
     },
     "execution_count": 36,
     "metadata": {},
     "output_type": "execute_result"
    }
   ],
   "source": [
    "df[(df.Fatalities > 0) | (df.Injuries > 0) | (df.PropertyDamages > 0) | (df.CropDamages > 0)].shape[0]"
   ]
  },
  {
   "cell_type": "markdown",
   "metadata": {},
   "source": [
    "> ### We have quite a number of events in which nothing interesting happened.  Let's drop them to make the rest of wrangling the data easier."
   ]
  },
  {
   "cell_type": "code",
   "execution_count": 37,
   "metadata": {
    "collapsed": true
   },
   "outputs": [],
   "source": [
    "df = df[(df.Fatalities > 0) | (df.Injuries > 0) | (df.PropertyDamages > 0) | (df.CropDamages > 0)]"
   ]
  },
  {
   "cell_type": "markdown",
   "metadata": {},
   "source": [
    "## Event Types"
   ]
  },
  {
   "cell_type": "code",
   "execution_count": 38,
   "metadata": {
    "collapsed": false
   },
   "outputs": [
    {
     "data": {
      "text/plain": [
       "array(['   HIGH SURF ADVISORY', ' FLASH FLOOD', ' TSTM WIND',\n",
       "       ' TSTM WIND (G45)', '?', 'AGRICULTURAL FREEZE', 'APACHE COUNTY',\n",
       "       'ASTRONOMICAL HIGH TIDE', 'ASTRONOMICAL LOW TIDE', 'AVALANCE',\n",
       "       'AVALANCHE', 'BLACK ICE', 'BLIZZARD', 'BLIZZARD/WINTER STORM',\n",
       "       'BLOWING DUST', 'BLOWING SNOW', 'BRUSH FIRE', 'Beach Erosion',\n",
       "       'COASTAL  FLOODING/EROSION', 'COASTAL EROSION', 'COASTAL FLOOD',\n",
       "       'COASTAL FLOODING', 'COASTAL FLOODING/EROSION', 'COASTAL STORM',\n",
       "       'COASTAL SURGE', 'COASTALSTORM', 'COLD', 'COLD AIR TORNADO',\n",
       "       'COLD AND SNOW', 'COLD AND WET CONDITIONS', 'COLD WAVE',\n",
       "       'COLD WEATHER', 'COLD/WIND CHILL', 'COLD/WINDS', 'COOL AND WET',\n",
       "       'Coastal Flood', 'Coastal Flooding', 'Coastal Storm', 'Cold',\n",
       "       'Cold Temperature', 'DAM BREAK', 'DAMAGING FREEZE', 'DENSE FOG',\n",
       "       'DENSE SMOKE', 'DOWNBURST', 'DROUGHT', 'DROUGHT/EXCESSIVE HEAT',\n",
       "       'DROWNING', 'DRY MICROBURST', 'DRY MIRCOBURST WINDS', 'DUST DEVIL',\n",
       "       'DUST DEVIL WATERSPOUT', 'DUST STORM', 'DUST STORM/HIGH WINDS',\n",
       "       'Damaging Freeze', 'Dust Devil', 'EXCESSIVE HEAT',\n",
       "       'EXCESSIVE RAINFALL', 'EXCESSIVE SNOW', 'EXCESSIVE WETNESS',\n",
       "       'EXTREME COLD', 'EXTREME COLD/WIND CHILL', 'EXTREME HEAT',\n",
       "       'EXTREME WIND CHILL', 'EXTREME WINDCHILL', 'Early Frost',\n",
       "       'Erosion/Cstl Flood', 'Extended Cold', 'Extreme Cold',\n",
       "       'FALLING SNOW/ICE', 'FLASH FLOOD', 'FLASH FLOOD - HEAVY RAIN',\n",
       "       'FLASH FLOOD FROM ICE JAMS', 'FLASH FLOOD LANDSLIDES',\n",
       "       'FLASH FLOOD/', 'FLASH FLOOD/ STREET', 'FLASH FLOOD/FLOOD',\n",
       "       'FLASH FLOOD/LANDSLIDE', 'FLASH FLOODING', 'FLASH FLOODING/FLOOD',\n",
       "       'FLASH FLOODING/THUNDERSTORM WI', 'FLASH FLOODS', 'FLOOD',\n",
       "       'FLOOD & HEAVY RAIN', 'FLOOD FLASH', 'FLOOD/FLASH',\n",
       "       'FLOOD/FLASH FLOOD', 'FLOOD/FLASH/FLOOD', 'FLOOD/FLASHFLOOD',\n",
       "       'FLOOD/RAIN/WINDS', 'FLOOD/RIVER FLOOD', 'FLOODING', 'FLOODS',\n",
       "       'FOG', 'FOG AND COLD TEMPERATURES', 'FOREST FIRES', 'FREEZE',\n",
       "       'FREEZING DRIZZLE', 'FREEZING FOG', 'FREEZING RAIN',\n",
       "       'FREEZING RAIN/SLEET', 'FREEZING RAIN/SNOW', 'FROST',\n",
       "       'FROST/FREEZE', 'FROST\\\\FREEZE', 'FUNNEL CLOUD', 'Freeze',\n",
       "       'Freezing Drizzle', 'Freezing Rain', 'Freezing Spray',\n",
       "       'Freezing drizzle', 'Frost/Freeze', 'GLAZE', 'GLAZE ICE',\n",
       "       'GLAZE/ICE STORM', 'GRADIENT WIND', 'GRASS FIRES',\n",
       "       'GROUND BLIZZARD', 'GUSTNADO', 'GUSTY WIND', 'GUSTY WIND/HAIL',\n",
       "       'GUSTY WIND/HVY RAIN', 'GUSTY WINDS', 'Glaze', 'Gradient wind',\n",
       "       'Gusty Winds', 'Gusty wind/rain', 'Gusty winds', 'HAIL',\n",
       "       'HAIL 0.75', 'HAIL 075', 'HAIL 100', 'HAIL 125', 'HAIL 150',\n",
       "       'HAIL 175', 'HAIL 200', 'HAIL 275', 'HAIL 450', 'HAIL 75',\n",
       "       'HAIL DAMAGE', 'HAIL/WIND', 'HAIL/WINDS', 'HAILSTORM',\n",
       "       'HARD FREEZE', 'HAZARDOUS SURF', 'HEAT', 'HEAT WAVE',\n",
       "       'HEAT WAVE DROUGHT', 'HEAT WAVES', 'HEAVY LAKE SNOW', 'HEAVY MIX',\n",
       "       'HEAVY PRECIPITATION', 'HEAVY RAIN', 'HEAVY RAIN AND FLOOD',\n",
       "       'HEAVY RAIN/LIGHTNING', 'HEAVY RAIN/SEVERE WEATHER',\n",
       "       'HEAVY RAIN/SMALL STREAM URBAN', 'HEAVY RAIN/SNOW', 'HEAVY RAINS',\n",
       "       'HEAVY RAINS/FLOODING', 'HEAVY SEAS', 'HEAVY SHOWER', 'HEAVY SNOW',\n",
       "       'HEAVY SNOW AND HIGH WINDS', 'HEAVY SNOW AND STRONG WINDS',\n",
       "       'HEAVY SNOW SQUALLS', 'HEAVY SNOW-SQUALLS', 'HEAVY SNOW/BLIZZARD',\n",
       "       'HEAVY SNOW/BLIZZARD/AVALANCHE', 'HEAVY SNOW/FREEZING RAIN',\n",
       "       'HEAVY SNOW/HIGH WINDS & FLOOD', 'HEAVY SNOW/ICE',\n",
       "       'HEAVY SNOW/SQUALLS', 'HEAVY SNOW/WIND', 'HEAVY SNOW/WINTER STORM',\n",
       "       'HEAVY SNOWPACK', 'HEAVY SURF', 'HEAVY SURF COASTAL FLOODING',\n",
       "       'HEAVY SURF/HIGH SURF', 'HEAVY SWELLS', 'HIGH', 'HIGH  WINDS',\n",
       "       'HIGH SEAS', 'HIGH SURF', 'HIGH SWELLS', 'HIGH TIDES', 'HIGH WATER',\n",
       "       'HIGH WAVES', 'HIGH WIND', 'HIGH WIND (G40)', 'HIGH WIND 48',\n",
       "       'HIGH WIND AND SEAS', 'HIGH WIND DAMAGE', 'HIGH WIND/BLIZZARD',\n",
       "       'HIGH WIND/HEAVY SNOW', 'HIGH WIND/SEAS', 'HIGH WINDS',\n",
       "       'HIGH WINDS HEAVY RAINS', 'HIGH WINDS/', 'HIGH WINDS/COASTAL FLOOD',\n",
       "       'HIGH WINDS/COLD', 'HIGH WINDS/HEAVY RAIN', 'HIGH WINDS/SNOW',\n",
       "       'HURRICANE', 'HURRICANE EMILY', 'HURRICANE ERIN', 'HURRICANE FELIX',\n",
       "       'HURRICANE GORDON', 'HURRICANE OPAL', 'HURRICANE OPAL/HIGH WINDS',\n",
       "       'HURRICANE-GENERATED SWELLS', 'HURRICANE/TYPHOON', 'HVY RAIN',\n",
       "       'HYPERTHERMIA/EXPOSURE', 'HYPOTHERMIA', 'HYPOTHERMIA/EXPOSURE',\n",
       "       'Heat Wave', 'Heavy Rain/High Surf', 'Heavy Surf',\n",
       "       'Heavy snow shower', 'Heavy surf and wind', 'High Surf',\n",
       "       'Hurricane Edouard', 'Hypothermia/Exposure', 'ICE', 'ICE AND SNOW',\n",
       "       'ICE FLOES', 'ICE JAM', 'ICE JAM FLOODING', 'ICE ON ROAD',\n",
       "       'ICE ROADS', 'ICE STORM', 'ICE STORM/FLASH FLOOD',\n",
       "       'ICE/STRONG WINDS', 'ICY ROADS', 'Ice jam flood (minor',\n",
       "       'LAKE EFFECT SNOW', 'LAKE FLOOD', 'LAKE-EFFECT SNOW',\n",
       "       'LAKESHORE FLOOD', 'LANDSLIDE', 'LANDSLIDES', 'LANDSPOUT',\n",
       "       'LATE SEASON SNOW', 'LIGHT FREEZING RAIN', 'LIGHT SNOW', 'LIGHTING',\n",
       "       'LIGHTNING', 'LIGHTNING  WAUSEON', 'LIGHTNING AND HEAVY RAIN',\n",
       "       'LIGHTNING AND THUNDERSTORM WIN', 'LIGHTNING FIRE',\n",
       "       'LIGHTNING INJURY', 'LIGHTNING THUNDERSTORM WINDS', 'LIGHTNING.',\n",
       "       'LIGHTNING/HEAVY RAIN', 'LIGNTNING', 'LOW TEMPERATURE',\n",
       "       'Lake Effect Snow', 'Landslump', 'Light Snow', 'Light Snowfall',\n",
       "       'Light snow', 'MAJOR FLOOD', 'MARINE HAIL', 'MARINE HIGH WIND',\n",
       "       'MARINE MISHAP', 'MARINE STRONG WIND', 'MARINE THUNDERSTORM WIND',\n",
       "       'MARINE TSTM WIND', 'MICROBURST', 'MICROBURST WINDS',\n",
       "       'MINOR FLOODING', 'MIXED PRECIP', 'MIXED PRECIPITATION',\n",
       "       'MUD SLIDE', 'MUD SLIDES', 'MUD SLIDES URBAN FLOODING', 'MUDSLIDE',\n",
       "       'MUDSLIDES', 'Marine Accident', 'Microburst', 'Mixed Precipitation',\n",
       "       'Mudslide', 'Mudslides', 'NON TSTM WIND', 'NON-SEVERE WIND DAMAGE',\n",
       "       'NON-TSTM WIND', 'OTHER', 'Other', 'RAIN', 'RAIN/SNOW', 'RAIN/WIND',\n",
       "       'RAINSTORM', 'RAPIDLY RISING WATER', 'RECORD COLD', 'RECORD HEAT',\n",
       "       'RECORD RAINFALL', 'RECORD SNOW', 'RECORD/EXCESSIVE HEAT',\n",
       "       'RIP CURRENT', 'RIP CURRENTS', 'RIP CURRENTS/HEAVY SURF',\n",
       "       'RIVER AND STREAM FLOOD', 'RIVER FLOOD', 'RIVER FLOODING',\n",
       "       'ROCK SLIDE', 'ROGUE WAVE', 'ROUGH SEAS', 'ROUGH SURF',\n",
       "       'RURAL FLOOD', 'River Flooding', 'SEICHE', 'SEVERE THUNDERSTORM',\n",
       "       'SEVERE THUNDERSTORM WINDS', 'SEVERE THUNDERSTORMS',\n",
       "       'SEVERE TURBULENCE', 'SLEET', 'SLEET/ICE STORM', 'SMALL HAIL',\n",
       "       'SMALL STREAM FLOOD', 'SNOW', 'SNOW ACCUMULATION',\n",
       "       'SNOW AND HEAVY SNOW', 'SNOW AND ICE', 'SNOW AND ICE STORM',\n",
       "       'SNOW FREEZING RAIN', 'SNOW SQUALL', 'SNOW SQUALLS',\n",
       "       'SNOW/ BITTER COLD', 'SNOW/ ICE', 'SNOW/BLOWING SNOW', 'SNOW/COLD',\n",
       "       'SNOW/FREEZING RAIN', 'SNOW/HEAVY SNOW', 'SNOW/HIGH WINDS',\n",
       "       'SNOW/ICE', 'SNOW/ICE STORM', 'SNOW/SLEET',\n",
       "       'SNOW/SLEET/FREEZING RAIN', 'SNOWMELT FLOODING',\n",
       "       'STORM FORCE WINDS', 'STORM SURGE', 'STORM SURGE/TIDE',\n",
       "       'STRONG WIND', 'STRONG WINDS', 'Snow', 'Snow Squalls',\n",
       "       'Strong Wind', 'Strong Winds', 'THUDERSTORM WINDS',\n",
       "       'THUNDEERSTORM WINDS', 'THUNDERESTORM WINDS', 'THUNDERSNOW',\n",
       "       'THUNDERSTORM', 'THUNDERSTORM  WINDS', 'THUNDERSTORM DAMAGE TO',\n",
       "       'THUNDERSTORM HAIL', 'THUNDERSTORM WIND', 'THUNDERSTORM WIND (G40)',\n",
       "       'THUNDERSTORM WIND 60 MPH', 'THUNDERSTORM WIND 65 MPH',\n",
       "       'THUNDERSTORM WIND 65MPH', 'THUNDERSTORM WIND 98 MPH',\n",
       "       'THUNDERSTORM WIND G50', 'THUNDERSTORM WIND G52',\n",
       "       'THUNDERSTORM WIND G55', 'THUNDERSTORM WIND G60',\n",
       "       'THUNDERSTORM WIND TREES', 'THUNDERSTORM WIND.',\n",
       "       'THUNDERSTORM WIND/ TREE', 'THUNDERSTORM WIND/ TREES',\n",
       "       'THUNDERSTORM WIND/AWNING', 'THUNDERSTORM WIND/HAIL',\n",
       "       'THUNDERSTORM WIND/LIGHTNING', 'THUNDERSTORM WINDS',\n",
       "       'THUNDERSTORM WINDS 13', 'THUNDERSTORM WINDS 63 MPH',\n",
       "       'THUNDERSTORM WINDS AND', 'THUNDERSTORM WINDS G60',\n",
       "       'THUNDERSTORM WINDS HAIL', 'THUNDERSTORM WINDS LIGHTNING',\n",
       "       'THUNDERSTORM WINDS.', 'THUNDERSTORM WINDS/ FLOOD',\n",
       "       'THUNDERSTORM WINDS/FLOODING', 'THUNDERSTORM WINDS/FUNNEL CLOU',\n",
       "       'THUNDERSTORM WINDS/HAIL', 'THUNDERSTORM WINDS53',\n",
       "       'THUNDERSTORM WINDSHAIL', 'THUNDERSTORM WINDSS',\n",
       "       'THUNDERSTORM WINS', 'THUNDERSTORMS', 'THUNDERSTORMS WIND',\n",
       "       'THUNDERSTORMS WINDS', 'THUNDERSTORMW', 'THUNDERSTORMWINDS',\n",
       "       'THUNDERSTROM WIND', 'THUNDERTORM WINDS', 'THUNERSTORM WINDS',\n",
       "       'TIDAL FLOODING', 'TORNADO', 'TORNADO F0', 'TORNADO F1',\n",
       "       'TORNADO F2', 'TORNADO F3', 'TORNADOES',\n",
       "       'TORNADOES, TSTM WIND, HAIL', 'TORNDAO', 'TROPICAL DEPRESSION',\n",
       "       'TROPICAL STORM', 'TROPICAL STORM ALBERTO', 'TROPICAL STORM DEAN',\n",
       "       'TROPICAL STORM GORDON', 'TROPICAL STORM JERRY', 'TSTM WIND',\n",
       "       'TSTM WIND  (G45)', 'TSTM WIND (41)', 'TSTM WIND (G35)',\n",
       "       'TSTM WIND (G40)', 'TSTM WIND (G45)', 'TSTM WIND 40',\n",
       "       'TSTM WIND 45', 'TSTM WIND 55', 'TSTM WIND 65)',\n",
       "       'TSTM WIND AND LIGHTNING', 'TSTM WIND DAMAGE', 'TSTM WIND G45',\n",
       "       'TSTM WIND G58', 'TSTM WIND/HAIL', 'TSTM WINDS', 'TSTMW', 'TSUNAMI',\n",
       "       'TUNDERSTORM WIND', 'TYPHOON', 'Tidal Flooding',\n",
       "       'Torrential Rainfall', 'Tstm Wind', 'UNSEASONABLY COLD',\n",
       "       'UNSEASONABLY WARM', 'UNSEASONABLY WARM AND DRY', 'UNSEASONAL RAIN',\n",
       "       'URBAN AND SMALL', 'URBAN AND SMALL STREAM FLOODIN', 'URBAN FLOOD',\n",
       "       'URBAN FLOODING', 'URBAN FLOODS', 'URBAN SMALL',\n",
       "       'URBAN/SMALL STREAM', 'URBAN/SMALL STREAM FLOOD',\n",
       "       'URBAN/SML STREAM FLD', 'Unseasonable Cold', 'VOLCANIC ASH',\n",
       "       'WARM WEATHER', 'WATERSPOUT', 'WATERSPOUT TORNADO', 'WATERSPOUT-',\n",
       "       'WATERSPOUT-TORNADO', 'WATERSPOUT/ TORNADO', 'WATERSPOUT/TORNADO',\n",
       "       'WET MICROBURST', 'WHIRLWIND', 'WILD FIRES', 'WILD/FOREST FIRE',\n",
       "       'WILD/FOREST FIRES', 'WILDFIRE', 'WILDFIRES', 'WIND',\n",
       "       'WIND AND WAVE', 'WIND DAMAGE', 'WIND STORM', 'WIND/HAIL', 'WINDS',\n",
       "       'WINTER STORM', 'WINTER STORM HIGH WINDS', 'WINTER STORMS',\n",
       "       'WINTER WEATHER', 'WINTER WEATHER MIX', 'WINTER WEATHER/MIX',\n",
       "       'WINTRY MIX', 'Whirlwind', 'Wind', 'Wind Damage', 'Wintry Mix',\n",
       "       'blowing snow', 'gradient wind'], dtype=object)"
      ]
     },
     "execution_count": 38,
     "metadata": {},
     "output_type": "execute_result"
    }
   ],
   "source": [
    "np.sort(df.EVTYPE.unique())"
   ]
  },
  {
   "cell_type": "code",
   "execution_count": 39,
   "metadata": {
    "collapsed": false
   },
   "outputs": [
    {
     "data": {
      "text/plain": [
       "485"
      ]
     },
     "execution_count": 39,
     "metadata": {},
     "output_type": "execute_result"
    }
   ],
   "source": [
    "len(df.EVTYPE.unique())"
   ]
  },
  {
   "cell_type": "markdown",
   "metadata": {},
   "source": [
    "> ### Let's convert these events to uppercase and clean up some whitespace"
   ]
  },
  {
   "cell_type": "code",
   "execution_count": 40,
   "metadata": {
    "collapsed": false
   },
   "outputs": [],
   "source": [
    "df['EVTYPE'] = df.EVTYPE.apply(lambda event_type: event_type.strip().upper())"
   ]
  },
  {
   "cell_type": "code",
   "execution_count": 41,
   "metadata": {
    "collapsed": false
   },
   "outputs": [
    {
     "data": {
      "text/plain": [
       "441"
      ]
     },
     "execution_count": 41,
     "metadata": {},
     "output_type": "execute_result"
    }
   ],
   "source": [
    "len(df.EVTYPE.unique())"
   ]
  },
  {
   "cell_type": "markdown",
   "metadata": {},
   "source": [
    "### Official Event Types"
   ]
  },
  {
   "cell_type": "markdown",
   "metadata": {},
   "source": [
    "- (http://pandas.pydata.org/pandas-docs/stable/generated/pandas.DataFrame.isin.html)"
   ]
  },
  {
   "cell_type": "code",
   "execution_count": 42,
   "metadata": {
    "collapsed": false
   },
   "outputs": [],
   "source": [
    "official_event_types = [\n",
    "    'Astronomical Low Tide', 'Avalanche',\n",
    "    'Blizzard', 'Coastal Flood', 'Cold/Wind Chill', 'Debris Flow',\n",
    "    'Dense Fog', 'Dense Smoke', 'Drought', 'Dust Devil', 'Dust Storm',\n",
    "    'Excessive Heat', 'Extreme Cold/Wind Chill', 'Flash Flood', 'Flood',\n",
    "    'Frost/Freeze', 'Funnel Cloud', 'Freezing Fog', 'Hail', 'Heat',\n",
    "    'Heavy Rain', 'Heavy Snow', 'High Surf', 'High Wind',\n",
    "    'Hurricane (Typhoon)', 'Ice Storm', 'Lake-Effect Snow',\n",
    "    'Lakeshore Flood', 'Lightning', 'Marine Hail', 'Marine High Wind',\n",
    "    'Marine Strong Wind', 'Marine Thunderstorm Wind', 'Rip Current',\n",
    "    'Seiche', 'Sleet', 'Storm Surge/Tide', 'Strong Wind',\n",
    "    'Thunderstorm Wind', 'Tornado', 'Tropical Depression',\n",
    "    'Tropical Storm', 'Tsunami', 'Volcanic Ash', 'Waterspout', 'Wildfire',\n",
    "    'Winter Storm', 'Winter Weather',\n",
    "\n",
    "    'OTHER'\n",
    "]\n",
    "\n",
    "official_event_types = map(lambda event_type: event_type.upper(), official_event_types)"
   ]
  },
  {
   "cell_type": "code",
   "execution_count": 43,
   "metadata": {
    "collapsed": false
   },
   "outputs": [
    {
     "data": {
      "text/plain": [
       "['ASTRONOMICAL LOW TIDE',\n",
       " 'AVALANCHE',\n",
       " 'BLIZZARD',\n",
       " 'COASTAL FLOOD',\n",
       " 'COLD/WIND CHILL',\n",
       " 'DEBRIS FLOW',\n",
       " 'DENSE FOG',\n",
       " 'DENSE SMOKE',\n",
       " 'DROUGHT',\n",
       " 'DUST DEVIL',\n",
       " 'DUST STORM',\n",
       " 'EXCESSIVE HEAT',\n",
       " 'EXTREME COLD/WIND CHILL',\n",
       " 'FLASH FLOOD',\n",
       " 'FLOOD',\n",
       " 'FROST/FREEZE',\n",
       " 'FUNNEL CLOUD',\n",
       " 'FREEZING FOG',\n",
       " 'HAIL',\n",
       " 'HEAT',\n",
       " 'HEAVY RAIN',\n",
       " 'HEAVY SNOW',\n",
       " 'HIGH SURF',\n",
       " 'HIGH WIND',\n",
       " 'HURRICANE (TYPHOON)',\n",
       " 'ICE STORM',\n",
       " 'LAKE-EFFECT SNOW',\n",
       " 'LAKESHORE FLOOD',\n",
       " 'LIGHTNING',\n",
       " 'MARINE HAIL',\n",
       " 'MARINE HIGH WIND',\n",
       " 'MARINE STRONG WIND',\n",
       " 'MARINE THUNDERSTORM WIND',\n",
       " 'RIP CURRENT',\n",
       " 'SEICHE',\n",
       " 'SLEET',\n",
       " 'STORM SURGE/TIDE',\n",
       " 'STRONG WIND',\n",
       " 'THUNDERSTORM WIND',\n",
       " 'TORNADO',\n",
       " 'TROPICAL DEPRESSION',\n",
       " 'TROPICAL STORM',\n",
       " 'TSUNAMI',\n",
       " 'VOLCANIC ASH',\n",
       " 'WATERSPOUT',\n",
       " 'WILDFIRE',\n",
       " 'WINTER STORM',\n",
       " 'WINTER WEATHER',\n",
       " 'OTHER']"
      ]
     },
     "execution_count": 43,
     "metadata": {},
     "output_type": "execute_result"
    }
   ],
   "source": [
    "official_event_types"
   ]
  },
  {
   "cell_type": "code",
   "execution_count": 44,
   "metadata": {
    "collapsed": false
   },
   "outputs": [],
   "source": [
    "subset_df = df[df.EVTYPE.isin(official_event_types)]"
   ]
  },
  {
   "cell_type": "code",
   "execution_count": 45,
   "metadata": {
    "collapsed": false
   },
   "outputs": [],
   "source": [
    "def summary(subset_df):\n",
    "    print 'Using official event types: {:.1f}%'.format(100. * subset_df.shape[0] / df.shape[0])\n",
    "    print '  - Fatalities:             {:.1f}%'.format(100. * subset_df.Fatalities.sum() / fatalities)\n",
    "    print '  - Injuries:               {:.1f}%'.format(100. * subset_df.Injuries.sum() / injuries)\n",
    "    print '  - Property damages:       {:.1f}%'.format(100. * subset_df.PropertyDamages.sum() / property_damages)\n",
    "    print '  - Crop damages:           {:.1f}%'.format(100. * subset_df.CropDamages.sum() / crop_damages)"
   ]
  },
  {
   "cell_type": "code",
   "execution_count": 46,
   "metadata": {
    "collapsed": false
   },
   "outputs": [
    {
     "name": "stdout",
     "output_type": "stream",
     "text": [
      "Using official event types: 67.8%\n",
      "  - Fatalities:             86.2%\n",
      "  - Injuries:               90.1%\n",
      "  - Property damages:       64.3%\n",
      "  - Crop damages:           70.5%\n"
     ]
    }
   ],
   "source": [
    "summary(subset_df)"
   ]
  },
  {
   "cell_type": "markdown",
   "metadata": {},
   "source": [
    "### Unofficial Event Types"
   ]
  },
  {
   "cell_type": "markdown",
   "metadata": {},
   "source": [
    "- (http://pandas.pydata.org/pandas-docs/stable/generated/pandas.DataFrame.sort_values.html)"
   ]
  },
  {
   "cell_type": "code",
   "execution_count": 47,
   "metadata": {
    "collapsed": false
   },
   "outputs": [],
   "source": [
    "todo_df = df[~ df.index.isin(subset_df.index) & (df.Fatalities > 0)]"
   ]
  },
  {
   "cell_type": "code",
   "execution_count": 48,
   "metadata": {
    "collapsed": false
   },
   "outputs": [
    {
     "data": {
      "text/html": [
       "<div>\n",
       "<table border=\"1\" class=\"dataframe\">\n",
       "  <thead>\n",
       "    <tr style=\"text-align: right;\">\n",
       "      <th></th>\n",
       "      <th>Fatalities</th>\n",
       "    </tr>\n",
       "    <tr>\n",
       "      <th>EVTYPE</th>\n",
       "      <th></th>\n",
       "    </tr>\n",
       "  </thead>\n",
       "  <tbody>\n",
       "    <tr>\n",
       "      <th>TSTM WIND</th>\n",
       "      <td>504.0</td>\n",
       "    </tr>\n",
       "    <tr>\n",
       "      <th>RIP CURRENTS</th>\n",
       "      <td>204.0</td>\n",
       "    </tr>\n",
       "    <tr>\n",
       "      <th>HEAT WAVE</th>\n",
       "      <td>172.0</td>\n",
       "    </tr>\n",
       "    <tr>\n",
       "      <th>EXTREME COLD</th>\n",
       "      <td>162.0</td>\n",
       "    </tr>\n",
       "    <tr>\n",
       "      <th>EXTREME HEAT</th>\n",
       "      <td>96.0</td>\n",
       "    </tr>\n",
       "    <tr>\n",
       "      <th>...</th>\n",
       "      <td>...</td>\n",
       "    </tr>\n",
       "    <tr>\n",
       "      <th>MARINE ACCIDENT</th>\n",
       "      <td>1.0</td>\n",
       "    </tr>\n",
       "    <tr>\n",
       "      <th>MINOR FLOODING</th>\n",
       "      <td>1.0</td>\n",
       "    </tr>\n",
       "    <tr>\n",
       "      <th>MUDSLIDES</th>\n",
       "      <td>1.0</td>\n",
       "    </tr>\n",
       "    <tr>\n",
       "      <th>RAIN/WIND</th>\n",
       "      <td>1.0</td>\n",
       "    </tr>\n",
       "    <tr>\n",
       "      <th>WINTRY MIX</th>\n",
       "      <td>1.0</td>\n",
       "    </tr>\n",
       "  </tbody>\n",
       "</table>\n",
       "<p>126 rows × 1 columns</p>\n",
       "</div>"
      ],
      "text/plain": [
       "                 Fatalities\n",
       "EVTYPE                     \n",
       "TSTM WIND             504.0\n",
       "RIP CURRENTS          204.0\n",
       "HEAT WAVE             172.0\n",
       "EXTREME COLD          162.0\n",
       "EXTREME HEAT           96.0\n",
       "...                     ...\n",
       "MARINE ACCIDENT         1.0\n",
       "MINOR FLOODING          1.0\n",
       "MUDSLIDES               1.0\n",
       "RAIN/WIND               1.0\n",
       "WINTRY MIX              1.0\n",
       "\n",
       "[126 rows x 1 columns]"
      ]
     },
     "execution_count": 48,
     "metadata": {},
     "output_type": "execute_result"
    }
   ],
   "source": [
    "todo_df[ ['EVTYPE', 'Fatalities'] ].\\\n",
    "    groupby('EVTYPE').\\\n",
    "    sum().\\\n",
    "    sort_values(by = 'Fatalities', ascending = False)"
   ]
  },
  {
   "cell_type": "markdown",
   "metadata": {},
   "source": [
    "Let's manually process the event types to increase the coverage in each categorie (fatalities, injuries, and damages) to 95%+."
   ]
  },
  {
   "cell_type": "code",
   "execution_count": 49,
   "metadata": {
    "collapsed": true
   },
   "outputs": [],
   "source": [
    "unrecognized_event_types_to_recognized_event_types = {\n",
    "    'COLD': 'COLD/WIND CHILL',\n",
    "    'COLD AND SNOW': 'COLD/WIND CHILL',\n",
    "    'COLD WEATHER': 'COLD/WIND CHILL',\n",
    "    'EXTREME COLD': 'EXTREME COLD/WIND CHILL',\n",
    "    'EXTREME HEAT': 'EXCESSIVE HEAT',\n",
    "    'EXTREME WINDCHILL': 'EXTREME COLD/WIND CHILL',\n",
    "    'FLASH FLOOD/FLOOD': 'FLASH FLOOD',\n",
    "    'FLASH FLOODING': 'FLASH FLOOD',\n",
    "    'FLASH FLOODING/FLOOD': 'FLASH FLOOD',\n",
    "    'FLOOD/FLASH FLOOD': 'FLASH FLOOD',\n",
    "    'FLOODING': 'FLOOD',\n",
    "    'FOG': 'DENSE FOG',\n",
    "    'FREEZE': 'FROST/FREEZE',\n",
    "    'FREEZING RAIN': 'HEAVY RAIN',\n",
    "    'GLAZE': 'OTHER',\n",
    "    'HEAT WAVE': 'HEAT',\n",
    "    'HEAT WAVES': 'HEAT',\n",
    "    'HEAVY RAIN/SEVERE WEATHER': 'HEAVY RAIN',\n",
    "    'HEAVY SURF': 'HIGH SURF',\n",
    "    'HEAVY SURF/HIGH SURF': 'HIGH SURF',\n",
    "    'HIGH SEAS': 'OTHER',\n",
    "    'HIGH WINDS': 'HIGH WIND',\n",
    "    'HURRICANE': 'HURRICANE (TYPHOON)',\n",
    "    'HURRICANE ERIN': 'HURRICANE (TYPHOON)',\n",
    "    'HURRICANE OPAL': 'HURRICANE (TYPHOON)',\n",
    "    'HURRICANE/TYPHOON': 'HURRICANE (TYPHOON)',\n",
    "    'HYPOTHERMIA/EXPOSURE': 'OTHER',\n",
    "    'ICE': 'ICE STORM',\n",
    "    'ICY ROADS': 'OTHER',\n",
    "    'LANDSLIDE': 'OTHER',\n",
    "    'LOW TEMPERATURE': 'COLD/WIND CHILL',\n",
    "    'MARINE MISHAP': 'MARINE HAIL',\n",
    "    'MARINE TSTM WIND': 'MARINE THUNDERSTORM WIND RIP CURRENT',\n",
    "    'RECORD/EXCESSIVE HEAT': 'EXCESSIVE HEAT',\n",
    "    'RIP CURRENTS': 'MARINE THUNDERSTORM WIND RIP CURRENT',\n",
    "    'RIVER FLOOD': 'FLOOD',\n",
    "    'ROUGH SEAS': 'MARINE STRONG WIND',\n",
    "    'SEVERE THUNDERSTORM': 'THUNDERSTORM WIND',\n",
    "    'STORM SURGE': 'STORM SURGE/TIDE',\n",
    "    'STRONG WINDS': 'STRONG WIND',\n",
    "    'THUNDERSTORM WINDS': 'THUNDERSTORM WIND',\n",
    "    'TORNADOES, TSTM WIND, HAIL': 'TORNADO',\n",
    "    'TROPICAL STORM GORDON': 'TROPICAL STORM',\n",
    "    'TSTM WIND': 'THUNDERSTORM WIND',\n",
    "    'TSTM WIND/HAIL': 'THUNDERSTORM WIND',\n",
    "    'TYPHOON': 'HURRICANE (TYPHOON)',\n",
    "    'UNSEASONABLY WARM': 'OTHER',\n",
    "    'UNSEASONABLY WARM AND DRY': 'OTHER',\n",
    "    'URBAN/SML STREAM FLD': 'FLOOD',\n",
    "    'WILD FIRES': 'WILDFIRE',\n",
    "    'WILD/FOREST FIRE': 'WILDFIRE',\n",
    "    'WIND': 'HIGH WIND',\n",
    "    'WINTER STORMS': 'WINTER STORM',\n",
    "    'WINTER WEATHER/MIX': 'WINTER WEATHER'\n",
    "}"
   ]
  },
  {
   "cell_type": "code",
   "execution_count": 50,
   "metadata": {
    "collapsed": true
   },
   "outputs": [],
   "source": [
    "def event_type(event_type):\n",
    "    if event_type in official_event_types:\n",
    "        return event_type\n",
    "\n",
    "    if event_type in unrecognized_event_types_to_recognized_event_types:\n",
    "        return unrecognized_event_types_to_recognized_event_types[event_type]\n",
    "\n",
    "    return 'OTHER'"
   ]
  },
  {
   "cell_type": "code",
   "execution_count": 51,
   "metadata": {
    "collapsed": false
   },
   "outputs": [],
   "source": [
    "df.EVTYPE = df.EVTYPE.apply(event_type)"
   ]
  },
  {
   "cell_type": "code",
   "execution_count": 52,
   "metadata": {
    "collapsed": false
   },
   "outputs": [
    {
     "name": "stdout",
     "output_type": "stream",
     "text": [
      "Using official event types: 99.9%\n",
      "  - Fatalities:             98.6%\n",
      "  - Injuries:               99.8%\n",
      "  - Property damages:       100.0%\n",
      "  - Crop damages:           100.0%\n"
     ]
    }
   ],
   "source": [
    "summary(df[df.EVTYPE.isin(official_event_types)])"
   ]
  },
  {
   "cell_type": "code",
   "execution_count": 53,
   "metadata": {
    "collapsed": false
   },
   "outputs": [],
   "source": [
    "df = df[df.EVTYPE.isin(official_event_types)]"
   ]
  },
  {
   "cell_type": "code",
   "execution_count": 54,
   "metadata": {
    "collapsed": true
   },
   "outputs": [],
   "source": [
    "df.rename(columns = {'EVTYPE': 'EventType'}, inplace = True)"
   ]
  },
  {
   "cell_type": "markdown",
   "metadata": {},
   "source": [
    "> ### There is still some data wrangling to do but we will call it a day for now.  Ideally, you want to save this new dataset and create a new notebook for the exploratory data analysis."
   ]
  },
  {
   "cell_type": "markdown",
   "metadata": {},
   "source": [
    "# Exploratory Data Analysis"
   ]
  },
  {
   "cell_type": "markdown",
   "metadata": {},
   "source": [
    "## Top events"
   ]
  },
  {
   "cell_type": "code",
   "execution_count": 55,
   "metadata": {
    "collapsed": false
   },
   "outputs": [],
   "source": [
    "sum_df = df[ ['EventType', 'Fatalities', 'Injuries', 'PropertyDamages', 'CropDamages'] ].\\\n",
    "    groupby('EventType').\\\n",
    "    sum()\n",
    "\n",
    "# Changing the unit of damages from $ to $B\n",
    "sum_df.PropertyDamages = sum_df.PropertyDamages / (10 ** 9)\n",
    "sum_df.CropDamages = sum_df.CropDamages / (10 ** 9)"
   ]
  },
  {
   "cell_type": "markdown",
   "metadata": {},
   "source": [
    "### Fatalities"
   ]
  },
  {
   "cell_type": "code",
   "execution_count": 56,
   "metadata": {
    "collapsed": false
   },
   "outputs": [
    {
     "data": {
      "text/html": [
       "<div>\n",
       "<table border=\"1\" class=\"dataframe\">\n",
       "  <thead>\n",
       "    <tr style=\"text-align: right;\">\n",
       "      <th></th>\n",
       "      <th>Fatalities</th>\n",
       "    </tr>\n",
       "    <tr>\n",
       "      <th>EventType</th>\n",
       "      <th></th>\n",
       "    </tr>\n",
       "  </thead>\n",
       "  <tbody>\n",
       "    <tr>\n",
       "      <th>TORNADO</th>\n",
       "      <td>5620.0</td>\n",
       "    </tr>\n",
       "    <tr>\n",
       "      <th>EXCESSIVE HEAT</th>\n",
       "      <td>2016.0</td>\n",
       "    </tr>\n",
       "    <tr>\n",
       "      <th>HEAT</th>\n",
       "      <td>1112.0</td>\n",
       "    </tr>\n",
       "    <tr>\n",
       "      <th>FLASH FLOOD</th>\n",
       "      <td>1031.0</td>\n",
       "    </tr>\n",
       "    <tr>\n",
       "      <th>LIGHTNING</th>\n",
       "      <td>816.0</td>\n",
       "    </tr>\n",
       "    <tr>\n",
       "      <th>...</th>\n",
       "      <td>...</td>\n",
       "    </tr>\n",
       "    <tr>\n",
       "      <th>FREEZING FOG</th>\n",
       "      <td>0.0</td>\n",
       "    </tr>\n",
       "    <tr>\n",
       "      <th>LAKESHORE FLOOD</th>\n",
       "      <td>0.0</td>\n",
       "    </tr>\n",
       "    <tr>\n",
       "      <th>SEICHE</th>\n",
       "      <td>0.0</td>\n",
       "    </tr>\n",
       "    <tr>\n",
       "      <th>FUNNEL CLOUD</th>\n",
       "      <td>0.0</td>\n",
       "    </tr>\n",
       "    <tr>\n",
       "      <th>ASTRONOMICAL LOW TIDE</th>\n",
       "      <td>0.0</td>\n",
       "    </tr>\n",
       "  </tbody>\n",
       "</table>\n",
       "<p>48 rows × 1 columns</p>\n",
       "</div>"
      ],
      "text/plain": [
       "                       Fatalities\n",
       "EventType                        \n",
       "TORNADO                    5620.0\n",
       "EXCESSIVE HEAT             2016.0\n",
       "HEAT                       1112.0\n",
       "FLASH FLOOD                1031.0\n",
       "LIGHTNING                   816.0\n",
       "...                           ...\n",
       "FREEZING FOG                  0.0\n",
       "LAKESHORE FLOOD               0.0\n",
       "SEICHE                        0.0\n",
       "FUNNEL CLOUD                  0.0\n",
       "ASTRONOMICAL LOW TIDE         0.0\n",
       "\n",
       "[48 rows x 1 columns]"
      ]
     },
     "execution_count": 56,
     "metadata": {},
     "output_type": "execute_result"
    }
   ],
   "source": [
    "fatalities_df = sum_df[ ['Fatalities'] ].\\\n",
    "    sort_values(by = 'Fatalities', ascending = False)\n",
    "\n",
    "fatalities_df"
   ]
  },
  {
   "cell_type": "markdown",
   "metadata": {},
   "source": [
    "### Injuries"
   ]
  },
  {
   "cell_type": "code",
   "execution_count": 57,
   "metadata": {
    "collapsed": false
   },
   "outputs": [
    {
     "data": {
      "text/html": [
       "<div>\n",
       "<table border=\"1\" class=\"dataframe\">\n",
       "  <thead>\n",
       "    <tr style=\"text-align: right;\">\n",
       "      <th></th>\n",
       "      <th>Injuries</th>\n",
       "    </tr>\n",
       "    <tr>\n",
       "      <th>EventType</th>\n",
       "      <th></th>\n",
       "    </tr>\n",
       "  </thead>\n",
       "  <tbody>\n",
       "    <tr>\n",
       "      <th>TORNADO</th>\n",
       "      <td>90540.0</td>\n",
       "    </tr>\n",
       "    <tr>\n",
       "      <th>THUNDERSTORM WIND</th>\n",
       "      <td>9444.0</td>\n",
       "    </tr>\n",
       "    <tr>\n",
       "      <th>FLOOD</th>\n",
       "      <td>6872.0</td>\n",
       "    </tr>\n",
       "    <tr>\n",
       "      <th>EXCESSIVE HEAT</th>\n",
       "      <td>6680.0</td>\n",
       "    </tr>\n",
       "    <tr>\n",
       "      <th>LIGHTNING</th>\n",
       "      <td>5223.0</td>\n",
       "    </tr>\n",
       "    <tr>\n",
       "      <th>...</th>\n",
       "      <td>...</td>\n",
       "    </tr>\n",
       "    <tr>\n",
       "      <th>LAKE-EFFECT SNOW</th>\n",
       "      <td>0.0</td>\n",
       "    </tr>\n",
       "    <tr>\n",
       "      <th>VOLCANIC ASH</th>\n",
       "      <td>0.0</td>\n",
       "    </tr>\n",
       "    <tr>\n",
       "      <th>FREEZING FOG</th>\n",
       "      <td>0.0</td>\n",
       "    </tr>\n",
       "    <tr>\n",
       "      <th>FROST/FREEZE</th>\n",
       "      <td>0.0</td>\n",
       "    </tr>\n",
       "    <tr>\n",
       "      <th>ASTRONOMICAL LOW TIDE</th>\n",
       "      <td>0.0</td>\n",
       "    </tr>\n",
       "  </tbody>\n",
       "</table>\n",
       "<p>48 rows × 1 columns</p>\n",
       "</div>"
      ],
      "text/plain": [
       "                       Injuries\n",
       "EventType                      \n",
       "TORNADO                 90540.0\n",
       "THUNDERSTORM WIND        9444.0\n",
       "FLOOD                    6872.0\n",
       "EXCESSIVE HEAT           6680.0\n",
       "LIGHTNING                5223.0\n",
       "...                         ...\n",
       "LAKE-EFFECT SNOW            0.0\n",
       "VOLCANIC ASH                0.0\n",
       "FREEZING FOG                0.0\n",
       "FROST/FREEZE                0.0\n",
       "ASTRONOMICAL LOW TIDE       0.0\n",
       "\n",
       "[48 rows x 1 columns]"
      ]
     },
     "execution_count": 57,
     "metadata": {},
     "output_type": "execute_result"
    }
   ],
   "source": [
    "injuries_df = sum_df[ ['Injuries'] ].\\\n",
    "    sort_values(by = 'Injuries', ascending = False)\n",
    "\n",
    "injuries_df"
   ]
  },
  {
   "cell_type": "markdown",
   "metadata": {},
   "source": [
    "### Property Damages"
   ]
  },
  {
   "cell_type": "code",
   "execution_count": 58,
   "metadata": {
    "collapsed": false
   },
   "outputs": [
    {
     "data": {
      "text/html": [
       "<div>\n",
       "<table border=\"1\" class=\"dataframe\">\n",
       "  <thead>\n",
       "    <tr style=\"text-align: right;\">\n",
       "      <th></th>\n",
       "      <th>PropertyDamages</th>\n",
       "    </tr>\n",
       "    <tr>\n",
       "      <th>EventType</th>\n",
       "      <th></th>\n",
       "    </tr>\n",
       "  </thead>\n",
       "  <tbody>\n",
       "    <tr>\n",
       "      <th>FLOOD</th>\n",
       "      <td>148.838361</td>\n",
       "    </tr>\n",
       "    <tr>\n",
       "      <th>HURRICANE (TYPHOON)</th>\n",
       "      <td>85.205335</td>\n",
       "    </tr>\n",
       "    <tr>\n",
       "      <th>TORNADO</th>\n",
       "      <td>58.130074</td>\n",
       "    </tr>\n",
       "    <tr>\n",
       "      <th>STORM SURGE/TIDE</th>\n",
       "      <td>47.964344</td>\n",
       "    </tr>\n",
       "    <tr>\n",
       "      <th>FLASH FLOOD</th>\n",
       "      <td>17.537886</td>\n",
       "    </tr>\n",
       "    <tr>\n",
       "      <th>...</th>\n",
       "      <td>...</td>\n",
       "    </tr>\n",
       "    <tr>\n",
       "      <th>FUNNEL CLOUD</th>\n",
       "      <td>0.000175</td>\n",
       "    </tr>\n",
       "    <tr>\n",
       "      <th>DENSE SMOKE</th>\n",
       "      <td>0.000100</td>\n",
       "    </tr>\n",
       "    <tr>\n",
       "      <th>MARINE HAIL</th>\n",
       "      <td>0.000004</td>\n",
       "    </tr>\n",
       "    <tr>\n",
       "      <th>RIP CURRENT</th>\n",
       "      <td>0.000001</td>\n",
       "    </tr>\n",
       "    <tr>\n",
       "      <th>SLEET</th>\n",
       "      <td>NaN</td>\n",
       "    </tr>\n",
       "  </tbody>\n",
       "</table>\n",
       "<p>48 rows × 1 columns</p>\n",
       "</div>"
      ],
      "text/plain": [
       "                     PropertyDamages\n",
       "EventType                           \n",
       "FLOOD                     148.838361\n",
       "HURRICANE (TYPHOON)        85.205335\n",
       "TORNADO                    58.130074\n",
       "STORM SURGE/TIDE           47.964344\n",
       "FLASH FLOOD                17.537886\n",
       "...                              ...\n",
       "FUNNEL CLOUD                0.000175\n",
       "DENSE SMOKE                 0.000100\n",
       "MARINE HAIL                 0.000004\n",
       "RIP CURRENT                 0.000001\n",
       "SLEET                            NaN\n",
       "\n",
       "[48 rows x 1 columns]"
      ]
     },
     "execution_count": 58,
     "metadata": {},
     "output_type": "execute_result"
    }
   ],
   "source": [
    "property_damages_df = sum_df[ ['PropertyDamages'] ].\\\n",
    "    sort_values(by = 'PropertyDamages', ascending = False)\n",
    "\n",
    "property_damages_df"
   ]
  },
  {
   "cell_type": "markdown",
   "metadata": {},
   "source": [
    "### Crop Damages"
   ]
  },
  {
   "cell_type": "code",
   "execution_count": 59,
   "metadata": {
    "collapsed": false
   },
   "outputs": [
    {
     "data": {
      "text/html": [
       "<div>\n",
       "<table border=\"1\" class=\"dataframe\">\n",
       "  <thead>\n",
       "    <tr style=\"text-align: right;\">\n",
       "      <th></th>\n",
       "      <th>CropDamages</th>\n",
       "    </tr>\n",
       "    <tr>\n",
       "      <th>EventType</th>\n",
       "      <th></th>\n",
       "    </tr>\n",
       "  </thead>\n",
       "  <tbody>\n",
       "    <tr>\n",
       "      <th>DROUGHT</th>\n",
       "      <td>13.972566</td>\n",
       "    </tr>\n",
       "    <tr>\n",
       "      <th>FLOOD</th>\n",
       "      <td>10.706070</td>\n",
       "    </tr>\n",
       "    <tr>\n",
       "      <th>HURRICANE (TYPHOON)</th>\n",
       "      <td>5.505618</td>\n",
       "    </tr>\n",
       "    <tr>\n",
       "      <th>ICE STORM</th>\n",
       "      <td>5.022113</td>\n",
       "    </tr>\n",
       "    <tr>\n",
       "      <th>HAIL</th>\n",
       "      <td>3.025434</td>\n",
       "    </tr>\n",
       "    <tr>\n",
       "      <th>...</th>\n",
       "      <td>...</td>\n",
       "    </tr>\n",
       "    <tr>\n",
       "      <th>LAKE-EFFECT SNOW</th>\n",
       "      <td>0.000000</td>\n",
       "    </tr>\n",
       "    <tr>\n",
       "      <th>FUNNEL CLOUD</th>\n",
       "      <td>0.000000</td>\n",
       "    </tr>\n",
       "    <tr>\n",
       "      <th>ASTRONOMICAL LOW TIDE</th>\n",
       "      <td>0.000000</td>\n",
       "    </tr>\n",
       "    <tr>\n",
       "      <th>SLEET</th>\n",
       "      <td>NaN</td>\n",
       "    </tr>\n",
       "    <tr>\n",
       "      <th>VOLCANIC ASH</th>\n",
       "      <td>NaN</td>\n",
       "    </tr>\n",
       "  </tbody>\n",
       "</table>\n",
       "<p>48 rows × 1 columns</p>\n",
       "</div>"
      ],
      "text/plain": [
       "                       CropDamages\n",
       "EventType                         \n",
       "DROUGHT                  13.972566\n",
       "FLOOD                    10.706070\n",
       "HURRICANE (TYPHOON)       5.505618\n",
       "ICE STORM                 5.022113\n",
       "HAIL                      3.025434\n",
       "...                            ...\n",
       "LAKE-EFFECT SNOW          0.000000\n",
       "FUNNEL CLOUD              0.000000\n",
       "ASTRONOMICAL LOW TIDE     0.000000\n",
       "SLEET                          NaN\n",
       "VOLCANIC ASH                   NaN\n",
       "\n",
       "[48 rows x 1 columns]"
      ]
     },
     "execution_count": 59,
     "metadata": {},
     "output_type": "execute_result"
    }
   ],
   "source": [
    "crop_damages_df = sum_df[ ['CropDamages'] ].\\\n",
    "    sort_values(by = 'CropDamages', ascending = False)\n",
    "\n",
    "crop_damages_df"
   ]
  },
  {
   "cell_type": "markdown",
   "metadata": {},
   "source": [
    "## Plots"
   ]
  },
  {
   "cell_type": "code",
   "execution_count": 60,
   "metadata": {
    "collapsed": false
   },
   "outputs": [
    {
     "data": {
      "image/png": "[encoded data removed]"
     },
     "metadata": {},
     "output_type": "display_data"
    }
   ],
   "source": [
    "fatalities_df.plot(kind = 'bar', figsize = (16, 10))"
   ]
  },
  {
   "cell_type": "code",
   "execution_count": 61,
   "metadata": {
    "collapsed": false
   },
   "outputs": [
    {
     "data": {
      "image/png": "[encoded data removed]"
     },
     "metadata": {},
     "output_type": "display_data"
    }
   ],
   "source": [
    "injuries_df.plot(kind = 'bar', figsize = (16, 10))"
   ]
  },
  {
   "cell_type": "code",
   "execution_count": 62,
   "metadata": {
    "collapsed": false
   },
   "outputs": [
    {
     "data": {
      "image/png": "[encoded data removed]"
     },
     "metadata": {},
     "output_type": "display_data"
    }
   ],
   "source": [
    "property_damages_df.plot(kind = 'bar', figsize = (16, 10))"
   ]
  },
  {
   "cell_type": "code",
   "execution_count": 63,
   "metadata": {
    "collapsed": false
   },
   "outputs": [
    {
     "data": {
      "image/png": "[encoded data removed]"
     },
     "metadata": {},
     "output_type": "display_data"
    }
   ],
   "source": [
    "crop_damages_df.plot(kind = 'bar', figsize = (16, 10))"
   ]
  },
  {
   "cell_type": "markdown",
   "metadata": {},
   "source": [
    "## Aggregation by state and year"
   ]
  },
  {
   "cell_type": "code",
   "execution_count": 64,
   "metadata": {
    "collapsed": true
   },
   "outputs": [],
   "source": [
    "df.rename(columns = {'STATE': 'State'}, inplace = True)"
   ]
  },
  {
   "cell_type": "code",
   "execution_count": 65,
   "metadata": {
    "collapsed": false
   },
   "outputs": [],
   "source": [
    "df.BGN_DATE = pd.to_datetime(df.BGN_DATE)"
   ]
  },
  {
   "cell_type": "code",
   "execution_count": 66,
   "metadata": {
    "collapsed": false
   },
   "outputs": [],
   "source": [
    "df['Year'] = df.BGN_DATE.map(lambda timestamp: timestamp.year)"
   ]
  },
  {
   "cell_type": "code",
   "execution_count": 67,
   "metadata": {
    "collapsed": false
   },
   "outputs": [],
   "source": [
    "aggregated_df = df[ ['EventType', 'State', 'Year', 'Fatalities', 'Injuries', 'PropertyDamages', 'CropDamages'] ].\\\n",
    "    groupby(['EventType', 'State', 'Year']).\\\n",
    "    sum()"
   ]
  },
  {
   "cell_type": "code",
   "execution_count": 68,
   "metadata": {
    "collapsed": false
   },
   "outputs": [
    {
     "data": {
      "text/html": [
       "<div>\n",
       "<table border=\"1\" class=\"dataframe\">\n",
       "  <thead>\n",
       "    <tr style=\"text-align: right;\">\n",
       "      <th></th>\n",
       "      <th></th>\n",
       "      <th></th>\n",
       "      <th>Fatalities</th>\n",
       "      <th>Injuries</th>\n",
       "      <th>PropertyDamages</th>\n",
       "      <th>CropDamages</th>\n",
       "    </tr>\n",
       "    <tr>\n",
       "      <th>EventType</th>\n",
       "      <th>State</th>\n",
       "      <th>Year</th>\n",
       "      <th></th>\n",
       "      <th></th>\n",
       "      <th></th>\n",
       "      <th></th>\n",
       "    </tr>\n",
       "  </thead>\n",
       "  <tbody>\n",
       "    <tr>\n",
       "      <th rowspan=\"2\" valign=\"top\">ASTRONOMICAL LOW TIDE</th>\n",
       "      <th>CA</th>\n",
       "      <th>2007</th>\n",
       "      <td>0.0</td>\n",
       "      <td>0.0</td>\n",
       "      <td>120000.0</td>\n",
       "      <td>0.0</td>\n",
       "    </tr>\n",
       "    <tr>\n",
       "      <th>ME</th>\n",
       "      <th>2008</th>\n",
       "      <td>0.0</td>\n",
       "      <td>0.0</td>\n",
       "      <td>200000.0</td>\n",
       "      <td>0.0</td>\n",
       "    </tr>\n",
       "    <tr>\n",
       "      <th rowspan=\"3\" valign=\"top\">AVALANCHE</th>\n",
       "      <th rowspan=\"3\" valign=\"top\">AK</th>\n",
       "      <th>1995</th>\n",
       "      <td>0.0</td>\n",
       "      <td>0.0</td>\n",
       "      <td>5000.0</td>\n",
       "      <td>NaN</td>\n",
       "    </tr>\n",
       "    <tr>\n",
       "      <th>1999</th>\n",
       "      <td>12.0</td>\n",
       "      <td>4.0</td>\n",
       "      <td>45000.0</td>\n",
       "      <td>NaN</td>\n",
       "    </tr>\n",
       "    <tr>\n",
       "      <th>2000</th>\n",
       "      <td>5.0</td>\n",
       "      <td>5.0</td>\n",
       "      <td>754000.0</td>\n",
       "      <td>NaN</td>\n",
       "    </tr>\n",
       "    <tr>\n",
       "      <th>...</th>\n",
       "      <th>...</th>\n",
       "      <th>...</th>\n",
       "      <td>...</td>\n",
       "      <td>...</td>\n",
       "      <td>...</td>\n",
       "      <td>...</td>\n",
       "    </tr>\n",
       "    <tr>\n",
       "      <th rowspan=\"5\" valign=\"top\">WINTER WEATHER</th>\n",
       "      <th rowspan=\"3\" valign=\"top\">WI</th>\n",
       "      <th>2009</th>\n",
       "      <td>0.0</td>\n",
       "      <td>2.0</td>\n",
       "      <td>8000.0</td>\n",
       "      <td>0.0</td>\n",
       "    </tr>\n",
       "    <tr>\n",
       "      <th>2010</th>\n",
       "      <td>0.0</td>\n",
       "      <td>0.0</td>\n",
       "      <td>294800.0</td>\n",
       "      <td>15000000.0</td>\n",
       "    </tr>\n",
       "    <tr>\n",
       "      <th>2011</th>\n",
       "      <td>0.0</td>\n",
       "      <td>0.0</td>\n",
       "      <td>8000.0</td>\n",
       "      <td>0.0</td>\n",
       "    </tr>\n",
       "    <tr>\n",
       "      <th>WV</th>\n",
       "      <th>2006</th>\n",
       "      <td>0.0</td>\n",
       "      <td>0.0</td>\n",
       "      <td>60000.0</td>\n",
       "      <td>0.0</td>\n",
       "    </tr>\n",
       "    <tr>\n",
       "      <th>WY</th>\n",
       "      <th>2010</th>\n",
       "      <td>0.0</td>\n",
       "      <td>0.0</td>\n",
       "      <td>20000.0</td>\n",
       "      <td>0.0</td>\n",
       "    </tr>\n",
       "  </tbody>\n",
       "</table>\n",
       "<p>12428 rows × 4 columns</p>\n",
       "</div>"
      ],
      "text/plain": [
       "                                  Fatalities  Injuries  PropertyDamages  \\\n",
       "EventType             State Year                                          \n",
       "ASTRONOMICAL LOW TIDE CA    2007         0.0       0.0         120000.0   \n",
       "                      ME    2008         0.0       0.0         200000.0   \n",
       "AVALANCHE             AK    1995         0.0       0.0           5000.0   \n",
       "                            1999        12.0       4.0          45000.0   \n",
       "                            2000         5.0       5.0         754000.0   \n",
       "...                                      ...       ...              ...   \n",
       "WINTER WEATHER        WI    2009         0.0       2.0           8000.0   \n",
       "                            2010         0.0       0.0         294800.0   \n",
       "                            2011         0.0       0.0           8000.0   \n",
       "                      WV    2006         0.0       0.0          60000.0   \n",
       "                      WY    2010         0.0       0.0          20000.0   \n",
       "\n",
       "                                  CropDamages  \n",
       "EventType             State Year               \n",
       "ASTRONOMICAL LOW TIDE CA    2007          0.0  \n",
       "                      ME    2008          0.0  \n",
       "AVALANCHE             AK    1995          NaN  \n",
       "                            1999          NaN  \n",
       "                            2000          NaN  \n",
       "...                                       ...  \n",
       "WINTER WEATHER        WI    2009          0.0  \n",
       "                            2010   15000000.0  \n",
       "                            2011          0.0  \n",
       "                      WV    2006          0.0  \n",
       "                      WY    2010          0.0  \n",
       "\n",
       "[12428 rows x 4 columns]"
      ]
     },
     "execution_count": 68,
     "metadata": {},
     "output_type": "execute_result"
    }
   ],
   "source": [
    "aggregated_df"
   ]
  },
  {
   "cell_type": "code",
   "execution_count": 69,
   "metadata": {
    "collapsed": false
   },
   "outputs": [],
   "source": [
    "aggregated_df.to_csv(os.path.join('..', 'datasets', 'dataset-06-storms-aggregated.csv'))"
   ]
  }
 ],
 "metadata": {
  "kernelspec": {
   "display_name": "Python 2",
   "language": "python",
   "name": "python2"
  },
  "language_info": {
   "codemirror_mode": {
    "name": "ipython",
    "version": 2
   },
   "file_extension": ".py",
   "mimetype": "text/x-python",
   "name": "python",
   "nbconvert_exporter": "python",
   "pygments_lexer": "ipython2",
   "version": "2.7.13"
  }
 },
 "nbformat": 4,
 "nbformat_minor": 0
}