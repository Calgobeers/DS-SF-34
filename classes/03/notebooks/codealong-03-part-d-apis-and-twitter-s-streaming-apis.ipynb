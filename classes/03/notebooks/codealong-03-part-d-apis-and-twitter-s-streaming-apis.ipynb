{
 "cells": [
  {
   "cell_type": "markdown",
   "metadata": {},
   "source": [
    "# DS-SF-34 | 03 | Databases, Scrapping, and APIs | Codealong"
   ]
  },
  {
   "cell_type": "markdown",
   "metadata": {},
   "source": [
    "# Part D | APIs and Twitter's Streaming APIs"
   ]
  },
  {
   "cell_type": "markdown",
   "metadata": {},
   "source": [
    "(http://docs.tweepy.org/)"
   ]
  },
  {
   "cell_type": "markdown",
   "metadata": {},
   "source": [
    "To install _tweepy_:\n",
    "- `pip install tweepy`"
   ]
  },
  {
   "cell_type": "code",
   "execution_count": 1,
   "metadata": {
    "collapsed": true
   },
   "outputs": [],
   "source": [
    "import yaml\n",
    "import tweepy\n",
    "import json"
   ]
  },
  {
   "cell_type": "code",
   "execution_count": 2,
   "metadata": {
    "collapsed": false
   },
   "outputs": [],
   "source": [
    "with open('twitter.yaml', 'r') as f:\n",
    "    tokens = yaml.load(f)\n",
    "\n",
    "consumer_key = tokens['consumer-key']\n",
    "consumer_secret = tokens['consumer-secret']\n",
    "access_token = tokens['access-token']\n",
    "access_token_secret = tokens['access-token-secret']"
   ]
  },
  {
   "cell_type": "code",
   "execution_count": 3,
   "metadata": {
    "collapsed": true
   },
   "outputs": [],
   "source": [
    "auth = tweepy.OAuthHandler(consumer_key, consumer_secret)\n",
    "auth.set_access_token(access_token, access_token_secret)"
   ]
  },
  {
   "cell_type": "code",
   "execution_count": 4,
   "metadata": {
    "collapsed": true
   },
   "outputs": [],
   "source": [
    "tweets = []"
   ]
  },
  {
   "cell_type": "code",
   "execution_count": 5,
   "metadata": {
    "collapsed": false
   },
   "outputs": [],
   "source": [
    "# A basic listener that stores n tweets\n",
    "\n",
    "class Listener(tweepy.streaming.StreamListener):\n",
    "\n",
    "    def __init__(self, n):\n",
    "        self.n = n\n",
    "\n",
    "    def on_data(self, tweet):\n",
    "        global tweets\n",
    "        tweets.append(tweet)\n",
    "\n",
    "        return len(tweets) < self.n # exit after n tweets have been received\n",
    "\n",
    "    def on_error(self, status):\n",
    "        print status"
   ]
  },
  {
   "cell_type": "code",
   "execution_count": 6,
   "metadata": {
    "collapsed": false
   },
   "outputs": [],
   "source": [
    "tweepy.Stream(auth, Listener(10)).filter(track = ['easter']) # listen for 10 tweets about \"easter\""
   ]
  },
  {
   "cell_type": "code",
   "execution_count": 7,
   "metadata": {
    "collapsed": false
   },
   "outputs": [
    {
     "data": {
      "text/plain": [
       "10"
      ]
     },
     "execution_count": 7,
     "metadata": {},
     "output_type": "execute_result"
    }
   ],
   "source": [
    "len(tweets)"
   ]
  },
  {
   "cell_type": "code",
   "execution_count": 8,
   "metadata": {
    "collapsed": false
   },
   "outputs": [
    {
     "data": {
      "text/plain": [
       "u'{\"created_at\":\"Sat Apr 22 05:31:46 +0000 2017\",\"id\":855655346613964800,\"id_str\":\"855655346613964800\",\"text\":\"What a busy Easter we had! \\\\ud83d\\\\udc30 https:\\\\/\\\\/t.co\\\\/K7s4g1zHXb\",\"source\":\"\\\\u003ca href=\\\\\"http:\\\\/\\\\/www.facebook.com\\\\/twitter\\\\\" rel=\\\\\"nofollow\\\\\"\\\\u003eFacebook\\\\u003c\\\\/a\\\\u003e\",\"truncated\":false,\"in_reply_to_status_id\":null,\"in_reply_to_status_id_str\":null,\"in_reply_to_user_id\":null,\"in_reply_to_user_id_str\":null,\"in_reply_to_screen_name\":null,\"user\":{\"id\":391612458,\"id_str\":\"391612458\",\"name\":\"Craft Cottage\",\"screen_name\":\"craftcottages\",\"location\":\"Rochdale\",\"url\":\"http:\\\\/\\\\/www.craftcottages.co.uk\",\"description\":\"Based in Wardle Village xoxo\",\"protected\":false,\"verified\":false,\"followers_count\":1018,\"friends_count\":1900,\"listed_count\":3,\"favourites_count\":81,\"statuses_count\":4311,\"created_at\":\"Sat Oct 15 20:58:48 +0000 2011\",\"utc_offset\":7200,\"time_zone\":\"Amsterdam\",\"geo_enabled\":true,\"lang\":\"en\",\"contributors_enabled\":false,\"is_translator\":false,\"profile_background_color\":\"9AE4E8\",\"profile_background_image_url\":\"http:\\\\/\\\\/pbs.twimg.com\\\\/profile_background_images\\\\/572692524\\\\/66sqdv7lxzo7qur0busy.jpeg\",\"profile_background_image_url_https\":\"https:\\\\/\\\\/pbs.twimg.com\\\\/profile_background_images\\\\/572692524\\\\/66sqdv7lxzo7qur0busy.jpeg\",\"profile_background_tile\":true,\"profile_link_color\":\"F5ABB5\",\"profile_sidebar_border_color\":\"BDDCAD\",\"profile_sidebar_fill_color\":\"DDFFCC\",\"profile_text_color\":\"333333\",\"profile_use_background_image\":true,\"profile_image_url\":\"http:\\\\/\\\\/pbs.twimg.com\\\\/profile_images\\\\/2532139396\\\\/v7881lo2tcmcipqfl22k_normal.png\",\"profile_image_url_https\":\"https:\\\\/\\\\/pbs.twimg.com\\\\/profile_images\\\\/2532139396\\\\/v7881lo2tcmcipqfl22k_normal.png\",\"profile_banner_url\":\"https:\\\\/\\\\/pbs.twimg.com\\\\/profile_banners\\\\/391612458\\\\/1428994452\",\"default_profile\":false,\"default_profile_image\":false,\"following\":null,\"follow_request_sent\":null,\"notifications\":null},\"geo\":null,\"coordinates\":null,\"place\":null,\"contributors\":null,\"is_quote_status\":false,\"retweet_count\":0,\"favorite_count\":0,\"entities\":{\"hashtags\":[],\"urls\":[{\"url\":\"https:\\\\/\\\\/t.co\\\\/K7s4g1zHXb\",\"expanded_url\":\"http:\\\\/\\\\/fb.me\\\\/8LasV60Ti\",\"display_url\":\"fb.me\\\\/8LasV60Ti\",\"indices\":[29,52]}],\"user_mentions\":[],\"symbols\":[]},\"favorited\":false,\"retweeted\":false,\"possibly_sensitive\":false,\"filter_level\":\"low\",\"lang\":\"en\",\"timestamp_ms\":\"1492839106597\"}\\r\\n'"
      ]
     },
     "execution_count": 8,
     "metadata": {},
     "output_type": "execute_result"
    }
   ],
   "source": [
    "tweets[0]"
   ]
  },
  {
   "cell_type": "code",
   "execution_count": 9,
   "metadata": {
    "collapsed": false
   },
   "outputs": [
    {
     "name": "stdout",
     "output_type": "stream",
     "text": [
      "{\n",
      "    \"contributors\": null, \n",
      "    \"coordinates\": null, \n",
      "    \"created_at\": \"Sat Apr 22 05:31:46 +0000 2017\", \n",
      "    \"entities\": {\n",
      "        \"hashtags\": [], \n",
      "        \"symbols\": [], \n",
      "        \"urls\": [\n",
      "            {\n",
      "                \"display_url\": \"fb.me/8LasV60Ti\", \n",
      "                \"expanded_url\": \"http://fb.me/8LasV60Ti\", \n",
      "                \"indices\": [\n",
      "                    29, \n",
      "                    52\n",
      "                ], \n",
      "                \"url\": \"https://t.co/K7s4g1zHXb\"\n",
      "            }\n",
      "        ], \n",
      "        \"user_mentions\": []\n",
      "    }, \n",
      "    \"favorite_count\": 0, \n",
      "    \"favorited\": false, \n",
      "    \"filter_level\": \"low\", \n",
      "    \"geo\": null, \n",
      "    \"id\": 855655346613964800, \n",
      "    \"id_str\": \"855655346613964800\", \n",
      "    \"in_reply_to_screen_name\": null, \n",
      "    \"in_reply_to_status_id\": null, \n",
      "    \"in_reply_to_status_id_str\": null, \n",
      "    \"in_reply_to_user_id\": null, \n",
      "    \"in_reply_to_user_id_str\": null, \n",
      "    \"is_quote_status\": false, \n",
      "    \"lang\": \"en\", \n",
      "    \"place\": null, \n",
      "    \"possibly_sensitive\": false, \n",
      "    \"retweet_count\": 0, \n",
      "    \"retweeted\": false, \n",
      "    \"source\": \"<a href=\\\"http://www.facebook.com/twitter\\\" rel=\\\"nofollow\\\">Facebook</a>\", \n",
      "    \"text\": \"What a busy Easter we had! \\ud83d\\udc30 https://t.co/K7s4g1zHXb\", \n",
      "    \"timestamp_ms\": \"1492839106597\", \n",
      "    \"truncated\": false, \n",
      "    \"user\": {\n",
      "        \"contributors_enabled\": false, \n",
      "        \"created_at\": \"Sat Oct 15 20:58:48 +0000 2011\", \n",
      "        \"default_profile\": false, \n",
      "        \"default_profile_image\": false, \n",
      "        \"description\": \"Based in Wardle Village xoxo\", \n",
      "        \"favourites_count\": 81, \n",
      "        \"follow_request_sent\": null, \n",
      "        \"followers_count\": 1018, \n",
      "        \"following\": null, \n",
      "        \"friends_count\": 1900, \n",
      "        \"geo_enabled\": true, \n",
      "        \"id\": 391612458, \n",
      "        \"id_str\": \"391612458\", \n",
      "        \"is_translator\": false, \n",
      "        \"lang\": \"en\", \n",
      "        \"listed_count\": 3, \n",
      "        \"location\": \"Rochdale\", \n",
      "        \"name\": \"Craft Cottage\", \n",
      "        \"notifications\": null, \n",
      "        \"profile_background_color\": \"9AE4E8\", \n",
      "        \"profile_background_image_url\": \"http://pbs.twimg.com/profile_background_images/572692524/66sqdv7lxzo7qur0busy.jpeg\", \n",
      "        \"profile_background_image_url_https\": \"https://pbs.twimg.com/profile_background_images/572692524/66sqdv7lxzo7qur0busy.jpeg\", \n",
      "        \"profile_background_tile\": true, \n",
      "        \"profile_banner_url\": \"https://pbs.twimg.com/profile_banners/391612458/1428994452\", \n",
      "        \"profile_image_url\": \"http://pbs.twimg.com/profile_images/2532139396/v7881lo2tcmcipqfl22k_normal.png\", \n",
      "        \"profile_image_url_https\": \"https://pbs.twimg.com/profile_images/2532139396/v7881lo2tcmcipqfl22k_normal.png\", \n",
      "        \"profile_link_color\": \"F5ABB5\", \n",
      "        \"profile_sidebar_border_color\": \"BDDCAD\", \n",
      "        \"profile_sidebar_fill_color\": \"DDFFCC\", \n",
      "        \"profile_text_color\": \"333333\", \n",
      "        \"profile_use_background_image\": true, \n",
      "        \"protected\": false, \n",
      "        \"screen_name\": \"craftcottages\", \n",
      "        \"statuses_count\": 4311, \n",
      "        \"time_zone\": \"Amsterdam\", \n",
      "        \"url\": \"http://www.craftcottages.co.uk\", \n",
      "        \"utc_offset\": 7200, \n",
      "        \"verified\": false\n",
      "    }\n",
      "}\n"
     ]
    }
   ],
   "source": [
    "print json.dumps(json.loads(tweets[0]), indent = 4, sort_keys = True)"
   ]
  },
  {
   "cell_type": "code",
   "execution_count": 10,
   "metadata": {
    "collapsed": false
   },
   "outputs": [
    {
     "name": "stdout",
     "output_type": "stream",
     "text": [
      "What a busy Easter we had! 🐰 https://t.co/K7s4g1zHXb \n",
      "---\n",
      "RT @ElliHill4: um an high or is this a dog makin cookies https://t.co/oGNeSgkXju \n",
      "---\n",
      "RT @Ellerslie_Races: SEVENTH UP flies home on the fence late to win the Manco Easter stakes under G. Cooksley. Giving trainer Shelley Ha…  \n",
      "---\n",
      "SEVENTH UP gets up to win the G2 Manco Easter Stakes at Ellerslie! Watch the full replay at https://t.co/dqO5hljcFF https://t.co/s2HrrCpkWQ \n",
      "---\n",
      "RT @ELoures: Happy Easter to everyone!Love and Prosperity! 🍫🍬🐇🐣👪#eloures #JoshHartnett #easter #love #Peace https://t.co/DxtKdA0kYS \n",
      "---\n",
      "RT @OurChurchDotCom: New post... Secrets Revealed by Easter Analytics - https://t.co/Nc0jS1HdfG \n",
      "---\n",
      "Easter Event Dungeon! In All Difficulties! [Happy Dungeons] https://t.co/FYbcce55SN \n",
      "---\n",
      "@RoselynSmitley @Terry_Sylvester @barbbk2 @klausbmnn @gazuradiary @KirstyWarner @tania90579 Aww that's sweet Rosely… https://t.co/n68WuCRSOF \n",
      "---\n",
      "RT @CollegeJocks: Easter Eggs courtesy of @tgriffin91 and @Alec_Suttenwood Our Jace Jockstrap by Marco Marco 👍 https://t.co/EvXm0Et1Tt \n",
      "---\n",
      "Easter Dinner, a Bracelet of Denim (listed), New Custom Order Art and Celebration of Women Gift Guide https://t.co/FCjqpoSFHp via @kraftymax \n",
      "---\n"
     ]
    }
   ],
   "source": [
    "for tweet in tweets:\n",
    "    tweet = json.loads(tweet)\n",
    "    print tweet['text'], \"\\n---\""
   ]
  }
 ],
 "metadata": {
  "kernelspec": {
   "display_name": "Python 2",
   "language": "python",
   "name": "python2"
  },
  "language_info": {
   "codemirror_mode": {
    "name": "ipython",
    "version": 2
   },
   "file_extension": ".py",
   "mimetype": "text/x-python",
   "name": "python",
   "nbconvert_exporter": "python",
   "pygments_lexer": "ipython2",
   "version": "2.7.13"
  }
 },
 "nbformat": 4,
 "nbformat_minor": 1
}