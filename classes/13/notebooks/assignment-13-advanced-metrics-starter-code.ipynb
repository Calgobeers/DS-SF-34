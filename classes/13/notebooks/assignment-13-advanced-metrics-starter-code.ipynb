{
 "cells": [
  {
   "cell_type": "markdown",
   "metadata": {},
   "source": [
    "# DS-SF-34 | 13 | Advanced Metrics | Assignment | Starter Code"
   ]
  },
  {
   "cell_type": "markdown",
   "metadata": {},
   "source": [
    "## Myopia"
   ]
  },
  {
   "cell_type": "code",
   "execution_count": null,
   "metadata": {
    "collapsed": false
   },
   "outputs": [],
   "source": [
    "import os\n",
    "\n",
    "import numpy as np\n",
    "import pandas as pd\n",
    "pd.set_option('display.max_rows', 10)\n",
    "pd.set_option('display.notebook_repr_html', True)\n",
    "pd.set_option('display.max_columns', 10)\n",
    "\n",
    "import statsmodels.api as sm\n",
    "\n",
    "from sklearn import preprocessing, linear_model, model_selection, metrics\n",
    "# TODO model_selection\n",
    "\n",
    "import matplotlib.pyplot as plt\n",
    "%matplotlib inline\n",
    "plt.style.use('ggplot')"
   ]
  },
  {
   "cell_type": "markdown",
   "metadata": {},
   "source": [
    "In this assignment, we will be looking at what contributes to myopia (i.e., nearsightedness) the most.  My parents always told me not to watch TV or play video game as it will affect negatively my vision.  (They were strangely fine with studying!).  But we are data scientists now, so let's go and explain myopia!"
   ]
  },
  {
   "cell_type": "code",
   "execution_count": null,
   "metadata": {
    "collapsed": true
   },
   "outputs": [],
   "source": [
    "df = pd.read_csv(os.path.join('..', 'datasets', 'dataset-13-myopia.csv'))"
   ]
  },
  {
   "cell_type": "code",
   "execution_count": null,
   "metadata": {
    "collapsed": false
   },
   "outputs": [],
   "source": [
    "df"
   ]
  },
  {
   "cell_type": "markdown",
   "metadata": {},
   "source": [
    "Here's the data dictionnary for this dataset:\n",
    "\n",
    "| Variable Name | Variable Description | Values/Labels |\n",
    "|:---|:---|:---|\n",
    "| `ID` | Subject identifier | Integer (range 1-1503) |\n",
    "| `STUDYYEAR` | Year subject entered the study | Year |\n",
    "| `MYOPIC` | Myopia within the first 5 yr of follow up<sup>(a)</sup> | `0 = No`, `1 = Yes` |\n",
    "| `AGE` | Age at first visit | Years |\n",
    "| `GENDER` | Gender | `0 = Male`, `1 = Female` |\n",
    "| `SPHEQ` | Spherical equivalent refraction<sup>(b)</sup> | Diopter |\n",
    "| `AL` | Axial length<sup>(c)</sup> | mm |\n",
    "| `ACD` | Anterior chamber depth<sup>(d)</sup> | mm |\n",
    "| `LT` | Lens thickness<sup>(e)</sup> | mm |\n",
    "| `VCD` | Vitreous chamber depth<sup>(f)</sup> | mm |\n",
    "| `SPORTHR` | How many hours per week outside of school the child spent engaging in sports/outdoor activities | Hours per week |\n",
    "| `READHR` | How many hours per week outside of school the child spent reading for pleasure | Hours per week |\n",
    "| `COMPHR` | How many hours per week outside of school the child spent playing video/computer games or working on the computer | Hours per week |\n",
    "| `STUDYHR` | How many hours per week outside of school the child spent reading or studying for school assignments | Hours per week |\n",
    "| `TVHR` | How many hours per week outside of school the child spent watching television | Hours per week |\n",
    "| `DIOPTERHR` | Composite of near-work activities | Hours per week  |\n",
    "| `MOMMY` | Was the subject's mother myopic?<sup>g</sup> | `0 = No`, `1 = Yes` |\n",
    "| `DADMY` | Was the subject's father myopic? | `0 = No`, `1 = Yes` |\n",
    "<sup>(a)</sup> MYOPIC is defined as SPHEQ <= -0.75D<br>\n",
    "<sup>(b)</sup> A measure of the eye's effective focusing power.  Eyes that are \"normal\" (don't require glasses or contact lenses) have spherical equivalents between -0.25 diopters (D) and +1.00 D. The more negative the spherical equivalent, the more myopic the subject<br>\n",
    "<sup>(c)</sup> The length of eye from front to back<br>\n",
    "<sup>(d)</sup> The length from front to back of the aqueous-containing space of the eye between the cornea and the iris<br>\n",
    "<sup>(e)</sup> The length from front to back of the crystalline lens<br>\n",
    "<sup>(f)</sup> The length from front to back of the aqueous-containing space of the eye in front of the retina<br>\n",
    "<sup>(g)</sup> DIOPTERHR = 3 * (READHR + STUDYHR) + 2 * COMPHR + TVHR"
   ]
  },
  {
   "cell_type": "markdown",
   "metadata": {},
   "source": [
    "> ### Question 1.  `ID` and `STUDYYEAR` do not predict myopia.  Disregard them.  Then, consider two types of inputs.  First, all general inputs (i.e., physical and external inputs) as `X1`.  Second, only the external inputs as `X2`.  Finally, define the response vector `c`"
   ]
  },
  {
   "cell_type": "code",
   "execution_count": null,
   "metadata": {
    "collapsed": true
   },
   "outputs": [],
   "source": [
    "# TODO"
   ]
  },
  {
   "cell_type": "markdown",
   "metadata": {},
   "source": [
    "> ### Question 2.  Run your regression line on `X1` and interpret the `MOMMY` and `DADMY` coefficients"
   ]
  },
  {
   "cell_type": "code",
   "execution_count": null,
   "metadata": {
    "collapsed": false
   },
   "outputs": [],
   "source": [
    "# TODO"
   ]
  },
  {
   "cell_type": "markdown",
   "metadata": {},
   "source": [
    "Answer: TODO"
   ]
  },
  {
   "cell_type": "markdown",
   "metadata": {},
   "source": [
    "> ### Question 3.  What's the model accuracy?"
   ]
  },
  {
   "cell_type": "code",
   "execution_count": null,
   "metadata": {
    "collapsed": false
   },
   "outputs": [],
   "source": [
    "# TODO"
   ]
  },
  {
   "cell_type": "markdown",
   "metadata": {},
   "source": [
    "Answer: TODO"
   ]
  },
  {
   "cell_type": "markdown",
   "metadata": {},
   "source": [
    "> ### Question 3.  Use a 5-fold cross-validation to measure the model's accuracy"
   ]
  },
  {
   "cell_type": "code",
   "execution_count": null,
   "metadata": {
    "collapsed": false
   },
   "outputs": [],
   "source": [
    "# TODO"
   ]
  },
  {
   "cell_type": "markdown",
   "metadata": {},
   "source": [
    "Answer: TODO"
   ]
  },
  {
   "cell_type": "markdown",
   "metadata": {},
   "source": [
    "> ### Question 4.  In the dataset, what's the percentage of myopic cases?"
   ]
  },
  {
   "cell_type": "code",
   "execution_count": null,
   "metadata": {
    "collapsed": false
   },
   "outputs": [],
   "source": [
    "# TODO"
   ]
  },
  {
   "cell_type": "markdown",
   "metadata": {},
   "source": [
    "Answer: TODO"
   ]
  },
  {
   "cell_type": "markdown",
   "metadata": {},
   "source": [
    "> ### Question 5.  Based on the result above, is your model's accuracy good?"
   ]
  },
  {
   "cell_type": "markdown",
   "metadata": {},
   "source": [
    "Answer: TODO"
   ]
  },
  {
   "cell_type": "markdown",
   "metadata": {},
   "source": [
    "> ### Question 6.  Build a confusion matrix"
   ]
  },
  {
   "cell_type": "code",
   "execution_count": null,
   "metadata": {
    "collapsed": false
   },
   "outputs": [],
   "source": [
    "# TODO"
   ]
  },
  {
   "cell_type": "markdown",
   "metadata": {},
   "source": [
    "> ### Question 7.  What's the model `FPR` and `FNR` (i.e., type I and type II error rates)?"
   ]
  },
  {
   "cell_type": "markdown",
   "metadata": {},
   "source": [
    "Answer: TODO"
   ]
  },
  {
   "cell_type": "markdown",
   "metadata": {},
   "source": [
    "> ### Question 8.  What's the trade-off between these two errors?"
   ]
  },
  {
   "cell_type": "markdown",
   "metadata": {},
   "source": [
    "Answer: TODO"
   ]
  },
  {
   "cell_type": "markdown",
   "metadata": {},
   "source": [
    "> ### Question 9.  Run your regression line on `X2` and interpret your results specifically on `SPORTHR`, `READHR`, `COMPHR`, `STUDYHR`, `TVHR`, and `GENDER`.  You might want to use `statsmodels`' `Logit()`"
   ]
  },
  {
   "cell_type": "code",
   "execution_count": null,
   "metadata": {
    "collapsed": false
   },
   "outputs": [],
   "source": [
    "# TODO"
   ]
  },
  {
   "cell_type": "markdown",
   "metadata": {},
   "source": [
    "Answer: TODO"
   ]
  },
  {
   "cell_type": "markdown",
   "metadata": {},
   "source": [
    "> ### Question 10.  Now it's time for regularization!  Use `X1`.  According to `Lasso`, what are the non-significant features?"
   ]
  },
  {
   "cell_type": "code",
   "execution_count": null,
   "metadata": {
    "collapsed": true
   },
   "outputs": [],
   "source": [
    "# TODO"
   ]
  },
  {
   "cell_type": "markdown",
   "metadata": {},
   "source": [
    "Answer: TODO"
   ]
  },
  {
   "cell_type": "markdown",
   "metadata": {},
   "source": [
    "> ### Question 11.  What is your conclusions about your parents' claims?"
   ]
  },
  {
   "cell_type": "markdown",
   "metadata": {},
   "source": [
    "Answer: TODO"
   ]
  },
  {
   "cell_type": "markdown",
   "metadata": {},
   "source": [
    "> ### Question 12.  Draw the ROC curve of your best tuned model"
   ]
  },
  {
   "cell_type": "code",
   "execution_count": null,
   "metadata": {
    "collapsed": false
   },
   "outputs": [],
   "source": [
    "# TODO"
   ]
  }
 ],
 "metadata": {
  "kernelspec": {
   "display_name": "Python 2",
   "language": "python",
   "name": "python2"
  },
  "language_info": {
   "codemirror_mode": {
    "name": "ipython",
    "version": 2
   },
   "file_extension": ".py",
   "mimetype": "text/x-python",
   "name": "python",
   "nbconvert_exporter": "python",
   "pygments_lexer": "ipython2",
   "version": "2.7.13"
  }
 },
 "nbformat": 4,
 "nbformat_minor": 0
}
