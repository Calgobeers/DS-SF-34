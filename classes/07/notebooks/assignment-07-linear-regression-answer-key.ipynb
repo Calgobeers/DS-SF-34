{
 "cells": [
  {
   "cell_type": "markdown",
   "metadata": {},
   "source": [
    "# DS-SF-34 | 07 | Linear Regression | Assignment | Answer Key"
   ]
  },
  {
   "cell_type": "markdown",
   "metadata": {
    "collapsed": true
   },
   "source": [
    "Today, we are going to take a look at several studies and regression outputs in order to get comfortable reading these outputs and practicing hypothesis testing."
   ]
  },
  {
   "cell_type": "markdown",
   "metadata": {},
   "source": [
    "## Data Output 1"
   ]
  },
  {
   "cell_type": "markdown",
   "metadata": {},
   "source": [
    "This dataset examines the association between an outcome and generic variables `X1`, `X3`, and `X6`.  (While we haven't looked at linear regression with multiple regressors, interpreting the significance of each regressor is identical to simple linear regressions)"
   ]
  },
  {
   "cell_type": "markdown",
   "metadata": {},
   "source": [
    "<table class='simpletable'>\n",
    "<caption>OLS Regression Results</caption>\n",
    "<tr><th>Dep. Variable:</th><td>Y</td><th>R-squared:</th><td>0.726</td></tr>\n",
    "<tr><th>Model:</th><td>OLS</td><th>Adj. R-squared:</th><td>0.694</td></tr>\n",
    "<tr><th>Method:</th><td>Least Squares</td><th>F-statistic:</th><td>22.92</td></tr>\n",
    "<tr><th>Date:</th><td></td><th>Prob (F-statistic):</th><td>1.81e-07</td></tr>\n",
    "<tr><th>Time:</th><td></td><th>Log-Likelihood:</th><td>-97.638</td></tr>\n",
    "<tr><th>No. Observations:</th><td>30</td><th>AIC:</th><td>203.3</td></tr>\n",
    "<tr><th>Df Residuals:</th><td>26</td><th>BIC:</th><td>208.9</td></tr>\n",
    "<tr><th>Df Model:</th><td>3</td><th></th><td></td></tr>\n",
    "<tr><th>Covariance Type:</th><td>nonrobust</td><th></th><td></td></tr>\n",
    "</table>\n",
    "\n",
    "<table class='simpletable'>\n",
    "<tr><td></td><th>coef</th><th>std err</th><th>t</th><th>P>|t|</th><th>[95.0% Conf. Int.]</th></tr>\n",
    "<tr><th>Intercept</th><td>13.5777</td><td>7.544</td><td>1.800</td><td>0.084</td><td>-1.929 29.084</td>\n",
    "<tr><th>X1</th><td>0.6227</td><td>0.118</td><td>5.271</td><td>0.000</td><td> 0.380 0.866</td>\n",
    "<tr><th>X3</th><td>0.3124</td><td>0.154</td><td>2.026</td><td>0.053</td><td>-0.005 0.629</td>\n",
    "<tr><th>X6</th><td>-0.1870</td><td>0.145</td><td>-1.291</td><td>0.208</td><td>-0.485 0.111</td>\n",
    "</tr>\n",
    "</table>\n",
    "\n",
    "<table class='simpletable'>\n",
    "<tr><th>Omnibus:</th><td>2.856</td><th>Durbin-Watson:</th><td>1.938</td></tr>\n",
    "<tr><th>Prob(Omnibus):</th><td>0.240</td><th>Jarque-Bera (JB):</th><td>1.394</td></tr>\n",
    "<tr><th>Skew:</th><td>-0.121</td><th>Prob(JB):</th><td>0.498</td></tr>\n",
    "<tr><th>Kurtosis:</th><td>1.972</td><th>Cond. No.</th><td>605.</td></tr>\n",
    "</table>"
   ]
  },
  {
   "cell_type": "markdown",
   "metadata": {},
   "source": [
    "> ### Question 1.  `X3` has an association with the outcome of .3124.  Is this association statistically significant?"
   ]
  },
  {
   "cell_type": "markdown",
   "metadata": {},
   "source": [
    "Answer: No, it has a p-value of .053 (> .025) and the CI crosses 0.  While its t-value is 2.026 and is therefore over 2, we only have 30 observations; our \"t-value > 2\" rule is only applicable for 100+ or so observations."
   ]
  },
  {
   "cell_type": "markdown",
   "metadata": {},
   "source": [
    "> ### Question 2.  Which of the variables `X1`, `X3`, and `X6` is statistically significant?"
   ]
  },
  {
   "cell_type": "markdown",
   "metadata": {},
   "source": [
    "Answer: X1: It has a t-value well over 2, p-value < .025 and the CI doesn't cross 0."
   ]
  },
  {
   "cell_type": "markdown",
   "metadata": {},
   "source": [
    "> ### Question 3.  What does a 95% CI (Confidence Interval) of .38 - .866 indicate?"
   ]
  },
  {
   "cell_type": "markdown",
   "metadata": {},
   "source": [
    "Answer: That if we repeated this study 100 times our point estimate would lie within that range 95 times."
   ]
  },
  {
   "cell_type": "markdown",
   "metadata": {},
   "source": [
    "## Data Output 2"
   ]
  },
  {
   "cell_type": "markdown",
   "metadata": {},
   "source": [
    "This is a dataset of different animals.  We measured the brain size and body size of each animale in our dataset.  We aim to determine if there is an association between the body size and brain size of animals in our dataset."
   ]
  },
  {
   "cell_type": "markdown",
   "metadata": {},
   "source": [
    "<table class='simpletable'>\n",
    "<caption>OLS Regression Results</caption>\n",
    "<tr><th>Dep. Variable:</th><td>brain</td><th>R-squared:</th><td>0.873</td></tr>\n",
    "<tr><th>Model:</th><td>OLS</td><th>Adj. R-squared:</th><td>0.871</td></tr>\n",
    "<tr><th>Method:</th><td>Least Squares</td><th>F-statistic:</th><td>411.2</td></tr>\n",
    "<tr><th>Date:</th><td></td><th>Prob (F-statistic):</th><td>1.54e-28</td></tr>\n",
    "<tr><th>Time:</th><td></td><th>Log-Likelihood:</th><td>-447.38</td></tr>\n",
    "<tr><th>No. Observations:</th><td>62</td><th>AIC:</th><td>898.8</td></tr>\n",
    "<tr><th>Df Residuals:</th><td>60</td><th>BIC:</th><td>903.0</td></tr>\n",
    "<tr><th>Df Model:</th><td>1</td><th></th><td></td></tr>\n",
    "<tr><th>Covariance Type:</th><td>nonrobust</td><th></th><td></td></tr>\n",
    "</table>\n",
    "\n",
    "<table class='simpletable'>\n",
    "<tr><td></td><th>coef</th><th>std err</th><th>t</th><th>P>|t|</th><th>[95.0% Conf. Int.]</th></tr>\n",
    "<tr><th>Intercept</th><td>91.0044</td><td>43.553</td><td>2.090</td><td>0.041</td><td>3.886 178.123</td>\n",
    "<tr><th>body</th><td>0.9665</td><td>0.048</td><td>20.278</td><td>0.000</td><td>0.871 1.062</td>\n",
    "</tr>\n",
    "</table>\n",
    "\n",
    "<table class='simpletable'>\n",
    "<tr><th>Omnibus:</th><td>92.942</td><th>Durbin-Watson:</th><td>2.339</td></tr>\n",
    "<tr><th>Prob(Omnibus):</th><td>0.000</td><th>Jarque-Bera (JB):</th><td>1738.656</td></tr>\n",
    "<tr><th>Skew:</th><td>4.382</td><th>Prob(JB):</th><td>0.00</td></tr>\n",
    "<tr><th>Kurtosis:</th><td>27.417</td><th>Cond. No.</th><td>936.</td></tr>\n",
    "</table>"
   ]
  },
  {
   "cell_type": "markdown",
   "metadata": {},
   "source": [
    "> ### Question 4.  What is the outcome in this model?"
   ]
  },
  {
   "cell_type": "markdown",
   "metadata": {
    "collapsed": true
   },
   "source": [
    "Answer: Brain size; it's the dependent variable."
   ]
  },
  {
   "cell_type": "markdown",
   "metadata": {},
   "source": [
    "> ### Question 5.  What is the predictor in this model?"
   ]
  },
  {
   "cell_type": "markdown",
   "metadata": {
    "collapsed": true
   },
   "source": [
    "Answer: Body size; it's the independent variable."
   ]
  },
  {
   "cell_type": "markdown",
   "metadata": {},
   "source": [
    "> ### Question 6.  What is the association between body and brain size?"
   ]
  },
  {
   "cell_type": "markdown",
   "metadata": {},
   "source": [
    "Answer: .97; it's the coefficient reported by the linear regression model."
   ]
  },
  {
   "cell_type": "markdown",
   "metadata": {},
   "source": [
    "> ### Question 7.  Is this relationship statistically significant?  How did you decide?"
   ]
  },
  {
   "cell_type": "markdown",
   "metadata": {},
   "source": [
    "Answer: Yes, It has a t-value well over 2, p-value < .025 and the CI doesn't cross 0."
   ]
  },
  {
   "cell_type": "markdown",
   "metadata": {},
   "source": [
    "> ### Question 8.  Is this relationship biologically significant?  What other information would you need to decide this?"
   ]
  },
  {
   "cell_type": "markdown",
   "metadata": {},
   "source": [
    "Answer: Unclear.  We would need to understand more about the dataset, the animals in the dataset, how the dataset was collected etc."
   ]
  },
  {
   "cell_type": "markdown",
   "metadata": {},
   "source": [
    "## Dataset 3 - A study about french fries and diabetes"
   ]
  },
  {
   "cell_type": "markdown",
   "metadata": {},
   "source": [
    "Take a look at the abstract below."
   ]
  },
  {
   "cell_type": "markdown",
   "metadata": {},
   "source": [
    "<img src=\"../assets/asset-07-dataset-3-abstract.png\">"
   ]
  },
  {
   "cell_type": "markdown",
   "metadata": {},
   "source": [
    "### Table 1 - Review Table 1"
   ]
  },
  {
   "cell_type": "markdown",
   "metadata": {},
   "source": [
    "<img src='../assets/asset-07-dataset-3-table-1.png'>"
   ]
  },
  {
   "cell_type": "markdown",
   "metadata": {},
   "source": [
    "> ### Question 9.  Is there a statistically significant diffence by age among the different levels of french fry or potato intake?"
   ]
  },
  {
   "cell_type": "markdown",
   "metadata": {},
   "source": [
    "Answer: No, the age range of each quantile overlaps with the age range of every other quantile.  E.g., 56 +/- 7 = 49 to 53 (Potato's first quantile) overlaps with 56 +/- 7.9 = 48.1 to 53.9 (Potato's third quantile)."
   ]
  },
  {
   "cell_type": "markdown",
   "metadata": {},
   "source": [
    "<img src='../assets/asset-07-dataset-3-table-2.png'>"
   ]
  },
  {
   "cell_type": "markdown",
   "metadata": {},
   "source": [
    "> ### Question 10.  What are the numbers in the parentheses?"
   ]
  },
  {
   "cell_type": "markdown",
   "metadata": {},
   "source": [
    "Answer: They are the lower and upper bounds for the 95% confidence intervals (\"95% CI\")."
   ]
  },
  {
   "cell_type": "markdown",
   "metadata": {},
   "source": [
    "> ### Question 11.  Is the risk of diabetes statistically significant for women who eat the highest mean servings of potatos (quintile 5) compared to the lowest group (quintile 1)?"
   ]
  },
  {
   "cell_type": "markdown",
   "metadata": {
    "collapsed": true
   },
   "source": [
    "Answer: Yes.  The age-adjusted RR 95% CI for the fith quintile ranges from 1.03 to 1.25 which excludes the value 1 of the first quintile.  Since the possible values don't overlap the risk of diabetes between both group is statistically significant."
   ]
  },
  {
   "cell_type": "markdown",
   "metadata": {},
   "source": [
    "> ### Question 12.  Is the risk of diabetes statistically significant for women who eat the second lowest mean servings of potatos (quintile 2) compared to the lowest group (quintile 1)?"
   ]
  },
  {
   "cell_type": "markdown",
   "metadata": {},
   "source": [
    "Answer: No.  The age-adjusted RR 95% CI for the second quintile ranges between .97 and 1.18 which includes the value 1 of the first quintile.  Since the possible values overlap the risk of diabetes between both group is not statistically significant."
   ]
  }
 ],
 "metadata": {
  "kernelspec": {
   "display_name": "Python 2",
   "language": "python",
   "name": "python2"
  },
  "language_info": {
   "codemirror_mode": {
    "name": "ipython",
    "version": 2
   },
   "file_extension": ".py",
   "mimetype": "text/x-python",
   "name": "python",
   "nbconvert_exporter": "python",
   "pygments_lexer": "ipython2",
   "version": "2.7.13"
  }
 },
 "nbformat": 4,
 "nbformat_minor": 0
}