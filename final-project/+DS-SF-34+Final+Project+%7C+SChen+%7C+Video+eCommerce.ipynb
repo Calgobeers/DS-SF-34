{
 "cells": [
  {
   "cell_type": "code",
   "execution_count": 63,
   "metadata": {
    "collapsed": false
   },
   "outputs": [],
   "source": [
    "import os\n",
    "\n",
    "import numpy as np\n",
    "import pandas as pd\n",
    "\n",
    "pd.set_option('display.max_rows', 10)\n",
    "pd.set_option('display.max_columns', 10)\n",
    "pd.set_option('display.notebook_repr_html', True)\n",
    "\n",
    "import matplotlib.pyplot as plt\n",
    "%matplotlib inline\n",
    "plt.style.use('ggplot')\n",
    "\n",
    "import statsmodels.api as sm\n",
    "import statsmodels.formula.api as smf\n",
    "\n",
    "from sklearn import preprocessing, linear_model, model_selection, metrics\n",
    "\n",
    "from sklearn.linear_model import LinearRegression"
   ]
  },
  {
   "cell_type": "markdown",
   "metadata": {},
   "source": [
    "# Predicting product performance in video eCommerce\n",
    "\n",
    " Overview:\n",
    "My company produces 2-3 minute video segments for products that feature a host/presenter ( like HSN but shorter and online!). We use our content and syndicate it across out publisher network to generate sales. In this business, the KPIs are gross revenue, total # of views (think of this as your foot traffic to a store), conversion rate and more. \n",
    " \n",
    "\n",
    "### Problem Statement:\n",
    "We have hit a stage where in order to scale the business, you need to purchase more distribution. There is a need for a predictive model where if we input the category of a product, sale price and total number of views, we should have a prediction of the number of views and gross revenue we would receive. There are other needs for a predictive model, such as the need to predict views or units sold. This will help the team make better choices as to which content to place on specific publisher.\n",
    "\n",
    "\n",
    "\n",
    "### What to find in the data ?\n",
    "\n",
    "Build a model that shows the gross revenue based on number of views, sale price, and which campaign source to feature\n",
    "\n",
    "At what sale price does each campaign source generate the most views and revenue? Is there a signifiance in the correlation between category with views and gross revenue? \n",
    "\n",
    "\n",
    "## Methodology\n",
    "\n",
    "Linear Regression & Linear Regression Modeling with sklearn\n",
    "\n",
    "Use multilinear linear regression to find any significance between variables (views in relation to sale price, category in relation to gross sales,  sale price in relation to gross sales, syndication source in relation to gross sales). \n",
    "\n",
    "#### -  Of the variables that have significance, rank the order of signifiance.\n",
    "\n",
    "\n",
    "## Goals / Indicators of Success\n",
    "\n",
    "Just build a predictive model using STATSMODEL and SCILEARN that has a R-square value of .60 > \n",
    "\n",
    "## Challenges / Concerns\n",
    "\n",
    "### Interaction Effects and gression plot between different variables to the response variable (gross sales)\n"
   ]
  },
  {
   "cell_type": "markdown",
   "metadata": {},
   "source": [
    "## About the data file: \n",
    "### I used Looker (our analytics tool that tracks transactional data) to pull information on all video sales from 1/1/2015 - 12/31/2016. I filtered only for videos with 1000> views. When we do feature a video on any particular day, the video receives well over 1000 views so I want to filter out noise. "
   ]
  },
  {
   "cell_type": "code",
   "execution_count": 64,
   "metadata": {
    "collapsed": false
   },
   "outputs": [],
   "source": [
    "df = pd.read_csv(os.path.join('Video sales dataset.csv'), index_col = 'Video_ID')\n",
    "\n"
   ]
  },
  {
   "cell_type": "code",
   "execution_count": 65,
   "metadata": {
    "collapsed": false,
    "scrolled": true
   },
   "outputs": [
    {
     "data": {
      "text/html": [
       "<div>\n",
       "<table border=\"1\" class=\"dataframe\">\n",
       "  <thead>\n",
       "    <tr style=\"text-align: right;\">\n",
       "      <th></th>\n",
       "      <th>Date</th>\n",
       "      <th>Campaign_Source</th>\n",
       "      <th>Category</th>\n",
       "      <th>Presenter</th>\n",
       "      <th>RPV</th>\n",
       "      <th>TotalViews</th>\n",
       "      <th>GrossRevenue</th>\n",
       "      <th>TotalUnitsSold</th>\n",
       "      <th>SalePrice</th>\n",
       "    </tr>\n",
       "    <tr>\n",
       "      <th>Video_ID</th>\n",
       "      <th></th>\n",
       "      <th></th>\n",
       "      <th></th>\n",
       "      <th></th>\n",
       "      <th></th>\n",
       "      <th></th>\n",
       "      <th></th>\n",
       "      <th></th>\n",
       "      <th></th>\n",
       "    </tr>\n",
       "  </thead>\n",
       "  <tbody>\n",
       "    <tr>\n",
       "      <th>3360.0</th>\n",
       "      <td>12/31/16</td>\n",
       "      <td>syndication-comcast</td>\n",
       "      <td>Beauty</td>\n",
       "      <td>Susan Yara</td>\n",
       "      <td>0.17</td>\n",
       "      <td>1759</td>\n",
       "      <td>300.0</td>\n",
       "      <td>8</td>\n",
       "      <td>37.50</td>\n",
       "    </tr>\n",
       "    <tr>\n",
       "      <th>3400.0</th>\n",
       "      <td>12/31/16</td>\n",
       "      <td>syndication-aol-hp-test</td>\n",
       "      <td>Home</td>\n",
       "      <td>Marcy McKenna</td>\n",
       "      <td>0.27</td>\n",
       "      <td>1495</td>\n",
       "      <td>408.0</td>\n",
       "      <td>6</td>\n",
       "      <td>68.00</td>\n",
       "    </tr>\n",
       "    <tr>\n",
       "      <th>2958.0</th>\n",
       "      <td>12/31/16</td>\n",
       "      <td>syndication-AOL-CPV</td>\n",
       "      <td>Home</td>\n",
       "      <td>Marcy McKenna</td>\n",
       "      <td>0.04</td>\n",
       "      <td>2109</td>\n",
       "      <td>80.0</td>\n",
       "      <td>4</td>\n",
       "      <td>20.00</td>\n",
       "    </tr>\n",
       "    <tr>\n",
       "      <th>3399.0</th>\n",
       "      <td>12/31/16</td>\n",
       "      <td>syndication-AOL-CPV</td>\n",
       "      <td>Beauty</td>\n",
       "      <td>Jenny Patinkin</td>\n",
       "      <td>0.31</td>\n",
       "      <td>7272</td>\n",
       "      <td>2251.0</td>\n",
       "      <td>35</td>\n",
       "      <td>64.31</td>\n",
       "    </tr>\n",
       "    <tr>\n",
       "      <th>3398.0</th>\n",
       "      <td>12/31/16</td>\n",
       "      <td>syndication-aol-hp-test</td>\n",
       "      <td>Home</td>\n",
       "      <td>Marcy McKenna</td>\n",
       "      <td>0.33</td>\n",
       "      <td>3441</td>\n",
       "      <td>1152.0</td>\n",
       "      <td>9</td>\n",
       "      <td>128.00</td>\n",
       "    </tr>\n",
       "    <tr>\n",
       "      <th>...</th>\n",
       "      <td>...</td>\n",
       "      <td>...</td>\n",
       "      <td>...</td>\n",
       "      <td>...</td>\n",
       "      <td>...</td>\n",
       "      <td>...</td>\n",
       "      <td>...</td>\n",
       "      <td>...</td>\n",
       "      <td>...</td>\n",
       "    </tr>\n",
       "    <tr>\n",
       "      <th>1818.0</th>\n",
       "      <td>1/2/15</td>\n",
       "      <td>syndication-aol-hp-test</td>\n",
       "      <td>Beauty</td>\n",
       "      <td>Tracy O'Connor</td>\n",
       "      <td>0.18</td>\n",
       "      <td>3325</td>\n",
       "      <td>610.0</td>\n",
       "      <td>12</td>\n",
       "      <td>50.83</td>\n",
       "    </tr>\n",
       "    <tr>\n",
       "      <th>1821.0</th>\n",
       "      <td>1/2/15</td>\n",
       "      <td>syndication-aol-hp-test</td>\n",
       "      <td>Beauty</td>\n",
       "      <td>Tracy O'Connor</td>\n",
       "      <td>0.09</td>\n",
       "      <td>11998</td>\n",
       "      <td>1096.0</td>\n",
       "      <td>17</td>\n",
       "      <td>64.47</td>\n",
       "    </tr>\n",
       "    <tr>\n",
       "      <th>1814.0</th>\n",
       "      <td>1/1/15</td>\n",
       "      <td>syndication-aol-hp-test</td>\n",
       "      <td>Beauty</td>\n",
       "      <td>Mikaela South</td>\n",
       "      <td>0.07</td>\n",
       "      <td>1467</td>\n",
       "      <td>100.0</td>\n",
       "      <td>5</td>\n",
       "      <td>20.00</td>\n",
       "    </tr>\n",
       "    <tr>\n",
       "      <th>1818.0</th>\n",
       "      <td>1/1/15</td>\n",
       "      <td>syndication-aol-hp-test</td>\n",
       "      <td>Beauty</td>\n",
       "      <td>Tracy O'Connor</td>\n",
       "      <td>0.12</td>\n",
       "      <td>25908</td>\n",
       "      <td>3032.0</td>\n",
       "      <td>68</td>\n",
       "      <td>44.59</td>\n",
       "    </tr>\n",
       "    <tr>\n",
       "      <th>1812.0</th>\n",
       "      <td>1/1/15</td>\n",
       "      <td>syndication-aol-hp-test</td>\n",
       "      <td>Beauty</td>\n",
       "      <td>Jenny Patinkin</td>\n",
       "      <td>0.14</td>\n",
       "      <td>2090</td>\n",
       "      <td>288.0</td>\n",
       "      <td>2</td>\n",
       "      <td>144.00</td>\n",
       "    </tr>\n",
       "  </tbody>\n",
       "</table>\n",
       "<p>2539 rows × 9 columns</p>\n",
       "</div>"
      ],
      "text/plain": [
       "              Date          Campaign_Source Category       Presenter   RPV  \\\n",
       "Video_ID                                                                     \n",
       "3360.0    12/31/16      syndication-comcast   Beauty      Susan Yara  0.17   \n",
       "3400.0    12/31/16  syndication-aol-hp-test     Home   Marcy McKenna  0.27   \n",
       "2958.0    12/31/16      syndication-AOL-CPV     Home   Marcy McKenna  0.04   \n",
       "3399.0    12/31/16      syndication-AOL-CPV   Beauty  Jenny Patinkin  0.31   \n",
       "3398.0    12/31/16  syndication-aol-hp-test     Home   Marcy McKenna  0.33   \n",
       "...            ...                      ...      ...             ...   ...   \n",
       "1818.0      1/2/15  syndication-aol-hp-test   Beauty  Tracy O'Connor  0.18   \n",
       "1821.0      1/2/15  syndication-aol-hp-test   Beauty  Tracy O'Connor  0.09   \n",
       "1814.0      1/1/15  syndication-aol-hp-test   Beauty   Mikaela South  0.07   \n",
       "1818.0      1/1/15  syndication-aol-hp-test   Beauty  Tracy O'Connor  0.12   \n",
       "1812.0      1/1/15  syndication-aol-hp-test   Beauty  Jenny Patinkin  0.14   \n",
       "\n",
       "          TotalViews  GrossRevenue  TotalUnitsSold  SalePrice  \n",
       "Video_ID                                                       \n",
       "3360.0          1759         300.0               8      37.50  \n",
       "3400.0          1495         408.0               6      68.00  \n",
       "2958.0          2109          80.0               4      20.00  \n",
       "3399.0          7272        2251.0              35      64.31  \n",
       "3398.0          3441        1152.0               9     128.00  \n",
       "...              ...           ...             ...        ...  \n",
       "1818.0          3325         610.0              12      50.83  \n",
       "1821.0         11998        1096.0              17      64.47  \n",
       "1814.0          1467         100.0               5      20.00  \n",
       "1818.0         25908        3032.0              68      44.59  \n",
       "1812.0          2090         288.0               2     144.00  \n",
       "\n",
       "[2539 rows x 9 columns]"
      ]
     },
     "execution_count": 65,
     "metadata": {},
     "output_type": "execute_result"
    }
   ],
   "source": [
    "df"
   ]
  },
  {
   "cell_type": "markdown",
   "metadata": {},
   "source": [
    "###  Describing the Data"
   ]
  },
  {
   "cell_type": "code",
   "execution_count": 66,
   "metadata": {
    "collapsed": false
   },
   "outputs": [
    {
     "data": {
      "text/plain": [
       "(2539, 9)"
      ]
     },
     "execution_count": 66,
     "metadata": {},
     "output_type": "execute_result"
    }
   ],
   "source": [
    "df.shape\n",
    "\n",
    "# There are 2539 rows and 10 columns, meaning we're working with 2539 videos and  have 10 columns as potential response variables\n"
   ]
  },
  {
   "cell_type": "code",
   "execution_count": 67,
   "metadata": {
    "collapsed": false,
    "scrolled": true
   },
   "outputs": [
    {
     "data": {
      "text/plain": [
       "Index([u' Date', u'Campaign_Source', u'Category', u'Presenter', u'RPV',\n",
       "       u'TotalViews', u'GrossRevenue', u'TotalUnitsSold', u'SalePrice'],\n",
       "      dtype='object')"
      ]
     },
     "execution_count": 67,
     "metadata": {},
     "output_type": "execute_result"
    }
   ],
   "source": [
    "df.columns"
   ]
  },
  {
   "cell_type": "code",
   "execution_count": 68,
   "metadata": {
    "collapsed": false
   },
   "outputs": [
    {
     "data": {
      "text/plain": [
       "syndication-aol-hp-test      2364\n",
       "syndication-comcast            88\n",
       "syndication-AOL-CPV            49\n",
       "marketing-campaigns-joyus      30\n",
       "paid-ads-facebook               8\n",
       "Name: Campaign_Source, dtype: int64"
      ]
     },
     "execution_count": 68,
     "metadata": {},
     "output_type": "execute_result"
    }
   ],
   "source": [
    "df.Campaign_Source.value_counts()\n"
   ]
  },
  {
   "cell_type": "code",
   "execution_count": 69,
   "metadata": {
    "collapsed": false,
    "scrolled": true
   },
   "outputs": [
    {
     "data": {
      "text/html": [
       "<div>\n",
       "<table border=\"1\" class=\"dataframe\">\n",
       "  <thead>\n",
       "    <tr style=\"text-align: right;\">\n",
       "      <th></th>\n",
       "      <th>RPV</th>\n",
       "      <th>TotalViews</th>\n",
       "      <th>GrossRevenue</th>\n",
       "      <th>TotalUnitsSold</th>\n",
       "      <th>SalePrice</th>\n",
       "    </tr>\n",
       "  </thead>\n",
       "  <tbody>\n",
       "    <tr>\n",
       "      <th>count</th>\n",
       "      <td>2539.000000</td>\n",
       "      <td>2539.000000</td>\n",
       "      <td>2539.000000</td>\n",
       "      <td>2539.000000</td>\n",
       "      <td>2373.000000</td>\n",
       "    </tr>\n",
       "    <tr>\n",
       "      <th>mean</th>\n",
       "      <td>0.297712</td>\n",
       "      <td>8316.061835</td>\n",
       "      <td>2164.047424</td>\n",
       "      <td>40.994092</td>\n",
       "      <td>70.677788</td>\n",
       "    </tr>\n",
       "    <tr>\n",
       "      <th>std</th>\n",
       "      <td>0.366973</td>\n",
       "      <td>10239.767237</td>\n",
       "      <td>3276.157574</td>\n",
       "      <td>68.649149</td>\n",
       "      <td>51.737982</td>\n",
       "    </tr>\n",
       "    <tr>\n",
       "      <th>min</th>\n",
       "      <td>0.000000</td>\n",
       "      <td>1001.000000</td>\n",
       "      <td>0.000000</td>\n",
       "      <td>0.000000</td>\n",
       "      <td>3.270000</td>\n",
       "    </tr>\n",
       "    <tr>\n",
       "      <th>25%</th>\n",
       "      <td>0.090000</td>\n",
       "      <td>1882.000000</td>\n",
       "      <td>297.000000</td>\n",
       "      <td>5.000000</td>\n",
       "      <td>38.000000</td>\n",
       "    </tr>\n",
       "    <tr>\n",
       "      <th>50%</th>\n",
       "      <td>0.190000</td>\n",
       "      <td>4628.000000</td>\n",
       "      <td>1020.000000</td>\n",
       "      <td>17.000000</td>\n",
       "      <td>58.000000</td>\n",
       "    </tr>\n",
       "    <tr>\n",
       "      <th>75%</th>\n",
       "      <td>0.350000</td>\n",
       "      <td>10909.000000</td>\n",
       "      <td>2580.000000</td>\n",
       "      <td>47.000000</td>\n",
       "      <td>89.000000</td>\n",
       "    </tr>\n",
       "    <tr>\n",
       "      <th>max</th>\n",
       "      <td>3.950000</td>\n",
       "      <td>128400.000000</td>\n",
       "      <td>47892.000000</td>\n",
       "      <td>850.000000</td>\n",
       "      <td>449.000000</td>\n",
       "    </tr>\n",
       "  </tbody>\n",
       "</table>\n",
       "</div>"
      ],
      "text/plain": [
       "               RPV     TotalViews  GrossRevenue  TotalUnitsSold    SalePrice\n",
       "count  2539.000000    2539.000000   2539.000000     2539.000000  2373.000000\n",
       "mean      0.297712    8316.061835   2164.047424       40.994092    70.677788\n",
       "std       0.366973   10239.767237   3276.157574       68.649149    51.737982\n",
       "min       0.000000    1001.000000      0.000000        0.000000     3.270000\n",
       "25%       0.090000    1882.000000    297.000000        5.000000    38.000000\n",
       "50%       0.190000    4628.000000   1020.000000       17.000000    58.000000\n",
       "75%       0.350000   10909.000000   2580.000000       47.000000    89.000000\n",
       "max       3.950000  128400.000000  47892.000000      850.000000   449.000000"
      ]
     },
     "execution_count": 69,
     "metadata": {},
     "output_type": "execute_result"
    }
   ],
   "source": [
    "df.describe()"
   ]
  },
  {
   "cell_type": "markdown",
   "metadata": {},
   "source": [
    "#### Summary of the Data\n",
    "\n",
    "Out of our dataset, we have 2539 videos that have over 1000 views from Syndication-AOL, Sydnication-AOL-CPV, Syndication-comcast, marketing-campaigns, and paid-ads-Facebook. \n",
    "\n",
    "From the 2539 videos, we can expepect 95% CI (Confidence Intervals) of RPV to between .09 and $.35, total views between 1882 and 10909, gross revenue between 297 and 2580, total units sold between 5 and 47, and sale price between  38 and  89"
   ]
  },
  {
   "cell_type": "markdown",
   "metadata": {},
   "source": [
    "### Take out null values"
   ]
  },
  {
   "cell_type": "code",
   "execution_count": 70,
   "metadata": {
    "collapsed": false
   },
   "outputs": [
    {
     "data": {
      "text/plain": [
       " Date                0\n",
       "Campaign_Source      0\n",
       "Category             0\n",
       "Presenter            0\n",
       "RPV                  0\n",
       "TotalViews           0\n",
       "GrossRevenue         0\n",
       "TotalUnitsSold       0\n",
       "SalePrice          166\n",
       "dtype: int64"
      ]
     },
     "execution_count": 70,
     "metadata": {},
     "output_type": "execute_result"
    }
   ],
   "source": [
    "df.isnull().sum()"
   ]
  },
  {
   "cell_type": "code",
   "execution_count": 71,
   "metadata": {
    "collapsed": false
   },
   "outputs": [],
   "source": [
    "df.dropna(subset=['SalePrice'], inplace=True)"
   ]
  },
  {
   "cell_type": "code",
   "execution_count": 72,
   "metadata": {
    "collapsed": false
   },
   "outputs": [
    {
     "data": {
      "text/plain": [
       "0"
      ]
     },
     "execution_count": 72,
     "metadata": {},
     "output_type": "execute_result"
    }
   ],
   "source": [
    "df.isnull().sum().sum()\n",
    "\n",
    "# gut check"
   ]
  },
  {
   "cell_type": "markdown",
   "metadata": {},
   "source": [
    "# PART A | Explanatory Data Analysis"
   ]
  },
  {
   "cell_type": "markdown",
   "metadata": {},
   "source": [
    "## Sale Price"
   ]
  },
  {
   "cell_type": "code",
   "execution_count": 73,
   "metadata": {
    "collapsed": false
   },
   "outputs": [
    {
     "name": "stdout",
     "output_type": "stream",
     "text": [
      "58.0\n",
      "70.6777876106\n"
     ]
    }
   ],
   "source": [
    "print df.SalePrice.median()\n",
    "print df.SalePrice.mean()\n"
   ]
  },
  {
   "cell_type": "markdown",
   "metadata": {},
   "source": [
    "Median sale price is 58 and the mean sale price is 70.67 in our data set "
   ]
  },
  {
   "cell_type": "code",
   "execution_count": 74,
   "metadata": {
    "collapsed": false,
    "scrolled": true
   },
   "outputs": [
    {
     "data": {
      "text/plain": [
       "<matplotlib.axes._subplots.AxesSubplot at 0x1221ca0d0>"
      ]
     },
     "execution_count": 74,
     "metadata": {},
     "output_type": "execute_result"
    },
    {
     "data": {
      "image/png": "[encoded data removed]",
      "text/plain": [
       "<matplotlib.figure.Figure at 0x1221c6050>"
      ]
     },
     "metadata": {},
     "output_type": "display_data"
    }
   ],
   "source": [
    "df.SalePrice.plot(kind = 'box', figsize = (20, 20))\n",
    "\n",
    "## Conclusion: Price above ~$170 considered outliers\n"
   ]
  },
  {
   "cell_type": "markdown",
   "metadata": {},
   "source": [
    "## Total Views"
   ]
  },
  {
   "cell_type": "code",
   "execution_count": 75,
   "metadata": {
    "collapsed": false
   },
   "outputs": [
    {
     "name": "stdout",
     "output_type": "stream",
     "text": [
      "5081.0\n",
      "8718.85335019\n"
     ]
    }
   ],
   "source": [
    "print df.TotalViews.median()\n",
    "print df.TotalViews.mean()\n",
    "# Median views per video in dataset is 4628 while the mean is 8316 "
   ]
  },
  {
   "cell_type": "code",
   "execution_count": 76,
   "metadata": {
    "collapsed": false
   },
   "outputs": [
    {
     "data": {
      "text/plain": [
       "<matplotlib.axes._subplots.AxesSubplot at 0x1214ded10>"
      ]
     },
     "execution_count": 76,
     "metadata": {},
     "output_type": "execute_result"
    },
    {
     "data": {
      "image/png": "[encoded data removed]",
      "text/plain": [
       "<matplotlib.figure.Figure at 0x1213952d0>"
      ]
     },
     "metadata": {},
     "output_type": "display_data"
    }
   ],
   "source": [
    "df.TotalViews.plot(kind = 'box', figsize = (20, 20))"
   ]
  },
  {
   "cell_type": "markdown",
   "metadata": {},
   "source": [
    "### Compling other factors in relation to Gross Revenue"
   ]
  },
  {
   "cell_type": "code",
   "execution_count": 77,
   "metadata": {
    "collapsed": false
   },
   "outputs": [
    {
     "data": {
      "text/plain": [
       "<matplotlib.axes._subplots.AxesSubplot at 0x1212c67d0>"
      ]
     },
     "execution_count": 77,
     "metadata": {},
     "output_type": "execute_result"
    },
    {
     "data": {
      "image/png": "[encoded data removed]",
      "text/plain": [
       "<matplotlib.figure.Figure at 0x120c016d0>"
      ]
     },
     "metadata": {},
     "output_type": "display_data"
    }
   ],
   "source": [
    "fig, axs = plt.subplots(1, 3, sharey=True)\n",
    "df.plot(kind='scatter', x='TotalViews', y='GrossRevenue', ax=axs[0], figsize=(16, 8))\n",
    "df.plot(kind='scatter', x='SalePrice', y='GrossRevenue', ax=axs[1])\n",
    "df.plot(kind='scatter', x='TotalUnitsSold', y='GrossRevenue', ax=axs[2])"
   ]
  },
  {
   "cell_type": "markdown",
   "metadata": {},
   "source": [
    "## Correlation"
   ]
  },
  {
   "cell_type": "code",
   "execution_count": 78,
   "metadata": {
    "collapsed": false
   },
   "outputs": [
    {
     "data": {
      "text/html": [
       "<div>\n",
       "<table border=\"1\" class=\"dataframe\">\n",
       "  <thead>\n",
       "    <tr style=\"text-align: right;\">\n",
       "      <th></th>\n",
       "      <th>RPV</th>\n",
       "      <th>TotalViews</th>\n",
       "      <th>GrossRevenue</th>\n",
       "      <th>TotalUnitsSold</th>\n",
       "      <th>SalePrice</th>\n",
       "    </tr>\n",
       "  </thead>\n",
       "  <tbody>\n",
       "    <tr>\n",
       "      <th>RPV</th>\n",
       "      <td>1.000000</td>\n",
       "      <td>-0.119440</td>\n",
       "      <td>0.464042</td>\n",
       "      <td>0.221581</td>\n",
       "      <td>0.251574</td>\n",
       "    </tr>\n",
       "    <tr>\n",
       "      <th>TotalViews</th>\n",
       "      <td>-0.119440</td>\n",
       "      <td>1.000000</td>\n",
       "      <td>0.556776</td>\n",
       "      <td>0.577277</td>\n",
       "      <td>-0.056589</td>\n",
       "    </tr>\n",
       "    <tr>\n",
       "      <th>GrossRevenue</th>\n",
       "      <td>0.464042</td>\n",
       "      <td>0.556776</td>\n",
       "      <td>1.000000</td>\n",
       "      <td>0.728370</td>\n",
       "      <td>0.142505</td>\n",
       "    </tr>\n",
       "    <tr>\n",
       "      <th>TotalUnitsSold</th>\n",
       "      <td>0.221581</td>\n",
       "      <td>0.577277</td>\n",
       "      <td>0.728370</td>\n",
       "      <td>1.000000</td>\n",
       "      <td>-0.216372</td>\n",
       "    </tr>\n",
       "    <tr>\n",
       "      <th>SalePrice</th>\n",
       "      <td>0.251574</td>\n",
       "      <td>-0.056589</td>\n",
       "      <td>0.142505</td>\n",
       "      <td>-0.216372</td>\n",
       "      <td>1.000000</td>\n",
       "    </tr>\n",
       "  </tbody>\n",
       "</table>\n",
       "</div>"
      ],
      "text/plain": [
       "                     RPV  TotalViews  GrossRevenue  TotalUnitsSold  SalePrice\n",
       "RPV             1.000000   -0.119440      0.464042        0.221581   0.251574\n",
       "TotalViews     -0.119440    1.000000      0.556776        0.577277  -0.056589\n",
       "GrossRevenue    0.464042    0.556776      1.000000        0.728370   0.142505\n",
       "TotalUnitsSold  0.221581    0.577277      0.728370        1.000000  -0.216372\n",
       "SalePrice       0.251574   -0.056589      0.142505       -0.216372   1.000000"
      ]
     },
     "execution_count": 78,
     "metadata": {},
     "output_type": "execute_result"
    }
   ],
   "source": [
    "df.corr()\n"
   ]
  },
  {
   "cell_type": "markdown",
   "metadata": {},
   "source": [
    "From the table,  Total Views and RPV have positive correlation to GrossRvenue. Sale price does not have a correlation to gross revenue. "
   ]
  },
  {
   "cell_type": "code",
   "execution_count": 79,
   "metadata": {
    "collapsed": false
   },
   "outputs": [
    {
     "data": {
      "text/plain": [
       "['RPV', 'TotalViews', 'GrossRevenue', 'TotalUnitsSold', 'SalePrice']"
      ]
     },
     "execution_count": 79,
     "metadata": {},
     "output_type": "execute_result"
    }
   ],
   "source": [
    "corr = df.corr()\n",
    "list(corr.columns)"
   ]
  },
  {
   "cell_type": "code",
   "execution_count": 80,
   "metadata": {
    "collapsed": false
   },
   "outputs": [
    {
     "data": {
      "text/plain": [
       "[<matplotlib.text.Text at 0x1234a97d0>,\n",
       " <matplotlib.text.Text at 0x1221d2810>,\n",
       " <matplotlib.text.Text at 0x1239c18d0>,\n",
       " <matplotlib.text.Text at 0x120c17050>,\n",
       " <matplotlib.text.Text at 0x1239472d0>,\n",
       " <matplotlib.text.Text at 0x1239c4650>]"
      ]
     },
     "execution_count": 80,
     "metadata": {},
     "output_type": "execute_result"
    },
    {
     "data": {
      "image/png": "[encoded data removed]",
      "text/plain": [
       "<matplotlib.figure.Figure at 0x120cd72d0>"
      ]
     },
     "metadata": {},
     "output_type": "display_data"
    }
   ],
   "source": [
    "# Correlation heat map\n",
    "figure = plt.figure()\n",
    "subplot = figure.add_subplot(1, 1, 1)\n",
    "figure.colorbar(subplot.matshow(corr))\n",
    "subplot.set_xticklabels([None] + list(corr.columns), rotation = 90)\n",
    "subplot.set_yticklabels([None] + list(corr.columns))"
   ]
  },
  {
   "cell_type": "markdown",
   "metadata": {},
   "source": [
    "## Getting dummy variables for categorical features for SCIKIT Learn Model  (Campaign Source & Category)"
   ]
  },
  {
   "cell_type": "code",
   "execution_count": 81,
   "metadata": {
    "collapsed": false
   },
   "outputs": [
    {
     "data": {
      "text/plain": [
       "Beauty              872\n",
       "Home                501\n",
       "Accessories         477\n",
       "Apparel             319\n",
       "Health & Fitness    204\n",
       "Name: Category, dtype: int64"
      ]
     },
     "execution_count": 81,
     "metadata": {},
     "output_type": "execute_result"
    }
   ],
   "source": [
    "df.Category.value_counts()"
   ]
  },
  {
   "cell_type": "code",
   "execution_count": 82,
   "metadata": {
    "collapsed": false
   },
   "outputs": [
    {
     "data": {
      "text/html": [
       "<div>\n",
       "<table border=\"1\" class=\"dataframe\">\n",
       "  <thead>\n",
       "    <tr style=\"text-align: right;\">\n",
       "      <th></th>\n",
       "      <th>Source_marketing-campaigns-joyus</th>\n",
       "      <th>Source_paid-ads-facebook</th>\n",
       "      <th>Source_syndication-AOL-CPV</th>\n",
       "      <th>Source_syndication-aol-hp-test</th>\n",
       "      <th>Source_syndication-comcast</th>\n",
       "    </tr>\n",
       "    <tr>\n",
       "      <th>Video_ID</th>\n",
       "      <th></th>\n",
       "      <th></th>\n",
       "      <th></th>\n",
       "      <th></th>\n",
       "      <th></th>\n",
       "    </tr>\n",
       "  </thead>\n",
       "  <tbody>\n",
       "    <tr>\n",
       "      <th>3360.0</th>\n",
       "      <td>0</td>\n",
       "      <td>0</td>\n",
       "      <td>0</td>\n",
       "      <td>0</td>\n",
       "      <td>1</td>\n",
       "    </tr>\n",
       "    <tr>\n",
       "      <th>3400.0</th>\n",
       "      <td>0</td>\n",
       "      <td>0</td>\n",
       "      <td>0</td>\n",
       "      <td>1</td>\n",
       "      <td>0</td>\n",
       "    </tr>\n",
       "    <tr>\n",
       "      <th>2958.0</th>\n",
       "      <td>0</td>\n",
       "      <td>0</td>\n",
       "      <td>1</td>\n",
       "      <td>0</td>\n",
       "      <td>0</td>\n",
       "    </tr>\n",
       "    <tr>\n",
       "      <th>3399.0</th>\n",
       "      <td>0</td>\n",
       "      <td>0</td>\n",
       "      <td>1</td>\n",
       "      <td>0</td>\n",
       "      <td>0</td>\n",
       "    </tr>\n",
       "    <tr>\n",
       "      <th>3398.0</th>\n",
       "      <td>0</td>\n",
       "      <td>0</td>\n",
       "      <td>0</td>\n",
       "      <td>1</td>\n",
       "      <td>0</td>\n",
       "    </tr>\n",
       "    <tr>\n",
       "      <th>...</th>\n",
       "      <td>...</td>\n",
       "      <td>...</td>\n",
       "      <td>...</td>\n",
       "      <td>...</td>\n",
       "      <td>...</td>\n",
       "    </tr>\n",
       "    <tr>\n",
       "      <th>1818.0</th>\n",
       "      <td>0</td>\n",
       "      <td>0</td>\n",
       "      <td>0</td>\n",
       "      <td>1</td>\n",
       "      <td>0</td>\n",
       "    </tr>\n",
       "    <tr>\n",
       "      <th>1821.0</th>\n",
       "      <td>0</td>\n",
       "      <td>0</td>\n",
       "      <td>0</td>\n",
       "      <td>1</td>\n",
       "      <td>0</td>\n",
       "    </tr>\n",
       "    <tr>\n",
       "      <th>1814.0</th>\n",
       "      <td>0</td>\n",
       "      <td>0</td>\n",
       "      <td>0</td>\n",
       "      <td>1</td>\n",
       "      <td>0</td>\n",
       "    </tr>\n",
       "    <tr>\n",
       "      <th>1818.0</th>\n",
       "      <td>0</td>\n",
       "      <td>0</td>\n",
       "      <td>0</td>\n",
       "      <td>1</td>\n",
       "      <td>0</td>\n",
       "    </tr>\n",
       "    <tr>\n",
       "      <th>1812.0</th>\n",
       "      <td>0</td>\n",
       "      <td>0</td>\n",
       "      <td>0</td>\n",
       "      <td>1</td>\n",
       "      <td>0</td>\n",
       "    </tr>\n",
       "  </tbody>\n",
       "</table>\n",
       "<p>2373 rows × 5 columns</p>\n",
       "</div>"
      ],
      "text/plain": [
       "          Source_marketing-campaigns-joyus  Source_paid-ads-facebook  \\\n",
       "Video_ID                                                               \n",
       "3360.0                                   0                         0   \n",
       "3400.0                                   0                         0   \n",
       "2958.0                                   0                         0   \n",
       "3399.0                                   0                         0   \n",
       "3398.0                                   0                         0   \n",
       "...                                    ...                       ...   \n",
       "1818.0                                   0                         0   \n",
       "1821.0                                   0                         0   \n",
       "1814.0                                   0                         0   \n",
       "1818.0                                   0                         0   \n",
       "1812.0                                   0                         0   \n",
       "\n",
       "          Source_syndication-AOL-CPV  Source_syndication-aol-hp-test  \\\n",
       "Video_ID                                                               \n",
       "3360.0                             0                               0   \n",
       "3400.0                             0                               1   \n",
       "2958.0                             1                               0   \n",
       "3399.0                             1                               0   \n",
       "3398.0                             0                               1   \n",
       "...                              ...                             ...   \n",
       "1818.0                             0                               1   \n",
       "1821.0                             0                               1   \n",
       "1814.0                             0                               1   \n",
       "1818.0                             0                               1   \n",
       "1812.0                             0                               1   \n",
       "\n",
       "          Source_syndication-comcast  \n",
       "Video_ID                              \n",
       "3360.0                             1  \n",
       "3400.0                             0  \n",
       "2958.0                             0  \n",
       "3399.0                             0  \n",
       "3398.0                             0  \n",
       "...                              ...  \n",
       "1818.0                             0  \n",
       "1821.0                             0  \n",
       "1814.0                             0  \n",
       "1818.0                             0  \n",
       "1812.0                             0  \n",
       "\n",
       "[2373 rows x 5 columns]"
      ]
     },
     "execution_count": 82,
     "metadata": {},
     "output_type": "execute_result"
    }
   ],
   "source": [
    "c = pd.get_dummies(df.Campaign_Source, prefix = 'Source')\n",
    "\n",
    "# include these dummies in your dataframe\n",
    "c"
   ]
  },
  {
   "cell_type": "code",
   "execution_count": 83,
   "metadata": {
    "collapsed": true
   },
   "outputs": [],
   "source": [
    "df = df.join(c.ix[:, 'Source_marketing-campaigns-joyus':])"
   ]
  },
  {
   "cell_type": "code",
   "execution_count": 84,
   "metadata": {
    "collapsed": false,
    "scrolled": false
   },
   "outputs": [
    {
     "data": {
      "text/html": [
       "<div>\n",
       "<table border=\"1\" class=\"dataframe\">\n",
       "  <thead>\n",
       "    <tr style=\"text-align: right;\">\n",
       "      <th></th>\n",
       "      <th>Category_Accessories</th>\n",
       "      <th>Category_Apparel</th>\n",
       "      <th>Category_Beauty</th>\n",
       "      <th>Category_Health &amp; Fitness</th>\n",
       "      <th>Category_Home</th>\n",
       "    </tr>\n",
       "    <tr>\n",
       "      <th>Video_ID</th>\n",
       "      <th></th>\n",
       "      <th></th>\n",
       "      <th></th>\n",
       "      <th></th>\n",
       "      <th></th>\n",
       "    </tr>\n",
       "  </thead>\n",
       "  <tbody>\n",
       "    <tr>\n",
       "      <th>580.0</th>\n",
       "      <td>0</td>\n",
       "      <td>0</td>\n",
       "      <td>0</td>\n",
       "      <td>0</td>\n",
       "      <td>1</td>\n",
       "    </tr>\n",
       "    <tr>\n",
       "      <th>580.0</th>\n",
       "      <td>0</td>\n",
       "      <td>0</td>\n",
       "      <td>0</td>\n",
       "      <td>0</td>\n",
       "      <td>1</td>\n",
       "    </tr>\n",
       "    <tr>\n",
       "      <th>580.0</th>\n",
       "      <td>0</td>\n",
       "      <td>0</td>\n",
       "      <td>0</td>\n",
       "      <td>0</td>\n",
       "      <td>1</td>\n",
       "    </tr>\n",
       "    <tr>\n",
       "      <th>580.0</th>\n",
       "      <td>0</td>\n",
       "      <td>0</td>\n",
       "      <td>0</td>\n",
       "      <td>0</td>\n",
       "      <td>1</td>\n",
       "    </tr>\n",
       "    <tr>\n",
       "      <th>580.0</th>\n",
       "      <td>0</td>\n",
       "      <td>0</td>\n",
       "      <td>0</td>\n",
       "      <td>0</td>\n",
       "      <td>1</td>\n",
       "    </tr>\n",
       "    <tr>\n",
       "      <th>...</th>\n",
       "      <td>...</td>\n",
       "      <td>...</td>\n",
       "      <td>...</td>\n",
       "      <td>...</td>\n",
       "      <td>...</td>\n",
       "    </tr>\n",
       "    <tr>\n",
       "      <th>NaN</th>\n",
       "      <td>0</td>\n",
       "      <td>1</td>\n",
       "      <td>0</td>\n",
       "      <td>0</td>\n",
       "      <td>0</td>\n",
       "    </tr>\n",
       "    <tr>\n",
       "      <th>NaN</th>\n",
       "      <td>0</td>\n",
       "      <td>0</td>\n",
       "      <td>1</td>\n",
       "      <td>0</td>\n",
       "      <td>0</td>\n",
       "    </tr>\n",
       "    <tr>\n",
       "      <th>NaN</th>\n",
       "      <td>0</td>\n",
       "      <td>0</td>\n",
       "      <td>1</td>\n",
       "      <td>0</td>\n",
       "      <td>0</td>\n",
       "    </tr>\n",
       "    <tr>\n",
       "      <th>NaN</th>\n",
       "      <td>0</td>\n",
       "      <td>0</td>\n",
       "      <td>1</td>\n",
       "      <td>0</td>\n",
       "      <td>0</td>\n",
       "    </tr>\n",
       "    <tr>\n",
       "      <th>NaN</th>\n",
       "      <td>0</td>\n",
       "      <td>0</td>\n",
       "      <td>1</td>\n",
       "      <td>0</td>\n",
       "      <td>0</td>\n",
       "    </tr>\n",
       "  </tbody>\n",
       "</table>\n",
       "<p>18391 rows × 5 columns</p>\n",
       "</div>"
      ],
      "text/plain": [
       "          Category_Accessories  Category_Apparel  Category_Beauty  \\\n",
       "Video_ID                                                            \n",
       " 580.0                       0                 0                0   \n",
       " 580.0                       0                 0                0   \n",
       " 580.0                       0                 0                0   \n",
       " 580.0                       0                 0                0   \n",
       " 580.0                       0                 0                0   \n",
       "...                        ...               ...              ...   \n",
       "NaN                          0                 1                0   \n",
       "NaN                          0                 0                1   \n",
       "NaN                          0                 0                1   \n",
       "NaN                          0                 0                1   \n",
       "NaN                          0                 0                1   \n",
       "\n",
       "          Category_Health & Fitness  Category_Home  \n",
       "Video_ID                                            \n",
       " 580.0                            0              1  \n",
       " 580.0                            0              1  \n",
       " 580.0                            0              1  \n",
       " 580.0                            0              1  \n",
       " 580.0                            0              1  \n",
       "...                             ...            ...  \n",
       "NaN                               0              0  \n",
       "NaN                               0              0  \n",
       "NaN                               0              0  \n",
       "NaN                               0              0  \n",
       "NaN                               0              0  \n",
       "\n",
       "[18391 rows x 5 columns]"
      ]
     },
     "execution_count": 84,
     "metadata": {},
     "output_type": "execute_result"
    }
   ],
   "source": [
    "\n",
    "\n",
    "p = pd.get_dummies(df.Category, prefix = 'Category')\n",
    "\n",
    "# include these dummies in your X matrix\n",
    "p"
   ]
  },
  {
   "cell_type": "code",
   "execution_count": 85,
   "metadata": {
    "collapsed": false
   },
   "outputs": [],
   "source": [
    "\n",
    "df = df.join(p.ix[:, 'Category_Accessories':])\n"
   ]
  },
  {
   "cell_type": "code",
   "execution_count": 86,
   "metadata": {
    "collapsed": false,
    "scrolled": true
   },
   "outputs": [
    {
     "data": {
      "text/plain": [
       "Index([u' Date', u'Campaign_Source', u'Category', u'Presenter', u'RPV',\n",
       "       u'TotalViews', u'GrossRevenue', u'TotalUnitsSold', u'SalePrice',\n",
       "       u'Source_marketing-campaigns-joyus', u'Source_paid-ads-facebook',\n",
       "       u'Source_syndication-AOL-CPV', u'Source_syndication-aol-hp-test',\n",
       "       u'Source_syndication-comcast', u'Category_Accessories',\n",
       "       u'Category_Apparel', u'Category_Beauty', u'Category_Health & Fitness',\n",
       "       u'Category_Home'],\n",
       "      dtype='object')"
      ]
     },
     "execution_count": 86,
     "metadata": {},
     "output_type": "execute_result"
    }
   ],
   "source": [
    "df.columns\n",
    "\n",
    "#  Now I have numerical values for all the categorical labels (category & campaign source)"
   ]
  },
  {
   "cell_type": "markdown",
   "metadata": {},
   "source": [
    "## PART B | Linear Regression  using StatsModel"
   ]
  },
  {
   "cell_type": "markdown",
   "metadata": {},
   "source": [
    "### PREDICING REVENUE BY SALE PRICE"
   ]
  },
  {
   "cell_type": "code",
   "execution_count": 87,
   "metadata": {
    "collapsed": false
   },
   "outputs": [
    {
     "data": {
      "text/plain": [
       "Intercept    2736.592365\n",
       "SalePrice       4.134769\n",
       "dtype: float64"
      ]
     },
     "execution_count": 87,
     "metadata": {},
     "output_type": "execute_result"
    }
   ],
   "source": [
    "ls = smf.ols(formula = 'GrossRevenue ~ SalePrice', data = df).fit()\n",
    "ls.params\n"
   ]
  },
  {
   "cell_type": "code",
   "execution_count": 88,
   "metadata": {
    "collapsed": false
   },
   "outputs": [
    {
     "data": {
      "text/html": [
       "<div>\n",
       "<table border=\"1\" class=\"dataframe\">\n",
       "  <thead>\n",
       "    <tr style=\"text-align: right;\">\n",
       "      <th></th>\n",
       "      <th>SalePrice</th>\n",
       "    </tr>\n",
       "  </thead>\n",
       "  <tbody>\n",
       "    <tr>\n",
       "      <th>0</th>\n",
       "      <td>55</td>\n",
       "    </tr>\n",
       "    <tr>\n",
       "      <th>1</th>\n",
       "      <td>60</td>\n",
       "    </tr>\n",
       "    <tr>\n",
       "      <th>2</th>\n",
       "      <td>70</td>\n",
       "    </tr>\n",
       "    <tr>\n",
       "      <th>3</th>\n",
       "      <td>199</td>\n",
       "    </tr>\n",
       "  </tbody>\n",
       "</table>\n",
       "</div>"
      ],
      "text/plain": [
       "   SalePrice\n",
       "0         55\n",
       "1         60\n",
       "2         70\n",
       "3        199"
      ]
     },
     "execution_count": 88,
     "metadata": {},
     "output_type": "execute_result"
    }
   ],
   "source": [
    "### Create sample data frame for prediction \n",
    "X_SaleP = pd.DataFrame({'SalePrice':[55,60,70,199]})\n",
    "X_SaleP.head()"
   ]
  },
  {
   "cell_type": "code",
   "execution_count": 89,
   "metadata": {
    "collapsed": false
   },
   "outputs": [
    {
     "data": {
      "text/plain": [
       "array([ 2964.00466307,  2984.6785083 ,  3026.02619878,  3559.41140588])"
      ]
     },
     "execution_count": 89,
     "metadata": {},
     "output_type": "execute_result"
    }
   ],
   "source": [
    "predictsale = ls.predict(X_SaleP)\n",
    "predictsale"
   ]
  },
  {
   "cell_type": "markdown",
   "metadata": {},
   "source": [
    "Gross Revenue prediction based on X_SaleP sample data set, holding all other variables constant"
   ]
  },
  {
   "cell_type": "markdown",
   "metadata": {},
   "source": [
    "#### CONFIDENCE IN THE MODEL"
   ]
  },
  {
   "cell_type": "code",
   "execution_count": 25,
   "metadata": {
    "collapsed": false
   },
   "outputs": [
    {
     "data": {
      "text/html": [
       "<div>\n",
       "<table border=\"1\" class=\"dataframe\">\n",
       "  <thead>\n",
       "    <tr style=\"text-align: right;\">\n",
       "      <th></th>\n",
       "      <th>0</th>\n",
       "      <th>1</th>\n",
       "    </tr>\n",
       "  </thead>\n",
       "  <tbody>\n",
       "    <tr>\n",
       "      <th>Intercept</th>\n",
       "      <td>2728.831322</td>\n",
       "      <td>2744.353409</td>\n",
       "    </tr>\n",
       "    <tr>\n",
       "      <th>SalePrice</th>\n",
       "      <td>4.073187</td>\n",
       "      <td>4.196351</td>\n",
       "    </tr>\n",
       "  </tbody>\n",
       "</table>\n",
       "</div>"
      ],
      "text/plain": [
       "                     0            1\n",
       "Intercept  2728.831322  2744.353409\n",
       "SalePrice     4.073187     4.196351"
      ]
     },
     "execution_count": 25,
     "metadata": {},
     "output_type": "execute_result"
    }
   ],
   "source": [
    "ls.conf_int()"
   ]
  },
  {
   "cell_type": "code",
   "execution_count": 90,
   "metadata": {
    "collapsed": false
   },
   "outputs": [
    {
     "data": {
      "text/plain": [
       "0.0023143853685850813"
      ]
     },
     "execution_count": 90,
     "metadata": {},
     "output_type": "execute_result"
    }
   ],
   "source": [
    "ls.rsquared"
   ]
  },
  {
   "cell_type": "markdown",
   "metadata": {},
   "source": [
    "The R-Squared value is the proportion of he variance explained in the model. This means that less than 1% of the variance in sale price is explained by the change in sale price in the model. We can assume there is no significant relationship between sales price and gross revenue in our model. "
   ]
  },
  {
   "cell_type": "markdown",
   "metadata": {},
   "source": [
    "### PREDICING REVENUE BY VIEWS"
   ]
  },
  {
   "cell_type": "code",
   "execution_count": 91,
   "metadata": {
    "collapsed": false,
    "scrolled": true
   },
   "outputs": [
    {
     "data": {
      "text/plain": [
       "Intercept     1136.672640\n",
       "TotalViews       0.230534\n",
       "dtype: float64"
      ]
     },
     "execution_count": 91,
     "metadata": {},
     "output_type": "execute_result"
    }
   ],
   "source": [
    "lv = smf.ols(formula = 'GrossRevenue ~ TotalViews', data = df).fit()\n",
    "lv.params\n",
    "\n",
    "### = y (gross sales) = 948.94 [X number of views]"
   ]
  },
  {
   "cell_type": "code",
   "execution_count": 92,
   "metadata": {
    "collapsed": false,
    "scrolled": true
   },
   "outputs": [
    {
     "data": {
      "text/html": [
       "<div>\n",
       "<table border=\"1\" class=\"dataframe\">\n",
       "  <thead>\n",
       "    <tr style=\"text-align: right;\">\n",
       "      <th></th>\n",
       "      <th>TotalViews</th>\n",
       "    </tr>\n",
       "  </thead>\n",
       "  <tbody>\n",
       "    <tr>\n",
       "      <th>0</th>\n",
       "      <td>5000</td>\n",
       "    </tr>\n",
       "    <tr>\n",
       "      <th>1</th>\n",
       "      <td>6000</td>\n",
       "    </tr>\n",
       "    <tr>\n",
       "      <th>2</th>\n",
       "      <td>7000</td>\n",
       "    </tr>\n",
       "  </tbody>\n",
       "</table>\n",
       "</div>"
      ],
      "text/plain": [
       "   TotalViews\n",
       "0        5000\n",
       "1        6000\n",
       "2        7000"
      ]
     },
     "execution_count": 92,
     "metadata": {},
     "output_type": "execute_result"
    }
   ],
   "source": [
    "X_New = pd.DataFrame({'TotalViews':[5000,6000,7000]})\n",
    "X_New.head()"
   ]
  },
  {
   "cell_type": "code",
   "execution_count": 31,
   "metadata": {
    "collapsed": false
   },
   "outputs": [
    {
     "data": {
      "text/plain": [
       "array([ 2250.00839706,  2447.47068369,  2644.93297031])"
      ]
     },
     "execution_count": 31,
     "metadata": {},
     "output_type": "execute_result"
    }
   ],
   "source": [
    "lv.predict(X_New)"
   ]
  },
  {
   "cell_type": "code",
   "execution_count": 93,
   "metadata": {
    "collapsed": false
   },
   "outputs": [
    {
     "data": {
      "text/plain": [
       "0.3826151141751577"
      ]
     },
     "execution_count": 93,
     "metadata": {},
     "output_type": "execute_result"
    }
   ],
   "source": [
    "lv.rsquared"
   ]
  },
  {
   "cell_type": "markdown",
   "metadata": {},
   "source": [
    "## Multilinear Regression using Statsmodel\n",
    "Factoring in multiple categories to get our response variable (gross revenue)"
   ]
  },
  {
   "cell_type": "code",
   "execution_count": 94,
   "metadata": {
    "collapsed": false
   },
   "outputs": [
    {
     "data": {
      "text/plain": [
       "Intercept                                     -856.073473\n",
       "Campaign_Source[T.paid-ads-facebook]          2839.002208\n",
       "Campaign_Source[T.syndication-AOL-CPV]         476.602328\n",
       "Campaign_Source[T.syndication-aol-hp-test]    -173.861147\n",
       "Campaign_Source[T.syndication-comcast]        -373.655224\n",
       "Category[T.Apparel]                           1734.346943\n",
       "Category[T.Beauty]                            1285.521851\n",
       "Category[T.Health & Fitness]                  1901.934675\n",
       "Category[T.Home]                              3480.961874\n",
       "TotalViews                                       0.232533\n",
       "dtype: float64"
      ]
     },
     "execution_count": 94,
     "metadata": {},
     "output_type": "execute_result"
    }
   ],
   "source": [
    "# Multilinear Regression Model 1\n",
    "m1 = smf.ols(formula='GrossRevenue ~ TotalViews + Campaign_Source + Category', data=df).fit()\n",
    "m1.params"
   ]
  },
  {
   "cell_type": "code",
   "execution_count": 57,
   "metadata": {
    "collapsed": false
   },
   "outputs": [
    {
     "data": {
      "text/plain": [
       "0.4353243778825252"
      ]
     },
     "execution_count": 57,
     "metadata": {},
     "output_type": "execute_result"
    }
   ],
   "source": [
    "m1.rsquared"
   ]
  },
  {
   "cell_type": "code",
   "execution_count": 60,
   "metadata": {
    "collapsed": false
   },
   "outputs": [
    {
     "data": {
      "text/html": [
       "<table class=\"simpletable\">\n",
       "<caption>OLS Regression Results</caption>\n",
       "<tr>\n",
       "  <th>Dep. Variable:</th>      <td>GrossRevenue</td>   <th>  R-squared:         </th>  <td>   0.435</td>  \n",
       "</tr>\n",
       "<tr>\n",
       "  <th>Model:</th>                   <td>OLS</td>       <th>  Adj. R-squared:    </th>  <td>   0.435</td>  \n",
       "</tr>\n",
       "<tr>\n",
       "  <th>Method:</th>             <td>Least Squares</td>  <th>  F-statistic:       </th>  <td>6.395e+05</td> \n",
       "</tr>\n",
       "<tr>\n",
       "  <th>Date:</th>             <td>Sun, 25 Jun 2017</td> <th>  Prob (F-statistic):</th>   <td>  0.00</td>   \n",
       "</tr>\n",
       "<tr>\n",
       "  <th>Time:</th>                 <td>20:03:42</td>     <th>  Log-Likelihood:    </th> <td>-7.0609e+07</td>\n",
       "</tr>\n",
       "<tr>\n",
       "  <th>No. Observations:</th>      <td>7465435</td>     <th>  AIC:               </th>  <td>1.412e+08</td> \n",
       "</tr>\n",
       "<tr>\n",
       "  <th>Df Residuals:</th>          <td>7465425</td>     <th>  BIC:               </th>  <td>1.412e+08</td> \n",
       "</tr>\n",
       "<tr>\n",
       "  <th>Df Model:</th>              <td>     9</td>      <th>                     </th>      <td> </td>     \n",
       "</tr>\n",
       "<tr>\n",
       "  <th>Covariance Type:</th>      <td>nonrobust</td>    <th>                     </th>      <td> </td>     \n",
       "</tr>\n",
       "</table>\n",
       "<table class=\"simpletable\">\n",
       "<tr>\n",
       "                       <td></td>                         <th>coef</th>     <th>std err</th>      <th>t</th>      <th>P>|t|</th> <th>[95.0% Conf. Int.]</th> \n",
       "</tr>\n",
       "<tr>\n",
       "  <th>Intercept</th>                                  <td> -856.0735</td> <td>   21.133</td> <td>  -40.508</td> <td> 0.000</td> <td> -897.494  -814.653</td>\n",
       "</tr>\n",
       "<tr>\n",
       "  <th>Campaign_Source[T.paid-ads-facebook]</th>       <td> 2839.0022</td> <td>   60.601</td> <td>   46.848</td> <td> 0.000</td> <td> 2720.227  2957.778</td>\n",
       "</tr>\n",
       "<tr>\n",
       "  <th>Campaign_Source[T.syndication-AOL-CPV]</th>     <td>  476.6023</td> <td>   21.598</td> <td>   22.067</td> <td> 0.000</td> <td>  434.271   518.933</td>\n",
       "</tr>\n",
       "<tr>\n",
       "  <th>Campaign_Source[T.syndication-aol-hp-test]</th> <td> -173.8611</td> <td>   20.592</td> <td>   -8.443</td> <td> 0.000</td> <td> -214.221  -133.501</td>\n",
       "</tr>\n",
       "<tr>\n",
       "  <th>Campaign_Source[T.syndication-comcast]</th>     <td> -373.6552</td> <td>   21.211</td> <td>  -17.616</td> <td> 0.000</td> <td> -415.227  -332.083</td>\n",
       "</tr>\n",
       "<tr>\n",
       "  <th>Category[T.Apparel]</th>                        <td> 1734.3469</td> <td>    6.642</td> <td>  261.127</td> <td> 0.000</td> <td> 1721.329  1747.365</td>\n",
       "</tr>\n",
       "<tr>\n",
       "  <th>Category[T.Beauty]</th>                         <td> 1285.5219</td> <td>    6.120</td> <td>  210.040</td> <td> 0.000</td> <td> 1273.526  1297.518</td>\n",
       "</tr>\n",
       "<tr>\n",
       "  <th>Category[T.Health & Fitness]</th>               <td> 1901.9347</td> <td>    5.083</td> <td>  374.170</td> <td> 0.000</td> <td> 1891.972  1911.897</td>\n",
       "</tr>\n",
       "<tr>\n",
       "  <th>Category[T.Home]</th>                           <td> 3480.9619</td> <td>    5.383</td> <td>  646.708</td> <td> 0.000</td> <td> 3470.412  3491.512</td>\n",
       "</tr>\n",
       "<tr>\n",
       "  <th>TotalViews</th>                                 <td>    0.2325</td> <td>    0.000</td> <td> 2223.826</td> <td> 0.000</td> <td>    0.232     0.233</td>\n",
       "</tr>\n",
       "</table>\n",
       "<table class=\"simpletable\">\n",
       "<tr>\n",
       "  <th>Omnibus:</th>       <td>4426012.795</td> <th>  Durbin-Watson:     </th>   <td>   0.000</td>  \n",
       "</tr>\n",
       "<tr>\n",
       "  <th>Prob(Omnibus):</th>   <td> 0.000</td>    <th>  Jarque-Bera (JB):  </th> <td>93718358.810</td>\n",
       "</tr>\n",
       "<tr>\n",
       "  <th>Skew:</th>            <td> 2.458</td>    <th>  Prob(JB):          </th>   <td>    0.00</td>  \n",
       "</tr>\n",
       "<tr>\n",
       "  <th>Kurtosis:</th>        <td>19.647</td>    <th>  Cond. No.          </th>   <td>7.95e+05</td>  \n",
       "</tr>\n",
       "</table>"
      ],
      "text/plain": [
       "<class 'statsmodels.iolib.summary.Summary'>\n",
       "\"\"\"\n",
       "                            OLS Regression Results                            \n",
       "==============================================================================\n",
       "Dep. Variable:           GrossRevenue   R-squared:                       0.435\n",
       "Model:                            OLS   Adj. R-squared:                  0.435\n",
       "Method:                 Least Squares   F-statistic:                 6.395e+05\n",
       "Date:                Sun, 25 Jun 2017   Prob (F-statistic):               0.00\n",
       "Time:                        20:03:42   Log-Likelihood:            -7.0609e+07\n",
       "No. Observations:             7465435   AIC:                         1.412e+08\n",
       "Df Residuals:                 7465425   BIC:                         1.412e+08\n",
       "Df Model:                           9                                         \n",
       "Covariance Type:            nonrobust                                         \n",
       "==============================================================================================================\n",
       "                                                 coef    std err          t      P>|t|      [95.0% Conf. Int.]\n",
       "--------------------------------------------------------------------------------------------------------------\n",
       "Intercept                                   -856.0735     21.133    -40.508      0.000      -897.494  -814.653\n",
       "Campaign_Source[T.paid-ads-facebook]        2839.0022     60.601     46.848      0.000      2720.227  2957.778\n",
       "Campaign_Source[T.syndication-AOL-CPV]       476.6023     21.598     22.067      0.000       434.271   518.933\n",
       "Campaign_Source[T.syndication-aol-hp-test]  -173.8611     20.592     -8.443      0.000      -214.221  -133.501\n",
       "Campaign_Source[T.syndication-comcast]      -373.6552     21.211    -17.616      0.000      -415.227  -332.083\n",
       "Category[T.Apparel]                         1734.3469      6.642    261.127      0.000      1721.329  1747.365\n",
       "Category[T.Beauty]                          1285.5219      6.120    210.040      0.000      1273.526  1297.518\n",
       "Category[T.Health & Fitness]                1901.9347      5.083    374.170      0.000      1891.972  1911.897\n",
       "Category[T.Home]                            3480.9619      5.383    646.708      0.000      3470.412  3491.512\n",
       "TotalViews                                     0.2325      0.000   2223.826      0.000         0.232     0.233\n",
       "==============================================================================\n",
       "Omnibus:                  4426012.795   Durbin-Watson:                   0.000\n",
       "Prob(Omnibus):                  0.000   Jarque-Bera (JB):         93718358.810\n",
       "Skew:                           2.458   Prob(JB):                         0.00\n",
       "Kurtosis:                      19.647   Cond. No.                     7.95e+05\n",
       "==============================================================================\n",
       "\n",
       "Warnings:\n",
       "[1] Standard Errors assume that the covariance matrix of the errors is correctly specified.\n",
       "[2] The condition number is large, 7.95e+05. This might indicate that there are\n",
       "strong multicollinearity or other numerical problems.\n",
       "\"\"\""
      ]
     },
     "execution_count": 60,
     "metadata": {},
     "output_type": "execute_result"
    }
   ],
   "source": [
    "# print summary of the fitted model\n",
    "m1.summary()"
   ]
  },
  {
   "cell_type": "markdown",
   "metadata": {},
   "source": [
    "## PART C  | Multiple Linear Regression in scikit-learn"
   ]
  },
  {
   "cell_type": "code",
   "execution_count": 96,
   "metadata": {
    "collapsed": false
   },
   "outputs": [
    {
     "data": {
      "text/plain": [
       "Index([u' Date', u'Campaign_Source', u'Category', u'Presenter', u'RPV',\n",
       "       u'TotalViews', u'GrossRevenue', u'TotalUnitsSold', u'SalePrice',\n",
       "       u'Source_marketing-campaigns-joyus', u'Source_paid-ads-facebook',\n",
       "       u'Source_syndication-AOL-CPV', u'Source_syndication-aol-hp-test',\n",
       "       u'Source_syndication-comcast', u'Category_Accessories',\n",
       "       u'Category_Apparel', u'Category_Beauty', u'Category_Health & Fitness',\n",
       "       u'Category_Home'],\n",
       "      dtype='object')"
      ]
     },
     "execution_count": 96,
     "metadata": {},
     "output_type": "execute_result"
    }
   ],
   "source": [
    "df.columns"
   ]
  },
  {
   "cell_type": "code",
   "execution_count": 97,
   "metadata": {
    "collapsed": false,
    "scrolled": true
   },
   "outputs": [
    {
     "data": {
      "text/plain": [
       "[('TotalViews', 0.23857804793619664),\n",
       " ('SalePrice', 17.756201062513192),\n",
       " ('Source_syndication-AOL-CPV', 258.19888941669024),\n",
       " ('Source_syndication-aol-hp-test', -188.40085302823542),\n",
       " ('Source_marketing-campaigns-joyus', -246.91818012907117),\n",
       " ('Category_Accessories', -1065.9389795406848),\n",
       " ('Category_Apparel', -410.44143634537267),\n",
       " ('Category_Beauty', -368.90369918179772),\n",
       " ('Category_Health & Fitness', -249.43211616440328),\n",
       " ('Category_Home', 2094.716231229509)]"
      ]
     },
     "execution_count": 97,
     "metadata": {},
     "output_type": "execute_result"
    }
   ],
   "source": [
    "feature_cols = ['TotalViews', 'SalePrice', 'Source_syndication-AOL-CPV', 'Source_syndication-aol-hp-test', 'Source_marketing-campaigns-joyus',\n",
    "                'Category_Accessories','Category_Apparel','Category_Beauty','Category_Health & Fitness','Category_Home']\n",
    "X = df[feature_cols]\n",
    "y = df.GrossRevenue\n",
    "\n",
    "\n",
    "lr = LinearRegression()\n",
    "lr.fit(X, y)\n",
    "\n",
    "# print coefficients\n",
    "zip(feature_cols, lr.coef_)"
   ]
  },
  {
   "cell_type": "markdown",
   "metadata": {},
   "source": [
    "## Hypothetical prediction 1 : A video in Beauty category with 15000 views with sale price at $55 and will be featured on syndication-aol-hp-test"
   ]
  },
  {
   "cell_type": "code",
   "execution_count": 103,
   "metadata": {
    "collapsed": false
   },
   "outputs": [
    {
     "name": "stderr",
     "output_type": "stream",
     "text": [
      "/anaconda/lib/python2.7/site-packages/sklearn/utils/validation.py:395: DeprecationWarning: Passing 1d arrays as data is deprecated in 0.17 and will raise ValueError in 0.19. Reshape your data either using X.reshape(-1, 1) if your data has a single feature or X.reshape(1, -1) if it contains a single sample.\n",
      "  DeprecationWarning)\n"
     ]
    },
    {
     "data": {
      "text/plain": [
       "array([ 1676.53015853])"
      ]
     },
     "execution_count": 103,
     "metadata": {},
     "output_type": "execute_result"
    }
   ],
   "source": [
    "lr.predict([10000,55,0,1,0,0,0,1,0,0])"
   ]
  },
  {
   "cell_type": "markdown",
   "metadata": {},
   "source": [
    "### Model predicts $2870 in gross sales"
   ]
  },
  {
   "cell_type": "markdown",
   "metadata": {},
   "source": [
    "## Hypothetical prediction 2 : A video in Beauty category with 12000 views with sale price at $36 and will be featured on syndication-aol-hp-test"
   ]
  },
  {
   "cell_type": "code",
   "execution_count": 104,
   "metadata": {
    "collapsed": false
   },
   "outputs": [
    {
     "name": "stderr",
     "output_type": "stream",
     "text": [
      "/anaconda/lib/python2.7/site-packages/sklearn/utils/validation.py:395: DeprecationWarning: Passing 1d arrays as data is deprecated in 0.17 and will raise ValueError in 0.19. Reshape your data either using X.reshape(-1, 1) if your data has a single feature or X.reshape(1, -1) if it contains a single sample.\n",
      "  DeprecationWarning)\n"
     ]
    },
    {
     "data": {
      "text/plain": [
       "array([ 2064.90524909])"
      ]
     },
     "execution_count": 104,
     "metadata": {},
     "output_type": "execute_result"
    }
   ],
   "source": [
    "lr.predict([12000,50,0,1,0,0,0,1,0,0])"
   ]
  },
  {
   "cell_type": "markdown",
   "metadata": {},
   "source": [
    "### Model predicts $1816 in gross sales"
   ]
  },
  {
   "cell_type": "markdown",
   "metadata": {},
   "source": [
    "### R-Square Value"
   ]
  },
  {
   "cell_type": "code",
   "execution_count": 42,
   "metadata": {
    "collapsed": false
   },
   "outputs": [
    {
     "data": {
      "text/plain": [
       "0.46779018046120979"
      ]
     },
     "execution_count": 42,
     "metadata": {},
     "output_type": "execute_result"
    }
   ],
   "source": [
    "# Caculating the R-squared: \n",
    "lr.score(X,y)"
   ]
  },
  {
   "cell_type": "markdown",
   "metadata": {},
   "source": [
    "## PART D  | Regularization"
   ]
  },
  {
   "cell_type": "code",
   "execution_count": 49,
   "metadata": {
    "collapsed": false,
    "scrolled": true
   },
   "outputs": [
    {
     "data": {
      "text/html": [
       "<table class=\"simpletable\">\n",
       "<caption>OLS Regression Results</caption>\n",
       "<tr>\n",
       "  <th>Dep. Variable:</th>      <td>GrossRevenue</td>   <th>  R-squared:         </th>  <td>   0.468</td>  \n",
       "</tr>\n",
       "<tr>\n",
       "  <th>Model:</th>                   <td>OLS</td>       <th>  Adj. R-squared:    </th>  <td>   0.468</td>  \n",
       "</tr>\n",
       "<tr>\n",
       "  <th>Method:</th>             <td>Least Squares</td>  <th>  F-statistic:       </th>  <td>7.291e+05</td> \n",
       "</tr>\n",
       "<tr>\n",
       "  <th>Date:</th>             <td>Mon, 26 Jun 2017</td> <th>  Prob (F-statistic):</th>   <td>  0.00</td>   \n",
       "</tr>\n",
       "<tr>\n",
       "  <th>Time:</th>                 <td>15:01:47</td>     <th>  Log-Likelihood:    </th> <td>-7.0388e+07</td>\n",
       "</tr>\n",
       "<tr>\n",
       "  <th>No. Observations:</th>      <td>7465435</td>     <th>  AIC:               </th>  <td>1.408e+08</td> \n",
       "</tr>\n",
       "<tr>\n",
       "  <th>Df Residuals:</th>          <td>7465425</td>     <th>  BIC:               </th>  <td>1.408e+08</td> \n",
       "</tr>\n",
       "<tr>\n",
       "  <th>Df Model:</th>              <td>     9</td>      <th>                     </th>      <td> </td>     \n",
       "</tr>\n",
       "<tr>\n",
       "  <th>Covariance Type:</th>      <td>nonrobust</td>    <th>                     </th>      <td> </td>     \n",
       "</tr>\n",
       "</table>\n",
       "<table class=\"simpletable\">\n",
       "<tr>\n",
       "                  <td></td>                    <th>coef</th>     <th>std err</th>      <th>t</th>      <th>P>|t|</th> <th>[95.0% Conf. Int.]</th> \n",
       "</tr>\n",
       "<tr>\n",
       "  <th>const</th>                            <td> -940.4474</td> <td>    4.945</td> <td> -190.195</td> <td> 0.000</td> <td> -950.139  -930.756</td>\n",
       "</tr>\n",
       "<tr>\n",
       "  <th>TotalViews</th>                       <td>    0.2386</td> <td>    0.000</td> <td> 2360.688</td> <td> 0.000</td> <td>    0.238     0.239</td>\n",
       "</tr>\n",
       "<tr>\n",
       "  <th>SalePrice</th>                        <td>   17.7562</td> <td>    0.026</td> <td>  684.943</td> <td> 0.000</td> <td>   17.705    17.807</td>\n",
       "</tr>\n",
       "<tr>\n",
       "  <th>Source_syndication-AOL-CPV</th>       <td>  258.1989</td> <td>    7.975</td> <td>   32.377</td> <td> 0.000</td> <td>  242.569   273.829</td>\n",
       "</tr>\n",
       "<tr>\n",
       "  <th>Source_syndication-aol-hp-test</th>   <td> -188.4009</td> <td>    5.096</td> <td>  -36.971</td> <td> 0.000</td> <td> -198.389  -178.413</td>\n",
       "</tr>\n",
       "<tr>\n",
       "  <th>Source_marketing-campaigns-joyus</th> <td> -246.9182</td> <td>   20.589</td> <td>  -11.993</td> <td> 0.000</td> <td> -287.272  -206.565</td>\n",
       "</tr>\n",
       "<tr>\n",
       "  <th>Category_Accessories</th>             <td>-1254.0285</td> <td>    4.211</td> <td> -297.786</td> <td> 0.000</td> <td>-1262.282 -1245.775</td>\n",
       "</tr>\n",
       "<tr>\n",
       "  <th>Category_Apparel</th>                 <td> -598.5309</td> <td>    4.130</td> <td> -144.938</td> <td> 0.000</td> <td> -606.625  -590.437</td>\n",
       "</tr>\n",
       "<tr>\n",
       "  <th>Category_Beauty</th>                  <td> -556.9932</td> <td>    3.361</td> <td> -165.722</td> <td> 0.000</td> <td> -563.581  -550.406</td>\n",
       "</tr>\n",
       "<tr>\n",
       "  <th>Category_Health & Fitness</th>        <td> -437.5216</td> <td>    2.278</td> <td> -192.056</td> <td> 0.000</td> <td> -441.987  -433.057</td>\n",
       "</tr>\n",
       "<tr>\n",
       "  <th>Category_Home</th>                    <td> 1906.6268</td> <td>    2.366</td> <td>  805.854</td> <td> 0.000</td> <td> 1901.990  1911.264</td>\n",
       "</tr>\n",
       "</table>\n",
       "<table class=\"simpletable\">\n",
       "<tr>\n",
       "  <th>Omnibus:</th>       <td>4527661.626</td> <th>  Durbin-Watson:     </th>   <td>   0.000</td>   \n",
       "</tr>\n",
       "<tr>\n",
       "  <th>Prob(Omnibus):</th>   <td> 0.000</td>    <th>  Jarque-Bera (JB):  </th> <td>114396088.470</td>\n",
       "</tr>\n",
       "<tr>\n",
       "  <th>Skew:</th>            <td> 2.476</td>    <th>  Prob(JB):          </th>   <td>    0.00</td>   \n",
       "</tr>\n",
       "<tr>\n",
       "  <th>Kurtosis:</th>        <td>21.527</td>    <th>  Cond. No.          </th>   <td>5.18e+16</td>   \n",
       "</tr>\n",
       "</table>"
      ],
      "text/plain": [
       "<class 'statsmodels.iolib.summary.Summary'>\n",
       "\"\"\"\n",
       "                            OLS Regression Results                            \n",
       "==============================================================================\n",
       "Dep. Variable:           GrossRevenue   R-squared:                       0.468\n",
       "Model:                            OLS   Adj. R-squared:                  0.468\n",
       "Method:                 Least Squares   F-statistic:                 7.291e+05\n",
       "Date:                Mon, 26 Jun 2017   Prob (F-statistic):               0.00\n",
       "Time:                        15:01:47   Log-Likelihood:            -7.0388e+07\n",
       "No. Observations:             7465435   AIC:                         1.408e+08\n",
       "Df Residuals:                 7465425   BIC:                         1.408e+08\n",
       "Df Model:                           9                                         \n",
       "Covariance Type:            nonrobust                                         \n",
       "====================================================================================================\n",
       "                                       coef    std err          t      P>|t|      [95.0% Conf. Int.]\n",
       "----------------------------------------------------------------------------------------------------\n",
       "const                             -940.4474      4.945   -190.195      0.000      -950.139  -930.756\n",
       "TotalViews                           0.2386      0.000   2360.688      0.000         0.238     0.239\n",
       "SalePrice                           17.7562      0.026    684.943      0.000        17.705    17.807\n",
       "Source_syndication-AOL-CPV         258.1989      7.975     32.377      0.000       242.569   273.829\n",
       "Source_syndication-aol-hp-test    -188.4009      5.096    -36.971      0.000      -198.389  -178.413\n",
       "Source_marketing-campaigns-joyus  -246.9182     20.589    -11.993      0.000      -287.272  -206.565\n",
       "Category_Accessories             -1254.0285      4.211   -297.786      0.000     -1262.282 -1245.775\n",
       "Category_Apparel                  -598.5309      4.130   -144.938      0.000      -606.625  -590.437\n",
       "Category_Beauty                   -556.9932      3.361   -165.722      0.000      -563.581  -550.406\n",
       "Category_Health & Fitness         -437.5216      2.278   -192.056      0.000      -441.987  -433.057\n",
       "Category_Home                     1906.6268      2.366    805.854      0.000      1901.990  1911.264\n",
       "==============================================================================\n",
       "Omnibus:                  4527661.626   Durbin-Watson:                   0.000\n",
       "Prob(Omnibus):                  0.000   Jarque-Bera (JB):        114396088.470\n",
       "Skew:                           2.476   Prob(JB):                         0.00\n",
       "Kurtosis:                      21.527   Cond. No.                     5.18e+16\n",
       "==============================================================================\n",
       "\n",
       "Warnings:\n",
       "[1] Standard Errors assume that the covariance matrix of the errors is correctly specified.\n",
       "[2] The smallest eigenvalue is 5.69e-19. This might indicate that there are\n",
       "strong multicollinearity problems or that the design matrix is singular.\n",
       "\"\"\""
      ]
     },
     "execution_count": 49,
     "metadata": {},
     "output_type": "execute_result"
    }
   ],
   "source": [
    "\n",
    "df.dropna(subset = ['TotalViews', 'SalePrice', 'Source_syndication-AOL-CPV', 'Source_syndication-aol-hp-test', 'Source_marketing-campaigns-joyus',\n",
    "                'Category_Accessories','Category_Apparel','Category_Beauty','Category_Health & Fitness','Category_Home'], inplace = True)\n",
    "\n",
    "train_X = df[ ['TotalViews', 'SalePrice', 'Source_syndication-AOL-CPV', 'Source_syndication-aol-hp-test', 'Source_marketing-campaigns-joyus',\n",
    "                'Category_Accessories','Category_Apparel','Category_Beauty','Category_Health & Fitness','Category_Home']]\n",
    "\n",
    "train_X = sm.add_constant(train_X)\n",
    "\n",
    "train_y = df.GrossRevenue\n",
    "\n",
    "smf.OLS(train_y, train_X).fit().summary()"
   ]
  },
  {
   "cell_type": "code",
   "execution_count": 50,
   "metadata": {
    "collapsed": false
   },
   "outputs": [
    {
     "data": {
      "text/plain": [
       "array([ -1.54849610e+06,   2.12034070e-01,   9.57568612e+00,\n",
       "         1.22900184e+03,  -4.98241637e+02,   5.40874906e+02,\n",
       "         1.54879864e+06,   1.54592573e+06,   1.54301800e+06,\n",
       "         1.54407168e+06,   1.54840345e+06])"
      ]
     },
     "execution_count": 50,
     "metadata": {},
     "output_type": "execute_result"
    }
   ],
   "source": [
    "np.linalg.inv(np.dot(train_X.T, train_X)).dot(train_X.T).dot(train_y)"
   ]
  },
  {
   "cell_type": "markdown",
   "metadata": {},
   "source": [
    "### Truth"
   ]
  },
  {
   "cell_type": "code",
   "execution_count": 53,
   "metadata": {
    "collapsed": true
   },
   "outputs": [],
   "source": [
    "\n",
    "def f(x):\n",
    "    return np.sin(2 * np.pi * x)"
   ]
  },
  {
   "cell_type": "code",
   "execution_count": 54,
   "metadata": {
    "collapsed": false
   },
   "outputs": [],
   "source": [
    "truth_df = pd.DataFrame(index = range(100))\n",
    "truth_df['x'] = np.linspace(0, 1, truth_df.shape[0])\n",
    "truth_df['y'] = truth_df.x.apply(f)"
   ]
  },
  {
   "cell_type": "code",
   "execution_count": 55,
   "metadata": {
    "collapsed": true
   },
   "outputs": [],
   "source": [
    "np.random.seed(0)\n",
    "\n",
    "df = pd.DataFrame(index = range(100))\n",
    "df['x'] = np.random.uniform(0, 1, size = df.shape[0])\n",
    "\n",
    "df['Noise'] = np.random.normal(size = df.shape[0])\n",
    "df['y'] = df.x.apply(f) * (1 + .5 * df.Noise)"
   ]
  },
  {
   "cell_type": "code",
   "execution_count": 56,
   "metadata": {
    "collapsed": true
   },
   "outputs": [],
   "source": [
    "\n",
    "X = df[ ['x'] ]\n",
    "y = df.y\n"
   ]
  },
  {
   "cell_type": "code",
   "execution_count": 59,
   "metadata": {
    "collapsed": false
   },
   "outputs": [],
   "source": [
    "train_X, test_X, train_y, test_y = model_selection.train_test_split(X, y, train_size = .25)"
   ]
  },
  {
   "cell_type": "code",
   "execution_count": 60,
   "metadata": {
    "collapsed": false
   },
   "outputs": [
    {
     "data": {
      "text/plain": [
       "<matplotlib.legend.Legend at 0x1204a8550>"
      ]
     },
     "execution_count": 60,
     "metadata": {},
     "output_type": "execute_result"
    },
    {
     "data": {
      "image/png": "[encoded data removed]",
      "text/plain": [
       "<matplotlib.figure.Figure at 0x12218fa10>"
      ]
     },
     "metadata": {},
     "output_type": "display_data"
    }
   ],
   "source": [
    "\n",
    "plt.figure()\n",
    "plt.xlim((truth_df.x.min(), truth_df.x.max()))\n",
    "plt.ylim((-2, 2))\n",
    "\n",
    "plt.plot(truth_df.x, truth_df.y, color = 'green', label = 'truth')\n",
    "plt.scatter(train_X.x, train_y, s = 10, label = 'train')\n",
    "\n",
    "plt.legend()"
   ]
  },
  {
   "cell_type": "markdown",
   "metadata": {},
   "source": [
    "## Final Write Up\n",
    "\n",
    "-Before class started, my objective was to do was build a machine learning model to predict sales based on the metrics my company uses on a daily basis. Thus, what I built using SCIKIT-LEARN using multilinear regression fits to my objective. Problem I am having is regularization and how to get R-square value up so that the model is actually legitimate.\n",
    "\n"
   ]
  },
  {
   "cell_type": "markdown",
   "metadata": {
    "collapsed": true
   },
   "source": [
    "## Next Steps\n",
    "\n",
    "Immediate Next Steps\n",
    "\n",
    "    -Regularization\n",
    "    \n",
    "    -Figure out how to get a higher R-Squared value. \n",
    "\n",
    "    -Run the scikit-learn model with a difference response variable (total units sold or total views)\n",
    "\n",
    "Within next 3 Months \n",
    "\n",
    "-Implement Time series to account for seasonal trends in retail\n"
   ]
  },
  {
   "cell_type": "code",
   "execution_count": null,
   "metadata": {
    "collapsed": true
   },
   "outputs": [],
   "source": []
  }
 ],
 "metadata": {
  "kernelspec": {
   "display_name": "Python 2",
   "language": "python",
   "name": "python2"
  },
  "language_info": {
   "codemirror_mode": {
    "name": "ipython",
    "version": 2
   },
   "file_extension": ".py",
   "mimetype": "text/x-python",
   "name": "python",
   "nbconvert_exporter": "python",
   "pygments_lexer": "ipython2",
   "version": "2.7.13"
  }
 },
 "nbformat": 4,
 "nbformat_minor": 2
}
