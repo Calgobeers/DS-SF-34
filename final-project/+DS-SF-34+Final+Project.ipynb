{
 "cells": [
  {
   "cell_type": "code",
   "execution_count": null,
   "metadata": {
    "collapsed": false
   },
   "outputs": [],
   "source": [
    "import os\n",
    "\n",
    "import numpy as np\n",
    "\n",
    "import pandas as pd\n",
    "pd.set_option('display.max_rows', 10)\n",
    "pd.set_option('display.notebook_repr_html', True)\n",
    "pd.set_option('display.max_columns', 10)\n",
    "\n",
    "import matplotlib.pyplot as plt\n",
    "%matplotlib inline\n",
    "plt.style.use('ggplot')\n",
    "\n",
    "import statsmodels.api as sm\n",
    "import statsmodels.formula.api as smf\n",
    "\n",
    "from sklearn import feature_selection, linear_model\n",
    "\n",
    "\n"
   ]
  },
  {
   "cell_type": "markdown",
   "metadata": {},
   "source": [
    "# Predicting product performance in video eCommerce\n",
    "\n",
    "## Overview:\n",
    "### My company produces 2-3 minute video segments for products that feature a host/presenter ( like HSN but shorter and online!). We use our content and syndicate it across out publisher network to generate sales. In this business, the KPIs are gross revenue, total # of views (think of this as your foot traffic to a store), conversion rate and more. \n",
    "\n",
    "## Problem Statement:\n",
    "#### We have hit a stage where in order to scale the business, you need to purchase more distribution. There is a need for a predictive model where if we input the category of a product, sale price and potentially presenter, we should have a prediction of the number of views and gross revenue we would receive. This will help the team make better choices as to which content to place on specific publisher.\n",
    "\n",
    "\n",
    "\n",
    "## What to find in the data ?\n",
    "#### Build a model that shows the gross revenue for each sale price by \n",
    "\n",
    "#### #1  At what sale price does each campaign source generate the most views and revenue? Is there a signifiance in the correlation between category with views and gross revenue? \n",
    "\n",
    "#### #2 What price point on a particular channel generates a bulk of the sales. \n",
    "\n",
    "\n",
    "## Methodology\n",
    "\n",
    "### 1)  Linear Regression & Linear Regression Modeling with sklearn\n",
    "\n",
    "####  - Use multilinear linear regression to find any significance between variables (seconds per view in relation to sale price, category in relation to sale price, total views in relation to gross sales, sale price in relation to gross sales). \n",
    "\n",
    "#### -  Of the variables that have significance, rank the order of signifiance.\n",
    "\n",
    "\n",
    "### 2) Regularization \n",
    "\n",
    "#### Use regularization to check for overfitting\n",
    "\n",
    "\n",
    "## Goals / Indicators of Success\n",
    "\n",
    "### Check for Multicollinearity\n",
    "\n",
    "## Challenges / Concerns\n",
    "\n",
    "### Interaction Effects and gression plot between different variables to the response variable (gross sales)\n"
   ]
  },
  {
   "cell_type": "markdown",
   "metadata": {},
   "source": [
    "## About the data file: \n",
    "### I used Looker (our analytics tool that tracks transactional data) to pull information on all video sales from 1/1/2015 - 12/31/2016. I filtered only for videos with 1000> views. When we do feature a video on any particular day, the video receives well over 1000 views so I want to filter out noise. "
   ]
  },
  {
   "cell_type": "code",
   "execution_count": 18,
   "metadata": {
    "collapsed": false
   },
   "outputs": [],
   "source": [
    "df = pd.read_csv(os.path.join('Video sales dataset.csv'),index_col = 'Video Video ID')"
   ]
  },
  {
   "cell_type": "code",
   "execution_count": 19,
   "metadata": {
    "collapsed": false
   },
   "outputs": [
    {
     "data": {
      "text/html": [
       "<div>\n",
       "<table border=\"1\" class=\"dataframe\">\n",
       "  <thead>\n",
       "    <tr style=\"text-align: right;\">\n",
       "      <th></th>\n",
       "      <th>Date</th>\n",
       "      <th>Campaign Campaign Source</th>\n",
       "      <th>Video Category</th>\n",
       "      <th>Video Subcategory</th>\n",
       "      <th>Video Presenter</th>\n",
       "      <th>...</th>\n",
       "      <th>Seconds Viewed Onsite</th>\n",
       "      <th>Sale Price</th>\n",
       "      <th>Seconds Per View</th>\n",
       "      <th>Seconds Per View Onsite</th>\n",
       "      <th>Seconds Per View Offsite</th>\n",
       "    </tr>\n",
       "    <tr>\n",
       "      <th>Video Video ID</th>\n",
       "      <th></th>\n",
       "      <th></th>\n",
       "      <th></th>\n",
       "      <th></th>\n",
       "      <th></th>\n",
       "      <th></th>\n",
       "      <th></th>\n",
       "      <th></th>\n",
       "      <th></th>\n",
       "      <th></th>\n",
       "      <th></th>\n",
       "    </tr>\n",
       "  </thead>\n",
       "  <tbody>\n",
       "    <tr>\n",
       "      <th>3360.0</th>\n",
       "      <td>2016-12-31</td>\n",
       "      <td>syndication-comcast</td>\n",
       "      <td>Beauty</td>\n",
       "      <td>Skincare</td>\n",
       "      <td>Susan Yara</td>\n",
       "      <td>...</td>\n",
       "      <td>141,020</td>\n",
       "      <td>$37.50</td>\n",
       "      <td>80</td>\n",
       "      <td>80.0</td>\n",
       "      <td>NaN</td>\n",
       "    </tr>\n",
       "    <tr>\n",
       "      <th>3400.0</th>\n",
       "      <td>2016-12-31</td>\n",
       "      <td>syndication-aol-hp-test</td>\n",
       "      <td>Home</td>\n",
       "      <td>Storage &amp; Organization</td>\n",
       "      <td>Marcy McKenna</td>\n",
       "      <td>...</td>\n",
       "      <td>770</td>\n",
       "      <td>$68.00</td>\n",
       "      <td>65</td>\n",
       "      <td>55.0</td>\n",
       "      <td>65.0</td>\n",
       "    </tr>\n",
       "    <tr>\n",
       "      <th>2958.0</th>\n",
       "      <td>2016-12-31</td>\n",
       "      <td>syndication-AOL-CPV</td>\n",
       "      <td>Home</td>\n",
       "      <td>Storage &amp; Organization</td>\n",
       "      <td>Marcy McKenna</td>\n",
       "      <td>...</td>\n",
       "      <td>594</td>\n",
       "      <td>$20.00</td>\n",
       "      <td>58</td>\n",
       "      <td>54.0</td>\n",
       "      <td>58.0</td>\n",
       "    </tr>\n",
       "    <tr>\n",
       "      <th>3399.0</th>\n",
       "      <td>2016-12-31</td>\n",
       "      <td>syndication-AOL-CPV</td>\n",
       "      <td>Beauty</td>\n",
       "      <td>Skincare</td>\n",
       "      <td>Jenny Patinkin</td>\n",
       "      <td>...</td>\n",
       "      <td>3,376</td>\n",
       "      <td>$64.31</td>\n",
       "      <td>56</td>\n",
       "      <td>57.0</td>\n",
       "      <td>56.0</td>\n",
       "    </tr>\n",
       "    <tr>\n",
       "      <th>3398.0</th>\n",
       "      <td>2016-12-31</td>\n",
       "      <td>syndication-aol-hp-test</td>\n",
       "      <td>Home</td>\n",
       "      <td>Storage &amp; Organization</td>\n",
       "      <td>Marcy McKenna</td>\n",
       "      <td>...</td>\n",
       "      <td>4,017</td>\n",
       "      <td>$128.00</td>\n",
       "      <td>67</td>\n",
       "      <td>98.0</td>\n",
       "      <td>67.0</td>\n",
       "    </tr>\n",
       "    <tr>\n",
       "      <th>...</th>\n",
       "      <td>...</td>\n",
       "      <td>...</td>\n",
       "      <td>...</td>\n",
       "      <td>...</td>\n",
       "      <td>...</td>\n",
       "      <td>...</td>\n",
       "      <td>...</td>\n",
       "      <td>...</td>\n",
       "      <td>...</td>\n",
       "      <td>...</td>\n",
       "      <td>...</td>\n",
       "    </tr>\n",
       "    <tr>\n",
       "      <th>1814.0</th>\n",
       "      <td>2015-01-01</td>\n",
       "      <td>syndication-aol-hp-test</td>\n",
       "      <td>Beauty</td>\n",
       "      <td>Makeup</td>\n",
       "      <td>Mikaela South</td>\n",
       "      <td>...</td>\n",
       "      <td>5,015</td>\n",
       "      <td>$20.00</td>\n",
       "      <td>76</td>\n",
       "      <td>78.0</td>\n",
       "      <td>76.0</td>\n",
       "    </tr>\n",
       "    <tr>\n",
       "      <th>1816.0</th>\n",
       "      <td>2015-01-01</td>\n",
       "      <td>syndication-people-style-watch</td>\n",
       "      <td>Apparel</td>\n",
       "      <td>Dresses</td>\n",
       "      <td>Zoë Ruderman</td>\n",
       "      <td>...</td>\n",
       "      <td>43,166</td>\n",
       "      <td>$68.00</td>\n",
       "      <td>55</td>\n",
       "      <td>68.0</td>\n",
       "      <td>45.0</td>\n",
       "    </tr>\n",
       "    <tr>\n",
       "      <th>1808.0</th>\n",
       "      <td>2015-01-01</td>\n",
       "      <td>syndication-people-style-watch</td>\n",
       "      <td>Apparel</td>\n",
       "      <td>Tops</td>\n",
       "      <td>Tracy O'Connor</td>\n",
       "      <td>...</td>\n",
       "      <td>121,250</td>\n",
       "      <td>$128.00</td>\n",
       "      <td>43</td>\n",
       "      <td>43.0</td>\n",
       "      <td>NaN</td>\n",
       "    </tr>\n",
       "    <tr>\n",
       "      <th>1818.0</th>\n",
       "      <td>2015-01-01</td>\n",
       "      <td>syndication-aol-hp-test</td>\n",
       "      <td>Beauty</td>\n",
       "      <td>Hair</td>\n",
       "      <td>Tracy O'Connor</td>\n",
       "      <td>...</td>\n",
       "      <td>39,963</td>\n",
       "      <td>$44.59</td>\n",
       "      <td>95</td>\n",
       "      <td>92.0</td>\n",
       "      <td>96.0</td>\n",
       "    </tr>\n",
       "    <tr>\n",
       "      <th>1812.0</th>\n",
       "      <td>2015-01-01</td>\n",
       "      <td>syndication-aol-hp-test</td>\n",
       "      <td>Beauty</td>\n",
       "      <td>Skincare</td>\n",
       "      <td>Jenny Patinkin</td>\n",
       "      <td>...</td>\n",
       "      <td>4,479</td>\n",
       "      <td>$144.00</td>\n",
       "      <td>72</td>\n",
       "      <td>69.0</td>\n",
       "      <td>72.0</td>\n",
       "    </tr>\n",
       "  </tbody>\n",
       "</table>\n",
       "<p>4400 rows × 18 columns</p>\n",
       "</div>"
      ],
      "text/plain": [
       "                      Date        Campaign Campaign Source Video Category  \\\n",
       "Video Video ID                                                              \n",
       "3360.0          2016-12-31             syndication-comcast         Beauty   \n",
       "3400.0          2016-12-31         syndication-aol-hp-test           Home   \n",
       "2958.0          2016-12-31             syndication-AOL-CPV           Home   \n",
       "3399.0          2016-12-31             syndication-AOL-CPV         Beauty   \n",
       "3398.0          2016-12-31         syndication-aol-hp-test           Home   \n",
       "...                    ...                             ...            ...   \n",
       "1814.0          2015-01-01         syndication-aol-hp-test         Beauty   \n",
       "1816.0          2015-01-01  syndication-people-style-watch        Apparel   \n",
       "1808.0          2015-01-01  syndication-people-style-watch        Apparel   \n",
       "1818.0          2015-01-01         syndication-aol-hp-test         Beauty   \n",
       "1812.0          2015-01-01         syndication-aol-hp-test         Beauty   \n",
       "\n",
       "                     Video Subcategory Video Presenter  \\\n",
       "Video Video ID                                           \n",
       "3360.0                        Skincare      Susan Yara   \n",
       "3400.0          Storage & Organization   Marcy McKenna   \n",
       "2958.0          Storage & Organization   Marcy McKenna   \n",
       "3399.0                        Skincare  Jenny Patinkin   \n",
       "3398.0          Storage & Organization   Marcy McKenna   \n",
       "...                                ...             ...   \n",
       "1814.0                          Makeup   Mikaela South   \n",
       "1816.0                         Dresses    Zoë Ruderman   \n",
       "1808.0                            Tops  Tracy O'Connor   \n",
       "1818.0                            Hair  Tracy O'Connor   \n",
       "1812.0                        Skincare  Jenny Patinkin   \n",
       "\n",
       "                         ...            Seconds Viewed Onsite Sale Price  \\\n",
       "Video Video ID           ...                                               \n",
       "3360.0                   ...                          141,020     $37.50   \n",
       "3400.0                   ...                              770     $68.00   \n",
       "2958.0                   ...                              594     $20.00   \n",
       "3399.0                   ...                            3,376     $64.31   \n",
       "3398.0                   ...                            4,017    $128.00   \n",
       "...                      ...                              ...        ...   \n",
       "1814.0                   ...                            5,015     $20.00   \n",
       "1816.0                   ...                           43,166     $68.00   \n",
       "1808.0                   ...                          121,250    $128.00   \n",
       "1818.0                   ...                           39,963     $44.59   \n",
       "1812.0                   ...                            4,479    $144.00   \n",
       "\n",
       "               Seconds Per View Seconds Per View Onsite  \\\n",
       "Video Video ID                                            \n",
       "3360.0                       80                    80.0   \n",
       "3400.0                       65                    55.0   \n",
       "2958.0                       58                    54.0   \n",
       "3399.0                       56                    57.0   \n",
       "3398.0                       67                    98.0   \n",
       "...                         ...                     ...   \n",
       "1814.0                       76                    78.0   \n",
       "1816.0                       55                    68.0   \n",
       "1808.0                       43                    43.0   \n",
       "1818.0                       95                    92.0   \n",
       "1812.0                       72                    69.0   \n",
       "\n",
       "               Seconds Per View Offsite  \n",
       "Video Video ID                           \n",
       "3360.0                              NaN  \n",
       "3400.0                             65.0  \n",
       "2958.0                             58.0  \n",
       "3399.0                             56.0  \n",
       "3398.0                             67.0  \n",
       "...                                 ...  \n",
       "1814.0                             76.0  \n",
       "1816.0                             45.0  \n",
       "1808.0                              NaN  \n",
       "1818.0                             96.0  \n",
       "1812.0                             72.0  \n",
       "\n",
       "[4400 rows x 18 columns]"
      ]
     },
     "execution_count": 19,
     "metadata": {},
     "output_type": "execute_result"
    }
   ],
   "source": [
    "df"
   ]
  },
  {
   "cell_type": "markdown",
   "metadata": {},
   "source": [
    "###  Description of my data"
   ]
  },
  {
   "cell_type": "code",
   "execution_count": 20,
   "metadata": {
    "collapsed": false
   },
   "outputs": [
    {
     "data": {
      "text/plain": [
       "(4400, 18)"
      ]
     },
     "execution_count": 20,
     "metadata": {},
     "output_type": "execute_result"
    }
   ],
   "source": [
    "df.shape"
   ]
  },
  {
   "cell_type": "code",
   "execution_count": 59,
   "metadata": {
    "collapsed": false,
    "scrolled": true
   },
   "outputs": [
    {
     "data": {
      "text/plain": [
       "Index([u' Date', u'Campaign Campaign Source', u'Video Category',\n",
       "       u'Video Subcategory', u'Video Presenter', u'RPV', u'Total Views',\n",
       "       u'Views Offsite', u'Views Onsite', u'Gross Revenue',\n",
       "       u'Total Units Sold', u'Total Seconds Viewed', u'Seconds Viewed Offsite',\n",
       "       u'Seconds Viewed Onsite', u'Sale Price', u'Seconds Per View',\n",
       "       u'Seconds Per View Onsite', u'Seconds Per View Offsite'],\n",
       "      dtype='object')"
      ]
     },
     "execution_count": 59,
     "metadata": {},
     "output_type": "execute_result"
    }
   ],
   "source": [
    "df.columns"
   ]
  },
  {
   "cell_type": "code",
   "execution_count": 34,
   "metadata": {
    "collapsed": false
   },
   "outputs": [
    {
     "data": {
      "text/plain": [
       "Index([u' Date', u'CampaignSource', u'Category', u'Subcategory', u'Presenter',\n",
       "       u'RPV', u'TotalViews', u'ViewsOffsite', u'Views Onsite',\n",
       "       u'GrossRevenue', u'TotalUnitsSold', u'TotalSeconsViewed',\n",
       "       u'SecondsViewedOffsite', u'SecondsViewedOnsite', u'SalePrice',\n",
       "       u'SecondsPerView', u'SecondsPerViewOnsite', u'SecondsPerViewOffsite'],\n",
       "      dtype='object')"
      ]
     },
     "execution_count": 34,
     "metadata": {},
     "output_type": "execute_result"
    }
   ],
   "source": [
    "df = df.rename(columns={'Campaign Campaign Source': 'CampaignSource', 'Video Video ID': 'VideoID',\n",
    "               'Video Category': 'Category','Video Subcategory': 'Subcategory',\n",
    "               'Video Presenter': 'Presenter','Total Views': 'TotalViews',\n",
    "                'Views Offsite': 'ViewsOffsite','ViewsOnsite': 'ViewsOnsite','Gross Revenue': 'GrossRevenue',\n",
    "                'Total Units Sold': 'TotalUnitsSold','Total Seconds Viewed': 'TotalSecondsViewed',\n",
    "                'Seconds Viewed Offsite': 'SecondsViewedOffsite','Seconds Viewed Onsite': 'SecondsViewedOnsite',\n",
    "                'Sale Price': 'SalePrice','Seconds Per View': 'SecondsPerView','Seconds Per View Onsite':'SecondsPerViewOnsite'\n",
    "                ,'Seconds Per View Offsite':'SecondsPerViewOffsite'})\n",
    "\n",
    "df.columns"
   ]
  },
  {
   "cell_type": "markdown",
   "metadata": {},
   "source": [
    "### Take out null values"
   ]
  },
  {
   "cell_type": "code",
   "execution_count": 31,
   "metadata": {
    "collapsed": false
   },
   "outputs": [
    {
     "data": {
      "text/plain": [
       " Date                      0\n",
       "CampaignSource            48\n",
       "Category                   0\n",
       "Subcategory                0\n",
       "Presenter                  0\n",
       "                        ... \n",
       "SecondsViewedOnsite        0\n",
       "SalePrice                423\n",
       "SecondsPerView             0\n",
       "SecondsPerViewOnsite      93\n",
       "SecondsPerViewOffsite    185\n",
       "dtype: int64"
      ]
     },
     "execution_count": 31,
     "metadata": {},
     "output_type": "execute_result"
    }
   ],
   "source": [
    "df.isnull().sum()"
   ]
  },
  {
   "cell_type": "code",
   "execution_count": 42,
   "metadata": {
    "collapsed": false
   },
   "outputs": [
    {
     "data": {
      "text/plain": [
       "188"
      ]
     },
     "execution_count": 42,
     "metadata": {},
     "output_type": "execute_result"
    }
   ],
   "source": [
    "df.isnull().sum().sum()"
   ]
  },
  {
   "cell_type": "code",
   "execution_count": 48,
   "metadata": {
    "collapsed": false
   },
   "outputs": [],
   "source": [
    "df.dropna(subset=['SalePrice','SecondsPerViewOnsite','SecondsPerViewOffsite'], inplace=True)"
   ]
  },
  {
   "cell_type": "code",
   "execution_count": 49,
   "metadata": {
    "collapsed": false
   },
   "outputs": [
    {
     "data": {
      "text/plain": [
       "0"
      ]
     },
     "execution_count": 49,
     "metadata": {},
     "output_type": "execute_result"
    }
   ],
   "source": [
    "df.isnull().sum().sum()"
   ]
  },
  {
   "cell_type": "markdown",
   "metadata": {},
   "source": [
    "## PART A | Linear Regression"
   ]
  },
  {
   "cell_type": "code",
   "execution_count": 50,
   "metadata": {
    "collapsed": false
   },
   "outputs": [
    {
     "ename": "ValueError",
     "evalue": "shapes (3744,1807) and (3744,1807) not aligned: 1807 (dim 1) != 3744 (dim 0)",
     "output_type": "error",
     "traceback": [
      "\u001b[0;31m---------------------------------------------------------------------------\u001b[0m",
      "\u001b[0;31mValueError\u001b[0m                                Traceback (most recent call last)",
      "\u001b[0;32m<ipython-input-50-52d73ef3a401>\u001b[0m in \u001b[0;36m<module>\u001b[0;34m()\u001b[0m\n\u001b[0;32m----> 1\u001b[0;31m \u001b[0msmf\u001b[0m\u001b[0;34m.\u001b[0m\u001b[0mols\u001b[0m\u001b[0;34m(\u001b[0m\u001b[0mformula\u001b[0m \u001b[0;34m=\u001b[0m \u001b[0;34m'GrossRevenue ~ TotalViews + Presenter'\u001b[0m\u001b[0;34m,\u001b[0m \u001b[0mdata\u001b[0m \u001b[0;34m=\u001b[0m \u001b[0mdf\u001b[0m\u001b[0;34m)\u001b[0m\u001b[0;34m.\u001b[0m\u001b[0mfit\u001b[0m\u001b[0;34m(\u001b[0m\u001b[0;34m)\u001b[0m\u001b[0;34m.\u001b[0m\u001b[0msummary\u001b[0m\u001b[0;34m(\u001b[0m\u001b[0;34m)\u001b[0m\u001b[0;34m\u001b[0m\u001b[0m\n\u001b[0m\u001b[1;32m      2\u001b[0m \u001b[0;34m\u001b[0m\u001b[0m\n\u001b[1;32m      3\u001b[0m \u001b[0;34m\u001b[0m\u001b[0m\n",
      "\u001b[0;32m/anaconda/lib/python2.7/site-packages/statsmodels/regression/linear_model.pyc\u001b[0m in \u001b[0;36msummary\u001b[0;34m(self, yname, xname, title, alpha)\u001b[0m\n\u001b[1;32m   1948\u001b[0m             \u001b[0mtop_left\u001b[0m\u001b[0;34m.\u001b[0m\u001b[0mappend\u001b[0m\u001b[0;34m(\u001b[0m\u001b[0;34m(\u001b[0m\u001b[0;34m'Covariance Type:'\u001b[0m\u001b[0;34m,\u001b[0m \u001b[0;34m[\u001b[0m\u001b[0mself\u001b[0m\u001b[0;34m.\u001b[0m\u001b[0mcov_type\u001b[0m\u001b[0;34m]\u001b[0m\u001b[0;34m)\u001b[0m\u001b[0;34m)\u001b[0m\u001b[0;34m\u001b[0m\u001b[0m\n\u001b[1;32m   1949\u001b[0m \u001b[0;34m\u001b[0m\u001b[0m\n\u001b[0;32m-> 1950\u001b[0;31m         top_right = [('R-squared:', [\"%#8.3f\" % self.rsquared]),\n\u001b[0m\u001b[1;32m   1951\u001b[0m                      \u001b[0;34m(\u001b[0m\u001b[0;34m'Adj. R-squared:'\u001b[0m\u001b[0;34m,\u001b[0m \u001b[0;34m[\u001b[0m\u001b[0;34m\"%#8.3f\"\u001b[0m \u001b[0;34m%\u001b[0m \u001b[0mself\u001b[0m\u001b[0;34m.\u001b[0m\u001b[0mrsquared_adj\u001b[0m\u001b[0;34m]\u001b[0m\u001b[0;34m)\u001b[0m\u001b[0;34m,\u001b[0m\u001b[0;34m\u001b[0m\u001b[0m\n\u001b[1;32m   1952\u001b[0m                      \u001b[0;34m(\u001b[0m\u001b[0;34m'F-statistic:'\u001b[0m\u001b[0;34m,\u001b[0m \u001b[0;34m[\u001b[0m\u001b[0;34m\"%#8.4g\"\u001b[0m \u001b[0;34m%\u001b[0m \u001b[0mself\u001b[0m\u001b[0;34m.\u001b[0m\u001b[0mfvalue\u001b[0m\u001b[0;34m]\u001b[0m \u001b[0;34m)\u001b[0m\u001b[0;34m,\u001b[0m\u001b[0;34m\u001b[0m\u001b[0m\n",
      "\u001b[0;32m/anaconda/lib/python2.7/site-packages/statsmodels/tools/decorators.pyc\u001b[0m in \u001b[0;36m__get__\u001b[0;34m(self, obj, type)\u001b[0m\n\u001b[1;32m     92\u001b[0m         \u001b[0;32mif\u001b[0m \u001b[0m_cachedval\u001b[0m \u001b[0;32mis\u001b[0m \u001b[0mNone\u001b[0m\u001b[0;34m:\u001b[0m\u001b[0;34m\u001b[0m\u001b[0m\n\u001b[1;32m     93\u001b[0m             \u001b[0;31m# Call the \"fget\" function\u001b[0m\u001b[0;34m\u001b[0m\u001b[0;34m\u001b[0m\u001b[0m\n\u001b[0;32m---> 94\u001b[0;31m             \u001b[0m_cachedval\u001b[0m \u001b[0;34m=\u001b[0m \u001b[0mself\u001b[0m\u001b[0;34m.\u001b[0m\u001b[0mfget\u001b[0m\u001b[0;34m(\u001b[0m\u001b[0mobj\u001b[0m\u001b[0;34m)\u001b[0m\u001b[0;34m\u001b[0m\u001b[0m\n\u001b[0m\u001b[1;32m     95\u001b[0m             \u001b[0;31m# Set the attribute in obj\u001b[0m\u001b[0;34m\u001b[0m\u001b[0;34m\u001b[0m\u001b[0m\n\u001b[1;32m     96\u001b[0m \u001b[0;31m#            print(\"Setting %s in cache to %s\" % (name, _cachedval))\u001b[0m\u001b[0;34m\u001b[0m\u001b[0;34m\u001b[0m\u001b[0m\n",
      "\u001b[0;32m/anaconda/lib/python2.7/site-packages/statsmodels/regression/linear_model.pyc\u001b[0m in \u001b[0;36mrsquared\u001b[0;34m(self)\u001b[0m\n\u001b[1;32m   1179\u001b[0m     \u001b[0;32mdef\u001b[0m \u001b[0mrsquared\u001b[0m\u001b[0;34m(\u001b[0m\u001b[0mself\u001b[0m\u001b[0;34m)\u001b[0m\u001b[0;34m:\u001b[0m\u001b[0;34m\u001b[0m\u001b[0m\n\u001b[1;32m   1180\u001b[0m         \u001b[0;32mif\u001b[0m \u001b[0mself\u001b[0m\u001b[0;34m.\u001b[0m\u001b[0mk_constant\u001b[0m\u001b[0;34m:\u001b[0m\u001b[0;34m\u001b[0m\u001b[0m\n\u001b[0;32m-> 1181\u001b[0;31m             \u001b[0;32mreturn\u001b[0m \u001b[0;36m1\u001b[0m \u001b[0;34m-\u001b[0m \u001b[0mself\u001b[0m\u001b[0;34m.\u001b[0m\u001b[0mssr\u001b[0m\u001b[0;34m/\u001b[0m\u001b[0mself\u001b[0m\u001b[0;34m.\u001b[0m\u001b[0mcentered_tss\u001b[0m\u001b[0;34m\u001b[0m\u001b[0m\n\u001b[0m\u001b[1;32m   1182\u001b[0m         \u001b[0;32melse\u001b[0m\u001b[0;34m:\u001b[0m\u001b[0;34m\u001b[0m\u001b[0m\n\u001b[1;32m   1183\u001b[0m             \u001b[0;32mreturn\u001b[0m \u001b[0;36m1\u001b[0m \u001b[0;34m-\u001b[0m \u001b[0mself\u001b[0m\u001b[0;34m.\u001b[0m\u001b[0mssr\u001b[0m\u001b[0;34m/\u001b[0m\u001b[0mself\u001b[0m\u001b[0;34m.\u001b[0m\u001b[0muncentered_tss\u001b[0m\u001b[0;34m\u001b[0m\u001b[0m\n",
      "\u001b[0;32m/anaconda/lib/python2.7/site-packages/statsmodels/tools/decorators.pyc\u001b[0m in \u001b[0;36m__get__\u001b[0;34m(self, obj, type)\u001b[0m\n\u001b[1;32m     92\u001b[0m         \u001b[0;32mif\u001b[0m \u001b[0m_cachedval\u001b[0m \u001b[0;32mis\u001b[0m \u001b[0mNone\u001b[0m\u001b[0;34m:\u001b[0m\u001b[0;34m\u001b[0m\u001b[0m\n\u001b[1;32m     93\u001b[0m             \u001b[0;31m# Call the \"fget\" function\u001b[0m\u001b[0;34m\u001b[0m\u001b[0;34m\u001b[0m\u001b[0m\n\u001b[0;32m---> 94\u001b[0;31m             \u001b[0m_cachedval\u001b[0m \u001b[0;34m=\u001b[0m \u001b[0mself\u001b[0m\u001b[0;34m.\u001b[0m\u001b[0mfget\u001b[0m\u001b[0;34m(\u001b[0m\u001b[0mobj\u001b[0m\u001b[0;34m)\u001b[0m\u001b[0;34m\u001b[0m\u001b[0m\n\u001b[0m\u001b[1;32m     95\u001b[0m             \u001b[0;31m# Set the attribute in obj\u001b[0m\u001b[0;34m\u001b[0m\u001b[0;34m\u001b[0m\u001b[0m\n\u001b[1;32m     96\u001b[0m \u001b[0;31m#            print(\"Setting %s in cache to %s\" % (name, _cachedval))\u001b[0m\u001b[0;34m\u001b[0m\u001b[0;34m\u001b[0m\u001b[0m\n",
      "\u001b[0;32m/anaconda/lib/python2.7/site-packages/statsmodels/regression/linear_model.pyc\u001b[0m in \u001b[0;36mssr\u001b[0;34m(self)\u001b[0m\n\u001b[1;32m   1151\u001b[0m     \u001b[0;32mdef\u001b[0m \u001b[0mssr\u001b[0m\u001b[0;34m(\u001b[0m\u001b[0mself\u001b[0m\u001b[0;34m)\u001b[0m\u001b[0;34m:\u001b[0m\u001b[0;34m\u001b[0m\u001b[0m\n\u001b[1;32m   1152\u001b[0m         \u001b[0mwresid\u001b[0m \u001b[0;34m=\u001b[0m \u001b[0mself\u001b[0m\u001b[0;34m.\u001b[0m\u001b[0mwresid\u001b[0m\u001b[0;34m\u001b[0m\u001b[0m\n\u001b[0;32m-> 1153\u001b[0;31m         \u001b[0;32mreturn\u001b[0m \u001b[0mnp\u001b[0m\u001b[0;34m.\u001b[0m\u001b[0mdot\u001b[0m\u001b[0;34m(\u001b[0m\u001b[0mwresid\u001b[0m\u001b[0;34m,\u001b[0m \u001b[0mwresid\u001b[0m\u001b[0;34m)\u001b[0m\u001b[0;34m\u001b[0m\u001b[0m\n\u001b[0m\u001b[1;32m   1154\u001b[0m \u001b[0;34m\u001b[0m\u001b[0m\n\u001b[1;32m   1155\u001b[0m     \u001b[0;34m@\u001b[0m\u001b[0mcache_readonly\u001b[0m\u001b[0;34m\u001b[0m\u001b[0m\n",
      "\u001b[0;31mValueError\u001b[0m: shapes (3744,1807) and (3744,1807) not aligned: 1807 (dim 1) != 3744 (dim 0)"
     ]
    }
   ],
   "source": [
    "smf.ols(formula = 'GrossRevenue ~ TotalViews + Presenter', data = df).fit().summary()\n",
    "\n",
    "\n"
   ]
  },
  {
   "cell_type": "code",
   "execution_count": null,
   "metadata": {
    "collapsed": true
   },
   "outputs": [],
   "source": []
  }
 ],
 "metadata": {
  "kernelspec": {
   "display_name": "Python 2",
   "language": "python",
   "name": "python2"
  },
  "language_info": {
   "codemirror_mode": {
    "name": "ipython",
    "version": 2
   },
   "file_extension": ".py",
   "mimetype": "text/x-python",
   "name": "python",
   "nbconvert_exporter": "python",
   "pygments_lexer": "ipython2",
   "version": "2.7.13"
  }
 },
 "nbformat": 4,
 "nbformat_minor": 2
}
